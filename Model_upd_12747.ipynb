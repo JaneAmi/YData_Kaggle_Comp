{
 "cells": [
  {
   "cell_type": "markdown",
   "metadata": {},
   "source": [
    "# House Prices - Regression Predictions YData 2024    \n",
    "\n",
    "**Team: Random Forest Rangers** ([Dmitry Gufranov](https://www.linkedin.com/in/gufranov/), [Evgenia Amineva](https://www.linkedin.com/in/janeami/), [Valeriya Vazhnova](https://www.linkedin.com/in/gufranov/))"
   ]
  },
  {
   "cell_type": "markdown",
   "metadata": {},
   "source": [
    "### Import libraries"
   ]
  },
  {
   "cell_type": "code",
   "execution_count": 97,
   "metadata": {},
   "outputs": [],
   "source": [
    "import pandas as pd \n",
    "import numpy as np \n",
    "import datetime\n",
    "\n",
    "# vizualisation\n",
    "import matplotlib.pyplot as plt\n",
    "import matplotlib.ticker as ticker\n",
    "import seaborn as sns\n",
    "\n",
    "# ml\n",
    "from lightgbm import LGBMRegressor\n",
    "import catboost as cb\n",
    "from sklearn.ensemble import RandomForestRegressor\n",
    "from xgboost import XGBRegressor\n",
    "from sklearn.linear_model import ElasticNet, Lasso, BayesianRidge, LassoCV, Ridge, RidgeCV, LinearRegression\n",
    "from sklearn.ensemble import RandomForestRegressor, GradientBoostingRegressor, ExtraTreesRegressor\n",
    "from sklearn.kernel_ridge import KernelRidge\n",
    "from sklearn.svm import SVR\n",
    "\n",
    "from mlxtend.regressor import StackingCVRegressor\n",
    "from sklearn.pipeline import make_pipeline\n",
    "from sklearn import linear_model\n",
    "from sklearn.preprocessing import StandardScaler,  RobustScaler, MinMaxScaler\n",
    "from sklearn.metrics import mean_squared_error, r2_score\n",
    "from sklearn.model_selection import train_test_split, GridSearchCV, ShuffleSplit\n",
    "from sklearn.preprocessing import OrdinalEncoder, StandardScaler, PowerTransformer\n",
    "from sklearn.impute import SimpleImputer\n",
    "from sklearn.base import BaseEstimator, TransformerMixin\n",
    "from sklearn.pipeline import Pipeline\n",
    "\n",
    "import optuna"
   ]
  },
  {
   "cell_type": "code",
   "execution_count": 98,
   "metadata": {},
   "outputs": [],
   "source": [
    "import sys\n",
    "import warnings\n",
    "if not sys.warnoptions:\n",
    "    warnings.simplefilter('ignore')"
   ]
  },
  {
   "cell_type": "markdown",
   "metadata": {},
   "source": [
    "### Loading the data"
   ]
  },
  {
   "cell_type": "code",
   "execution_count": 99,
   "metadata": {},
   "outputs": [
    {
     "data": {
      "text/html": [
       "<div>\n",
       "<style scoped>\n",
       "    .dataframe tbody tr th:only-of-type {\n",
       "        vertical-align: middle;\n",
       "    }\n",
       "\n",
       "    .dataframe tbody tr th {\n",
       "        vertical-align: top;\n",
       "    }\n",
       "\n",
       "    .dataframe thead th {\n",
       "        text-align: right;\n",
       "    }\n",
       "</style>\n",
       "<table border=\"1\" class=\"dataframe\">\n",
       "  <thead>\n",
       "    <tr style=\"text-align: right;\">\n",
       "      <th></th>\n",
       "      <th>Id</th>\n",
       "      <th>MSSubClass</th>\n",
       "      <th>MSZoning</th>\n",
       "      <th>LotFrontage</th>\n",
       "      <th>LotArea</th>\n",
       "      <th>Street</th>\n",
       "      <th>Alley</th>\n",
       "      <th>LotShape</th>\n",
       "      <th>LandContour</th>\n",
       "      <th>Utilities</th>\n",
       "      <th>...</th>\n",
       "      <th>PoolArea</th>\n",
       "      <th>PoolQC</th>\n",
       "      <th>Fence</th>\n",
       "      <th>MiscFeature</th>\n",
       "      <th>MiscVal</th>\n",
       "      <th>MoSold</th>\n",
       "      <th>YrSold</th>\n",
       "      <th>SaleType</th>\n",
       "      <th>SaleCondition</th>\n",
       "      <th>SalePrice</th>\n",
       "    </tr>\n",
       "  </thead>\n",
       "  <tbody>\n",
       "    <tr>\n",
       "      <th>0</th>\n",
       "      <td>1</td>\n",
       "      <td>60</td>\n",
       "      <td>RL</td>\n",
       "      <td>65.0</td>\n",
       "      <td>8450</td>\n",
       "      <td>Pave</td>\n",
       "      <td>NaN</td>\n",
       "      <td>Reg</td>\n",
       "      <td>Lvl</td>\n",
       "      <td>AllPub</td>\n",
       "      <td>...</td>\n",
       "      <td>0</td>\n",
       "      <td>NaN</td>\n",
       "      <td>NaN</td>\n",
       "      <td>NaN</td>\n",
       "      <td>0</td>\n",
       "      <td>2</td>\n",
       "      <td>2008</td>\n",
       "      <td>WD</td>\n",
       "      <td>Normal</td>\n",
       "      <td>208500</td>\n",
       "    </tr>\n",
       "    <tr>\n",
       "      <th>1</th>\n",
       "      <td>2</td>\n",
       "      <td>20</td>\n",
       "      <td>RL</td>\n",
       "      <td>80.0</td>\n",
       "      <td>9600</td>\n",
       "      <td>Pave</td>\n",
       "      <td>NaN</td>\n",
       "      <td>Reg</td>\n",
       "      <td>Lvl</td>\n",
       "      <td>AllPub</td>\n",
       "      <td>...</td>\n",
       "      <td>0</td>\n",
       "      <td>NaN</td>\n",
       "      <td>NaN</td>\n",
       "      <td>NaN</td>\n",
       "      <td>0</td>\n",
       "      <td>5</td>\n",
       "      <td>2007</td>\n",
       "      <td>WD</td>\n",
       "      <td>Normal</td>\n",
       "      <td>181500</td>\n",
       "    </tr>\n",
       "    <tr>\n",
       "      <th>2</th>\n",
       "      <td>3</td>\n",
       "      <td>60</td>\n",
       "      <td>RL</td>\n",
       "      <td>68.0</td>\n",
       "      <td>11250</td>\n",
       "      <td>Pave</td>\n",
       "      <td>NaN</td>\n",
       "      <td>IR1</td>\n",
       "      <td>Lvl</td>\n",
       "      <td>AllPub</td>\n",
       "      <td>...</td>\n",
       "      <td>0</td>\n",
       "      <td>NaN</td>\n",
       "      <td>NaN</td>\n",
       "      <td>NaN</td>\n",
       "      <td>0</td>\n",
       "      <td>9</td>\n",
       "      <td>2008</td>\n",
       "      <td>WD</td>\n",
       "      <td>Normal</td>\n",
       "      <td>223500</td>\n",
       "    </tr>\n",
       "    <tr>\n",
       "      <th>3</th>\n",
       "      <td>4</td>\n",
       "      <td>70</td>\n",
       "      <td>RL</td>\n",
       "      <td>60.0</td>\n",
       "      <td>9550</td>\n",
       "      <td>Pave</td>\n",
       "      <td>NaN</td>\n",
       "      <td>IR1</td>\n",
       "      <td>Lvl</td>\n",
       "      <td>AllPub</td>\n",
       "      <td>...</td>\n",
       "      <td>0</td>\n",
       "      <td>NaN</td>\n",
       "      <td>NaN</td>\n",
       "      <td>NaN</td>\n",
       "      <td>0</td>\n",
       "      <td>2</td>\n",
       "      <td>2006</td>\n",
       "      <td>WD</td>\n",
       "      <td>Abnorml</td>\n",
       "      <td>140000</td>\n",
       "    </tr>\n",
       "    <tr>\n",
       "      <th>4</th>\n",
       "      <td>5</td>\n",
       "      <td>60</td>\n",
       "      <td>RL</td>\n",
       "      <td>84.0</td>\n",
       "      <td>14260</td>\n",
       "      <td>Pave</td>\n",
       "      <td>NaN</td>\n",
       "      <td>IR1</td>\n",
       "      <td>Lvl</td>\n",
       "      <td>AllPub</td>\n",
       "      <td>...</td>\n",
       "      <td>0</td>\n",
       "      <td>NaN</td>\n",
       "      <td>NaN</td>\n",
       "      <td>NaN</td>\n",
       "      <td>0</td>\n",
       "      <td>12</td>\n",
       "      <td>2008</td>\n",
       "      <td>WD</td>\n",
       "      <td>Normal</td>\n",
       "      <td>250000</td>\n",
       "    </tr>\n",
       "  </tbody>\n",
       "</table>\n",
       "<p>5 rows × 81 columns</p>\n",
       "</div>"
      ],
      "text/plain": [
       "   Id  MSSubClass MSZoning  LotFrontage  LotArea Street Alley LotShape  \\\n",
       "0   1          60       RL         65.0     8450   Pave   NaN      Reg   \n",
       "1   2          20       RL         80.0     9600   Pave   NaN      Reg   \n",
       "2   3          60       RL         68.0    11250   Pave   NaN      IR1   \n",
       "3   4          70       RL         60.0     9550   Pave   NaN      IR1   \n",
       "4   5          60       RL         84.0    14260   Pave   NaN      IR1   \n",
       "\n",
       "  LandContour Utilities  ... PoolArea PoolQC Fence MiscFeature MiscVal MoSold  \\\n",
       "0         Lvl    AllPub  ...        0    NaN   NaN         NaN       0      2   \n",
       "1         Lvl    AllPub  ...        0    NaN   NaN         NaN       0      5   \n",
       "2         Lvl    AllPub  ...        0    NaN   NaN         NaN       0      9   \n",
       "3         Lvl    AllPub  ...        0    NaN   NaN         NaN       0      2   \n",
       "4         Lvl    AllPub  ...        0    NaN   NaN         NaN       0     12   \n",
       "\n",
       "  YrSold  SaleType  SaleCondition  SalePrice  \n",
       "0   2008        WD         Normal     208500  \n",
       "1   2007        WD         Normal     181500  \n",
       "2   2008        WD         Normal     223500  \n",
       "3   2006        WD        Abnorml     140000  \n",
       "4   2008        WD         Normal     250000  \n",
       "\n",
       "[5 rows x 81 columns]"
      ]
     },
     "metadata": {},
     "output_type": "display_data"
    }
   ],
   "source": [
    "# load the train data\n",
    "df = pd.read_csv('../data/train.csv')\n",
    "display(df.head())"
   ]
  },
  {
   "cell_type": "markdown",
   "metadata": {},
   "source": [
    "### Preprocessing"
   ]
  },
  {
   "cell_type": "code",
   "execution_count": 100,
   "metadata": {},
   "outputs": [],
   "source": [
    "from sklearn.base import BaseEstimator, TransformerMixin\n",
    "\n",
    "class FillMissTransformer(BaseEstimator, TransformerMixin):\n",
    "    def __init__(self):\n",
    "        pass\n",
    "    \n",
    "    def fit(self, X, y=None):\n",
    "        df_upd = X.copy()\n",
    "\n",
    "        if 'LotFrontage' in df_upd.columns:\n",
    "            self.nb_lot = df_upd.groupby('Neighborhood')['LotFrontage'].mean()\n",
    "        \n",
    "        return self\n",
    "    \n",
    "    def fill_lot(self, x):\n",
    "        if pd.notnull(x['LotFrontage']):\n",
    "            return x['LotFrontage']\n",
    "        else:\n",
    "            return self.nb_lot.loc[x['Neighborhood']]\n",
    "\n",
    "    def transform(self, X):\n",
    "        df_upd = X.copy()\n",
    "\n",
    "        # Fill columns where missing values have a meaning 'NA'\n",
    "        feat_wn = ['PoolQC', 'MiscFeature', 'Alley', 'Fence', 'MasVnrType', 'FireplaceQu',\n",
    "           'GarageType', 'GarageFinish', 'GarageQual', 'GarageCond', 'BsmtFinType2', 'BsmtExposure',\n",
    "           'BsmtFinType1', 'BsmtCond', 'BsmtQual']\n",
    "        \n",
    "        for c in feat_wn:\n",
    "            df_upd[c].fillna('NA', inplace=True)\n",
    "\n",
    "        # Fill columns where missing values have a meaning '0'\n",
    "        feat_w0 = ['BsmtFinSF1', 'BsmtFinSF2', 'BsmtUnfSF', 'TotalBsmtSF', 'BsmtFullBath',\n",
    "           'BsmtHalfBath', 'GarageYrBlt', 'GarageCars', 'GarageArea', 'MasVnrArea']   #'GarageYrBlt'\n",
    "\n",
    "        for c in feat_w0:\n",
    "            df_upd[c].fillna(0, inplace=True)\n",
    "\n",
    "        # Fill 'LotFrontage' with mean values grouped by 'Neighborhood'\n",
    "        if 'LotFrontage' in df_upd.columns:\n",
    "            df_upd['LotFrontage'] = df_upd.apply(self.fill_lot, axis=1)\n",
    "            # df_upd['LotFrontage'] = df_upd.groupby('Neighborhood')['LotFrontage'].transform(lambda x: x.fillna(x.mean()))\n",
    "   \n",
    "\n",
    "        # Fill missing numeric features with mean values\n",
    "        num_si = SimpleImputer(strategy='mean')\n",
    "        num_col = df_upd.select_dtypes(include=['int', 'float']).columns\n",
    "        df_upd[num_col] = num_si.fit_transform(df_upd[num_col])\n",
    "\n",
    "        # Fill missing categorical features with most frequent values\n",
    "        cat_si = SimpleImputer(strategy='most_frequent')\n",
    "        cat_col = df_upd.select_dtypes(include=['object']).columns\n",
    "        df_upd[cat_col] = cat_si.fit_transform(df_upd[cat_col])\n",
    "\n",
    "        return df_upd"
   ]
  },
  {
   "cell_type": "code",
   "execution_count": 101,
   "metadata": {},
   "outputs": [],
   "source": [
    "class FeatureEngineeringTransformer(BaseEstimator, TransformerMixin):\n",
    "    def __init__(self, num_cols_tdrop, num_cols_flag, rem_id):\n",
    "        self.num_cols_tdrop = num_cols_tdrop\n",
    "        self.num_cols_flag = num_cols_flag\n",
    "        self.rem_id = rem_id\n",
    "    \n",
    "    def fit(self, X, y=None):\n",
    "        # No need to fit anything for this transformer\n",
    "        df_upd = X.copy()\n",
    "\n",
    "        if 'OverallQual' in df_upd.columns and 'Neighborhood' in df_upd.columns:\n",
    "            self.nb_qual = df_upd.groupby('Neighborhood')['OverallQual'].mean()\n",
    "\n",
    "        return self\n",
    "    \n",
    "    def fill_nbgh(self, x):\n",
    "        return self.nb_qual.loc[x['Neighborhood']]\n",
    "\n",
    "    def transform(self, X):\n",
    "        df_upd = X.copy()\n",
    "\n",
    "        #Remove outliers\n",
    "        df_upd = df_upd[~df_upd['Id'].isin(self.rem_id)]\n",
    "\n",
    "        # Create new feature for bathrooms\n",
    "        #df_upd['Bath'] = 0.225 * df_upd['BsmtFullBath'] + (-0.0121) * df_upd['BsmtHalfBath'] + 0.636 * df_upd['FullBath'] + 0.343 * df_upd['HalfBath']\n",
    "        df_upd['Totalarea'] = df_upd['GrLivArea'] + df_upd['LotArea']\n",
    "        #df_upd['Neighborhoodqual'] = df_upd.groupby('Neighborhood')['OverallQual'].transform('mean')\n",
    "        df_upd['Neighborhoodqual'] = df_upd.apply(self.fill_nbgh, axis=1)\n",
    "\n",
    "        # Drop columns\n",
    "        df_upd = df_upd.drop(self.num_cols_tdrop, axis=1)\n",
    "\n",
    "        # Flag transformation for numeric columns\n",
    "        for c in self.num_cols_flag:\n",
    "            if c in df_upd.columns:\n",
    "                df_upd[c] = df_upd[c].apply(lambda x: 1 if x > 0 else 0)\n",
    "\n",
    "        return df_upd"
   ]
  },
  {
   "cell_type": "code",
   "execution_count": 102,
   "metadata": {},
   "outputs": [],
   "source": [
    "class CategoricalTransformer(BaseEstimator, TransformerMixin):\n",
    "    def __init__(self, cat_cols_oh, cat_cols_oe, cat_cols_tdrop):\n",
    "        self.cat_cols_oh = cat_cols_oh\n",
    "        self.cat_cols_oe = cat_cols_oe\n",
    "        self.cat_cols_tdrop = cat_cols_tdrop\n",
    "    \n",
    "    def fit(self, X, y=None):\n",
    "        # No need to fit anything for this transformer\n",
    "        return self\n",
    "    \n",
    "    def transform(self, X):\n",
    "        df_upd = X.copy()\n",
    "\n",
    "        # Merge values in LotConfig\n",
    "        if 'LotConfig' in df_upd.columns:\n",
    "            df_upd.loc[df_upd['LotConfig']=='FR3', 'LotConfig'] = 'FR2'\n",
    "\n",
    "        # Merge values in LandSlope\n",
    "        if 'LandSlope' in df_upd.columns:\n",
    "            df_upd.loc[df_upd['LandSlope']=='Sev', 'LandSlope'] = 'Mod'\n",
    "            df_upd['GtlSlope'] = df_upd['LandSlope'].apply(lambda x: 1 if x=='Gtl' else 0)\n",
    "\n",
    "        # Merge values in Condition1\n",
    "        for cc in [['RRNn', 'RRAn'], ['RRNe', 'RRAe'], ['PosN', 'PosA']]:\n",
    "            df_upd.loc[df_upd['Condition1']==cc[0], 'Condition1'] = cc[1]\n",
    "\n",
    "        # Ordinal Encoding\n",
    "        #oec = OrdinalEncoder(categories=[['NA', 'Po', 'Fa', 'TA', 'Gd', 'Ex']]) \n",
    "        oec = OrdinalEncoder(categories = [['Po', 'Fa', 'NA', 'TA', 'Gd', 'Ex']])     #better\n",
    "        # oec = OrdinalEncoder(categories = [['Po', 'NA', 'Fa', 'TA', 'Gd', 'Ex']])     #the best or not\n",
    "        for cc in self.cat_cols_oe:\n",
    "            if cc in df_upd.columns:\n",
    "                df_upd[cc] = oec.fit_transform(df_upd[[cc]])\n",
    "\n",
    "        return df_upd.drop(self.cat_cols_tdrop, axis=1)"
   ]
  },
  {
   "cell_type": "code",
   "execution_count": 103,
   "metadata": {},
   "outputs": [],
   "source": [
    "# class NormalizationTransformer(BaseEstimator, TransformerMixin):\n",
    "#     def __init__(self, num_cols_norm):\n",
    "#         self.num_cols_norm = num_cols_norm\n",
    "    \n",
    "#     def fit(self, X, y=None):\n",
    "#         # No need to fit anything for this transformer\n",
    "#         return self\n",
    "    \n",
    "#     def transform(self, X):\n",
    "#         df_upd = X.copy()\n",
    "\n",
    "#         # Normalizing\n",
    "#         power = PowerTransformer(method='yeo-johnson', standardize=True)\n",
    "#         df_upd[self.num_cols_norm] = power.fit_transform(df_upd[self.num_cols_norm])\n",
    "\n",
    "#         return df_upd\n",
    "\n",
    "class NormalizationTransformer(BaseEstimator, TransformerMixin):\n",
    "    def __init__(self, num_cols_norm):\n",
    "        self.num_cols_norm = num_cols_norm\n",
    "        self.power = PowerTransformer(method='yeo-johnson', standardize=True)\n",
    "    \n",
    "    def fit(self, X, y=None):\n",
    "        df_upd = X.copy()\n",
    "        self.power.fit(df_upd[self.num_cols_norm])\n",
    "        return self\n",
    "    \n",
    "    def transform(self, X):\n",
    "        df_upd = X.copy()\n",
    "\n",
    "        # Normalizing\n",
    "        df_upd[self.num_cols_norm] = self.power.transform(df_upd[self.num_cols_norm])\n",
    "        return df_upd\n",
    "\n",
    "class GetDummiesTransformer(BaseEstimator, TransformerMixin):\n",
    "    def __init__(self, columns=None):\n",
    "        self.columns = columns\n",
    "    \n",
    "    def fit(self, X, y=None):\n",
    "        # No need to fit anything for this transformer\n",
    "        return self\n",
    "    \n",
    "    def transform(self, X, y=None):\n",
    "        return pd.get_dummies(X, columns=self.columns, dtype='int')"
   ]
  },
  {
   "cell_type": "markdown",
   "metadata": {},
   "source": [
    "## Preprocessing "
   ]
  },
  {
   "cell_type": "code",
   "execution_count": 104,
   "metadata": {},
   "outputs": [],
   "source": [
    "# for linear models\n",
    "\n",
    "cat_cols_oe = ['ExterQual', 'ExterCond', 'BsmtQual', 'BsmtCond', 'HeatingQC', 'KitchenQual', 'FireplaceQu', 'GarageQual', 'GarageCond']\n",
    "\n",
    "cat_cols_oh = ['MSZoning', 'Alley', 'LotShape', 'LandContour', 'LotConfig', 'Neighborhood', 'Condition1', 'BldgType', 'HouseStyle', \\\n",
    "               'RoofStyle', 'Exterior1st', 'Exterior2nd', 'MasVnrType', 'Foundation', 'BsmtExposure', 'BsmtFinType1', 'BsmtFinType2', \\\n",
    "                'Heating', 'CentralAir', 'Electrical', 'Functional', 'GarageType', 'GarageFinish', 'PavedDrive', 'Fence', 'SaleType', \\\n",
    "                'SaleCondition', 'MSSubClass', 'OverallCond', 'KitchenAbvGr', 'MoSold', 'YrSold']\n",
    "\n",
    "cat_cols_tdrop = ['Street', 'Utilities', 'LandSlope', 'Condition2', 'RoofMatl', 'PoolQC', 'MiscFeature', 'MiscVal']\n",
    "\n",
    "num_cols_norm = ['LotFrontage', 'LotArea', 'YearBuilt', 'YearRemodAdd', 'MasVnrArea', 'BsmtFinSF1', 'BsmtUnfSF', 'TotalBsmtSF', \\\n",
    "                 '1stFlrSF', '2ndFlrSF', 'GrLivArea', 'GarageYrBlt', 'GarageArea', 'WoodDeckSF', 'OpenPorchSF', 'Totalarea'] #'GrLivArea', \n",
    "\n",
    "num_cols_asis = ['OverallQual', 'BedroomAbvGr', 'TotRmsAbvGrd', 'Fireplaces', 'GarageCars']\n",
    "\n",
    "num_cols_tdrop = ['BsmtFullBath', 'BsmtHalfBath', 'FullBath', 'HalfBath'] #'1stFlrSF', '2ndFlrSF'\n",
    "\n",
    "num_cols_flag = ['BsmtFinSF2', 'LowQualFinSF', '3SsnPorch', 'PoolArea']\n",
    "\n",
    "\n",
    "#outliers\n",
    "rem_id = [250, 314, 336, 496, 584, 935, 1299, 1329]\n",
    "\n",
    "ifeatures = ['1stFlrSF', '2ndFlrSF', 'LotArea', 'TotalBsmtSF', 'OpenPorchSF',\n",
    "       'BsmtFinSF1', 'GarageArea', 'YearRemodAdd', 'OverallQual', 'YearBuilt',\n",
    "       'LotFrontage', 'BsmtUnfSF', 'GarageYrBlt', 'MasVnrArea', #'Bath',\n",
    "       'WoodDeckSF', 'EnclosedPorch', 'CentralAir_N', 'HeatingQC',\n",
    "       'KitchenQual', 'OverallCond_5.0', 'SaleCondition_Normal', 'FireplaceQu',\n",
    "       'GarageCars', 'OverallCond_3.0', 'OverallCond_4.0', 'BedroomAbvGr',\n",
    "       'TotRmsAbvGrd', 'SaleCondition_Abnorml', 'MSZoning_RL',\n",
    "       'Functional_Typ', 'BsmtExposure_Gd', 'Condition1_Norm', 'ScreenPorch',\n",
    "       'BsmtCond', 'OverallCond_7.0', 'BsmtQual', 'ExterCond',\n",
    "       'Neighborhood_Crawfor', 'YrSold_2009.0', 'Exterior1st_BrkFace',\n",
    "       'BsmtExposure_No', 'GarageQual', 'GarageType_Attchd',\n",
    "       'Neighborhood_Edwards', 'ExterQual', 'MoSold_12.0', 'YrSold_2006.0',\n",
    "       'Neighborhood_BrkSide', 'Neighborhood_IDOTRR', 'MSZoning_RM',\n",
    "       'Fireplaces', 'LotShape_IR1', 'Neighborhood_OldTown',\n",
    "       'Condition1_Artery', 'YrSold_2007.0', 'Electrical_FuseA', 'SaleType_WD',\n",
    "       'BsmtFinType1_ALQ', 'SaleType_New', 'Neighborhood_StoneBr',\n",
    "       'GarageType_Detchd', 'LotConfig_CulDSac', 'Neighborhood_NAmes',\n",
    "       'BsmtFinType1_Rec', 'MSSubClass_30.0', 'GarageCond', 'KitchenAbvGr_1.0',\n",
    "       'BsmtFinType1_GLQ', 'BldgType_1Fam', 'Neighborhood_Somerst',\n",
    "       'BsmtFinType2_BLQ', 'GarageFinish_Fin', 'LotConfig_FR2', 'GrLivArea', 'Totalarea', 'Neighborhoodqual']\n",
    "\n",
    "col_tdrop_linm = ['ExterQual', 'LotShape_IR1', 'TotRmsAbvGrd', 'MSZoning_Rm', 'GarageCond', 'GarageCars', 'SaleType_New', 'GarageType_Detchd']\n",
    "\n",
    "rst = 44"
   ]
  },
  {
   "cell_type": "code",
   "execution_count": 105,
   "metadata": {},
   "outputs": [
    {
     "data": {
      "text/html": [
       "<style>#sk-container-id-2 {color: black;}#sk-container-id-2 pre{padding: 0;}#sk-container-id-2 div.sk-toggleable {background-color: white;}#sk-container-id-2 label.sk-toggleable__label {cursor: pointer;display: block;width: 100%;margin-bottom: 0;padding: 0.3em;box-sizing: border-box;text-align: center;}#sk-container-id-2 label.sk-toggleable__label-arrow:before {content: \"▸\";float: left;margin-right: 0.25em;color: #696969;}#sk-container-id-2 label.sk-toggleable__label-arrow:hover:before {color: black;}#sk-container-id-2 div.sk-estimator:hover label.sk-toggleable__label-arrow:before {color: black;}#sk-container-id-2 div.sk-toggleable__content {max-height: 0;max-width: 0;overflow: hidden;text-align: left;background-color: #f0f8ff;}#sk-container-id-2 div.sk-toggleable__content pre {margin: 0.2em;color: black;border-radius: 0.25em;background-color: #f0f8ff;}#sk-container-id-2 input.sk-toggleable__control:checked~div.sk-toggleable__content {max-height: 200px;max-width: 100%;overflow: auto;}#sk-container-id-2 input.sk-toggleable__control:checked~label.sk-toggleable__label-arrow:before {content: \"▾\";}#sk-container-id-2 div.sk-estimator input.sk-toggleable__control:checked~label.sk-toggleable__label {background-color: #d4ebff;}#sk-container-id-2 div.sk-label input.sk-toggleable__control:checked~label.sk-toggleable__label {background-color: #d4ebff;}#sk-container-id-2 input.sk-hidden--visually {border: 0;clip: rect(1px 1px 1px 1px);clip: rect(1px, 1px, 1px, 1px);height: 1px;margin: -1px;overflow: hidden;padding: 0;position: absolute;width: 1px;}#sk-container-id-2 div.sk-estimator {font-family: monospace;background-color: #f0f8ff;border: 1px dotted black;border-radius: 0.25em;box-sizing: border-box;margin-bottom: 0.5em;}#sk-container-id-2 div.sk-estimator:hover {background-color: #d4ebff;}#sk-container-id-2 div.sk-parallel-item::after {content: \"\";width: 100%;border-bottom: 1px solid gray;flex-grow: 1;}#sk-container-id-2 div.sk-label:hover label.sk-toggleable__label {background-color: #d4ebff;}#sk-container-id-2 div.sk-serial::before {content: \"\";position: absolute;border-left: 1px solid gray;box-sizing: border-box;top: 0;bottom: 0;left: 50%;z-index: 0;}#sk-container-id-2 div.sk-serial {display: flex;flex-direction: column;align-items: center;background-color: white;padding-right: 0.2em;padding-left: 0.2em;position: relative;}#sk-container-id-2 div.sk-item {position: relative;z-index: 1;}#sk-container-id-2 div.sk-parallel {display: flex;align-items: stretch;justify-content: center;background-color: white;position: relative;}#sk-container-id-2 div.sk-item::before, #sk-container-id-2 div.sk-parallel-item::before {content: \"\";position: absolute;border-left: 1px solid gray;box-sizing: border-box;top: 0;bottom: 0;left: 50%;z-index: -1;}#sk-container-id-2 div.sk-parallel-item {display: flex;flex-direction: column;z-index: 1;position: relative;background-color: white;}#sk-container-id-2 div.sk-parallel-item:first-child::after {align-self: flex-end;width: 50%;}#sk-container-id-2 div.sk-parallel-item:last-child::after {align-self: flex-start;width: 50%;}#sk-container-id-2 div.sk-parallel-item:only-child::after {width: 0;}#sk-container-id-2 div.sk-dashed-wrapped {border: 1px dashed gray;margin: 0 0.4em 0.5em 0.4em;box-sizing: border-box;padding-bottom: 0.4em;background-color: white;}#sk-container-id-2 div.sk-label label {font-family: monospace;font-weight: bold;display: inline-block;line-height: 1.2em;}#sk-container-id-2 div.sk-label-container {text-align: center;}#sk-container-id-2 div.sk-container {/* jupyter's `normalize.less` sets `[hidden] { display: none; }` but bootstrap.min.css set `[hidden] { display: none !important; }` so we also need the `!important` here to be able to override the default hidden behavior on the sphinx rendered scikit-learn.org. See: https://github.com/scikit-learn/scikit-learn/issues/21755 */display: inline-block !important;position: relative;}#sk-container-id-2 div.sk-text-repr-fallback {display: none;}</style><div id=\"sk-container-id-2\" class=\"sk-top-container\"><div class=\"sk-text-repr-fallback\"><pre>Pipeline(steps=[(&#x27;fill_miss&#x27;, FillMissTransformer()),\n",
       "                (&#x27;feat_eng&#x27;,\n",
       "                 FeatureEngineeringTransformer(num_cols_flag=[&#x27;BsmtFinSF2&#x27;,\n",
       "                                                              &#x27;LowQualFinSF&#x27;,\n",
       "                                                              &#x27;3SsnPorch&#x27;,\n",
       "                                                              &#x27;PoolArea&#x27;],\n",
       "                                               num_cols_tdrop=[&#x27;BsmtFullBath&#x27;,\n",
       "                                                               &#x27;BsmtHalfBath&#x27;,\n",
       "                                                               &#x27;FullBath&#x27;,\n",
       "                                                               &#x27;HalfBath&#x27;],\n",
       "                                               rem_id=[250, 314, 336, 496, 584,\n",
       "                                                       935, 1299, 1329])),\n",
       "                (&#x27;normalization&#x27;,\n",
       "                 NormalizationTransformer(num_cols_norm=[&#x27;LotFrontage&#x27;,\n",
       "                                                         &#x27;Lot...\n",
       "                                                &#x27;LandContour&#x27;, &#x27;LotConfig&#x27;,\n",
       "                                                &#x27;Neighborhood&#x27;, &#x27;Condition1&#x27;,\n",
       "                                                &#x27;BldgType&#x27;, &#x27;HouseStyle&#x27;,\n",
       "                                                &#x27;RoofStyle&#x27;, &#x27;Exterior1st&#x27;,\n",
       "                                                &#x27;Exterior2nd&#x27;, &#x27;MasVnrType&#x27;,\n",
       "                                                &#x27;Foundation&#x27;, &#x27;BsmtExposure&#x27;,\n",
       "                                                &#x27;BsmtFinType1&#x27;, &#x27;BsmtFinType2&#x27;,\n",
       "                                                &#x27;Heating&#x27;, &#x27;CentralAir&#x27;,\n",
       "                                                &#x27;Electrical&#x27;, &#x27;Functional&#x27;,\n",
       "                                                &#x27;GarageType&#x27;, &#x27;GarageFinish&#x27;,\n",
       "                                                &#x27;PavedDrive&#x27;, &#x27;Fence&#x27;,\n",
       "                                                &#x27;SaleType&#x27;, &#x27;SaleCondition&#x27;,\n",
       "                                                &#x27;MSSubClass&#x27;, &#x27;OverallCond&#x27;,\n",
       "                                                &#x27;KitchenAbvGr&#x27;, ...]))])</pre><b>In a Jupyter environment, please rerun this cell to show the HTML representation or trust the notebook. <br />On GitHub, the HTML representation is unable to render, please try loading this page with nbviewer.org.</b></div><div class=\"sk-container\" hidden><div class=\"sk-item sk-dashed-wrapped\"><div class=\"sk-label-container\"><div class=\"sk-label sk-toggleable\"><input class=\"sk-toggleable__control sk-hidden--visually\" id=\"sk-estimator-id-7\" type=\"checkbox\" ><label for=\"sk-estimator-id-7\" class=\"sk-toggleable__label sk-toggleable__label-arrow\">Pipeline</label><div class=\"sk-toggleable__content\"><pre>Pipeline(steps=[(&#x27;fill_miss&#x27;, FillMissTransformer()),\n",
       "                (&#x27;feat_eng&#x27;,\n",
       "                 FeatureEngineeringTransformer(num_cols_flag=[&#x27;BsmtFinSF2&#x27;,\n",
       "                                                              &#x27;LowQualFinSF&#x27;,\n",
       "                                                              &#x27;3SsnPorch&#x27;,\n",
       "                                                              &#x27;PoolArea&#x27;],\n",
       "                                               num_cols_tdrop=[&#x27;BsmtFullBath&#x27;,\n",
       "                                                               &#x27;BsmtHalfBath&#x27;,\n",
       "                                                               &#x27;FullBath&#x27;,\n",
       "                                                               &#x27;HalfBath&#x27;],\n",
       "                                               rem_id=[250, 314, 336, 496, 584,\n",
       "                                                       935, 1299, 1329])),\n",
       "                (&#x27;normalization&#x27;,\n",
       "                 NormalizationTransformer(num_cols_norm=[&#x27;LotFrontage&#x27;,\n",
       "                                                         &#x27;Lot...\n",
       "                                                &#x27;LandContour&#x27;, &#x27;LotConfig&#x27;,\n",
       "                                                &#x27;Neighborhood&#x27;, &#x27;Condition1&#x27;,\n",
       "                                                &#x27;BldgType&#x27;, &#x27;HouseStyle&#x27;,\n",
       "                                                &#x27;RoofStyle&#x27;, &#x27;Exterior1st&#x27;,\n",
       "                                                &#x27;Exterior2nd&#x27;, &#x27;MasVnrType&#x27;,\n",
       "                                                &#x27;Foundation&#x27;, &#x27;BsmtExposure&#x27;,\n",
       "                                                &#x27;BsmtFinType1&#x27;, &#x27;BsmtFinType2&#x27;,\n",
       "                                                &#x27;Heating&#x27;, &#x27;CentralAir&#x27;,\n",
       "                                                &#x27;Electrical&#x27;, &#x27;Functional&#x27;,\n",
       "                                                &#x27;GarageType&#x27;, &#x27;GarageFinish&#x27;,\n",
       "                                                &#x27;PavedDrive&#x27;, &#x27;Fence&#x27;,\n",
       "                                                &#x27;SaleType&#x27;, &#x27;SaleCondition&#x27;,\n",
       "                                                &#x27;MSSubClass&#x27;, &#x27;OverallCond&#x27;,\n",
       "                                                &#x27;KitchenAbvGr&#x27;, ...]))])</pre></div></div></div><div class=\"sk-serial\"><div class=\"sk-item\"><div class=\"sk-estimator sk-toggleable\"><input class=\"sk-toggleable__control sk-hidden--visually\" id=\"sk-estimator-id-8\" type=\"checkbox\" ><label for=\"sk-estimator-id-8\" class=\"sk-toggleable__label sk-toggleable__label-arrow\">FillMissTransformer</label><div class=\"sk-toggleable__content\"><pre>FillMissTransformer()</pre></div></div></div><div class=\"sk-item\"><div class=\"sk-estimator sk-toggleable\"><input class=\"sk-toggleable__control sk-hidden--visually\" id=\"sk-estimator-id-9\" type=\"checkbox\" ><label for=\"sk-estimator-id-9\" class=\"sk-toggleable__label sk-toggleable__label-arrow\">FeatureEngineeringTransformer</label><div class=\"sk-toggleable__content\"><pre>FeatureEngineeringTransformer(num_cols_flag=[&#x27;BsmtFinSF2&#x27;, &#x27;LowQualFinSF&#x27;,\n",
       "                                             &#x27;3SsnPorch&#x27;, &#x27;PoolArea&#x27;],\n",
       "                              num_cols_tdrop=[&#x27;BsmtFullBath&#x27;, &#x27;BsmtHalfBath&#x27;,\n",
       "                                              &#x27;FullBath&#x27;, &#x27;HalfBath&#x27;],\n",
       "                              rem_id=[250, 314, 336, 496, 584, 935, 1299, 1329])</pre></div></div></div><div class=\"sk-item\"><div class=\"sk-estimator sk-toggleable\"><input class=\"sk-toggleable__control sk-hidden--visually\" id=\"sk-estimator-id-10\" type=\"checkbox\" ><label for=\"sk-estimator-id-10\" class=\"sk-toggleable__label sk-toggleable__label-arrow\">NormalizationTransformer</label><div class=\"sk-toggleable__content\"><pre>NormalizationTransformer(num_cols_norm=[&#x27;LotFrontage&#x27;, &#x27;LotArea&#x27;, &#x27;YearBuilt&#x27;,\n",
       "                                        &#x27;YearRemodAdd&#x27;, &#x27;MasVnrArea&#x27;,\n",
       "                                        &#x27;BsmtFinSF1&#x27;, &#x27;BsmtUnfSF&#x27;,\n",
       "                                        &#x27;TotalBsmtSF&#x27;, &#x27;1stFlrSF&#x27;, &#x27;2ndFlrSF&#x27;,\n",
       "                                        &#x27;GrLivArea&#x27;, &#x27;GarageYrBlt&#x27;,\n",
       "                                        &#x27;GarageArea&#x27;, &#x27;WoodDeckSF&#x27;,\n",
       "                                        &#x27;OpenPorchSF&#x27;, &#x27;Totalarea&#x27;])</pre></div></div></div><div class=\"sk-item\"><div class=\"sk-estimator sk-toggleable\"><input class=\"sk-toggleable__control sk-hidden--visually\" id=\"sk-estimator-id-11\" type=\"checkbox\" ><label for=\"sk-estimator-id-11\" class=\"sk-toggleable__label sk-toggleable__label-arrow\">CategoricalTransformer</label><div class=\"sk-toggleable__content\"><pre>CategoricalTransformer(cat_cols_oe=[&#x27;ExterQual&#x27;, &#x27;ExterCond&#x27;, &#x27;BsmtQual&#x27;,\n",
       "                                    &#x27;BsmtCond&#x27;, &#x27;HeatingQC&#x27;, &#x27;KitchenQual&#x27;,\n",
       "                                    &#x27;FireplaceQu&#x27;, &#x27;GarageQual&#x27;, &#x27;GarageCond&#x27;],\n",
       "                       cat_cols_oh=[&#x27;MSZoning&#x27;, &#x27;Alley&#x27;, &#x27;LotShape&#x27;,\n",
       "                                    &#x27;LandContour&#x27;, &#x27;LotConfig&#x27;, &#x27;Neighborhood&#x27;,\n",
       "                                    &#x27;Condition1&#x27;, &#x27;BldgType&#x27;, &#x27;HouseStyle&#x27;,\n",
       "                                    &#x27;RoofStyle&#x27;, &#x27;Exterior1st&#x27;, &#x27;Exterior2nd&#x27;,\n",
       "                                    &#x27;MasVnrType&#x27;, &#x27;Foundation&#x27;, &#x27;BsmtExposure&#x27;,\n",
       "                                    &#x27;BsmtFinType1&#x27;, &#x27;BsmtFinType2&#x27;, &#x27;Heating&#x27;,\n",
       "                                    &#x27;CentralAir&#x27;, &#x27;Electrical&#x27;, &#x27;Functional&#x27;,\n",
       "                                    &#x27;GarageType&#x27;, &#x27;GarageFinish&#x27;, &#x27;PavedDrive&#x27;,\n",
       "                                    &#x27;Fence&#x27;, &#x27;SaleType&#x27;, &#x27;SaleCondition&#x27;,\n",
       "                                    &#x27;MSSubClass&#x27;, &#x27;OverallCond&#x27;, &#x27;KitchenAbvGr&#x27;, ...],\n",
       "                       cat_cols_tdrop=[&#x27;Street&#x27;, &#x27;Utilities&#x27;, &#x27;LandSlope&#x27;,\n",
       "                                       &#x27;Condition2&#x27;, &#x27;RoofMatl&#x27;, &#x27;PoolQC&#x27;,\n",
       "                                       &#x27;MiscFeature&#x27;, &#x27;MiscVal&#x27;])</pre></div></div></div><div class=\"sk-item\"><div class=\"sk-estimator sk-toggleable\"><input class=\"sk-toggleable__control sk-hidden--visually\" id=\"sk-estimator-id-12\" type=\"checkbox\" ><label for=\"sk-estimator-id-12\" class=\"sk-toggleable__label sk-toggleable__label-arrow\">GetDummiesTransformer</label><div class=\"sk-toggleable__content\"><pre>GetDummiesTransformer(columns=[&#x27;MSZoning&#x27;, &#x27;Alley&#x27;, &#x27;LotShape&#x27;, &#x27;LandContour&#x27;,\n",
       "                               &#x27;LotConfig&#x27;, &#x27;Neighborhood&#x27;, &#x27;Condition1&#x27;,\n",
       "                               &#x27;BldgType&#x27;, &#x27;HouseStyle&#x27;, &#x27;RoofStyle&#x27;,\n",
       "                               &#x27;Exterior1st&#x27;, &#x27;Exterior2nd&#x27;, &#x27;MasVnrType&#x27;,\n",
       "                               &#x27;Foundation&#x27;, &#x27;BsmtExposure&#x27;, &#x27;BsmtFinType1&#x27;,\n",
       "                               &#x27;BsmtFinType2&#x27;, &#x27;Heating&#x27;, &#x27;CentralAir&#x27;,\n",
       "                               &#x27;Electrical&#x27;, &#x27;Functional&#x27;, &#x27;GarageType&#x27;,\n",
       "                               &#x27;GarageFinish&#x27;, &#x27;PavedDrive&#x27;, &#x27;Fence&#x27;,\n",
       "                               &#x27;SaleType&#x27;, &#x27;SaleCondition&#x27;, &#x27;MSSubClass&#x27;,\n",
       "                               &#x27;OverallCond&#x27;, &#x27;KitchenAbvGr&#x27;, ...])</pre></div></div></div></div></div></div></div>"
      ],
      "text/plain": [
       "Pipeline(steps=[('fill_miss', FillMissTransformer()),\n",
       "                ('feat_eng',\n",
       "                 FeatureEngineeringTransformer(num_cols_flag=['BsmtFinSF2',\n",
       "                                                              'LowQualFinSF',\n",
       "                                                              '3SsnPorch',\n",
       "                                                              'PoolArea'],\n",
       "                                               num_cols_tdrop=['BsmtFullBath',\n",
       "                                                               'BsmtHalfBath',\n",
       "                                                               'FullBath',\n",
       "                                                               'HalfBath'],\n",
       "                                               rem_id=[250, 314, 336, 496, 584,\n",
       "                                                       935, 1299, 1329])),\n",
       "                ('normalization',\n",
       "                 NormalizationTransformer(num_cols_norm=['LotFrontage',\n",
       "                                                         'Lot...\n",
       "                                                'LandContour', 'LotConfig',\n",
       "                                                'Neighborhood', 'Condition1',\n",
       "                                                'BldgType', 'HouseStyle',\n",
       "                                                'RoofStyle', 'Exterior1st',\n",
       "                                                'Exterior2nd', 'MasVnrType',\n",
       "                                                'Foundation', 'BsmtExposure',\n",
       "                                                'BsmtFinType1', 'BsmtFinType2',\n",
       "                                                'Heating', 'CentralAir',\n",
       "                                                'Electrical', 'Functional',\n",
       "                                                'GarageType', 'GarageFinish',\n",
       "                                                'PavedDrive', 'Fence',\n",
       "                                                'SaleType', 'SaleCondition',\n",
       "                                                'MSSubClass', 'OverallCond',\n",
       "                                                'KitchenAbvGr', ...]))])"
      ]
     },
     "execution_count": 105,
     "metadata": {},
     "output_type": "execute_result"
    }
   ],
   "source": [
    "# Define  pipeline with all transformers\n",
    "\n",
    "pipeline = Pipeline([\n",
    "    ('fill_miss', FillMissTransformer()),  # Fill missing values\n",
    "    ('feat_eng', FeatureEngineeringTransformer(num_cols_tdrop, num_cols_flag, rem_id)),  # Feature engineering\n",
    "    ('normalization', NormalizationTransformer(num_cols_norm)),  # Normalization\n",
    "    ('categorical_transformer', CategoricalTransformer(cat_cols_oh, cat_cols_oe, cat_cols_tdrop)),  # Categorical transformation\n",
    "    ('get_dummies', GetDummiesTransformer(columns=cat_cols_oh)),  # One-hot encoding\n",
    "    # ('normalization', NormalizationTransformer(num_cols_norm + cat_cols_oe))  # Normalization\n",
    "])\n",
    "\n",
    "pipeline"
   ]
  },
  {
   "cell_type": "code",
   "execution_count": 106,
   "metadata": {},
   "outputs": [],
   "source": [
    "# prepare train / validation\n",
    "tdf = df.copy()\n",
    "\n",
    "tdf = pipeline.fit_transform(tdf)\n",
    "\n",
    "label = np.log1p(tdf['SalePrice'])\n",
    "tdf.drop(['Id', 'SalePrice'], axis=1, inplace=True)\n",
    "tdf = tdf[ifeatures]"
   ]
  },
  {
   "cell_type": "code",
   "execution_count": 107,
   "metadata": {},
   "outputs": [],
   "source": [
    "test_data = pd.read_csv('../data/test.csv')\n",
    "\n",
    "# test_data = pipeline.fit_transform(test_data)\n",
    "test_data = pipeline.transform(test_data)\n",
    "\n",
    "t_id = test_data['Id']\n",
    "test_data.drop('Id', axis=1, inplace=True)\n",
    "test_data = test_data[ifeatures]"
   ]
  },
  {
   "cell_type": "code",
   "execution_count": 108,
   "metadata": {},
   "outputs": [],
   "source": [
    "# # if commented out ifeatures, need to make sure columns are the same in train and test\n",
    "\n",
    "# diff_cols = set(tdf.columns).symmetric_difference(set(test_data.columns))\n",
    "# tdf = tdf[list(set(tdf.columns).difference(diff_cols))]\n",
    "# test_data = test_data[list(set(test_data.columns).difference(diff_cols))]\n",
    "\n",
    "# assert (tdf.columns == test_data.columns).all()\n"
   ]
  },
  {
   "cell_type": "markdown",
   "metadata": {},
   "source": [
    "## Model construction"
   ]
  },
  {
   "cell_type": "code",
   "execution_count": 109,
   "metadata": {},
   "outputs": [],
   "source": [
    "X_train, X_test, y_train, y_test = train_test_split(tdf, label, test_size=0.25, random_state=rst)\n",
    "models_train_pred = pd.DataFrame()\n",
    "models_test_pred = pd.DataFrame()\n",
    "results = pd.DataFrame(index=['RMSE', 'R2'])\n",
    "\n",
    "# optuna\n",
    "optuna_train_pred = pd.DataFrame()\n",
    "optuna_test_pred = pd.DataFrame()\n",
    "optuna_results = pd.DataFrame(index=['RMSE', 'R2'])"
   ]
  },
  {
   "cell_type": "markdown",
   "metadata": {},
   "source": [
    "### Linear models"
   ]
  },
  {
   "cell_type": "code",
   "execution_count": 110,
   "metadata": {},
   "outputs": [
    {
     "name": "stdout",
     "output_type": "stream",
     "text": [
      "Ridge(alpha=22, max_iter=1000, random_state=44)\n",
      "Testing performance\n",
      "RMSE: 0.104\n",
      "R2: 0.930 \n",
      "\n"
     ]
    }
   ],
   "source": [
    "model = Ridge()\n",
    "\n",
    "# params_lasso = {'alpha': np.arange(2, 25, 1), 'max_iter': [500, 1000, None], 'random_state': [rst]}\n",
    "params_lasso = {'alpha': [22], 'max_iter': [1000], 'random_state': [rst]}\n",
    "\n",
    "gs_alg = GridSearchCV(model, param_grid = params_lasso, cv = 10, scoring = 'neg_mean_squared_error', n_jobs=-1)\n",
    "\n",
    "gs_alg.fit(X_train, y_train)\n",
    "\n",
    "print(gs_alg.best_estimator_)\n",
    "\n",
    "pred = gs_alg.predict(X_test)\n",
    "pred_t = gs_alg.predict(test_data)\n",
    "models_train_pred[model.__class__.__name__] = pred\n",
    "models_test_pred[model.__class__.__name__] = pred_t\n",
    "\n",
    "#pred = np.log1p(np.round(np.exp(pred) / 100) * 100)\n",
    "\n",
    "rmse = (np.sqrt(mean_squared_error(y_test, pred)))\n",
    "r2 = r2_score(y_test, pred)\n",
    "\n",
    "results[model.__class__.__name__] = [rmse, r2]\n",
    "\n",
    "print('Testing performance')\n",
    "print('RMSE: {:.3f}'.format(rmse))\n",
    "print('R2: {:.3f}'.format(r2), '\\n')\n",
    "\n",
    "# Ridge(alpha=22, max_iter=1000, random_state=44)\n",
    "# Testing performance\n",
    "# RMSE: 0.104\n",
    "# R2: 0.930 "
   ]
  },
  {
   "cell_type": "code",
   "execution_count": 111,
   "metadata": {
    "scrolled": true
   },
   "outputs": [
    {
     "name": "stderr",
     "output_type": "stream",
     "text": [
      "[I 2024-02-18 01:07:49,098] A new study created in memory with name: no-name-dc568c52-43df-4164-b55d-f4b57210ccb0\n",
      "[I 2024-02-18 01:07:49,167] Trial 0 finished with value: 0.10774537612313773 and parameters: {'alpha': 0.12083504117439965, 'solver': 'sparse_cg', 'max_iter': 1196}. Best is trial 0 with value: 0.10774537612313773.\n",
      "[I 2024-02-18 01:07:49,195] Trial 1 finished with value: 0.10698663382822074 and parameters: {'alpha': 1.7998759466911007, 'solver': 'svd', 'max_iter': 2118}. Best is trial 1 with value: 0.10698663382822074.\n",
      "[I 2024-02-18 01:07:49,260] Trial 2 finished with value: 0.10751281867152243 and parameters: {'alpha': 0.3241525234875811, 'solver': 'lsqr', 'max_iter': 4413}. Best is trial 1 with value: 0.10698663382822074.\n",
      "[I 2024-02-18 01:07:49,288] Trial 3 finished with value: 0.10821333239665347 and parameters: {'alpha': 0.00010740778878312203, 'solver': 'svd', 'max_iter': 3665}. Best is trial 1 with value: 0.10698663382822074.\n",
      "[I 2024-02-18 01:07:52,602] Trial 4 finished with value: 0.10705697921360162 and parameters: {'alpha': 0.0002144994332403372, 'solver': 'saga', 'max_iter': 4624}. Best is trial 1 with value: 0.10698663382822074.\n",
      "[I 2024-02-18 01:07:52,618] Trial 5 finished with value: 0.10814453309605782 and parameters: {'alpha': 0.044387392783948924, 'solver': 'svd', 'max_iter': 1117}. Best is trial 1 with value: 0.10698663382822074.\n",
      "[I 2024-02-18 01:07:52,642] Trial 6 finished with value: 0.10545729091499564 and parameters: {'alpha': 93.75021128396581, 'solver': 'lsqr', 'max_iter': 4755}. Best is trial 6 with value: 0.10545729091499564.\n",
      "[I 2024-02-18 01:07:54,738] Trial 7 finished with value: 0.10631324654306851 and parameters: {'alpha': 53.155156627686694, 'solver': 'sag', 'max_iter': 4762}. Best is trial 6 with value: 0.10545729091499564.\n",
      "[I 2024-02-18 01:07:54,755] Trial 8 finished with value: 0.10719128359521317 and parameters: {'alpha': 1.3509630818536051, 'solver': 'svd', 'max_iter': 181}. Best is trial 6 with value: 0.10545729091499564.\n",
      "[I 2024-02-18 01:07:54,776] Trial 9 finished with value: 0.10706714927255179 and parameters: {'alpha': 1.616581199683074, 'solver': 'auto', 'max_iter': 4933}. Best is trial 6 with value: 0.10545729091499564.\n",
      "[I 2024-02-18 01:07:54,841] Trial 10 finished with value: 0.10766659233964056 and parameters: {'alpha': 1.5501298868828317e-07, 'solver': 'lsqr', 'max_iter': 3151}. Best is trial 6 with value: 0.10545729091499564.\n",
      "[I 2024-02-18 01:07:56,870] Trial 11 finished with value: 0.10729615699138491 and parameters: {'alpha': 92.8732924682443, 'solver': 'sag', 'max_iter': 3900}. Best is trial 6 with value: 0.10545729091499564.\n",
      "[I 2024-02-18 01:07:56,920] Trial 12 finished with value: 0.10474688790496796 and parameters: {'alpha': 58.09348268520761, 'solver': 'cholesky', 'max_iter': 2771}. Best is trial 12 with value: 0.10474688790496796.\n",
      "[I 2024-02-18 01:07:56,950] Trial 13 finished with value: 0.1082022055592979 and parameters: {'alpha': 0.006913102781335222, 'solver': 'cholesky', 'max_iter': 2595}. Best is trial 12 with value: 0.10474688790496796.\n",
      "[I 2024-02-18 01:07:56,975] Trial 14 finished with value: 0.1082135090121933 and parameters: {'alpha': 4.475448411499467e-07, 'solver': 'cholesky', 'max_iter': 2311}. Best is trial 12 with value: 0.10474688790496796.\n",
      "[I 2024-02-18 01:07:57,006] Trial 15 finished with value: 0.10497070036091308 and parameters: {'alpha': 11.350461228039501, 'solver': 'cholesky', 'max_iter': 3255}. Best is trial 12 with value: 0.10474688790496796.\n",
      "[I 2024-02-18 01:07:57,044] Trial 16 finished with value: 0.10821347268435301 and parameters: {'alpha': 2.2445365669674695e-05, 'solver': 'cholesky', 'max_iter': 3135}. Best is trial 12 with value: 0.10474688790496796.\n",
      "[I 2024-02-18 01:07:57,083] Trial 17 finished with value: 0.10537100040631885 and parameters: {'alpha': 8.12823137709917, 'solver': 'cholesky', 'max_iter': 1651}. Best is trial 12 with value: 0.10474688790496796.\n",
      "[I 2024-02-18 01:07:57,127] Trial 18 finished with value: 0.10820329045073628 and parameters: {'alpha': 0.006243681868817611, 'solver': 'cholesky', 'max_iter': 3133}. Best is trial 12 with value: 0.10474688790496796.\n",
      "[I 2024-02-18 01:08:00,943] Trial 19 finished with value: 0.1070569782857682 and parameters: {'alpha': 5.304613067540182e-06, 'solver': 'saga', 'max_iter': 3755}. Best is trial 12 with value: 0.10474688790496796.\n",
      "[I 2024-02-18 01:08:00,996] Trial 20 finished with value: 0.1055334553973351 and parameters: {'alpha': 7.134230741721506, 'solver': 'auto', 'max_iter': 2724}. Best is trial 12 with value: 0.10474688790496796.\n",
      "[I 2024-02-18 01:08:01,048] Trial 21 finished with value: 0.1052732440016208 and parameters: {'alpha': 8.79819450174851, 'solver': 'cholesky', 'max_iter': 1764}. Best is trial 12 with value: 0.10474688790496796.\n",
      "[I 2024-02-18 01:08:01,090] Trial 22 finished with value: 0.10468258559628477 and parameters: {'alpha': 14.942223189829662, 'solver': 'cholesky', 'max_iter': 1858}. Best is trial 22 with value: 0.10468258559628477.\n",
      "[I 2024-02-18 01:08:01,122] Trial 23 finished with value: 0.10817696060783534 and parameters: {'alpha': 0.02285428315835179, 'solver': 'cholesky', 'max_iter': 2805}. Best is trial 22 with value: 0.10468258559628477.\n",
      "[I 2024-02-18 01:08:01,159] Trial 24 finished with value: 0.10752390056165617 and parameters: {'alpha': 0.39849841899669813, 'solver': 'sparse_cg', 'max_iter': 1909}. Best is trial 22 with value: 0.10468258559628477.\n",
      "[I 2024-02-18 01:08:01,205] Trial 25 finished with value: 0.10461386674241287 and parameters: {'alpha': 16.115627662660255, 'solver': 'cholesky', 'max_iter': 1427}. Best is trial 25 with value: 0.10461386674241287.\n",
      "[I 2024-02-18 01:08:01,248] Trial 26 finished with value: 0.10821350973468595 and parameters: {'alpha': 1.0063534246256354e-08, 'solver': 'cholesky', 'max_iter': 1246}. Best is trial 25 with value: 0.10461386674241287.\n",
      "[I 2024-02-18 01:08:01,301] Trial 27 finished with value: 0.1043172727066306 and parameters: {'alpha': 28.78878427750319, 'solver': 'cholesky', 'max_iter': 534}. Best is trial 27 with value: 0.1043172727066306.\n",
      "[I 2024-02-18 01:08:01,340] Trial 28 finished with value: 0.10770808036128815 and parameters: {'alpha': 0.47419828176401313, 'solver': 'cholesky', 'max_iter': 369}. Best is trial 27 with value: 0.1043172727066306.\n",
      "[I 2024-02-18 01:08:01,387] Trial 29 finished with value: 0.10768591434013441 and parameters: {'alpha': 0.06979265277426244, 'solver': 'sparse_cg', 'max_iter': 682}. Best is trial 27 with value: 0.1043172727066306.\n",
      "[I 2024-02-18 01:08:01,424] Trial 30 finished with value: 0.1082099798324125 and parameters: {'alpha': 0.0021440476473103057, 'solver': 'auto', 'max_iter': 1028}. Best is trial 27 with value: 0.1043172727066306.\n",
      "[I 2024-02-18 01:08:01,466] Trial 31 finished with value: 0.1043658122544095 and parameters: {'alpha': 23.56347201035484, 'solver': 'cholesky', 'max_iter': 1579}. Best is trial 27 with value: 0.1043172727066306.\n",
      "[I 2024-02-18 01:08:01,505] Trial 32 finished with value: 0.10448585068321634 and parameters: {'alpha': 18.96321327022107, 'solver': 'cholesky', 'max_iter': 1417}. Best is trial 27 with value: 0.1043172727066306.\n",
      "[I 2024-02-18 01:08:01,567] Trial 33 finished with value: 0.10652570546584499 and parameters: {'alpha': 3.025956070345358, 'solver': 'cholesky', 'max_iter': 720}. Best is trial 27 with value: 0.1043172727066306.\n",
      "[I 2024-02-18 01:08:03,029] Trial 34 finished with value: 0.1096717767507251 and parameters: {'alpha': 0.2884228940105844, 'solver': 'saga', 'max_iter': 1291}. Best is trial 27 with value: 0.1043172727066306.\n",
      "[I 2024-02-18 01:08:03,851] Trial 35 finished with value: 0.10906390638976925 and parameters: {'alpha': 26.982732084231912, 'solver': 'sag', 'max_iter': 816}. Best is trial 27 with value: 0.1043172727066306.\n",
      "[I 2024-02-18 01:08:03,901] Trial 36 finished with value: 0.10666039319838055 and parameters: {'alpha': 2.6347592629546113, 'solver': 'cholesky', 'max_iter': 1456}. Best is trial 27 with value: 0.1043172727066306.\n",
      "[I 2024-02-18 01:08:03,953] Trial 37 finished with value: 0.1072637728197679 and parameters: {'alpha': 0.8886453657120769, 'solver': 'lsqr', 'max_iter': 2179}. Best is trial 27 with value: 0.1043172727066306.\n",
      "[I 2024-02-18 01:08:03,991] Trial 38 finished with value: 0.10762965845084645 and parameters: {'alpha': 0.1585192781930854, 'solver': 'sparse_cg', 'max_iter': 510}. Best is trial 27 with value: 0.1043172727066306.\n"
     ]
    },
    {
     "name": "stderr",
     "output_type": "stream",
     "text": [
      "[I 2024-02-18 01:08:04,038] Trial 39 finished with value: 0.10431676696499588 and parameters: {'alpha': 31.151443280364084, 'solver': 'svd', 'max_iter': 1481}. Best is trial 39 with value: 0.10431676696499588.\n",
      "[I 2024-02-18 01:08:04,079] Trial 40 finished with value: 0.10445565215438701 and parameters: {'alpha': 44.06880674896691, 'solver': 'svd', 'max_iter': 976}. Best is trial 39 with value: 0.10431676696499588.\n",
      "[I 2024-02-18 01:08:04,113] Trial 41 finished with value: 0.10432701235359304 and parameters: {'alpha': 26.812655226380688, 'solver': 'svd', 'max_iter': 975}. Best is trial 39 with value: 0.10431676696499588.\n",
      "[I 2024-02-18 01:08:04,149] Trial 42 finished with value: 0.10652336834324853 and parameters: {'alpha': 3.033005165229072, 'solver': 'svd', 'max_iter': 999}. Best is trial 39 with value: 0.10431676696499588.\n",
      "[I 2024-02-18 01:08:04,191] Trial 43 finished with value: 0.1043830571452558 and parameters: {'alpha': 39.29674042212877, 'solver': 'svd', 'max_iter': 192}. Best is trial 39 with value: 0.10431676696499588.\n",
      "[I 2024-02-18 01:08:04,250] Trial 44 finished with value: 0.10561099593022374 and parameters: {'alpha': 91.95105088914133, 'solver': 'svd', 'max_iter': 133}. Best is trial 39 with value: 0.10431676696499588.\n",
      "[I 2024-02-18 01:08:04,292] Trial 45 finished with value: 0.10659877970935812 and parameters: {'alpha': 2.8101029355754163, 'solver': 'svd', 'max_iter': 462}. Best is trial 39 with value: 0.10431676696499588.\n",
      "[I 2024-02-18 01:08:04,336] Trial 46 finished with value: 0.10431751470594114 and parameters: {'alpha': 31.469043404651778, 'solver': 'svd', 'max_iter': 390}. Best is trial 39 with value: 0.10431676696499588.\n",
      "[I 2024-02-18 01:08:04,378] Trial 47 finished with value: 0.10743468372031101 and parameters: {'alpha': 0.8904323596247571, 'solver': 'svd', 'max_iter': 823}. Best is trial 39 with value: 0.10431676696499588.\n",
      "[I 2024-02-18 01:08:04,421] Trial 48 finished with value: 0.1058839461020323 and parameters: {'alpha': 5.371930088839082, 'solver': 'svd', 'max_iter': 1588}. Best is trial 39 with value: 0.10431676696499588.\n",
      "[I 2024-02-18 01:08:04,461] Trial 49 finished with value: 0.10821303038768335 and parameters: {'alpha': 0.00029038435688963956, 'solver': 'svd', 'max_iter': 529}. Best is trial 39 with value: 0.10431676696499588.\n",
      "[I 2024-02-18 01:08:04,499] Trial 50 finished with value: 0.10432148920576748 and parameters: {'alpha': 27.699868603007207, 'solver': 'svd', 'max_iter': 346}. Best is trial 39 with value: 0.10431676696499588.\n",
      "[I 2024-02-18 01:08:04,537] Trial 51 finished with value: 0.10431917485879597 and parameters: {'alpha': 28.210201610410582, 'solver': 'svd', 'max_iter': 329}. Best is trial 39 with value: 0.10431676696499588.\n",
      "[I 2024-02-18 01:08:04,583] Trial 52 finished with value: 0.10543129919954791 and parameters: {'alpha': 85.0882754602062, 'solver': 'svd', 'max_iter': 291}. Best is trial 39 with value: 0.10431676696499588.\n",
      "[I 2024-02-18 01:08:04,623] Trial 53 finished with value: 0.10432709742412324 and parameters: {'alpha': 33.62526896396533, 'solver': 'svd', 'max_iter': 617}. Best is trial 39 with value: 0.10431676696499588.\n",
      "[I 2024-02-18 01:08:04,670] Trial 54 finished with value: 0.10546601121392266 and parameters: {'alpha': 7.530548639211744, 'solver': 'svd', 'max_iter': 389}. Best is trial 39 with value: 0.10431676696499588.\n",
      "[I 2024-02-18 01:08:04,715] Trial 55 finished with value: 0.10718717507091248 and parameters: {'alpha': 1.3594256039992367, 'solver': 'svd', 'max_iter': 875}. Best is trial 39 with value: 0.10431676696499588.\n",
      "[I 2024-02-18 01:08:04,770] Trial 56 finished with value: 0.10572698182932082 and parameters: {'alpha': 96.39279173120792, 'solver': 'svd', 'max_iter': 1116}. Best is trial 39 with value: 0.10431676696499588.\n",
      "[I 2024-02-18 01:08:05,030] Trial 57 finished with value: 0.11441970690436186 and parameters: {'alpha': 4.8119108448087475, 'solver': 'sag', 'max_iter': 226}. Best is trial 39 with value: 0.10431676696499588.\n",
      "[I 2024-02-18 01:08:05,064] Trial 58 finished with value: 0.1046607688479992 and parameters: {'alpha': 14.532503362582347, 'solver': 'lsqr', 'max_iter': 625}. Best is trial 39 with value: 0.10431676696499588.\n",
      "[I 2024-02-18 01:08:05,107] Trial 59 finished with value: 0.1081722765033901 and parameters: {'alpha': 0.025890164025331057, 'solver': 'svd', 'max_iter': 118}. Best is trial 39 with value: 0.10431676696499588.\n",
      "[I 2024-02-18 01:08:05,512] Trial 60 finished with value: 0.11634054866076389 and parameters: {'alpha': 44.68709965526021, 'solver': 'saga', 'max_iter': 337}. Best is trial 39 with value: 0.10431676696499588.\n",
      "[I 2024-02-18 01:08:05,558] Trial 61 finished with value: 0.10432042728193619 and parameters: {'alpha': 27.9175549012038, 'solver': 'svd', 'max_iter': 696}. Best is trial 39 with value: 0.10431676696499588.\n",
      "[I 2024-02-18 01:08:05,600] Trial 62 finished with value: 0.10468552742248258 and parameters: {'alpha': 14.895781186560153, 'solver': 'svd', 'max_iter': 876}. Best is trial 39 with value: 0.10431676696499588.\n",
      "[I 2024-02-18 01:08:05,644] Trial 63 finished with value: 0.10571112549123744 and parameters: {'alpha': 6.184955786451854, 'solver': 'svd', 'max_iter': 541}. Best is trial 39 with value: 0.10431676696499588.\n",
      "[I 2024-02-18 01:08:05,690] Trial 64 finished with value: 0.10432052610518149 and parameters: {'alpha': 32.353920640762745, 'solver': 'svd', 'max_iter': 4086}. Best is trial 39 with value: 0.10431676696499588.\n",
      "[I 2024-02-18 01:08:05,735] Trial 65 finished with value: 0.10465615955793138 and parameters: {'alpha': 54.12064266122222, 'solver': 'auto', 'max_iter': 4479}. Best is trial 39 with value: 0.10431676696499588.\n",
      "[I 2024-02-18 01:08:05,783] Trial 66 finished with value: 0.10821349713731043 and parameters: {'alpha': 7.63806150940064e-06, 'solver': 'svd', 'max_iter': 3794}. Best is trial 39 with value: 0.10431676696499588.\n",
      "[I 2024-02-18 01:08:05,840] Trial 67 finished with value: 0.10508546234526546 and parameters: {'alpha': 10.28037417135401, 'solver': 'svd', 'max_iter': 2336}. Best is trial 39 with value: 0.10431676696499588.\n",
      "[I 2024-02-18 01:08:05,895] Trial 68 finished with value: 0.10741027035992651 and parameters: {'alpha': 0.9329347600147416, 'solver': 'svd', 'max_iter': 746}. Best is trial 39 with value: 0.10431676696499588.\n",
      "[I 2024-02-18 01:08:09,838] Trial 69 finished with value: 0.10543425347314678 and parameters: {'alpha': 4.282012162279143, 'solver': 'sag', 'max_iter': 3491}. Best is trial 39 with value: 0.10431676696499588.\n",
      "[I 2024-02-18 01:08:09,926] Trial 70 finished with value: 0.10691720679823562 and parameters: {'alpha': 1.776245076377174, 'solver': 'sparse_cg', 'max_iter': 3977}. Best is trial 39 with value: 0.10431676696499588.\n",
      "[I 2024-02-18 01:08:09,994] Trial 71 finished with value: 0.10438177291538021 and parameters: {'alpha': 22.70105742215048, 'solver': 'svd', 'max_iter': 4182}. Best is trial 39 with value: 0.10431676696499588.\n",
      "[I 2024-02-18 01:08:10,057] Trial 72 finished with value: 0.10438990989555205 and parameters: {'alpha': 22.309667158531116, 'solver': 'svd', 'max_iter': 1198}. Best is trial 39 with value: 0.10431676696499588.\n",
      "[I 2024-02-18 01:08:10,120] Trial 73 finished with value: 0.10502827406658954 and parameters: {'alpha': 10.795198625570222, 'solver': 'svd', 'max_iter': 4968}. Best is trial 39 with value: 0.10431676696499588.\n",
      "[I 2024-02-18 01:08:10,175] Trial 74 finished with value: 0.10467101502831562 and parameters: {'alpha': 48.034394570615625, 'solver': 'lsqr', 'max_iter': 412}. Best is trial 39 with value: 0.10431676696499588.\n",
      "[I 2024-02-18 01:08:10,238] Trial 75 finished with value: 0.1043177398438094 and parameters: {'alpha': 31.552087523267115, 'solver': 'svd', 'max_iter': 688}. Best is trial 39 with value: 0.10431676696499588.\n",
      "[I 2024-02-18 01:08:10,289] Trial 76 finished with value: 0.10468642378665882 and parameters: {'alpha': 55.46981824394548, 'solver': 'auto', 'max_iter': 662}. Best is trial 39 with value: 0.10431676696499588.\n",
      "[I 2024-02-18 01:08:10,736] Trial 77 finished with value: 0.1165103204562235 and parameters: {'alpha': 99.05244256447574, 'solver': 'saga', 'max_iter': 342}. Best is trial 39 with value: 0.10431676696499588.\n",
      "[I 2024-02-18 01:08:10,793] Trial 78 finished with value: 0.10505541805488484 and parameters: {'alpha': 10.546567705045033, 'solver': 'svd', 'max_iter': 2891}. Best is trial 39 with value: 0.10431676696499588.\n"
     ]
    },
    {
     "name": "stderr",
     "output_type": "stream",
     "text": [
      "[I 2024-02-18 01:08:10,849] Trial 79 finished with value: 0.10432549504368299 and parameters: {'alpha': 27.02740403744888, 'solver': 'svd', 'max_iter': 1925}. Best is trial 39 with value: 0.10431676696499588.\n",
      "[I 2024-02-18 01:08:10,890] Trial 80 finished with value: 0.10611764642094461 and parameters: {'alpha': 4.41083609363506, 'solver': 'svd', 'max_iter': 267}. Best is trial 39 with value: 0.10431676696499588.\n",
      "[I 2024-02-18 01:08:11,076] Trial 81 finished with value: 0.10431892511358998 and parameters: {'alpha': 28.27478225330184, 'solver': 'svd', 'max_iter': 1957}. Best is trial 39 with value: 0.10431676696499588.\n",
      "[I 2024-02-18 01:08:11,128] Trial 82 finished with value: 0.10459221993120296 and parameters: {'alpha': 16.526182830894587, 'solver': 'svd', 'max_iter': 2072}. Best is trial 39 with value: 0.10431676696499588.\n",
      "[I 2024-02-18 01:08:11,178] Trial 83 finished with value: 0.10434448571405291 and parameters: {'alpha': 35.869883881471196, 'solver': 'svd', 'max_iter': 2535}. Best is trial 39 with value: 0.10431676696499588.\n",
      "[I 2024-02-18 01:08:11,235] Trial 84 finished with value: 0.10821350897980658 and parameters: {'alpha': 4.6715536841605834e-07, 'solver': 'svd', 'max_iter': 1333}. Best is trial 39 with value: 0.10431676696499588.\n",
      "[I 2024-02-18 01:08:11,279] Trial 85 finished with value: 0.10553107256098415 and parameters: {'alpha': 7.147867412105143, 'solver': 'svd', 'max_iter': 1109}. Best is trial 39 with value: 0.10431676696499588.\n",
      "[I 2024-02-18 01:08:11,320] Trial 86 finished with value: 0.10661435268625816 and parameters: {'alpha': 2.765219746672776, 'solver': 'svd', 'max_iter': 1763}. Best is trial 39 with value: 0.10431676696499588.\n",
      "[I 2024-02-18 01:08:11,354] Trial 87 finished with value: 0.10469611550908582 and parameters: {'alpha': 56.73447129847623, 'solver': 'sparse_cg', 'max_iter': 444}. Best is trial 39 with value: 0.10431676696499588.\n",
      "[I 2024-02-18 01:08:11,392] Trial 88 finished with value: 0.104635562773493 and parameters: {'alpha': 15.725343896022824, 'solver': 'svd', 'max_iter': 753}. Best is trial 39 with value: 0.10431676696499588.\n",
      "[I 2024-02-18 01:08:11,427] Trial 89 finished with value: 0.10737988561167021 and parameters: {'alpha': 0.6190166155303294, 'solver': 'lsqr', 'max_iter': 960}. Best is trial 39 with value: 0.10431676696499588.\n",
      "[I 2024-02-18 01:08:11,606] Trial 90 finished with value: 0.12011523932628762 and parameters: {'alpha': 0.2394042275611758, 'solver': 'sag', 'max_iter': 100}. Best is trial 39 with value: 0.10431676696499588.\n",
      "[I 2024-02-18 01:08:11,672] Trial 91 finished with value: 0.10431570042610983 and parameters: {'alpha': 29.777556220926016, 'solver': 'svd', 'max_iter': 2105}. Best is trial 91 with value: 0.10431570042610983.\n",
      "[I 2024-02-18 01:08:11,727] Trial 92 finished with value: 0.10431562137273354 and parameters: {'alpha': 30.05055525288331, 'solver': 'svd', 'max_iter': 2382}. Best is trial 92 with value: 0.10431562137273354.\n",
      "[I 2024-02-18 01:08:11,771] Trial 93 finished with value: 0.10495203001471701 and parameters: {'alpha': 66.52700846412368, 'solver': 'svd', 'max_iter': 2349}. Best is trial 92 with value: 0.10431562137273354.\n",
      "[I 2024-02-18 01:08:11,812] Trial 94 finished with value: 0.10519920864352983 and parameters: {'alpha': 9.348629561569503, 'solver': 'svd', 'max_iter': 2187}. Best is trial 92 with value: 0.10431562137273354.\n",
      "[I 2024-02-18 01:08:11,853] Trial 95 finished with value: 0.10438253204260002 and parameters: {'alpha': 39.256591741642275, 'solver': 'svd', 'max_iter': 1726}. Best is trial 92 with value: 0.10431562137273354.\n",
      "[I 2024-02-18 01:08:14,371] Trial 96 finished with value: 0.10774843217763885 and parameters: {'alpha': 20.870976261639864, 'solver': 'saga', 'max_iter': 2538}. Best is trial 92 with value: 0.10431562137273354.\n",
      "[I 2024-02-18 01:08:14,404] Trial 97 finished with value: 0.10689153588156089 and parameters: {'alpha': 2.0276875126353695, 'solver': 'svd', 'max_iter': 1993}. Best is trial 92 with value: 0.10431562137273354.\n",
      "[I 2024-02-18 01:08:14,435] Trial 98 finished with value: 0.10601803323278546 and parameters: {'alpha': 4.803096618360425, 'solver': 'auto', 'max_iter': 2226}. Best is trial 92 with value: 0.10431562137273354.\n",
      "[I 2024-02-18 01:08:14,465] Trial 99 finished with value: 0.10821196247937516 and parameters: {'alpha': 0.0009381695376305865, 'solver': 'cholesky', 'max_iter': 2917}. Best is trial 92 with value: 0.10431562137273354.\n"
     ]
    },
    {
     "name": "stdout",
     "output_type": "stream",
     "text": [
      "Best RMSE: 0.10431562137273354\n"
     ]
    }
   ],
   "source": [
    "# Optuna + Ridge study\n",
    "\n",
    "def objective(trial):\n",
    "    params = {\n",
    "        'alpha': trial.suggest_loguniform('alpha', 1e-8, 100.0),\n",
    "        'solver': trial.suggest_categorical('solver', ['auto', 'svd', 'cholesky', 'lsqr', \n",
    "                                                      'sparse_cg', 'sag', 'saga']),\n",
    "        'max_iter': trial.suggest_int('max_iter', 100, 5000),\n",
    "#         'random_state': trial.suggest_int('random_state', 50, 100)\n",
    "    }\n",
    "    \n",
    "    model = Ridge(**params, random_state=rst)\n",
    "    model.fit(X_train, y_train)\n",
    "    \n",
    "    predictions = model.predict(X_test)\n",
    "    rmse = np.sqrt(mean_squared_error(y_test, predictions))\n",
    "    return rmse\n",
    "\n",
    "study = optuna.create_study(direction='minimize')\n",
    "study.optimize(objective, n_trials=100)\n",
    "\n",
    "print(f'Best RMSE: {study.best_trial.value}')"
   ]
  },
  {
   "cell_type": "code",
   "execution_count": 112,
   "metadata": {},
   "outputs": [
    {
     "name": "stdout",
     "output_type": "stream",
     "text": [
      "Best: {'alpha': 30.05055525288331, 'solver': 'svd', 'max_iter': 2382}\n",
      "\n",
      "Ridge + Optuna:\n",
      "- RMSE: 0.1043\n",
      "- R2: 0.9298\n"
     ]
    }
   ],
   "source": [
    "# Optuna + Ridge results\n",
    "\n",
    "opt_ridge_params = study.best_params  # for future use\n",
    "\n",
    "print(f'Best: {opt_ridge_params}\\n')\n",
    "\n",
    "opt_ridge = Ridge(**opt_ridge_params)\n",
    "opt_ridge.fit(X_train, y_train)\n",
    "opt_preds = opt_ridge.predict(X_test)\n",
    "rmse = np.sqrt(mean_squared_error(y_test, opt_preds))\n",
    "r2 = r2_score(y_test, opt_preds)\n",
    "print(f'Ridge + Optuna:\\n- RMSE: {rmse :.4f}\\n- R2: {r2 :.4f}')\n",
    "\n",
    "# saving test predictions\n",
    "optuna_train_pred['Ridge'] = opt_preds\n",
    "optuna_test_pred['Ridge'] = opt_ridge.predict(test_data)\n",
    "optuna_results['Ridge'] = [rmse, r2]"
   ]
  },
  {
   "cell_type": "code",
   "execution_count": 113,
   "metadata": {},
   "outputs": [
    {
     "name": "stdout",
     "output_type": "stream",
     "text": [
      "Lasso(alpha=0.001, max_iter=300, random_state=44)\n",
      "Testing performance\n",
      "RMSE: 0.106\n",
      "R2: 0.927 \n",
      "\n"
     ]
    }
   ],
   "source": [
    "model = Lasso()\n",
    "\n",
    "# params_lasso = {'alpha': np.arange(0.001, 1.0, 0.002), 'max_iter': [100, 300, 1000], 'random_state': [rst]}\n",
    "params_lasso = {'alpha': [0.001], 'max_iter': [300], 'random_state': [rst]}\n",
    "\n",
    "gs_alg = GridSearchCV(model, param_grid = params_lasso, cv = 10, scoring = 'neg_mean_squared_error', n_jobs=-1)\n",
    "\n",
    "gs_alg.fit(X_train, y_train)\n",
    "\n",
    "print(gs_alg.best_estimator_)\n",
    "\n",
    "pred = gs_alg.predict(X_test)\n",
    "pred_t = gs_alg.predict(test_data)\n",
    "models_train_pred[model.__class__.__name__] = pred\n",
    "models_test_pred[model.__class__.__name__] = pred_t\n",
    "\n",
    "#pred = np.log1p(np.round(np.exp(pred) / 100) * 100)\n",
    "\n",
    "rmse = (np.sqrt(mean_squared_error(y_test, pred)))\n",
    "r2 = r2_score(y_test, pred)\n",
    "\n",
    "results[model.__class__.__name__] = [rmse, r2]\n",
    "\n",
    "print('Testing performance')\n",
    "print('RMSE: {:.3f}'.format(rmse))\n",
    "print('R2: {:.3f}'.format(r2), '\\n')\n",
    "\n",
    "# Lasso(alpha=0.001, max_iter=300, random_state=44)\n",
    "# Testing performance\n",
    "# RMSE: 0.106\n",
    "# R2: 0.927 "
   ]
  },
  {
   "cell_type": "code",
   "execution_count": 114,
   "metadata": {
    "scrolled": true
   },
   "outputs": [
    {
     "name": "stderr",
     "output_type": "stream",
     "text": [
      "[I 2024-02-18 01:09:57,570] A new study created in memory with name: no-name-396cbb07-b810-4071-b45f-7f6b81f39635\n",
      "[I 2024-02-18 01:09:57,853] Trial 0 finished with value: 0.10818684608207237 and parameters: {'alpha': 8.13563293988752e-07, 'max_iter': 4064, 'tol': 4.212438810823511e-06, 'random_state': 39}. Best is trial 0 with value: 0.10818684608207237.\n",
      "[I 2024-02-18 01:09:57,864] Trial 1 finished with value: 0.3951091558857141 and parameters: {'alpha': 3.091290280019973, 'max_iter': 1365, 'tol': 1.0279832428845054e-06, 'random_state': 32}. Best is trial 0 with value: 0.10818684608207237.\n",
      "[I 2024-02-18 01:09:57,880] Trial 2 finished with value: 0.3957611684428814 and parameters: {'alpha': 3.372421485855622, 'max_iter': 1429, 'tol': 0.0017539106820014714, 'random_state': 27}. Best is trial 0 with value: 0.10818684608207237.\n",
      "[I 2024-02-18 01:09:57,928] Trial 3 finished with value: 0.20757836004998007 and parameters: {'alpha': 0.09790764678296268, 'max_iter': 6989, 'tol': 4.7035930156207616e-06, 'random_state': 30}. Best is trial 0 with value: 0.10818684608207237.\n",
      "[I 2024-02-18 01:09:57,967] Trial 4 finished with value: 0.10665321601712772 and parameters: {'alpha': 0.0011698275175775247, 'max_iter': 5897, 'tol': 0.0007536245978546613, 'random_state': 28}. Best is trial 4 with value: 0.10665321601712772.\n",
      "[I 2024-02-18 01:09:58,007] Trial 5 finished with value: 0.39591479973488203 and parameters: {'alpha': 20.99298104366237, 'max_iter': 7715, 'tol': 0.0014730367396795483, 'random_state': 36}. Best is trial 4 with value: 0.10665321601712772.\n",
      "[I 2024-02-18 01:09:58,922] Trial 6 finished with value: 0.10821299128324308 and parameters: {'alpha': 1.2951271397233086e-08, 'max_iter': 7640, 'tol': 0.0014976040075908173, 'random_state': 97}. Best is trial 4 with value: 0.10665321601712772.\n",
      "[I 2024-02-18 01:09:59,242] Trial 7 finished with value: 0.10792261688073372 and parameters: {'alpha': 2.0624792422999507e-05, 'max_iter': 9791, 'tol': 0.0020971419771798057, 'random_state': 28}. Best is trial 4 with value: 0.10665321601712772.\n",
      "[I 2024-02-18 01:09:59,253] Trial 8 finished with value: 0.39591479973488203 and parameters: {'alpha': 4.1805078172856485, 'max_iter': 5304, 'tol': 0.0002480580033906212, 'random_state': 78}. Best is trial 4 with value: 0.10665321601712772.\n",
      "[I 2024-02-18 01:09:59,270] Trial 9 finished with value: 0.33785356666632144 and parameters: {'alpha': 0.34923995537461017, 'max_iter': 9490, 'tol': 6.0969981731858796e-05, 'random_state': 93}. Best is trial 4 with value: 0.10665321601712772.\n",
      "[I 2024-02-18 01:09:59,324] Trial 10 finished with value: 0.10800924229563924 and parameters: {'alpha': 0.00184666363040625, 'max_iter': 3680, 'tol': 0.008295613456883764, 'random_state': 54}. Best is trial 4 with value: 0.10665321601712772.\n",
      "[I 2024-02-18 01:09:59,535] Trial 11 finished with value: 0.1074961444468814 and parameters: {'alpha': 5.860562331339733e-05, 'max_iter': 8926, 'tol': 0.0001850233194955126, 'random_state': 52}. Best is trial 4 with value: 0.10665321601712772.\n",
      "[I 2024-02-18 01:09:59,579] Trial 12 finished with value: 0.1060959741608523 and parameters: {'alpha': 0.0006521082066710295, 'max_iter': 5869, 'tol': 0.00012273266566531076, 'random_state': 53}. Best is trial 12 with value: 0.1060959741608523.\n",
      "[I 2024-02-18 01:09:59,616] Trial 13 finished with value: 0.11459723319803519 and parameters: {'alpha': 0.004112404639369826, 'max_iter': 5618, 'tol': 4.402590570125896e-05, 'random_state': 69}. Best is trial 12 with value: 0.1060959741608523.\n",
      "[I 2024-02-18 01:09:59,797] Trial 14 finished with value: 0.10751213301259979 and parameters: {'alpha': 5.654184093546238e-05, 'max_iter': 3212, 'tol': 0.000398141052066425, 'random_state': 48}. Best is trial 12 with value: 0.1060959741608523.\n",
      "[I 2024-02-18 01:09:59,846] Trial 15 finished with value: 0.14282043794047738 and parameters: {'alpha': 0.03421164842680767, 'max_iter': 6364, 'tol': 3.8156320583455255e-05, 'random_state': 65}. Best is trial 12 with value: 0.1060959741608523.\n",
      "[I 2024-02-18 01:10:00,086] Trial 16 finished with value: 0.10808603252596037 and parameters: {'alpha': 4.7966153906598125e-06, 'max_iter': 2672, 'tol': 1.6639335900231367e-05, 'random_state': 79}. Best is trial 12 with value: 0.1060959741608523.\n",
      "[I 2024-02-18 01:10:00,145] Trial 17 finished with value: 0.10620452705940636 and parameters: {'alpha': 0.000867093005242096, 'max_iter': 4728, 'tol': 0.00044845378600125364, 'random_state': 43}. Best is trial 12 with value: 0.1060959741608523.\n",
      "[I 2024-02-18 01:10:00,481] Trial 18 finished with value: 0.10820082603230698 and parameters: {'alpha': 2.590306821691896e-07, 'max_iter': 4574, 'tol': 0.00015741498694202792, 'random_state': 43}. Best is trial 12 with value: 0.1060959741608523.\n",
      "[I 2024-02-18 01:10:00,591] Trial 19 finished with value: 0.1230558466633327 and parameters: {'alpha': 0.011154783846684918, 'max_iter': 2479, 'tol': 0.007983337238036828, 'random_state': 57}. Best is trial 12 with value: 0.1060959741608523.\n",
      "[I 2024-02-18 01:10:00,782] Trial 20 finished with value: 0.10656171164471867 and parameters: {'alpha': 0.00026443225485109367, 'max_iter': 8397, 'tol': 1.3518920069329044e-05, 'random_state': 44}. Best is trial 12 with value: 0.1060959741608523.\n",
      "[I 2024-02-18 01:10:00,863] Trial 21 finished with value: 0.10665255248378454 and parameters: {'alpha': 0.00023231600006198713, 'max_iter': 8043, 'tol': 1.5460971897973018e-05, 'random_state': 46}. Best is trial 12 with value: 0.1060959741608523.\n",
      "[I 2024-02-18 01:10:00,945] Trial 22 finished with value: 0.1061676902011769 and parameters: {'alpha': 0.0005460492323844364, 'max_iter': 6594, 'tol': 9.234174469130395e-05, 'random_state': 62}. Best is trial 12 with value: 0.1060959741608523.\n",
      "[I 2024-02-18 01:10:01,024] Trial 23 finished with value: 0.10657752830548195 and parameters: {'alpha': 0.0002585408350903041, 'max_iter': 6842, 'tol': 0.0005033533039974048, 'random_state': 63}. Best is trial 12 with value: 0.1060959741608523.\n",
      "[I 2024-02-18 01:10:01,438] Trial 24 finished with value: 0.108134211110839 and parameters: {'alpha': 5.324836961356136e-06, 'max_iter': 4622, 'tol': 7.789729413764477e-05, 'random_state': 75}. Best is trial 12 with value: 0.1060959741608523.\n",
      "[I 2024-02-18 01:10:01,495] Trial 25 finished with value: 0.12416308069690028 and parameters: {'alpha': 0.012468173884489902, 'max_iter': 6246, 'tol': 9.732463463268995e-05, 'random_state': 58}. Best is trial 12 with value: 0.1060959741608523.\n",
      "[I 2024-02-18 01:10:01,555] Trial 26 finished with value: 0.24460610018340637 and parameters: {'alpha': 0.15928359413652265, 'max_iter': 5018, 'tol': 0.0008026019629146223, 'random_state': 87}. Best is trial 12 with value: 0.1060959741608523.\n",
      "[I 2024-02-18 01:10:01,628] Trial 27 finished with value: 0.10616390749910813 and parameters: {'alpha': 0.0005561474357171502, 'max_iter': 291, 'tol': 0.00023313204783757758, 'random_state': 66}. Best is trial 12 with value: 0.1060959741608523.\n",
      "[I 2024-02-18 01:10:01,726] Trial 28 finished with value: 0.10764730723243808 and parameters: {'alpha': 6.556677933197593e-06, 'max_iter': 569, 'tol': 3.243128587995594e-05, 'random_state': 74}. Best is trial 12 with value: 0.1060959741608523.\n",
      "[I 2024-02-18 01:10:02,192] Trial 29 finished with value: 0.10820985981499188 and parameters: {'alpha': 2.2575963391952695e-07, 'max_iter': 7131, 'tol': 0.00012919046055575648, 'random_state': 65}. Best is trial 12 with value: 0.1060959741608523.\n",
      "[I 2024-02-18 01:10:02,296] Trial 30 finished with value: 0.11872158829781795 and parameters: {'alpha': 0.006224489530776725, 'max_iter': 3894, 'tol': 0.00025319187191610604, 'random_state': 85}. Best is trial 12 with value: 0.1060959741608523.\n",
      "[I 2024-02-18 01:10:02,363] Trial 31 finished with value: 0.10616225279330833 and parameters: {'alpha': 0.0005592320949156152, 'max_iter': 2003, 'tol': 0.0004251102515082797, 'random_state': 40}. Best is trial 12 with value: 0.1060959741608523.\n",
      "[I 2024-02-18 01:10:02,413] Trial 32 finished with value: 0.10611096884408382 and parameters: {'alpha': 0.0005241998974546168, 'max_iter': 133, 'tol': 0.0002614966120745603, 'random_state': 37}. Best is trial 12 with value: 0.1060959741608523.\n",
      "[I 2024-02-18 01:10:02,461] Trial 33 finished with value: 0.10716248099499456 and parameters: {'alpha': 5.493800212928502e-05, 'max_iter': 115, 'tol': 0.0003211317575993251, 'random_state': 37}. Best is trial 12 with value: 0.1060959741608523.\n"
     ]
    },
    {
     "name": "stderr",
     "output_type": "stream",
     "text": [
      "[I 2024-02-18 01:10:02,511] Trial 34 finished with value: 0.1362777645970381 and parameters: {'alpha': 0.026974137093131897, 'max_iter': 1505, 'tol': 0.002747961967338219, 'random_state': 34}. Best is trial 12 with value: 0.1060959741608523.\n",
      "[I 2024-02-18 01:10:02,570] Trial 35 finished with value: 0.11326382347058288 and parameters: {'alpha': 0.0036634692342656402, 'max_iter': 914, 'tol': 0.0008659701384130067, 'random_state': 40}. Best is trial 12 with value: 0.1060959741608523.\n",
      "[I 2024-02-18 01:10:02,660] Trial 36 finished with value: 0.10705908061504703 and parameters: {'alpha': 0.0001274761613866506, 'max_iter': 1596, 'tol': 0.004249847840682899, 'random_state': 51}. Best is trial 12 with value: 0.1060959741608523.\n",
      "[I 2024-02-18 01:10:02,716] Trial 37 finished with value: 0.10737972608537863 and parameters: {'alpha': 1.7326780094533356e-05, 'max_iter': 126, 'tol': 2.0136598017163477e-06, 'random_state': 25}. Best is trial 12 with value: 0.1060959741608523.\n",
      "[I 2024-02-18 01:10:02,770] Trial 38 finished with value: 0.10650709420745537 and parameters: {'alpha': 0.0010748845296212686, 'max_iter': 2077, 'tol': 0.0009393639304988605, 'random_state': 31}. Best is trial 12 with value: 0.1060959741608523.\n",
      "[I 2024-02-18 01:10:02,811] Trial 39 finished with value: 0.39040597796067317 and parameters: {'alpha': 1.1331031392496673, 'max_iter': 879, 'tol': 0.0001969213649757, 'random_state': 40}. Best is trial 12 with value: 0.1060959741608523.\n",
      "[I 2024-02-18 01:10:02,854] Trial 40 finished with value: 0.39591479973488203 and parameters: {'alpha': 56.200303828238155, 'max_iter': 1964, 'tol': 0.0006003117365950876, 'random_state': 49}. Best is trial 12 with value: 0.1060959741608523.\n",
      "[I 2024-02-18 01:10:02,905] Trial 41 finished with value: 0.10611478246626045 and parameters: {'alpha': 0.0006249876872185374, 'max_iter': 931, 'tol': 0.0001246545348796907, 'random_state': 58}. Best is trial 12 with value: 0.1060959741608523.\n",
      "[I 2024-02-18 01:10:02,952] Trial 42 finished with value: 0.10711500129120252 and parameters: {'alpha': 0.0014323443369873938, 'max_iter': 845, 'tol': 5.871519115931858e-05, 'random_state': 56}. Best is trial 12 with value: 0.1060959741608523.\n",
      "[I 2024-02-18 01:10:03,019] Trial 43 finished with value: 0.10755742005325261 and parameters: {'alpha': 1.955454529232921e-05, 'max_iter': 501, 'tol': 0.00012899885861964474, 'random_state': 70}. Best is trial 12 with value: 0.1060959741608523.\n",
      "[I 2024-02-18 01:10:03,066] Trial 44 finished with value: 0.1595212610759704 and parameters: {'alpha': 0.049999133701455464, 'max_iter': 1232, 'tol': 2.5544219786783027e-05, 'random_state': 60}. Best is trial 12 with value: 0.1060959741608523.\n",
      "[I 2024-02-18 01:10:03,128] Trial 45 finished with value: 0.11091792526537465 and parameters: {'alpha': 0.0029993519673735037, 'max_iter': 2888, 'tol': 0.00033250458463622795, 'random_state': 54}. Best is trial 12 with value: 0.1060959741608523.\n",
      "[I 2024-02-18 01:10:03,195] Trial 46 finished with value: 0.10616238252983837 and parameters: {'alpha': 0.0005578455327229113, 'max_iter': 1770, 'tol': 0.00020304093883640752, 'random_state': 68}. Best is trial 12 with value: 0.1060959741608523.\n",
      "[I 2024-02-18 01:10:03,285] Trial 47 finished with value: 0.1072277352783719 and parameters: {'alpha': 9.175501253352204e-05, 'max_iter': 3442, 'tol': 6.641271170743555e-05, 'random_state': 34}. Best is trial 12 with value: 0.1060959741608523.\n",
      "[I 2024-02-18 01:10:03,331] Trial 48 finished with value: 0.12459139783428663 and parameters: {'alpha': 0.012997701374962745, 'max_iter': 2441, 'tol': 0.00012966682019812588, 'random_state': 47}. Best is trial 12 with value: 0.1060959741608523.\n",
      "[I 2024-02-18 01:10:03,403] Trial 49 finished with value: 0.10623527449732639 and parameters: {'alpha': 0.00042219225872954755, 'max_iter': 1958, 'tol': 0.0013186375502091303, 'random_state': 69}. Best is trial 12 with value: 0.1060959741608523.\n",
      "[I 2024-02-18 01:10:03,515] Trial 50 finished with value: 0.10790497901348865 and parameters: {'alpha': 1.5292105195921902e-06, 'max_iter': 1243, 'tol': 0.0005700923588680525, 'random_state': 39}. Best is trial 12 with value: 0.1060959741608523.\n",
      "[I 2024-02-18 01:10:03,574] Trial 51 finished with value: 0.10614200681269244 and parameters: {'alpha': 0.0008071036067150744, 'max_iter': 505, 'tol': 0.00023492234360219567, 'random_state': 71}. Best is trial 12 with value: 0.1060959741608523.\n",
      "[I 2024-02-18 01:10:03,634] Trial 52 finished with value: 0.10871489390610398 and parameters: {'alpha': 0.0021608310918384607, 'max_iter': 5734, 'tol': 0.00025701743146284024, 'random_state': 73}. Best is trial 12 with value: 0.1060959741608523.\n",
      "[I 2024-02-18 01:10:03,711] Trial 53 finished with value: 0.10710747822086047 and parameters: {'alpha': 0.00011655303290656669, 'max_iter': 593, 'tol': 0.00018185694814720844, 'random_state': 80}. Best is trial 12 with value: 0.1060959741608523.\n",
      "[I 2024-02-18 01:10:03,767] Trial 54 finished with value: 0.106752231247719 and parameters: {'alpha': 0.0012173154834155002, 'max_iter': 1553, 'tol': 0.00038217274162141387, 'random_state': 71}. Best is trial 12 with value: 0.1060959741608523.\n",
      "[I 2024-02-18 01:10:03,817] Trial 55 finished with value: 0.11954140039792911 and parameters: {'alpha': 0.00692126633530788, 'max_iter': 1076, 'tol': 5.359569723833191e-05, 'random_state': 61}. Best is trial 12 with value: 0.1060959741608523.\n",
      "[I 2024-02-18 01:10:04,027] Trial 56 finished with value: 0.10786718198643078 and parameters: {'alpha': 2.4964000166080325e-05, 'max_iter': 3148, 'tol': 8.699006637207132e-06, 'random_state': 67}. Best is trial 12 with value: 0.1060959741608523.\n",
      "[I 2024-02-18 01:10:04,099] Trial 57 finished with value: 0.10676110668740223 and parameters: {'alpha': 0.00020020489481287023, 'max_iter': 4204, 'tol': 0.00011690132914754024, 'random_state': 52}. Best is trial 12 with value: 0.1060959741608523.\n",
      "[I 2024-02-18 01:10:04,247] Trial 58 finished with value: 0.10763402284377169 and parameters: {'alpha': 4.3302231150210375e-05, 'max_iter': 2133, 'tol': 8.373220193110593e-05, 'random_state': 28}. Best is trial 12 with value: 0.1060959741608523.\n",
      "[I 2024-02-18 01:10:04,305] Trial 59 finished with value: 0.10620543756586014 and parameters: {'alpha': 0.0005061218418438576, 'max_iter': 5253, 'tol': 0.0011941637344011873, 'random_state': 59}. Best is trial 12 with value: 0.1060959741608523.\n",
      "[I 2024-02-18 01:10:04,356] Trial 60 finished with value: 0.19624541174698495 and parameters: {'alpha': 0.08466277430639078, 'max_iter': 1731, 'tol': 0.00016366138816740526, 'random_state': 77}. Best is trial 12 with value: 0.1060959741608523.\n",
      "[I 2024-02-18 01:10:04,431] Trial 61 finished with value: 0.10609582343023778 and parameters: {'alpha': 0.0007167457511407041, 'max_iter': 357, 'tol': 0.00024774779059303633, 'random_state': 66}. Best is trial 61 with value: 0.10609582343023778.\n",
      "[I 2024-02-18 01:10:04,499] Trial 62 finished with value: 0.10610227606913293 and parameters: {'alpha': 0.0007394095411189766, 'max_iter': 462, 'tol': 0.000298434559362056, 'random_state': 55}. Best is trial 61 with value: 0.10609582343023778.\n",
      "[I 2024-02-18 01:10:04,555] Trial 63 finished with value: 0.10837289106517421 and parameters: {'alpha': 0.0019953835718265673, 'max_iter': 520, 'tol': 0.0003161333159404779, 'random_state': 56}. Best is trial 61 with value: 0.10609582343023778.\n",
      "[I 2024-02-18 01:10:04,622] Trial 64 finished with value: 0.10653426048918715 and parameters: {'alpha': 0.00027604551853742615, 'max_iter': 612, 'tol': 0.00044934313115877367, 'random_state': 63}. Best is trial 61 with value: 0.10609582343023778.\n",
      "[I 2024-02-18 01:10:04,670] Trial 65 finished with value: 0.11983261509809967 and parameters: {'alpha': 0.007298180374732822, 'max_iter': 318, 'tol': 0.0005893091662880335, 'random_state': 44}. Best is trial 61 with value: 0.10609582343023778.\n",
      "[I 2024-02-18 01:10:04,718] Trial 66 finished with value: 0.13134305227629633 and parameters: {'alpha': 0.02142544331647064, 'max_iter': 868, 'tol': 0.0002875470162860103, 'random_state': 55}. Best is trial 61 with value: 0.10609582343023778.\n",
      "[I 2024-02-18 01:10:04,778] Trial 67 finished with value: 0.10628927148211392 and parameters: {'alpha': 0.0009253245124082959, 'max_iter': 1216, 'tol': 0.00010312896210190007, 'random_state': 49}. Best is trial 61 with value: 0.10609582343023778.\n"
     ]
    },
    {
     "name": "stderr",
     "output_type": "stream",
     "text": [
      "[I 2024-02-18 01:10:04,865] Trial 68 finished with value: 0.10696985662280957 and parameters: {'alpha': 0.0001471997566691766, 'max_iter': 5970, 'tol': 0.00014693179266711567, 'random_state': 53}. Best is trial 61 with value: 0.10609582343023778.\n",
      "[I 2024-02-18 01:10:04,920] Trial 69 finished with value: 0.11196799132178122 and parameters: {'alpha': 0.003285147767698999, 'max_iter': 202, 'tol': 0.0007226755083368632, 'random_state': 63}. Best is trial 61 with value: 0.10609582343023778.\n",
      "[I 2024-02-18 01:10:05,005] Trial 70 finished with value: 0.1076988285815385 and parameters: {'alpha': 9.48034467824464e-06, 'max_iter': 738, 'tol': 0.0018811281079148337, 'random_state': 58}. Best is trial 61 with value: 0.10609582343023778.\n",
      "[I 2024-02-18 01:10:05,062] Trial 71 finished with value: 0.10618103212458507 and parameters: {'alpha': 0.0005288932939160965, 'max_iter': 1114, 'tol': 0.00022649853433122426, 'random_state': 66}. Best is trial 61 with value: 0.10609582343023778.\n",
      "[I 2024-02-18 01:10:05,191] Trial 72 finished with value: 0.10737911845505915 and parameters: {'alpha': 6.926138733878263e-05, 'max_iter': 1647, 'tol': 0.00040493485637515945, 'random_state': 68}. Best is trial 61 with value: 0.10609582343023778.\n",
      "[I 2024-02-18 01:10:05,258] Trial 73 finished with value: 0.106091995417548 and parameters: {'alpha': 0.0006902818497102366, 'max_iter': 376, 'tol': 0.00021428669623149086, 'random_state': 82}. Best is trial 73 with value: 0.106091995417548.\n",
      "[I 2024-02-18 01:10:05,339] Trial 74 finished with value: 0.10653948888053645 and parameters: {'alpha': 0.00027361883758476695, 'max_iter': 422, 'tol': 9.904724074849392e-05, 'random_state': 98}. Best is trial 73 with value: 0.106091995417548.\n",
      "[I 2024-02-18 01:10:05,400] Trial 75 finished with value: 0.10614678951688529 and parameters: {'alpha': 0.0008847170636811826, 'max_iter': 136, 'tol': 4.503203440164345e-05, 'random_state': 82}. Best is trial 73 with value: 0.106091995417548.\n",
      "[I 2024-02-18 01:10:05,455] Trial 76 finished with value: 0.10701052263647715 and parameters: {'alpha': 0.0014245762441359002, 'max_iter': 112, 'tol': 2.3568851849612156e-05, 'random_state': 84}. Best is trial 73 with value: 0.106091995417548.\n",
      "[I 2024-02-18 01:10:05,544] Trial 77 finished with value: 0.10758642501734031 and parameters: {'alpha': 3.721384666484013e-05, 'max_iter': 986, 'tol': 4.000024507978726e-05, 'random_state': 92}. Best is trial 73 with value: 0.106091995417548.\n",
      "[I 2024-02-18 01:10:05,599] Trial 78 finished with value: 0.11750051034677653 and parameters: {'alpha': 0.0053562474890606025, 'max_iter': 361, 'tol': 7.739758663170651e-05, 'random_state': 82}. Best is trial 73 with value: 0.106091995417548.\n",
      "[I 2024-02-18 01:10:05,661] Trial 79 finished with value: 0.12591539481292116 and parameters: {'alpha': 0.014541156537635122, 'max_iter': 1370, 'tol': 0.000146028572876989, 'random_state': 90}. Best is trial 73 with value: 0.106091995417548.\n",
      "[I 2024-02-18 01:10:05,731] Trial 80 finished with value: 0.10929319535193682 and parameters: {'alpha': 0.0024338182231921045, 'max_iter': 728, 'tol': 5.155627850648352e-05, 'random_state': 75}. Best is trial 73 with value: 0.106091995417548.\n",
      "[I 2024-02-18 01:10:05,803] Trial 81 finished with value: 0.10609989923555244 and parameters: {'alpha': 0.0007331300403444098, 'max_iter': 642, 'tol': 0.00021010704496078332, 'random_state': 72}. Best is trial 73 with value: 0.106091995417548.\n",
      "[I 2024-02-18 01:10:05,868] Trial 82 finished with value: 0.10616216307942018 and parameters: {'alpha': 0.00082974649539939, 'max_iter': 442, 'tol': 0.0002140553823765236, 'random_state': 78}. Best is trial 73 with value: 0.106091995417548.\n",
      "[I 2024-02-18 01:10:05,924] Trial 83 finished with value: 0.10623488365510926 and parameters: {'alpha': 0.00033204004247485656, 'max_iter': 120, 'tol': 0.000279838688149081, 'random_state': 72}. Best is trial 73 with value: 0.106091995417548.\n",
      "[I 2024-02-18 01:10:05,996] Trial 84 finished with value: 0.10699995219582524 and parameters: {'alpha': 0.00014023147573818248, 'max_iter': 733, 'tol': 7.28547579390056e-05, 'random_state': 76}. Best is trial 73 with value: 0.106091995417548.\n",
      "[I 2024-02-18 01:10:06,053] Trial 85 finished with value: 0.10620745422715423 and parameters: {'alpha': 0.0008720084776392322, 'max_iter': 993, 'tol': 3.078322293539503e-05, 'random_state': 88}. Best is trial 73 with value: 0.106091995417548.\n",
      "[I 2024-02-18 01:10:06,105] Trial 86 finished with value: 0.11255796358411332 and parameters: {'alpha': 0.0034500542712153377, 'max_iter': 7288, 'tol': 0.00017227640036620456, 'random_state': 80}. Best is trial 73 with value: 0.106091995417548.\n",
      "[I 2024-02-18 01:10:06,162] Trial 87 finished with value: 0.10799695967599499 and parameters: {'alpha': 0.0018242022747960603, 'max_iter': 1412, 'tol': 0.00011634277988832874, 'random_state': 73}. Best is trial 73 with value: 0.106091995417548.\n",
      "[I 2024-02-18 01:10:06,235] Trial 88 finished with value: 0.10678587775754723 and parameters: {'alpha': 0.00019347992443524792, 'max_iter': 6401, 'tol': 0.00036443389664853136, 'random_state': 64}. Best is trial 73 with value: 0.106091995417548.\n",
      "[I 2024-02-18 01:10:06,313] Trial 89 finished with value: 0.10726005912455064 and parameters: {'alpha': 7.747880573391112e-05, 'max_iter': 448, 'tol': 0.0005043049659145645, 'random_state': 82}. Best is trial 73 with value: 0.106091995417548.\n",
      "[I 2024-02-18 01:10:06,373] Trial 90 finished with value: 0.1062069787750425 and parameters: {'alpha': 0.000869992914039455, 'max_iter': 703, 'tol': 0.0002221366262758436, 'random_state': 60}. Best is trial 73 with value: 0.106091995417548.\n",
      "[I 2024-02-18 01:10:06,438] Trial 91 finished with value: 0.10630697079205674 and parameters: {'alpha': 0.000390005076814839, 'max_iter': 284, 'tol': 0.0002059757493471257, 'random_state': 79}. Best is trial 73 with value: 0.106091995417548.\n",
      "[I 2024-02-18 01:10:06,499] Trial 92 finished with value: 0.10615371864094716 and parameters: {'alpha': 0.000567071155605888, 'max_iter': 445, 'tol': 0.00016805854280495234, 'random_state': 85}. Best is trial 73 with value: 0.106091995417548.\n",
      "[I 2024-02-18 01:10:06,559] Trial 93 finished with value: 0.10609132284650923 and parameters: {'alpha': 0.0006853983343337372, 'max_iter': 1046, 'tol': 0.00014893276406692415, 'random_state': 85}. Best is trial 93 with value: 0.10609132284650923.\n",
      "[I 2024-02-18 01:10:06,615] Trial 94 finished with value: 0.107334015049918 and parameters: {'alpha': 0.001551331162400386, 'max_iter': 1145, 'tol': 0.000277635178153014, 'random_state': 88}. Best is trial 93 with value: 0.10609132284650923.\n",
      "[I 2024-02-18 01:10:06,665] Trial 95 finished with value: 0.1164143747998155 and parameters: {'alpha': 0.004786196312841701, 'max_iter': 8862, 'tol': 8.91211614230099e-05, 'random_state': 93}. Best is trial 93 with value: 0.10609132284650923.\n",
      "[I 2024-02-18 01:10:06,743] Trial 96 finished with value: 0.10683784885854694 and parameters: {'alpha': 0.0001795587615359384, 'max_iter': 999, 'tol': 4.730881072206317e-05, 'random_state': 82}. Best is trial 93 with value: 0.10609132284650923.\n",
      "[I 2024-02-18 01:10:06,801] Trial 97 finished with value: 0.1061034942910445 and parameters: {'alpha': 0.0007455723680256056, 'max_iter': 656, 'tol': 0.00013728552161745118, 'random_state': 71}. Best is trial 93 with value: 0.10609132284650923.\n",
      "[I 2024-02-18 01:10:06,878] Trial 98 finished with value: 0.10712190579553293 and parameters: {'alpha': 0.00011348453546643757, 'max_iter': 1378, 'tol': 0.00014475364829286583, 'random_state': 71}. Best is trial 93 with value: 0.10609132284650923.\n",
      "[I 2024-02-18 01:10:06,935] Trial 99 finished with value: 0.12184367338903354 and parameters: {'alpha': 0.00969045401028874, 'max_iter': 2318, 'tol': 0.00011207675749548729, 'random_state': 65}. Best is trial 93 with value: 0.10609132284650923.\n",
      "[I 2024-02-18 01:10:07,257] Trial 100 finished with value: 0.10820645728591992 and parameters: {'alpha': 6.27363721661282e-08, 'max_iter': 4943, 'tol': 0.0003438699671597889, 'random_state': 61}. Best is trial 93 with value: 0.10609132284650923.\n",
      "[I 2024-02-18 01:10:07,315] Trial 101 finished with value: 0.10618182672148539 and parameters: {'alpha': 0.0008499398711659686, 'max_iter': 680, 'tol': 6.457873196231203e-05, 'random_state': 70}. Best is trial 93 with value: 0.10609132284650923.\n"
     ]
    },
    {
     "name": "stderr",
     "output_type": "stream",
     "text": [
      "[I 2024-02-18 01:10:07,381] Trial 102 finished with value: 0.10638896124437934 and parameters: {'alpha': 0.00032793137854892203, 'max_iter': 284, 'tol': 0.00024745782925232634, 'random_state': 74}. Best is trial 93 with value: 0.10609132284650923.\n",
      "[I 2024-02-18 01:10:07,436] Trial 103 finished with value: 0.10908325220247095 and parameters: {'alpha': 0.0023435148584475085, 'max_iter': 5452, 'tol': 0.00017661956763095928, 'random_state': 96}. Best is trial 93 with value: 0.10609132284650923.\n",
      "[I 2024-02-18 01:10:07,493] Trial 104 finished with value: 0.10699933977211708 and parameters: {'alpha': 0.001347222921497216, 'max_iter': 846, 'tol': 0.00011825117956674052, 'random_state': 50}. Best is trial 93 with value: 0.10609132284650923.\n",
      "[I 2024-02-18 01:10:07,551] Trial 105 finished with value: 0.10617408709531204 and parameters: {'alpha': 0.0005409992811991781, 'max_iter': 593, 'tol': 0.000675056449686881, 'random_state': 57}. Best is trial 93 with value: 0.10609132284650923.\n",
      "[I 2024-02-18 01:10:07,625] Trial 106 finished with value: 0.10664640493025947 and parameters: {'alpha': 0.0002343581477466676, 'max_iter': 1168, 'tol': 0.00014424063270318437, 'random_state': 84}. Best is trial 93 with value: 0.10609132284650923.\n",
      "[I 2024-02-18 01:10:07,682] Trial 107 finished with value: 0.10601288997593335 and parameters: {'alpha': 0.0006740579031739674, 'max_iter': 144, 'tol': 1.1315721683916745e-06, 'random_state': 68}. Best is trial 107 with value: 0.10601288997593335.\n",
      "[I 2024-02-18 01:10:07,738] Trial 108 finished with value: 0.11373604687589817 and parameters: {'alpha': 0.0038169952390960547, 'max_iter': 863, 'tol': 1.0137975449632917e-06, 'random_state': 67}. Best is trial 107 with value: 0.10601288997593335.\n",
      "[I 2024-02-18 01:10:07,805] Trial 109 finished with value: 0.1062490427690025 and parameters: {'alpha': 0.0004577719272291795, 'max_iter': 575, 'tol': 6.622810054123903e-06, 'random_state': 68}. Best is trial 107 with value: 0.10601288997593335.\n",
      "[I 2024-02-18 01:10:07,868] Trial 110 finished with value: 0.10714575891488236 and parameters: {'alpha': 9.093081224609575e-05, 'max_iter': 316, 'tol': 2.811125009178618e-06, 'random_state': 46}. Best is trial 107 with value: 0.10601288997593335.\n",
      "[I 2024-02-18 01:10:07,922] Trial 111 finished with value: 0.10602097704685984 and parameters: {'alpha': 0.0007644363694318712, 'max_iter': 117, 'tol': 1.9882979754883073e-06, 'random_state': 70}. Best is trial 107 with value: 0.10601288997593335.\n",
      "[I 2024-02-18 01:10:07,989] Trial 112 finished with value: 0.10707727698881786 and parameters: {'alpha': 0.001405784231115021, 'max_iter': 289, 'tol': 1.8161074744676114e-06, 'random_state': 70}. Best is trial 107 with value: 0.10601288997593335.\n",
      "[I 2024-02-18 01:10:08,055] Trial 113 finished with value: 0.1060950003438693 and parameters: {'alpha': 0.0007262529151392932, 'max_iter': 525, 'tol': 1.4902994734047463e-06, 'random_state': 65}. Best is trial 107 with value: 0.10601288997593335.\n",
      "[I 2024-02-18 01:10:08,115] Trial 114 finished with value: 0.10624781854865352 and parameters: {'alpha': 0.00030940910884067575, 'max_iter': 109, 'tol': 1.3218180911535657e-06, 'random_state': 62}. Best is trial 107 with value: 0.10601288997593335.\n",
      "[I 2024-02-18 01:10:08,173] Trial 115 finished with value: 0.10893028062493816 and parameters: {'alpha': 0.0022726568739265783, 'max_iter': 793, 'tol': 1.6394107151519574e-06, 'random_state': 64}. Best is trial 107 with value: 0.10601288997593335.\n",
      "[I 2024-02-18 01:10:08,248] Trial 116 finished with value: 0.10688371152722181 and parameters: {'alpha': 0.0001678858964605068, 'max_iter': 6774, 'tol': 2.739625786609204e-06, 'random_state': 66}. Best is trial 107 with value: 0.10601288997593335.\n",
      "[I 2024-02-18 01:10:08,314] Trial 117 finished with value: 0.10609780996819616 and parameters: {'alpha': 0.0006454014632140869, 'max_iter': 5978, 'tol': 4.188997360679485e-06, 'random_state': 55}. Best is trial 107 with value: 0.10601288997593335.\n",
      "[I 2024-02-18 01:10:08,631] Trial 118 finished with value: 0.10779319673931134 and parameters: {'alpha': 3.2971806475931955e-05, 'max_iter': 6018, 'tol': 1.2948819672735376e-06, 'random_state': 54}. Best is trial 107 with value: 0.10601288997593335.\n",
      "[I 2024-02-18 01:10:08,703] Trial 119 finished with value: 0.1063536253990063 and parameters: {'alpha': 0.00037913311434896414, 'max_iter': 5537, 'tol': 2.8281147153513317e-06, 'random_state': 69}. Best is trial 107 with value: 0.10601288997593335.\n",
      "[I 2024-02-18 01:10:08,764] Trial 120 finished with value: 0.10705704204423552 and parameters: {'alpha': 0.001390768771210499, 'max_iter': 5728, 'tol': 3.937751223117971e-06, 'random_state': 73}. Best is trial 107 with value: 0.10601288997593335.\n",
      "[I 2024-02-18 01:10:08,828] Trial 121 finished with value: 0.10612847336250963 and parameters: {'alpha': 0.0005970360541014654, 'max_iter': 459, 'tol': 2.2556547362391144e-06, 'random_state': 59}. Best is trial 107 with value: 0.10601288997593335.\n",
      "[I 2024-02-18 01:10:08,893] Trial 122 finished with value: 0.10612330765522694 and parameters: {'alpha': 0.0006058418711491325, 'max_iter': 6261, 'tol': 1.1667204707187684e-06, 'random_state': 56}. Best is trial 107 with value: 0.10601288997593335.\n",
      "[I 2024-02-18 01:10:08,973] Trial 123 finished with value: 0.10662449709860153 and parameters: {'alpha': 0.00024135349075234396, 'max_iter': 997, 'tol': 2.216678966180269e-06, 'random_state': 52}. Best is trial 107 with value: 0.10601288997593335.\n",
      "[I 2024-02-18 01:10:09,035] Trial 124 finished with value: 0.1115366284231504 and parameters: {'alpha': 0.003172263502492139, 'max_iter': 618, 'tol': 0.00030264130971650015, 'random_state': 58}. Best is trial 107 with value: 0.10601288997593335.\n",
      "[I 2024-02-18 01:10:09,099] Trial 125 finished with value: 0.10609715137710406 and parameters: {'alpha': 0.000709331066063138, 'max_iter': 247, 'tol': 1.6071445534602796e-06, 'random_state': 61}. Best is trial 107 with value: 0.10601288997593335.\n",
      "[I 2024-02-18 01:10:09,166] Trial 126 finished with value: 0.10644532525273677 and parameters: {'alpha': 0.0010213121931560891, 'max_iter': 298, 'tol': 1.5243663604891703e-06, 'random_state': 64}. Best is trial 107 with value: 0.10601288997593335.\n",
      "[I 2024-02-18 01:10:09,222] Trial 127 finished with value: 0.11933957082994097 and parameters: {'alpha': 0.006747755647740307, 'max_iter': 474, 'tol': 3.3402630709701395e-06, 'random_state': 67}. Best is trial 107 with value: 0.10601288997593335.\n",
      "[I 2024-02-18 01:10:09,287] Trial 128 finished with value: 0.10852979838569639 and parameters: {'alpha': 0.0020609491523366705, 'max_iter': 5242, 'tol': 1.4835282870648203e-06, 'random_state': 61}. Best is trial 107 with value: 0.10601288997593335.\n",
      "[I 2024-02-18 01:10:09,544] Trial 129 finished with value: 0.10744172200612316 and parameters: {'alpha': 6.46995192750453e-05, 'max_iter': 4306, 'tol': 6.391379850564055e-06, 'random_state': 26}. Best is trial 107 with value: 0.10601288997593335.\n",
      "[I 2024-02-18 01:10:09,599] Trial 130 finished with value: 0.10613106452127957 and parameters: {'alpha': 0.00038118838557835345, 'max_iter': 102, 'tol': 1.0022477103686137e-06, 'random_state': 65}. Best is trial 107 with value: 0.10601288997593335.\n",
      "[I 2024-02-18 01:10:09,662] Trial 131 finished with value: 0.10616201172834282 and parameters: {'alpha': 0.0008322760927094941, 'max_iter': 630, 'tol': 2.1654295258389958e-06, 'random_state': 42}. Best is trial 107 with value: 0.10601288997593335.\n",
      "[I 2024-02-18 01:10:09,729] Trial 132 finished with value: 0.10608998177775517 and parameters: {'alpha': 0.0006693297165789647, 'max_iter': 6571, 'tol': 1.844157437890273e-06, 'random_state': 55}. Best is trial 107 with value: 0.10601288997593335.\n",
      "[I 2024-02-18 01:10:09,793] Trial 133 finished with value: 0.10652047680324991 and parameters: {'alpha': 0.0010807701062560038, 'max_iter': 7512, 'tol': 1.8472028074023838e-06, 'random_state': 48}. Best is trial 107 with value: 0.10601288997593335.\n",
      "[I 2024-02-18 01:10:09,861] Trial 134 finished with value: 0.10742486384350712 and parameters: {'alpha': 0.0015952515685018398, 'max_iter': 6059, 'tol': 1.1805887076993216e-06, 'random_state': 54}. Best is trial 107 with value: 0.10601288997593335.\n",
      "[I 2024-02-18 01:10:09,951] Trial 135 finished with value: 0.10676124186373243 and parameters: {'alpha': 0.00020009817510601807, 'max_iter': 7222, 'tol': 4.750117814105414e-06, 'random_state': 34}. Best is trial 107 with value: 0.10601288997593335.\n"
     ]
    },
    {
     "name": "stderr",
     "output_type": "stream",
     "text": [
      "[I 2024-02-18 01:10:10,023] Trial 136 finished with value: 0.10609020837543388 and parameters: {'alpha': 0.0006671598385997818, 'max_iter': 6555, 'tol': 1.45339049598857e-06, 'random_state': 51}. Best is trial 107 with value: 0.10601288997593335.\n",
      "[I 2024-02-18 01:10:10,106] Trial 137 finished with value: 0.10705500374986578 and parameters: {'alpha': 0.00012786116694940352, 'max_iter': 6595, 'tol': 1.532285880171265e-06, 'random_state': 53}. Best is trial 107 with value: 0.10601288997593335.\n",
      "[I 2024-02-18 01:10:10,167] Trial 138 finished with value: 0.11533744473059433 and parameters: {'alpha': 0.004389847749045015, 'max_iter': 6815, 'tol': 2.343567751617566e-06, 'random_state': 55}. Best is trial 107 with value: 0.10601288997593335.\n",
      "[I 2024-02-18 01:10:10,246] Trial 139 finished with value: 0.10633619125521175 and parameters: {'alpha': 0.0003943865567799359, 'max_iter': 6401, 'tol': 1.8321176614013877e-06, 'random_state': 51}. Best is trial 107 with value: 0.10601288997593335.\n",
      "[I 2024-02-18 01:10:10,314] Trial 140 finished with value: 0.10608938951902509 and parameters: {'alpha': 0.0006769702952623699, 'max_iter': 7010, 'tol': 1.3444771155742823e-06, 'random_state': 57}. Best is trial 107 with value: 0.10601288997593335.\n",
      "[I 2024-02-18 01:10:10,379] Trial 141 finished with value: 0.10615350305487467 and parameters: {'alpha': 0.0008233923982441426, 'max_iter': 5709, 'tol': 1.173064257226443e-06, 'random_state': 57}. Best is trial 107 with value: 0.10601288997593335.\n",
      "[I 2024-02-18 01:10:10,447] Trial 142 finished with value: 0.10611461797749439 and parameters: {'alpha': 0.0006225251741493388, 'max_iter': 7076, 'tol': 1.6797060139672471e-06, 'random_state': 51}. Best is trial 107 with value: 0.10601288997593335.\n",
      "[I 2024-02-18 01:10:10,511] Trial 143 finished with value: 0.10995710077590765 and parameters: {'alpha': 0.0026869947435521927, 'max_iter': 6709, 'tol': 1.3439140654471102e-06, 'random_state': 59}. Best is trial 107 with value: 0.10601288997593335.\n",
      "[I 2024-02-18 01:10:10,579] Trial 144 finished with value: 0.1069048202486955 and parameters: {'alpha': 0.0012909474710569987, 'max_iter': 6577, 'tol': 3.461013558062482e-06, 'random_state': 56}. Best is trial 107 with value: 0.10601288997593335.\n",
      "[I 2024-02-18 01:10:10,655] Trial 145 finished with value: 0.10647184833958592 and parameters: {'alpha': 0.0003043377486601009, 'max_iter': 6946, 'tol': 2.518959759008682e-06, 'random_state': 53}. Best is trial 107 with value: 0.10601288997593335.\n",
      "[I 2024-02-18 01:10:10,724] Trial 146 finished with value: 0.10608934307545895 and parameters: {'alpha': 0.0006909670205602836, 'max_iter': 6183, 'tol': 1.977260679926596e-06, 'random_state': 62}. Best is trial 107 with value: 0.10601288997593335.\n",
      "[I 2024-02-18 01:10:10,799] Trial 147 finished with value: 0.10628006649216534 and parameters: {'alpha': 0.000435813281624398, 'max_iter': 6137, 'tol': 1.416383615543631e-06, 'random_state': 60}. Best is trial 107 with value: 0.10601288997593335.\n",
      "[I 2024-02-18 01:10:10,864] Trial 148 finished with value: 0.10808623897240578 and parameters: {'alpha': 0.0018555351384205543, 'max_iter': 7952, 'tol': 1.8209407549056259e-06, 'random_state': 63}. Best is trial 107 with value: 0.10601288997593335.\n",
      "[I 2024-02-18 01:10:10,950] Trial 149 finished with value: 0.10663189298409814 and parameters: {'alpha': 0.00023893322023630785, 'max_iter': 5857, 'tol': 2.0277304106883804e-06, 'random_state': 62}. Best is trial 107 with value: 0.10601288997593335.\n",
      "[I 2024-02-18 01:10:11,017] Trial 150 finished with value: 0.10664965100618565 and parameters: {'alpha': 0.0011649963238067945, 'max_iter': 6169, 'tol': 1.2559157418200939e-06, 'random_state': 49}. Best is trial 107 with value: 0.10601288997593335.\n",
      "[I 2024-02-18 01:10:11,088] Trial 151 finished with value: 0.10608926727049925 and parameters: {'alpha': 0.0006894219771684792, 'max_iter': 7501, 'tol': 1.0176151070286264e-06, 'random_state': 55}. Best is trial 107 with value: 0.10601288997593335.\n",
      "[I 2024-02-18 01:10:11,163] Trial 152 finished with value: 0.10608924596445443 and parameters: {'alpha': 0.0006807336074672436, 'max_iter': 7414, 'tol': 1.4981292620236658e-06, 'random_state': 56}. Best is trial 107 with value: 0.10601288997593335.\n",
      "[I 2024-02-18 01:10:11,242] Trial 153 finished with value: 0.10622275013295705 and parameters: {'alpha': 0.00047919341928035576, 'max_iter': 7699, 'tol': 1.0494235934988264e-06, 'random_state': 57}. Best is trial 107 with value: 0.10601288997593335.\n",
      "[I 2024-02-18 01:10:11,339] Trial 154 finished with value: 0.1068699953168514 and parameters: {'alpha': 0.00017132030765728228, 'max_iter': 7499, 'tol': 1.5208842901122995e-06, 'random_state': 55}. Best is trial 107 with value: 0.10601288997593335.\n",
      "[I 2024-02-18 01:10:11,447] Trial 155 finished with value: 0.10651847872789783 and parameters: {'alpha': 0.0010793089365994967, 'max_iter': 7858, 'tol': 1.9450570768212886e-06, 'random_state': 61}. Best is trial 107 with value: 0.10601288997593335.\n",
      "[I 2024-02-18 01:10:11,591] Trial 156 finished with value: 0.10645163552019744 and parameters: {'alpha': 0.0003148131409911832, 'max_iter': 7024, 'tol': 1.0077049309521135e-06, 'random_state': 58}. Best is trial 107 with value: 0.10601288997593335.\n",
      "[I 2024-02-18 01:10:11,694] Trial 157 finished with value: 0.10609892704443372 and parameters: {'alpha': 0.0006437205279099862, 'max_iter': 7274, 'tol': 3.1641328393797542e-06, 'random_state': 59}. Best is trial 107 with value: 0.10601288997593335.\n",
      "[I 2024-02-18 01:10:11,778] Trial 158 finished with value: 0.11074643529639414 and parameters: {'alpha': 0.002947256436389898, 'max_iter': 8260, 'tol': 3.232650374643965e-06, 'random_state': 59}. Best is trial 107 with value: 0.10601288997593335.\n",
      "[I 2024-02-18 01:10:11,866] Trial 159 finished with value: 0.10723725210219333 and parameters: {'alpha': 0.0015031794177215987, 'max_iter': 7387, 'tol': 4.411053460660155e-06, 'random_state': 54}. Best is trial 107 with value: 0.10601288997593335.\n",
      "[I 2024-02-18 01:10:11,960] Trial 160 finished with value: 0.10616101081590673 and parameters: {'alpha': 0.0005536804716019301, 'max_iter': 6414, 'tol': 2.6281944271495093e-06, 'random_state': 51}. Best is trial 107 with value: 0.10601288997593335.\n",
      "[I 2024-02-18 01:10:12,055] Trial 161 finished with value: 0.10614836202211778 and parameters: {'alpha': 0.0005706808802350855, 'max_iter': 7187, 'tol': 1.646525607892887e-06, 'random_state': 56}. Best is trial 107 with value: 0.10601288997593335.\n",
      "[I 2024-02-18 01:10:12,146] Trial 162 finished with value: 0.10617556536321938 and parameters: {'alpha': 0.0008454632116916119, 'max_iter': 6592, 'tol': 1.2958096051594787e-06, 'random_state': 66}. Best is trial 107 with value: 0.10601288997593335.\n",
      "[I 2024-02-18 01:10:12,248] Trial 163 finished with value: 0.10649251765513819 and parameters: {'alpha': 0.0002943049611501276, 'max_iter': 7613, 'tol': 2.09928783562266e-06, 'random_state': 62}. Best is trial 107 with value: 0.10601288997593335.\n",
      "[I 2024-02-18 01:10:12,354] Trial 164 finished with value: 0.10855217109646743 and parameters: {'alpha': 0.0020698080401639865, 'max_iter': 6966, 'tol': 3.0773293564456316e-06, 'random_state': 60}. Best is trial 107 with value: 0.10601288997593335.\n",
      "[I 2024-02-18 01:10:12,458] Trial 165 finished with value: 0.10608935279647527 and parameters: {'alpha': 0.0006777327382217429, 'max_iter': 7293, 'tol': 1.448657090705292e-06, 'random_state': 53}. Best is trial 107 with value: 0.10601288997593335.\n",
      "[I 2024-02-18 01:10:12,569] Trial 166 finished with value: 0.10632575263013617 and parameters: {'alpha': 0.00040550606164304557, 'max_iter': 7357, 'tol': 1.4627316831542005e-06, 'random_state': 50}. Best is trial 107 with value: 0.10601288997593335.\n",
      "[I 2024-02-18 01:10:12,683] Trial 167 finished with value: 0.10709203076464324 and parameters: {'alpha': 0.00011980646586164456, 'max_iter': 7142, 'tol': 2.430488500851474e-06, 'random_state': 53}. Best is trial 107 with value: 0.10601288997593335.\n",
      "[I 2024-02-18 01:10:12,779] Trial 168 finished with value: 0.1067134647099058 and parameters: {'alpha': 0.0012000432465207479, 'max_iter': 8146, 'tol': 1.1661801759851723e-06, 'random_state': 57}. Best is trial 107 with value: 0.10601288997593335.\n"
     ]
    },
    {
     "name": "stderr",
     "output_type": "stream",
     "text": [
      "[I 2024-02-18 01:10:12,882] Trial 169 finished with value: 0.10670928140458216 and parameters: {'alpha': 0.0002149852013439357, 'max_iter': 6728, 'tol': 1.7125668649643548e-06, 'random_state': 86}. Best is trial 107 with value: 0.10601288997593335.\n",
      "[I 2024-02-18 01:10:12,951] Trial 170 finished with value: 0.3918135762394117 and parameters: {'alpha': 1.8424744702501898, 'max_iter': 6436, 'tol': 3.7879470174864345e-06, 'random_state': 52}. Best is trial 107 with value: 0.10601288997593335.\n",
      "[I 2024-02-18 01:10:13,053] Trial 171 finished with value: 0.10609227717707174 and parameters: {'alpha': 0.0006548067936365386, 'max_iter': 7846, 'tol': 1.3334425699868516e-06, 'random_state': 55}. Best is trial 107 with value: 0.10601288997593335.\n",
      "[I 2024-02-18 01:10:13,151] Trial 172 finished with value: 0.10610207342442983 and parameters: {'alpha': 0.0006390054475083465, 'max_iter': 7765, 'tol': 1.3415771241876381e-06, 'random_state': 54}. Best is trial 107 with value: 0.10601288997593335.\n",
      "[I 2024-02-18 01:10:13,235] Trial 173 finished with value: 0.10648136333678847 and parameters: {'alpha': 0.0010509754088901518, 'max_iter': 7317, 'tol': 1.8362735516989284e-06, 'random_state': 55}. Best is trial 107 with value: 0.10601288997593335.\n",
      "[I 2024-02-18 01:10:13,304] Trial 174 finished with value: 0.107926896805038 and parameters: {'alpha': 0.0017994103550679286, 'max_iter': 7504, 'tol': 1.1407724819821292e-06, 'random_state': 59}. Best is trial 107 with value: 0.10601288997593335.\n",
      "[I 2024-02-18 01:10:13,382] Trial 175 finished with value: 0.1062749941050905 and parameters: {'alpha': 0.0004392205549887221, 'max_iter': 6929, 'tol': 2.174229431506922e-06, 'random_state': 56}. Best is trial 107 with value: 0.10601288997593335.\n",
      "[I 2024-02-18 01:10:13,443] Trial 176 finished with value: 0.39591479973488203 and parameters: {'alpha': 12.922731791860993, 'max_iter': 5920, 'tol': 1.4868316225318967e-06, 'random_state': 52}. Best is trial 107 with value: 0.10601288997593335.\n",
      "[I 2024-02-18 01:10:13,517] Trial 177 finished with value: 0.10610575000152343 and parameters: {'alpha': 0.0007549775952073565, 'max_iter': 7657, 'tol': 1.6851646816077784e-06, 'random_state': 64}. Best is trial 107 with value: 0.10601288997593335.\n",
      "[I 2024-02-18 01:10:13,600] Trial 178 finished with value: 0.10646227595469779 and parameters: {'alpha': 0.00030921322500171374, 'max_iter': 8050, 'tol': 5.0399865078419765e-06, 'random_state': 100}. Best is trial 107 with value: 0.10601288997593335.\n",
      "[I 2024-02-18 01:10:13,677] Trial 179 finished with value: 0.10612878669794848 and parameters: {'alpha': 0.0007934916875940709, 'max_iter': 6290, 'tol': 1.0188107712958621e-06, 'random_state': 57}. Best is trial 107 with value: 0.10601288997593335.\n",
      "[I 2024-02-18 01:10:13,772] Trial 180 finished with value: 0.1070756409196426 and parameters: {'alpha': 0.0014045838977783667, 'max_iter': 6849, 'tol': 2.5384252790352883e-06, 'random_state': 53}. Best is trial 107 with value: 0.10601288997593335.\n",
      "[I 2024-02-18 01:10:13,876] Trial 181 finished with value: 0.10609557375602152 and parameters: {'alpha': 0.0007282804728004802, 'max_iter': 7185, 'tol': 1.3360121092638124e-06, 'random_state': 68}. Best is trial 107 with value: 0.10601288997593335.\n",
      "[I 2024-02-18 01:10:13,995] Trial 182 finished with value: 0.10619519048049969 and parameters: {'alpha': 0.000505986473350926, 'max_iter': 7251, 'tol': 1.359080969395851e-06, 'random_state': 68}. Best is trial 107 with value: 0.10601288997593335.\n",
      "[I 2024-02-18 01:10:14,120] Trial 183 finished with value: 0.10640062684319865 and parameters: {'alpha': 0.000986952078473105, 'max_iter': 8534, 'tol': 2.0257136849387683e-06, 'random_state': 55}. Best is trial 107 with value: 0.10601288997593335.\n",
      "[I 2024-02-18 01:10:14,227] Trial 184 finished with value: 0.10960957840282468 and parameters: {'alpha': 0.0025565732996349045, 'max_iter': 7126, 'tol': 1.2594511330143852e-06, 'random_state': 66}. Best is trial 107 with value: 0.10601288997593335.\n",
      "[I 2024-02-18 01:10:14,353] Trial 185 finished with value: 0.10632345808468548 and parameters: {'alpha': 0.0004081226331570566, 'max_iter': 7466, 'tol': 1.6854199945106085e-06, 'random_state': 58}. Best is trial 107 with value: 0.10601288997593335.\n",
      "[I 2024-02-18 01:10:14,470] Trial 186 finished with value: 0.10667710262628156 and parameters: {'alpha': 0.0002246580599377067, 'max_iter': 7875, 'tol': 1.1968130365636932e-06, 'random_state': 69}. Best is trial 107 with value: 0.10601288997593335.\n",
      "[I 2024-02-18 01:10:14,581] Trial 187 finished with value: 0.10613714003952918 and parameters: {'alpha': 0.0005844170748318429, 'max_iter': 6618, 'tol': 1.500964612414878e-06, 'random_state': 50}. Best is trial 107 with value: 0.10601288997593335.\n",
      "[I 2024-02-18 01:10:14,708] Trial 188 finished with value: 0.10708031665876988 and parameters: {'alpha': 0.0014079980675170275, 'max_iter': 7044, 'tol': 1.9859490523922266e-06, 'random_state': 46}. Best is trial 107 with value: 0.10601288997593335.\n",
      "[I 2024-02-18 01:10:14,831] Trial 189 finished with value: 0.10610906353365927 and parameters: {'alpha': 0.0007617326468756395, 'max_iter': 7656, 'tol': 1.0245508149304271e-06, 'random_state': 60}. Best is trial 107 with value: 0.10601288997593335.\n",
      "[I 2024-02-18 01:10:15,072] Trial 190 finished with value: 0.10642429013427472 and parameters: {'alpha': 0.0003326973257330617, 'max_iter': 345, 'tol': 2.8308343922027944e-06, 'random_state': 64}. Best is trial 107 with value: 0.10601288997593335.\n",
      "[I 2024-02-18 01:10:15,286] Trial 191 finished with value: 0.1060181052734588 and parameters: {'alpha': 0.0007078776609193649, 'max_iter': 101, 'tol': 0.00017214012964942256, 'random_state': 68}. Best is trial 107 with value: 0.10601288997593335.\n",
      "[I 2024-02-18 01:10:15,418] Trial 192 finished with value: 0.10643636299407472 and parameters: {'alpha': 0.001013460443906551, 'max_iter': 233, 'tol': 1.071308919445329e-05, 'random_state': 68}. Best is trial 107 with value: 0.10601288997593335.\n",
      "[I 2024-02-18 01:10:15,575] Trial 193 finished with value: 0.10602513984970374 and parameters: {'alpha': 0.0006358971076986446, 'max_iter': 113, 'tol': 0.009967182697478835, 'random_state': 67}. Best is trial 107 with value: 0.10601288997593335.\n",
      "[I 2024-02-18 01:10:15,683] Trial 194 finished with value: 0.1062456082640957 and parameters: {'alpha': 0.0004221205047510608, 'max_iter': 207, 'tol': 0.00018536373646307942, 'random_state': 66}. Best is trial 107 with value: 0.10601288997593335.\n",
      "[I 2024-02-18 01:10:15,807] Trial 195 finished with value: 0.10799054543007541 and parameters: {'alpha': 0.0018375608418221372, 'max_iter': 373, 'tol': 0.005739836559035649, 'random_state': 67}. Best is trial 107 with value: 0.10601288997593335.\n",
      "[I 2024-02-18 01:10:16,077] Trial 196 finished with value: 0.10653779305905159 and parameters: {'alpha': 0.0002742067390751427, 'max_iter': 3760, 'tol': 1.4214029861249461e-06, 'random_state': 69}. Best is trial 107 with value: 0.10601288997593335.\n",
      "[I 2024-02-18 01:10:16,226] Trial 197 finished with value: 0.10666942766845318 and parameters: {'alpha': 0.00015900417361751104, 'max_iter': 106, 'tol': 0.002263415391725447, 'random_state': 65}. Best is trial 107 with value: 0.10601288997593335.\n",
      "[I 2024-02-18 01:10:16,365] Trial 198 finished with value: 0.10662986441651377 and parameters: {'alpha': 0.0011716923582614676, 'max_iter': 9501, 'tol': 0.006163846489018778, 'random_state': 70}. Best is trial 107 with value: 0.10601288997593335.\n",
      "[I 2024-02-18 01:10:16,516] Trial 199 finished with value: 0.10612565133079822 and parameters: {'alpha': 0.0006049921457966385, 'max_iter': 495, 'tol': 9.643072700239314e-05, 'random_state': 63}. Best is trial 107 with value: 0.10601288997593335.\n",
      "[I 2024-02-18 01:10:16,637] Trial 200 finished with value: 0.1061777757260925 and parameters: {'alpha': 0.0008473084321334786, 'max_iter': 326, 'tol': 1.9901979592592435e-05, 'random_state': 90}. Best is trial 107 with value: 0.10601288997593335.\n",
      "[I 2024-02-18 01:10:16,750] Trial 201 finished with value: 0.10603693842542014 and parameters: {'alpha': 0.0006241508537103001, 'max_iter': 122, 'tol': 1.7152494304370962e-06, 'random_state': 54}. Best is trial 107 with value: 0.10601288997593335.\n",
      "[I 2024-02-18 01:10:16,872] Trial 202 finished with value: 0.10612001887417308 and parameters: {'alpha': 0.0005139560292283248, 'max_iter': 133, 'tol': 1.2219148612229472e-06, 'random_state': 53}. Best is trial 107 with value: 0.10601288997593335.\n"
     ]
    },
    {
     "name": "stderr",
     "output_type": "stream",
     "text": [
      "[I 2024-02-18 01:10:16,983] Trial 203 finished with value: 0.10776342400703133 and parameters: {'alpha': 0.0017515842636077331, 'max_iter': 432, 'tol': 0.003380471983587162, 'random_state': 55}. Best is trial 107 with value: 0.10601288997593335.\n",
      "[I 2024-02-18 01:10:17,085] Trial 204 finished with value: 0.10635967021119419 and parameters: {'alpha': 0.0003754391825001706, 'max_iter': 355, 'tol': 1.6212205121840703e-06, 'random_state': 52}. Best is trial 107 with value: 0.10601288997593335.\n",
      "[I 2024-02-18 01:10:17,154] Trial 205 finished with value: 0.10620864514025434 and parameters: {'alpha': 0.0009255341484819079, 'max_iter': 130, 'tol': 1.8635619811405843e-06, 'random_state': 49}. Best is trial 107 with value: 0.10601288997593335.\n",
      "[I 2024-02-18 01:10:17,304] Trial 206 finished with value: 0.10608919800987691 and parameters: {'alpha': 0.0006851866047107442, 'max_iter': 5414, 'tol': 1.330065581129613e-06, 'random_state': 56}. Best is trial 107 with value: 0.10601288997593335.\n",
      "[I 2024-02-18 01:10:17,383] Trial 207 finished with value: 0.11215048311220856 and parameters: {'alpha': 0.0033370863685458726, 'max_iter': 4819, 'tol': 0.0010371129676219084, 'random_state': 65}. Best is trial 107 with value: 0.10601288997593335.\n",
      "[I 2024-02-18 01:10:17,482] Trial 208 finished with value: 0.10660720705750312 and parameters: {'alpha': 0.0002471130903880669, 'max_iter': 5263, 'tol': 1.3867476558796155e-06, 'random_state': 67}. Best is trial 107 with value: 0.10601288997593335.\n",
      "[I 2024-02-18 01:10:17,552] Trial 209 finished with value: 0.10679036607298505 and parameters: {'alpha': 0.001258944591782689, 'max_iter': 669, 'tol': 0.009940971981390235, 'random_state': 54}. Best is trial 107 with value: 0.10601288997593335.\n",
      "[I 2024-02-18 01:10:17,629] Trial 210 finished with value: 0.10609673545443565 and parameters: {'alpha': 0.0006470618143731847, 'max_iter': 5432, 'tol': 1.0247898198694896e-06, 'random_state': 84}. Best is trial 107 with value: 0.10601288997593335.\n",
      "[I 2024-02-18 01:10:17,708] Trial 211 finished with value: 0.106109949191384 and parameters: {'alpha': 0.000628322987922484, 'max_iter': 5410, 'tol': 1.2095260840728234e-06, 'random_state': 83}. Best is trial 107 with value: 0.10601288997593335.\n",
      "[I 2024-02-18 01:10:17,799] Trial 212 finished with value: 0.10633232256445196 and parameters: {'alpha': 0.0003983700362744959, 'max_iter': 5606, 'tol': 1.0095510715789952e-06, 'random_state': 57}. Best is trial 107 with value: 0.10601288997593335.\n",
      "[I 2024-02-18 01:10:17,877] Trial 213 finished with value: 0.10621013579058064 and parameters: {'alpha': 0.0008749733538241411, 'max_iter': 5807, 'tol': 1.488283839098734e-06, 'random_state': 71}. Best is trial 107 with value: 0.10601288997593335.\n",
      "[I 2024-02-18 01:10:17,970] Trial 214 finished with value: 0.10624052724749934 and parameters: {'alpha': 0.00046442125924573644, 'max_iter': 5533, 'tol': 1.167797391328092e-06, 'random_state': 88}. Best is trial 107 with value: 0.10601288997593335.\n",
      "[I 2024-02-18 01:10:18,046] Trial 215 finished with value: 0.1079695697081556 and parameters: {'alpha': 0.0018146554036292642, 'max_iter': 516, 'tol': 1.597370909438546e-06, 'random_state': 81}. Best is trial 107 with value: 0.10601288997593335.\n",
      "[I 2024-02-18 01:10:18,125] Trial 216 finished with value: 0.10645371910507803 and parameters: {'alpha': 0.0010281241851424427, 'max_iter': 283, 'tol': 2.1862418882076444e-06, 'random_state': 86}. Best is trial 107 with value: 0.10601288997593335.\n",
      "[I 2024-02-18 01:10:18,204] Trial 217 finished with value: 0.10609379120102438 and parameters: {'alpha': 0.0006518951980516406, 'max_iter': 5036, 'tol': 1.339801978330798e-06, 'random_state': 84}. Best is trial 107 with value: 0.10601288997593335.\n",
      "[I 2024-02-18 01:10:18,291] Trial 218 finished with value: 0.10647367396542987 and parameters: {'alpha': 0.0003034241053720099, 'max_iter': 6144, 'tol': 1.2948646828666433e-06, 'random_state': 84}. Best is trial 107 with value: 0.10601288997593335.\n",
      "[I 2024-02-18 01:10:18,362] Trial 219 finished with value: 0.10605760875739328 and parameters: {'alpha': 0.0006134139174271315, 'max_iter': 5398, 'tol': 0.001551384933576087, 'random_state': 85}. Best is trial 107 with value: 0.10601288997593335.\n",
      "[I 2024-02-18 01:10:18,429] Trial 220 finished with value: 0.10647184248341059 and parameters: {'alpha': 0.0002101671729007848, 'max_iter': 100, 'tol': 0.0013653576379503564, 'random_state': 90}. Best is trial 107 with value: 0.10601288997593335.\n",
      "[I 2024-02-18 01:10:18,507] Trial 221 finished with value: 0.10611452505999233 and parameters: {'alpha': 0.0006260368272490437, 'max_iter': 5085, 'tol': 0.00015763091183319643, 'random_state': 86}. Best is trial 107 with value: 0.10601288997593335.\n",
      "[I 2024-02-18 01:10:18,583] Trial 222 finished with value: 0.10678052390547631 and parameters: {'alpha': 0.0012340933352649056, 'max_iter': 5462, 'tol': 1.0097133194376265e-06, 'random_state': 85}. Best is trial 107 with value: 0.10601288997593335.\n",
      "[I 2024-02-18 01:10:18,666] Trial 223 finished with value: 0.10622166678903014 and parameters: {'alpha': 0.000480146368246511, 'max_iter': 5098, 'tol': 1.21251627252478e-06, 'random_state': 84}. Best is trial 107 with value: 0.10601288997593335.\n",
      "[I 2024-02-18 01:10:18,751] Trial 224 finished with value: 0.10608994492828976 and parameters: {'alpha': 0.0006994450116662353, 'max_iter': 5204, 'tol': 1.7659392456747205e-06, 'random_state': 87}. Best is trial 107 with value: 0.10601288997593335.\n",
      "[I 2024-02-18 01:10:18,823] Trial 225 finished with value: 0.1061289187179856 and parameters: {'alpha': 0.0008793243237265603, 'max_iter': 6841, 'tol': 0.002984329333194728, 'random_state': 88}. Best is trial 107 with value: 0.10601288997593335.\n",
      "[I 2024-02-18 01:10:18,915] Trial 226 finished with value: 0.10641944538534873 and parameters: {'alpha': 0.0003332725542551359, 'max_iter': 4664, 'tol': 1.8062257056598397e-06, 'random_state': 87}. Best is trial 107 with value: 0.10601288997593335.\n",
      "[I 2024-02-18 01:10:18,995] Trial 227 finished with value: 0.10722934514175404 and parameters: {'alpha': 0.0014988035038785061, 'max_iter': 3332, 'tol': 0.00013599024501323412, 'random_state': 68}. Best is trial 107 with value: 0.10601288997593335.\n",
      "[I 2024-02-18 01:10:19,084] Trial 228 finished with value: 0.1063129196358085 and parameters: {'alpha': 0.0004152703659457558, 'max_iter': 7421, 'tol': 1.4456084774944228e-06, 'random_state': 51}. Best is trial 107 with value: 0.10601288997593335.\n",
      "[I 2024-02-18 01:10:19,164] Trial 229 finished with value: 0.10611432364589664 and parameters: {'alpha': 0.0007713088690598168, 'max_iter': 4932, 'tol': 2.0378093924171205e-06, 'random_state': 56}. Best is trial 107 with value: 0.10601288997593335.\n",
      "[I 2024-02-18 01:10:19,238] Trial 230 finished with value: 0.10947079460452494 and parameters: {'alpha': 0.00251645081406165, 'max_iter': 2868, 'tol': 0.001864281063827884, 'random_state': 54}. Best is trial 107 with value: 0.10601288997593335.\n",
      "[I 2024-02-18 01:10:19,320] Trial 231 finished with value: 0.10615965197024738 and parameters: {'alpha': 0.0005563289652681624, 'max_iter': 5296, 'tol': 1.3740260492235805e-06, 'random_state': 83}. Best is trial 107 with value: 0.10601288997593335.\n",
      "[I 2024-02-18 01:10:19,392] Trial 232 finished with value: 0.10602714770635518 and parameters: {'alpha': 0.0007439356434568789, 'max_iter': 5750, 'tol': 0.004156911690523658, 'random_state': 80}. Best is trial 107 with value: 0.10601288997593335.\n",
      "[I 2024-02-18 01:10:19,460] Trial 233 finished with value: 0.10657127553977525 and parameters: {'alpha': 0.0011356566868824804, 'max_iter': 5715, 'tol': 0.009287919254169278, 'random_state': 78}. Best is trial 107 with value: 0.10601288997593335.\n",
      "[I 2024-02-18 01:10:19,532] Trial 234 finished with value: 0.1060300645072535 and parameters: {'alpha': 0.0007585715379013269, 'max_iter': 5942, 'tol': 0.006926825014894559, 'random_state': 80}. Best is trial 107 with value: 0.10601288997593335.\n",
      "[I 2024-02-18 01:10:19,615] Trial 235 finished with value: 0.10604033099528588 and parameters: {'alpha': 0.0007790968859462279, 'max_iter': 5895, 'tol': 0.00880967786752411, 'random_state': 82}. Best is trial 107 with value: 0.10601288997593335.\n",
      "[I 2024-02-18 01:10:19,718] Trial 236 finished with value: 0.10649946672471666 and parameters: {'alpha': 0.0010928212447704891, 'max_iter': 5906, 'tol': 0.006999686808609968, 'random_state': 80}. Best is trial 107 with value: 0.10601288997593335.\n"
     ]
    },
    {
     "name": "stderr",
     "output_type": "stream",
     "text": [
      "[I 2024-02-18 01:10:19,801] Trial 237 finished with value: 0.10614165668481618 and parameters: {'alpha': 0.0004750161122895498, 'max_iter': 6293, 'tol': 0.007869012373805351, 'random_state': 82}. Best is trial 107 with value: 0.10601288997593335.\n",
      "[I 2024-02-18 01:10:19,867] Trial 238 finished with value: 0.10766154427403708 and parameters: {'alpha': 0.0017121426529327192, 'max_iter': 5760, 'tol': 0.004220024184084869, 'random_state': 85}. Best is trial 107 with value: 0.10601288997593335.\n",
      "[I 2024-02-18 01:10:19,941] Trial 239 finished with value: 0.10602862565243967 and parameters: {'alpha': 0.0007508959282160797, 'max_iter': 5998, 'tol': 0.006789845917925869, 'random_state': 80}. Best is trial 107 with value: 0.10601288997593335.\n",
      "[I 2024-02-18 01:10:20,053] Trial 240 finished with value: 0.10649835418564482 and parameters: {'alpha': 0.00025515288247651734, 'max_iter': 5889, 'tol': 0.007995463612028735, 'random_state': 78}. Best is trial 107 with value: 0.10601288997593335.\n",
      "[I 2024-02-18 01:10:20,137] Trial 241 finished with value: 0.10603877487975093 and parameters: {'alpha': 0.0007738548130005424, 'max_iter': 6054, 'tol': 0.006350144693455282, 'random_state': 80}. Best is trial 107 with value: 0.10601288997593335.\n",
      "[I 2024-02-18 01:10:20,222] Trial 242 finished with value: 0.10604841232856578 and parameters: {'alpha': 0.0007886924533240722, 'max_iter': 5637, 'tol': 0.0057125903447166155, 'random_state': 79}. Best is trial 107 with value: 0.10601288997593335.\n",
      "[I 2024-02-18 01:10:20,292] Trial 243 finished with value: 0.10635066487655441 and parameters: {'alpha': 0.001022460278559699, 'max_iter': 6067, 'tol': 0.006428439248598151, 'random_state': 82}. Best is trial 107 with value: 0.10601288997593335.\n",
      "[I 2024-02-18 01:10:20,356] Trial 244 finished with value: 0.3194795955652141 and parameters: {'alpha': 0.3140908807335105, 'max_iter': 5590, 'tol': 0.005471880982436753, 'random_state': 80}. Best is trial 107 with value: 0.10601288997593335.\n",
      "[I 2024-02-18 01:10:20,426] Trial 245 finished with value: 0.10614179122895323 and parameters: {'alpha': 0.0004783113311223422, 'max_iter': 6054, 'tol': 0.005057854058719596, 'random_state': 76}. Best is trial 107 with value: 0.10601288997593335.\n",
      "[I 2024-02-18 01:10:20,497] Trial 246 finished with value: 0.10602200687036542 and parameters: {'alpha': 0.00072972452126975, 'max_iter': 6285, 'tol': 0.004890140623186262, 'random_state': 80}. Best is trial 107 with value: 0.10601288997593335.\n",
      "[I 2024-02-18 01:10:20,578] Trial 247 finished with value: 0.10708548281984646 and parameters: {'alpha': 0.0014486488028643467, 'max_iter': 6459, 'tol': 0.007170548966811399, 'random_state': 79}. Best is trial 107 with value: 0.10601288997593335.\n",
      "[I 2024-02-18 01:10:20,657] Trial 248 finished with value: 0.10610873691568733 and parameters: {'alpha': 0.0009314291956373571, 'max_iter': 6187, 'tol': 0.004569885846667457, 'random_state': 80}. Best is trial 107 with value: 0.10601288997593335.\n",
      "[I 2024-02-18 01:10:20,733] Trial 249 finished with value: 0.10627131103030182 and parameters: {'alpha': 0.00037934502637907016, 'max_iter': 5679, 'tol': 0.0035978880646856883, 'random_state': 77}. Best is trial 107 with value: 0.10601288997593335.\n",
      "[I 2024-02-18 01:10:20,803] Trial 250 finished with value: 0.10601714463024355 and parameters: {'alpha': 0.0007217343893906184, 'max_iter': 6268, 'tol': 0.008940040269875046, 'random_state': 81}. Best is trial 107 with value: 0.10601288997593335.\n",
      "[I 2024-02-18 01:10:20,871] Trial 251 finished with value: 0.10663644137938483 and parameters: {'alpha': 0.001175850966053597, 'max_iter': 6184, 'tol': 0.009642792513872053, 'random_state': 81}. Best is trial 107 with value: 0.10601288997593335.\n",
      "[I 2024-02-18 01:10:20,940] Trial 252 finished with value: 0.10806816285021058 and parameters: {'alpha': 0.0018811332826229633, 'max_iter': 6349, 'tol': 0.00783610065774656, 'random_state': 81}. Best is trial 107 with value: 0.10601288997593335.\n",
      "[I 2024-02-18 01:10:21,014] Trial 253 finished with value: 0.1062678014646792 and parameters: {'alpha': 0.00038057296637062114, 'max_iter': 5944, 'tol': 0.006173775214554887, 'random_state': 79}. Best is trial 107 with value: 0.10601288997593335.\n",
      "[I 2024-02-18 01:10:21,085] Trial 254 finished with value: 0.10601468771292184 and parameters: {'alpha': 0.0006784199082195915, 'max_iter': 6572, 'tol': 0.008165569385564479, 'random_state': 77}. Best is trial 107 with value: 0.10601288997593335.\n",
      "[I 2024-02-18 01:10:21,151] Trial 255 finished with value: 0.10593282358447699 and parameters: {'alpha': 0.0008654568350077837, 'max_iter': 6321, 'tol': 0.007898495475191447, 'random_state': 77}. Best is trial 255 with value: 0.10593282358447699.\n",
      "[I 2024-02-18 01:10:21,219] Trial 256 finished with value: 0.10609407850062108 and parameters: {'alpha': 0.0009348627495872064, 'max_iter': 6572, 'tol': 0.008282815110938953, 'random_state': 76}. Best is trial 255 with value: 0.10593282358447699.\n",
      "[I 2024-02-18 01:10:21,288] Trial 257 finished with value: 0.10899473452022719 and parameters: {'alpha': 0.0023538676010743513, 'max_iter': 6430, 'tol': 0.004948446488423036, 'random_state': 79}. Best is trial 255 with value: 0.10593282358447699.\n",
      "[I 2024-02-18 01:10:21,356] Trial 258 finished with value: 0.10610310113256884 and parameters: {'alpha': 0.0005149442007223142, 'max_iter': 6240, 'tol': 0.006456062279625808, 'random_state': 81}. Best is trial 255 with value: 0.10593282358447699.\n",
      "[I 2024-02-18 01:10:21,424] Trial 259 finished with value: 0.1070456674956385 and parameters: {'alpha': 0.0014209310017571075, 'max_iter': 6037, 'tol': 0.009409969883980239, 'random_state': 78}. Best is trial 255 with value: 0.10593282358447699.\n",
      "[I 2024-02-18 01:10:21,504] Trial 260 finished with value: 0.10641200195001521 and parameters: {'alpha': 0.0002918559164702585, 'max_iter': 6567, 'tol': 0.007346178348958016, 'random_state': 74}. Best is trial 255 with value: 0.10593282358447699.\n",
      "[I 2024-02-18 01:10:21,590] Trial 261 finished with value: 0.10602869581619291 and parameters: {'alpha': 0.0007510597652629383, 'max_iter': 6328, 'tol': 0.0054901924563696605, 'random_state': 76}. Best is trial 255 with value: 0.10593282358447699.\n",
      "[I 2024-02-18 01:10:21,689] Trial 262 finished with value: 0.10595093036882802 and parameters: {'alpha': 0.0008392821170529772, 'max_iter': 5748, 'tol': 0.005681878897916609, 'random_state': 77}. Best is trial 255 with value: 0.10593282358447699.\n",
      "[I 2024-02-18 01:10:21,766] Trial 263 finished with value: 0.10668939045159768 and parameters: {'alpha': 0.0012074033486522385, 'max_iter': 5817, 'tol': 0.0053776676222376295, 'random_state': 77}. Best is trial 255 with value: 0.10593282358447699.\n",
      "[I 2024-02-18 01:10:21,847] Trial 264 finished with value: 0.10890277738110181 and parameters: {'alpha': 0.0023129330413823724, 'max_iter': 5625, 'tol': 0.0037316833373930445, 'random_state': 76}. Best is trial 255 with value: 0.10593282358447699.\n",
      "[I 2024-02-18 01:10:21,932] Trial 265 finished with value: 0.10606800468519094 and parameters: {'alpha': 0.0008136772282408091, 'max_iter': 5278, 'tol': 0.004192319149460047, 'random_state': 75}. Best is trial 255 with value: 0.10593282358447699.\n",
      "[I 2024-02-18 01:10:22,016] Trial 266 finished with value: 0.10629878537629936 and parameters: {'alpha': 0.0010001941132102739, 'max_iter': 5381, 'tol': 0.003995047832639311, 'random_state': 75}. Best is trial 255 with value: 0.10593282358447699.\n",
      "[I 2024-02-18 01:10:22,101] Trial 267 finished with value: 0.10620361618124494 and parameters: {'alpha': 0.00043774093123188874, 'max_iter': 5896, 'tol': 0.004579319755401667, 'random_state': 77}. Best is trial 255 with value: 0.10593282358447699.\n",
      "[I 2024-02-18 01:10:22,186] Trial 268 finished with value: 0.10737166574646262 and parameters: {'alpha': 0.0015900670331228301, 'max_iter': 6152, 'tol': 0.005756699020961785, 'random_state': 74}. Best is trial 255 with value: 0.10593282358447699.\n",
      "[I 2024-02-18 01:10:22,295] Trial 269 finished with value: 0.10673629773926088 and parameters: {'alpha': 0.00020905481510374765, 'max_iter': 5584, 'tol': 0.007916791612321361, 'random_state': 79}. Best is trial 255 with value: 0.10593282358447699.\n",
      "[I 2024-02-18 01:10:22,380] Trial 270 finished with value: 0.11294969287506647 and parameters: {'alpha': 0.0037047013042270176, 'max_iter': 6054, 'tol': 0.009935964169544976, 'random_state': 75}. Best is trial 255 with value: 0.10593282358447699.\n"
     ]
    },
    {
     "name": "stderr",
     "output_type": "stream",
     "text": [
      "[I 2024-02-18 01:10:22,467] Trial 271 finished with value: 0.10595387208286619 and parameters: {'alpha': 0.0008572041428538828, 'max_iter': 6313, 'tol': 0.006173342486248405, 'random_state': 78}. Best is trial 255 with value: 0.10593282358447699.\n",
      "[I 2024-02-18 01:10:22,550] Trial 272 finished with value: 0.10607449628790862 and parameters: {'alpha': 0.0009287468125276915, 'max_iter': 5824, 'tol': 0.006926334603436097, 'random_state': 77}. Best is trial 255 with value: 0.10593282358447699.\n",
      "[I 2024-02-18 01:10:22,621] Trial 273 finished with value: 0.10776337135744168 and parameters: {'alpha': 0.0017486232385900047, 'max_iter': 5822, 'tol': 0.006915393035754676, 'random_state': 77}. Best is trial 255 with value: 0.10593282358447699.\n",
      "[I 2024-02-18 01:10:22,689] Trial 274 finished with value: 0.10660956019159404 and parameters: {'alpha': 0.0011587263035585033, 'max_iter': 6293, 'tol': 0.00483176284700191, 'random_state': 79}. Best is trial 255 with value: 0.10593282358447699.\n",
      "[I 2024-02-18 01:10:23,137] Trial 275 finished with value: 0.10821074271207887 and parameters: {'alpha': 1.1690903517944111e-08, 'max_iter': 5751, 'tol': 0.006223546542313009, 'random_state': 78}. Best is trial 255 with value: 0.10593282358447699.\n",
      "[I 2024-02-18 01:10:23,228] Trial 276 finished with value: 0.10611507746432836 and parameters: {'alpha': 0.0008612995376347908, 'max_iter': 5477, 'tol': 0.0026106561224402097, 'random_state': 73}. Best is trial 255 with value: 0.10593282358447699.\n",
      "[I 2024-02-18 01:10:23,309] Trial 277 finished with value: 0.10621317825624874 and parameters: {'alpha': 0.000423356592044483, 'max_iter': 5988, 'tol': 0.008590468863732685, 'random_state': 80}. Best is trial 255 with value: 0.10593282358447699.\n",
      "[I 2024-02-18 01:10:23,380] Trial 278 finished with value: 0.10975483599410663 and parameters: {'alpha': 0.002656487905514379, 'max_iter': 6323, 'tol': 0.007094973705925225, 'random_state': 76}. Best is trial 255 with value: 0.10593282358447699.\n",
      "[I 2024-02-18 01:10:23,458] Trial 279 finished with value: 0.10643011163031435 and parameters: {'alpha': 0.00028417885686806663, 'max_iter': 5723, 'tol': 0.005322163932399294, 'random_state': 81}. Best is trial 255 with value: 0.10593282358447699.\n",
      "[I 2024-02-18 01:10:23,529] Trial 280 finished with value: 0.10607641096162164 and parameters: {'alpha': 0.0005456128895748371, 'max_iter': 6098, 'tol': 0.00632090510515514, 'random_state': 78}. Best is trial 255 with value: 0.10593282358447699.\n",
      "[I 2024-02-18 01:10:23,601] Trial 281 finished with value: 0.10614092268997558 and parameters: {'alpha': 0.00047974665325657066, 'max_iter': 5333, 'tol': 0.006137217571599146, 'random_state': 78}. Best is trial 255 with value: 0.10593282358447699.\n",
      "[I 2024-02-18 01:10:23,672] Trial 282 finished with value: 0.10607254531493839 and parameters: {'alpha': 0.0009197058994722042, 'max_iter': 6012, 'tol': 0.004434648481424534, 'random_state': 80}. Best is trial 255 with value: 0.10593282358447699.\n",
      "[I 2024-02-18 01:10:23,741] Trial 283 finished with value: 0.1070450567233661 and parameters: {'alpha': 0.0014273109209299588, 'max_iter': 6031, 'tol': 0.004327620849317926, 'random_state': 77}. Best is trial 255 with value: 0.10593282358447699.\n",
      "[I 2024-02-18 01:10:24,138] Trial 284 finished with value: 0.1081820107120895 and parameters: {'alpha': 2.0752283990492468e-06, 'max_iter': 5833, 'tol': 0.0033725797101591846, 'random_state': 80}. Best is trial 255 with value: 0.10593282358447699.\n",
      "[I 2024-02-18 01:10:24,215] Trial 285 finished with value: 0.10611152960355358 and parameters: {'alpha': 0.0009402984610739765, 'max_iter': 5529, 'tol': 0.00803296175711502, 'random_state': 82}. Best is trial 255 with value: 0.10593282358447699.\n",
      "[I 2024-02-18 01:10:24,325] Trial 286 finished with value: 0.10700503663166198 and parameters: {'alpha': 0.0001397665069151885, 'max_iter': 6213, 'tol': 0.005557099727003418, 'random_state': 78}. Best is trial 255 with value: 0.10593282358447699.\n",
      "[I 2024-02-18 01:10:24,478] Trial 287 finished with value: 0.11690425361787597 and parameters: {'alpha': 0.005042676454551664, 'max_iter': 5973, 'tol': 0.006770857220620362, 'random_state': 75}. Best is trial 255 with value: 0.10593282358447699.\n",
      "[I 2024-02-18 01:10:24,567] Trial 288 finished with value: 0.10802828037563494 and parameters: {'alpha': 0.0018601795808521136, 'max_iter': 5643, 'tol': 0.004556007982428066, 'random_state': 80}. Best is trial 255 with value: 0.10593282358447699.\n",
      "[I 2024-02-18 01:10:24,656] Trial 289 finished with value: 0.10629460707571402 and parameters: {'alpha': 0.00035834604949237477, 'max_iter': 6419, 'tol': 0.00816385397676661, 'random_state': 79}. Best is trial 255 with value: 0.10593282358447699.\n",
      "[I 2024-02-18 01:10:24,746] Trial 290 finished with value: 0.10608075398728434 and parameters: {'alpha': 0.0008258433056055402, 'max_iter': 6113, 'tol': 0.005451544605489201, 'random_state': 76}. Best is trial 255 with value: 0.10593282358447699.\n",
      "[I 2024-02-18 01:10:24,830] Trial 291 finished with value: 0.10644031772413691 and parameters: {'alpha': 0.0010756802409669197, 'max_iter': 6195, 'tol': 0.006214683613508915, 'random_state': 74}. Best is trial 255 with value: 0.10593282358447699.\n",
      "[I 2024-02-18 01:10:24,923] Trial 292 finished with value: 0.10609654792055398 and parameters: {'alpha': 0.0005249505008148613, 'max_iter': 5945, 'tol': 0.0051614300542577474, 'random_state': 72}. Best is trial 255 with value: 0.10593282358447699.\n",
      "[I 2024-02-18 01:10:25,013] Trial 293 finished with value: 0.10898437189131512 and parameters: {'alpha': 0.0023489990761231885, 'max_iter': 6374, 'tol': 0.004205043046285658, 'random_state': 76}. Best is trial 255 with value: 0.10593282358447699.\n",
      "[I 2024-02-18 01:10:25,097] Trial 294 finished with value: 0.10637187286501436 and parameters: {'alpha': 0.001034316585476352, 'max_iter': 6068, 'tol': 0.0031357912028877966, 'random_state': 77}. Best is trial 255 with value: 0.10593282358447699.\n",
      "[I 2024-02-18 01:10:25,186] Trial 295 finished with value: 0.10602279339885089 and parameters: {'alpha': 0.0007373598969808127, 'max_iter': 5232, 'tol': 0.0068881438356706405, 'random_state': 83}. Best is trial 255 with value: 0.10593282358447699.\n",
      "[I 2024-02-18 01:10:25,268] Trial 296 finished with value: 0.10716901298476676 and parameters: {'alpha': 0.0014953147613443157, 'max_iter': 5204, 'tol': 0.009903284922908212, 'random_state': 83}. Best is trial 255 with value: 0.10593282358447699.\n",
      "[I 2024-02-18 01:10:25,360] Trial 297 finished with value: 0.10636467438429215 and parameters: {'alpha': 0.00031675497367739726, 'max_iter': 5761, 'tol': 0.00697849222734032, 'random_state': 81}. Best is trial 255 with value: 0.10593282358447699.\n",
      "[I 2024-02-18 01:10:25,449] Trial 298 finished with value: 0.10593665662454449 and parameters: {'alpha': 0.0008326362002753082, 'max_iter': 6292, 'tol': 0.005853755438330281, 'random_state': 82}. Best is trial 255 with value: 0.10593282358447699.\n",
      "[I 2024-02-18 01:10:25,536] Trial 299 finished with value: 0.10611755272436524 and parameters: {'alpha': 0.0004889617516854903, 'max_iter': 6407, 'tol': 0.008274215505842206, 'random_state': 82}. Best is trial 255 with value: 0.10593282358447699.\n"
     ]
    },
    {
     "name": "stdout",
     "output_type": "stream",
     "text": [
      "Best RMSE: 0.10593282358447699\n"
     ]
    }
   ],
   "source": [
    "# Lasso + Optuna study\n",
    "\n",
    "def objective(trial):\n",
    "    params = {\n",
    "        'alpha': trial.suggest_loguniform('alpha', 1e-8, 100.0),\n",
    "        'max_iter': trial.suggest_int('max_iter', 100, 10000),\n",
    "        'tol': trial.suggest_loguniform('tol', 1e-6, 1e-2),\n",
    "        'random_state': trial.suggest_int('random_state', 25, 100)\n",
    "    }\n",
    "    \n",
    "    model = Lasso(**params)\n",
    "    model.fit(X_train, y_train)\n",
    "    \n",
    "    predictions = model.predict(X_test)\n",
    "    rmse = np.sqrt(mean_squared_error(y_test, predictions))\n",
    "    return rmse\n",
    "\n",
    "study = optuna.create_study(direction='minimize')\n",
    "study.optimize(objective, n_trials=300)\n",
    "\n",
    "print(f'Best RMSE: {study.best_trial.value}')"
   ]
  },
  {
   "cell_type": "code",
   "execution_count": 115,
   "metadata": {},
   "outputs": [
    {
     "name": "stdout",
     "output_type": "stream",
     "text": [
      "Best: {'alpha': 0.0008654568350077837, 'max_iter': 6321, 'tol': 0.007898495475191447, 'random_state': 77}\n",
      "\n",
      "Lasso + Optuna:\n",
      "- RMSE: 0.1059\n",
      "- R2: 0.9276\n"
     ]
    }
   ],
   "source": [
    "# Optuna + Lasso results\n",
    "\n",
    "opt_lasso_params = study.best_params\n",
    "\n",
    "print(f'Best: {opt_lasso_params}\\n')\n",
    "\n",
    "opt_lasso = Lasso(**opt_lasso_params)\n",
    "opt_lasso.fit(X_train, y_train)\n",
    "opt_preds = opt_lasso.predict(X_test)\n",
    "rmse = np.sqrt(mean_squared_error(y_test, opt_preds))\n",
    "r2 = r2_score(y_test, opt_preds)\n",
    "print(f'Lasso + Optuna:\\n- RMSE: {rmse :.4f}\\n- R2: {r2 :.4f}')\n",
    "\n",
    "# saving test predictions\n",
    "optuna_train_pred['Lasso'] = opt_preds\n",
    "optuna_test_pred['Lasso'] = opt_lasso.predict(test_data)\n",
    "optuna_results['Lasso'] = [rmse, r2]"
   ]
  },
  {
   "cell_type": "code",
   "execution_count": 116,
   "metadata": {},
   "outputs": [
    {
     "name": "stdout",
     "output_type": "stream",
     "text": [
      "ElasticNet(alpha=0.007, l1_ratio=0.03, random_state=44)\n",
      "Testing performance\n",
      "RMSE: 0.1051\n",
      "R2: 0.9286 \n",
      "\n"
     ]
    }
   ],
   "source": [
    "model = ElasticNet(random_state=rst)\n",
    "\n",
    "\n",
    "# params_en = {'alpha': np.arange(0.001, 1.0, 0.002), \n",
    "#              'max_iter': [50, 100, 300, 1000],\n",
    "#              'l1_ratio': [0.1]\n",
    "#             }\n",
    "\n",
    "params_en = {'alpha': [0.007], \n",
    "             'max_iter': [1000],\n",
    "             'l1_ratio': [0.03],\n",
    "            }\n",
    "\n",
    "\n",
    "gs_alg = GridSearchCV(model, param_grid = params_en, cv = 5, scoring = 'neg_mean_squared_error', n_jobs=-1)\n",
    "\n",
    "# pca = PCA()\n",
    "\n",
    "# pipe = Pipeline(steps=[('pca', pca), ('model', model)])\n",
    "\n",
    "# params_en_pca = {'model__alpha': [0.007], \n",
    "#              'model__max_iter': [1000],\n",
    "#              'model__l1_ratio': [0.03],\n",
    "#              'pca__n_components': list(range(1,X_train.shape[1]+1,1))\n",
    "\n",
    "#             }\n",
    "\n",
    "# gs_alg = GridSearchCV(pipe, param_grid = params_en_pca, cv = 5, scoring = 'neg_mean_squared_error', n_jobs=-1)\n",
    "\n",
    "gs_alg.fit(X_train, y_train)\n",
    "\n",
    "print(gs_alg.best_estimator_)\n",
    "\n",
    "pred = gs_alg.predict(X_test)\n",
    "pred_t = gs_alg.predict(test_data)\n",
    "models_train_pred[model.__class__.__name__] = pred\n",
    "models_test_pred[model.__class__.__name__] = pred_t\n",
    "\n",
    "rmse = (np.sqrt(mean_squared_error(y_test, pred)))\n",
    "r2 = r2_score(y_test, pred)\n",
    "\n",
    "results[model.__class__.__name__] = [rmse, r2]\n",
    "\n",
    "print('Testing performance')\n",
    "print('RMSE: {:.4f}'.format(rmse))\n",
    "print('R2: {:.4f}'.format(r2), '\\n')\n",
    "\n",
    "\n",
    "# w PCA() Pipeline(steps=[('pca', PCA(n_components=73)),\n",
    "#                 ('model',\n",
    "#                  ElasticNet(alpha=0.007, l1_ratio=0.03, random_state=44))])\n",
    "# Testing performance\n",
    "# RMSE: 0.1048\n",
    "# R2: 0.9291\n",
    "\n",
    "# ElasticNet(alpha=0.007, l1_ratio=0.03, random_state=44)\n",
    "# Testing performance\n",
    "# RMSE: 0.1039\n",
    "# R2: 0.9303"
   ]
  },
  {
   "cell_type": "code",
   "execution_count": 117,
   "metadata": {},
   "outputs": [
    {
     "name": "stderr",
     "output_type": "stream",
     "text": [
      "[I 2024-02-18 01:16:14,485] A new study created in memory with name: no-name-20bd0dbf-5063-4817-86b6-7610431b5c57\n",
      "[I 2024-02-18 01:16:14,573] Trial 0 finished with value: 0.1585745645530598 and parameters: {'alpha': 0.6161372439803592, 'l1_ratio': 0.07390009261665598, 'max_iter': 1881}. Best is trial 0 with value: 0.1585745645530598.\n",
      "[I 2024-02-18 01:16:14,593] Trial 1 finished with value: 0.3895989312892461 and parameters: {'alpha': 0.5154850417659307, 'l1_ratio': 0.9553140864937454, 'max_iter': 3955}. Best is trial 0 with value: 0.1585745645530598.\n",
      "[I 2024-02-18 01:16:14,616] Trial 2 finished with value: 0.32380759011013555 and parameters: {'alpha': 0.9014688447829691, 'l1_ratio': 0.31463724935041637, 'max_iter': 2807}. Best is trial 0 with value: 0.1585745645530598.\n",
      "[I 2024-02-18 01:16:14,640] Trial 3 finished with value: 0.37334798700446775 and parameters: {'alpha': 0.6283302180980306, 'l1_ratio': 0.6525478960995047, 'max_iter': 4589}. Best is trial 0 with value: 0.1585745645530598.\n",
      "[I 2024-02-18 01:16:14,670] Trial 4 finished with value: 0.2548256753684987 and parameters: {'alpha': 0.6069918608976351, 'l1_ratio': 0.24876753512036365, 'max_iter': 3722}. Best is trial 0 with value: 0.1585745645530598.\n",
      "[I 2024-02-18 01:16:14,692] Trial 5 finished with value: 0.12889845309721537 and parameters: {'alpha': 0.14145260916690505, 'l1_ratio': 0.13760757688293979, 'max_iter': 4494}. Best is trial 5 with value: 0.12889845309721537.\n",
      "[I 2024-02-18 01:16:14,718] Trial 6 finished with value: 0.3164026579380667 and parameters: {'alpha': 0.7712255138341721, 'l1_ratio': 0.3537585334199136, 'max_iter': 2190}. Best is trial 5 with value: 0.12889845309721537.\n",
      "[I 2024-02-18 01:16:14,736] Trial 7 finished with value: 0.25118491935291914 and parameters: {'alpha': 0.30600245651942826, 'l1_ratio': 0.5308811225326929, 'max_iter': 648}. Best is trial 5 with value: 0.12889845309721537.\n",
      "[I 2024-02-18 01:16:14,764] Trial 8 finished with value: 0.2891277129067651 and parameters: {'alpha': 0.337269847748524, 'l1_ratio': 0.7162621330196979, 'max_iter': 795}. Best is trial 5 with value: 0.12889845309721537.\n",
      "[I 2024-02-18 01:16:14,797] Trial 9 finished with value: 0.240627498237433 and parameters: {'alpha': 0.7204604763240331, 'l1_ratio': 0.18433453178223724, 'max_iter': 2445}. Best is trial 5 with value: 0.12889845309721537.\n",
      "[I 2024-02-18 01:16:14,856] Trial 10 finished with value: 0.10447927835455785 and parameters: {'alpha': 0.027049914821701063, 'l1_ratio': 0.007041820758187933, 'max_iter': 4477}. Best is trial 10 with value: 0.10447927835455785.\n",
      "[I 2024-02-18 01:16:14,920] Trial 11 finished with value: 0.10453020601895806 and parameters: {'alpha': 0.01579977113921777, 'l1_ratio': 0.006692946619507145, 'max_iter': 4935}. Best is trial 10 with value: 0.10447927835455785.\n",
      "[I 2024-02-18 01:16:15,032] Trial 12 finished with value: 0.1076866642578322 and parameters: {'alpha': 0.00021574133015508923, 'l1_ratio': 0.026535287023703558, 'max_iter': 4983}. Best is trial 10 with value: 0.10447927835455785.\n",
      "[I 2024-02-18 01:16:15,070] Trial 13 finished with value: 0.10511546404199489 and parameters: {'alpha': 0.029931699467364323, 'l1_ratio': 0.01950839544214003, 'max_iter': 3410}. Best is trial 10 with value: 0.10447927835455785.\n",
      "[I 2024-02-18 01:16:15,117] Trial 14 finished with value: 0.19955995946516025 and parameters: {'alpha': 0.21103331390953245, 'l1_ratio': 0.4282466907417889, 'max_iter': 4286}. Best is trial 10 with value: 0.10447927835455785.\n",
      "[I 2024-02-18 01:16:15,169] Trial 15 finished with value: 0.18272927361084532 and parameters: {'alpha': 0.36860375752699875, 'l1_ratio': 0.1968750433155912, 'max_iter': 4972}. Best is trial 10 with value: 0.10447927835455785.\n",
      "[I 2024-02-18 01:16:15,227] Trial 16 finished with value: 0.24699316027819654 and parameters: {'alpha': 0.1710328439182887, 'l1_ratio': 0.9576545782316249, 'max_iter': 1574}. Best is trial 10 with value: 0.10447927835455785.\n",
      "[I 2024-02-18 01:16:15,280] Trial 17 finished with value: 0.1074681040198586 and parameters: {'alpha': 0.1346987374478935, 'l1_ratio': 0.0022274471033921616, 'max_iter': 3090}. Best is trial 10 with value: 0.10447927835455785.\n",
      "[I 2024-02-18 01:16:15,330] Trial 18 finished with value: 0.14713891157811929 and parameters: {'alpha': 0.07596355585815144, 'l1_ratio': 0.5120702140745504, 'max_iter': 4005}. Best is trial 10 with value: 0.10447927835455785.\n",
      "[I 2024-02-18 01:16:15,399] Trial 19 finished with value: 0.1616044115183618 and parameters: {'alpha': 0.4167400043273039, 'l1_ratio': 0.12218094422942194, 'max_iter': 3558}. Best is trial 10 with value: 0.10447927835455785.\n",
      "[I 2024-02-18 01:16:15,447] Trial 20 finished with value: 0.1835409295580246 and parameters: {'alpha': 0.26564935677596846, 'l1_ratio': 0.2777889794785365, 'max_iter': 4476}. Best is trial 10 with value: 0.10447927835455785.\n",
      "[I 2024-02-18 01:16:15,886] Trial 21 finished with value: 0.10770425635553624 and parameters: {'alpha': 0.0002419048775634501, 'l1_ratio': 0.0019782056411795377, 'max_iter': 3340}. Best is trial 10 with value: 0.10447927835455785.\n",
      "[I 2024-02-18 01:16:15,938] Trial 22 finished with value: 0.11815168021552488 and parameters: {'alpha': 0.06268276991852459, 'l1_ratio': 0.09415777907583978, 'max_iter': 4053}. Best is trial 10 with value: 0.10447927835455785.\n",
      "[I 2024-02-18 01:16:15,997] Trial 23 finished with value: 0.12506952131073937 and parameters: {'alpha': 0.07625194013347655, 'l1_ratio': 0.19240772130405748, 'max_iter': 3146}. Best is trial 10 with value: 0.10447927835455785.\n",
      "[I 2024-02-18 01:16:16,057] Trial 24 finished with value: 0.12715826437679922 and parameters: {'alpha': 0.19880570116999394, 'l1_ratio': 0.08835597614469218, 'max_iter': 4739}. Best is trial 10 with value: 0.10447927835455785.\n",
      "[I 2024-02-18 01:16:16,107] Trial 25 finished with value: 0.37711746553286285 and parameters: {'alpha': 0.9991444502681626, 'l1_ratio': 0.4135234411606876, 'max_iter': 155}. Best is trial 10 with value: 0.10447927835455785.\n",
      "[I 2024-02-18 01:16:16,165] Trial 26 finished with value: 0.125930743554666 and parameters: {'alpha': 0.2506335577588279, 'l1_ratio': 0.06225143448887244, 'max_iter': 3639}. Best is trial 10 with value: 0.10447927835455785.\n",
      "[I 2024-02-18 01:16:16,222] Trial 27 finished with value: 0.12385917470610204 and parameters: {'alpha': 0.07415890530187486, 'l1_ratio': 0.17820701129458583, 'max_iter': 4323}. Best is trial 10 with value: 0.10447927835455785.\n",
      "[I 2024-02-18 01:16:16,333] Trial 28 finished with value: 0.3576164838047025 and parameters: {'alpha': 0.45648441210391233, 'l1_ratio': 0.8395218017143374, 'max_iter': 2821}. Best is trial 10 with value: 0.10447927835455785.\n",
      "[I 2024-02-18 01:16:16,434] Trial 29 finished with value: 0.1112311986855924 and parameters: {'alpha': 0.031536089018594525, 'l1_ratio': 0.0871424821598472, 'max_iter': 1986}. Best is trial 10 with value: 0.10447927835455785.\n",
      "[I 2024-02-18 01:16:16,481] Trial 30 finished with value: 0.1869634692882294 and parameters: {'alpha': 0.12797150273835245, 'l1_ratio': 0.5981719428270831, 'max_iter': 4134}. Best is trial 10 with value: 0.10447927835455785.\n",
      "[I 2024-02-18 01:16:16,542] Trial 31 finished with value: 0.10772369069350857 and parameters: {'alpha': 0.15193924786878935, 'l1_ratio': 0.0012807831682892191, 'max_iter': 2949}. Best is trial 10 with value: 0.10447927835455785.\n",
      "[I 2024-02-18 01:16:16,607] Trial 32 finished with value: 0.10643069807298834 and parameters: {'alpha': 0.11374042216398325, 'l1_ratio': 1.4198628610883387e-05, 'max_iter': 3261}. Best is trial 10 with value: 0.10447927835455785.\n",
      "[I 2024-02-18 01:16:16,679] Trial 33 finished with value: 0.11722764688796979 and parameters: {'alpha': 0.10388954138726078, 'l1_ratio': 0.04979709593092109, 'max_iter': 3439}. Best is trial 10 with value: 0.10447927835455785.\n",
      "[I 2024-02-18 01:16:16,752] Trial 34 finished with value: 0.10570387141660953 and parameters: {'alpha': 0.002768770637940201, 'l1_ratio': 0.24776553574532634, 'max_iter': 4761}. Best is trial 10 with value: 0.10447927835455785.\n",
      "[I 2024-02-18 01:16:16,814] Trial 35 finished with value: 0.10686690926206491 and parameters: {'alpha': 0.005159723879004291, 'l1_ratio': 0.2624581120412999, 'max_iter': 4749}. Best is trial 10 with value: 0.10447927835455785.\n"
     ]
    },
    {
     "name": "stderr",
     "output_type": "stream",
     "text": [
      "[I 2024-02-18 01:16:16,865] Trial 36 finished with value: 0.19062263047426609 and parameters: {'alpha': 0.22775924545166215, 'l1_ratio': 0.35555309248712563, 'max_iter': 3828}. Best is trial 10 with value: 0.10447927835455785.\n",
      "[I 2024-02-18 01:16:16,926] Trial 37 finished with value: 0.11874489782928167 and parameters: {'alpha': 0.04386935803034381, 'l1_ratio': 0.1451968030757456, 'max_iter': 4679}. Best is trial 10 with value: 0.10447927835455785.\n",
      "[I 2024-02-18 01:16:16,993] Trial 38 finished with value: 0.2454419147307802 and parameters: {'alpha': 0.6152177218021785, 'l1_ratio': 0.22673471928262026, 'max_iter': 4419}. Best is trial 10 with value: 0.10447927835455785.\n",
      "[I 2024-02-18 01:16:17,068] Trial 39 finished with value: 0.2547200665701433 and parameters: {'alpha': 0.5145634249428566, 'l1_ratio': 0.3018795482191565, 'max_iter': 3900}. Best is trial 10 with value: 0.10447927835455785.\n",
      "[I 2024-02-18 01:16:17,124] Trial 40 finished with value: 0.14593047493972275 and parameters: {'alpha': 0.27502814352132543, 'l1_ratio': 0.1333337923497122, 'max_iter': 2520}. Best is trial 10 with value: 0.10447927835455785.\n",
      "[I 2024-02-18 01:16:17,173] Trial 41 finished with value: 0.11786230231248768 and parameters: {'alpha': 0.11188516440641358, 'l1_ratio': 0.050601140130732705, 'max_iter': 4921}. Best is trial 10 with value: 0.10447927835455785.\n",
      "[I 2024-02-18 01:16:17,217] Trial 42 finished with value: 0.12117949022692985 and parameters: {'alpha': 0.17354609444343222, 'l1_ratio': 0.0557119283703309, 'max_iter': 4584}. Best is trial 10 with value: 0.10447927835455785.\n",
      "[I 2024-02-18 01:16:17,331] Trial 43 finished with value: 0.1184243575659418 and parameters: {'alpha': 0.047745246498050134, 'l1_ratio': 0.1273405606331221, 'max_iter': 3296}. Best is trial 10 with value: 0.10447927835455785.\n",
      "[I 2024-02-18 01:16:17,395] Trial 44 finished with value: 0.12013435947228934 and parameters: {'alpha': 0.08413739324029514, 'l1_ratio': 0.10069452704607848, 'max_iter': 4201}. Best is trial 10 with value: 0.10447927835455785.\n",
      "[I 2024-02-18 01:16:17,478] Trial 45 finished with value: 0.10676299475693324 and parameters: {'alpha': 0.0007772146184633951, 'l1_ratio': 0.16610051833731965, 'max_iter': 1479}. Best is trial 10 with value: 0.10447927835455785.\n",
      "[I 2024-02-18 01:16:17,518] Trial 46 finished with value: 0.15035375059573355 and parameters: {'alpha': 0.18198426338149842, 'l1_ratio': 0.23076472116760097, 'max_iter': 3763}. Best is trial 10 with value: 0.10447927835455785.\n",
      "[I 2024-02-18 01:16:17,554] Trial 47 finished with value: 0.31621820041608817 and parameters: {'alpha': 0.778024194333059, 'l1_ratio': 0.34936258056555114, 'max_iter': 2639}. Best is trial 10 with value: 0.10447927835455785.\n",
      "[I 2024-02-18 01:16:17,602] Trial 48 finished with value: 0.11314405200180738 and parameters: {'alpha': 0.1092098704312118, 'l1_ratio': 0.02819485749617461, 'max_iter': 4779}. Best is trial 10 with value: 0.10447927835455785.\n",
      "[I 2024-02-18 01:16:17,651] Trial 49 finished with value: 0.251319593899068 and parameters: {'alpha': 0.35521213994699863, 'l1_ratio': 0.44678145824024695, 'max_iter': 4481}. Best is trial 10 with value: 0.10447927835455785.\n",
      "[I 2024-02-18 01:16:17,705] Trial 50 finished with value: 0.14118406352289925 and parameters: {'alpha': 0.04549945300191921, 'l1_ratio': 0.7125655479145431, 'max_iter': 4994}. Best is trial 10 with value: 0.10447927835455785.\n",
      "[I 2024-02-18 01:16:17,767] Trial 51 finished with value: 0.10974750919159203 and parameters: {'alpha': 0.01570588201818221, 'l1_ratio': 0.1507655916166782, 'max_iter': 2046}. Best is trial 10 with value: 0.10447927835455785.\n",
      "[I 2024-02-18 01:16:17,819] Trial 52 finished with value: 0.1340184938970087 and parameters: {'alpha': 0.5656541191569749, 'l1_ratio': 0.03671612741550334, 'max_iter': 2197}. Best is trial 10 with value: 0.10447927835455785.\n",
      "[I 2024-02-18 01:16:17,880] Trial 53 finished with value: 0.10435899176025963 and parameters: {'alpha': 0.032844490191744596, 'l1_ratio': 0.0005599807609837429, 'max_iter': 1221}. Best is trial 53 with value: 0.10435899176025963.\n",
      "[I 2024-02-18 01:16:17,940] Trial 54 finished with value: 0.10880499884277464 and parameters: {'alpha': 0.1492061646252878, 'l1_ratio': 0.0055042127869706445, 'max_iter': 1235}. Best is trial 53 with value: 0.10435899176025963.\n",
      "[I 2024-02-18 01:16:17,981] Trial 55 finished with value: 0.11989632730906893 and parameters: {'alpha': 0.09331191127042418, 'l1_ratio': 0.08748531957995126, 'max_iter': 649}. Best is trial 53 with value: 0.10435899176025963.\n",
      "[I 2024-02-18 01:16:18,024] Trial 56 finished with value: 0.10949762272264348 and parameters: {'alpha': 0.03741912775962544, 'l1_ratio': 0.05430118848853399, 'max_iter': 1029}. Best is trial 53 with value: 0.10435899176025963.\n",
      "[I 2024-02-18 01:16:18,058] Trial 57 finished with value: 0.18704115076349473 and parameters: {'alpha': 0.6672758925618698, 'l1_ratio': 0.10950040094109859, 'max_iter': 3174}. Best is trial 53 with value: 0.10435899176025963.\n",
      "[I 2024-02-18 01:16:18,096] Trial 58 finished with value: 0.1239509678253102 and parameters: {'alpha': 0.06145151081911629, 'l1_ratio': 0.21322897280926478, 'max_iter': 1729}. Best is trial 53 with value: 0.10435899176025963.\n",
      "[I 2024-02-18 01:16:18,138] Trial 59 finished with value: 0.10936201264685498 and parameters: {'alpha': 0.21653207930898583, 'l1_ratio': 0.001364430849366959, 'max_iter': 3990}. Best is trial 53 with value: 0.10435899176025963.\n",
      "[I 2024-02-18 01:16:18,172] Trial 60 finished with value: 0.12118455631316156 and parameters: {'alpha': 0.131271616081414, 'l1_ratio': 0.07574013297038298, 'max_iter': 290}. Best is trial 53 with value: 0.10435899176025963.\n",
      "[I 2024-02-18 01:16:18,218] Trial 61 finished with value: 0.10643485366498141 and parameters: {'alpha': 0.007318852591137685, 'l1_ratio': 0.1660978191573499, 'max_iter': 1543}. Best is trial 53 with value: 0.10435899176025963.\n",
      "[I 2024-02-18 01:16:18,257] Trial 62 finished with value: 0.10710717640499606 and parameters: {'alpha': 0.03963369987501936, 'l1_ratio': 0.031909192360557254, 'max_iter': 1169}. Best is trial 53 with value: 0.10435899176025963.\n",
      "[I 2024-02-18 01:16:18,295] Trial 63 finished with value: 0.12146853353580282 and parameters: {'alpha': 0.09046239708062336, 'l1_ratio': 0.11344800208209961, 'max_iter': 1476}. Best is trial 53 with value: 0.10435899176025963.\n",
      "[I 2024-02-18 01:16:18,339] Trial 64 finished with value: 0.11152632398151793 and parameters: {'alpha': 0.01591997409589478, 'l1_ratio': 0.18821346426160265, 'max_iter': 2199}. Best is trial 53 with value: 0.10435899176025963.\n",
      "[I 2024-02-18 01:16:18,375] Trial 65 finished with value: 0.11702413462371519 and parameters: {'alpha': 0.07041734690314996, 'l1_ratio': 0.07215914301357824, 'max_iter': 4339}. Best is trial 53 with value: 0.10435899176025963.\n",
      "[I 2024-02-18 01:16:18,416] Trial 66 finished with value: 0.1944869485846123 and parameters: {'alpha': 0.1521228299564478, 'l1_ratio': 0.55615577614668, 'max_iter': 2340}. Best is trial 53 with value: 0.10435899176025963.\n",
      "[I 2024-02-18 01:16:18,453] Trial 67 finished with value: 0.21550293668990483 and parameters: {'alpha': 0.12056592960369136, 'l1_ratio': 0.8926223977786871, 'max_iter': 1732}. Best is trial 53 with value: 0.10435899176025963.\n",
      "[I 2024-02-18 01:16:18,503] Trial 68 finished with value: 0.10562653392830207 and parameters: {'alpha': 0.004515787587939368, 'l1_ratio': 0.032033683217849315, 'max_iter': 830}. Best is trial 53 with value: 0.10435899176025963.\n",
      "[I 2024-02-18 01:16:18,539] Trial 69 finished with value: 0.12370983247907293 and parameters: {'alpha': 0.4028599571606596, 'l1_ratio': 0.0258394007680322, 'max_iter': 444}. Best is trial 53 with value: 0.10435899176025963.\n",
      "[I 2024-02-18 01:16:18,585] Trial 70 finished with value: 0.12020801994894134 and parameters: {'alpha': 0.3068480559499255, 'l1_ratio': 0.02300859697724504, 'max_iter': 870}. Best is trial 53 with value: 0.10435899176025963.\n",
      "[I 2024-02-18 01:16:18,685] Trial 71 finished with value: 0.10726856606240007 and parameters: {'alpha': 0.0005774951441631787, 'l1_ratio': 0.07077501715669088, 'max_iter': 865}. Best is trial 53 with value: 0.10435899176025963.\n",
      "[I 2024-02-18 01:16:18,726] Trial 72 finished with value: 0.11623545451291363 and parameters: {'alpha': 0.03242293803024013, 'l1_ratio': 0.14251163428819616, 'max_iter': 2738}. Best is trial 53 with value: 0.10435899176025963.\n"
     ]
    },
    {
     "name": "stderr",
     "output_type": "stream",
     "text": [
      "[I 2024-02-18 01:16:18,779] Trial 73 finished with value: 0.11194307054938427 and parameters: {'alpha': 0.06429822345678934, 'l1_ratio': 0.04336230691139522, 'max_iter': 1317}. Best is trial 53 with value: 0.10435899176025963.\n",
      "[I 2024-02-18 01:16:18,828] Trial 74 finished with value: 0.11120348612164696 and parameters: {'alpha': 0.0269743163487379, 'l1_ratio': 0.10273551519093119, 'max_iter': 4832}. Best is trial 53 with value: 0.10435899176025963.\n",
      "[I 2024-02-18 01:16:18,878] Trial 75 finished with value: 0.10628444405544706 and parameters: {'alpha': 0.08702947842708225, 'l1_ratio': 0.00433311436426706, 'max_iter': 4610}. Best is trial 53 with value: 0.10435899176025963.\n",
      "[I 2024-02-18 01:16:18,929] Trial 76 finished with value: 0.10800825369715208 and parameters: {'alpha': 0.08324326233849115, 'l1_ratio': 0.014135726234658776, 'max_iter': 4650}. Best is trial 53 with value: 0.10435899176025963.\n",
      "[I 2024-02-18 01:16:18,977] Trial 77 finished with value: 0.10861342783339871 and parameters: {'alpha': 0.17762028604976343, 'l1_ratio': 0.0020233891418613634, 'max_iter': 4180}. Best is trial 53 with value: 0.10435899176025963.\n",
      "[I 2024-02-18 01:16:19,028] Trial 78 finished with value: 0.11925654524464842 and parameters: {'alpha': 0.10770864348397714, 'l1_ratio': 0.06740975716423542, 'max_iter': 4567}. Best is trial 53 with value: 0.10435899176025963.\n",
      "[I 2024-02-18 01:16:19,078] Trial 79 finished with value: 0.11143603282611768 and parameters: {'alpha': 0.06013201937044811, 'l1_ratio': 0.043482321841811444, 'max_iter': 3574}. Best is trial 53 with value: 0.10435899176025963.\n",
      "[I 2024-02-18 01:16:19,124] Trial 80 finished with value: 0.138021592723848 and parameters: {'alpha': 0.23732574196436113, 'l1_ratio': 0.12184086109185095, 'max_iter': 4812}. Best is trial 53 with value: 0.10435899176025963.\n",
      "[I 2024-02-18 01:16:19,178] Trial 81 finished with value: 0.11560824319091417 and parameters: {'alpha': 0.025704417021336676, 'l1_ratio': 0.16821917422904323, 'max_iter': 1012}. Best is trial 53 with value: 0.10435899176025963.\n",
      "[I 2024-02-18 01:16:19,267] Trial 82 finished with value: 0.10742316026144232 and parameters: {'alpha': 0.0004088257429199077, 'l1_ratio': 0.07442618187051792, 'max_iter': 714}. Best is trial 53 with value: 0.10435899176025963.\n",
      "[I 2024-02-18 01:16:19,308] Trial 83 finished with value: 0.1078863690625618 and parameters: {'alpha': 0.05285039895746968, 'l1_ratio': 0.02647261589582922, 'max_iter': 4372}. Best is trial 53 with value: 0.10435899176025963.\n",
      "[I 2024-02-18 01:16:19,353] Trial 84 finished with value: 0.13445798165517975 and parameters: {'alpha': 0.09320674738451262, 'l1_ratio': 0.2716211202867566, 'max_iter': 2972}. Best is trial 53 with value: 0.10435899176025963.\n",
      "[I 2024-02-18 01:16:19,405] Trial 85 finished with value: 0.11951088997417846 and parameters: {'alpha': 0.14600088450595206, 'l1_ratio': 0.050883379669780474, 'max_iter': 4917}. Best is trial 53 with value: 0.10435899176025963.\n",
      "[I 2024-02-18 01:16:19,462] Trial 86 finished with value: 0.10963190214718359 and parameters: {'alpha': 0.024527325810029185, 'l1_ratio': 0.09065326867228132, 'max_iter': 536}. Best is trial 53 with value: 0.10435899176025963.\n",
      "[I 2024-02-18 01:16:19,517] Trial 87 finished with value: 0.2414459212665149 and parameters: {'alpha': 0.8433982199595383, 'l1_ratio': 0.15614400965416533, 'max_iter': 4551}. Best is trial 53 with value: 0.10435899176025963.\n",
      "[I 2024-02-18 01:16:19,576] Trial 88 finished with value: 0.10527667078621497 and parameters: {'alpha': 0.07033665327839422, 'l1_ratio': 0.0006443289169529142, 'max_iter': 3443}. Best is trial 53 with value: 0.10435899176025963.\n",
      "[I 2024-02-18 01:16:19,631] Trial 89 finished with value: 0.109657462191719 and parameters: {'alpha': 0.19603890698607596, 'l1_ratio': 0.003707521943910129, 'max_iter': 3710}. Best is trial 53 with value: 0.10435899176025963.\n",
      "[I 2024-02-18 01:16:19,688] Trial 90 finished with value: 0.1144309385153138 and parameters: {'alpha': 0.12040223101006557, 'l1_ratio': 0.02991675390847685, 'max_iter': 3370}. Best is trial 53 with value: 0.10435899176025963.\n",
      "[I 2024-02-18 01:16:19,737] Trial 91 finished with value: 0.11505312049761991 and parameters: {'alpha': 0.07183079612644522, 'l1_ratio': 0.056044327556901086, 'max_iter': 4090}. Best is trial 53 with value: 0.10435899176025963.\n",
      "[I 2024-02-18 01:16:19,786] Trial 92 finished with value: 0.12559434424493315 and parameters: {'alpha': 0.04604332518137, 'l1_ratio': 0.31605252315697197, 'max_iter': 3258}. Best is trial 53 with value: 0.10435899176025963.\n",
      "[I 2024-02-18 01:16:19,832] Trial 93 finished with value: 0.11027564405045828 and parameters: {'alpha': 0.025367819946204268, 'l1_ratio': 0.09687387112240892, 'max_iter': 3435}. Best is trial 53 with value: 0.10435899176025963.\n",
      "[I 2024-02-18 01:16:19,877] Trial 94 finished with value: 0.11092851009607425 and parameters: {'alpha': 0.09695012535471317, 'l1_ratio': 0.022457428393493593, 'max_iter': 3009}. Best is trial 53 with value: 0.10435899176025963.\n",
      "[I 2024-02-18 01:16:19,926] Trial 95 finished with value: 0.10490744842579691 and parameters: {'alpha': 0.05638410685620457, 'l1_ratio': 0.0008611881931294775, 'max_iter': 4649}. Best is trial 53 with value: 0.10435899176025963.\n",
      "[I 2024-02-18 01:16:19,966] Trial 96 finished with value: 0.11558041648198777 and parameters: {'alpha': 0.4751292212605657, 'l1_ratio': 0.00298205947737358, 'max_iter': 4247}. Best is trial 53 with value: 0.10435899176025963.\n",
      "[I 2024-02-18 01:16:20,013] Trial 97 finished with value: 0.11130850092976853 and parameters: {'alpha': 0.06220264955898484, 'l1_ratio': 0.040957044090547214, 'max_iter': 4688}. Best is trial 53 with value: 0.10435899176025963.\n",
      "[I 2024-02-18 01:16:20,057] Trial 98 finished with value: 0.18127581293477812 and parameters: {'alpha': 0.1558490258070734, 'l1_ratio': 0.4559529699665142, 'max_iter': 3883}. Best is trial 53 with value: 0.10435899176025963.\n",
      "[I 2024-02-18 01:16:20,100] Trial 99 finished with value: 0.12040571644692483 and parameters: {'alpha': 0.12889152619455105, 'l1_ratio': 0.06866831651348014, 'max_iter': 2827}. Best is trial 53 with value: 0.10435899176025963.\n",
      "[I 2024-02-18 01:16:20,149] Trial 100 finished with value: 0.11790196623093487 and parameters: {'alpha': 0.04819337642270444, 'l1_ratio': 0.11627277772697546, 'max_iter': 4430}. Best is trial 53 with value: 0.10435899176025963.\n",
      "[I 2024-02-18 01:16:20,201] Trial 101 finished with value: 0.10463519194073478 and parameters: {'alpha': 0.015591098547261087, 'l1_ratio': 0.019311154437653313, 'max_iter': 4876}. Best is trial 53 with value: 0.10435899176025963.\n",
      "[I 2024-02-18 01:16:20,250] Trial 102 finished with value: 0.10505152011640469 and parameters: {'alpha': 0.021674702969396695, 'l1_ratio': 0.02897204607321654, 'max_iter': 4883}. Best is trial 53 with value: 0.10435899176025963.\n",
      "[I 2024-02-18 01:16:20,295] Trial 103 finished with value: 0.1101920239017063 and parameters: {'alpha': 0.08232165361131272, 'l1_ratio': 0.02405447143171121, 'max_iter': 4912}. Best is trial 53 with value: 0.10435899176025963.\n",
      "[I 2024-02-18 01:16:20,341] Trial 104 finished with value: 0.11050896041874761 and parameters: {'alpha': 0.029058904557554475, 'l1_ratio': 0.08635383379526802, 'max_iter': 4997}. Best is trial 53 with value: 0.10435899176025963.\n",
      "[I 2024-02-18 01:16:20,391] Trial 105 finished with value: 0.1052859905618191 and parameters: {'alpha': 0.014017968370573524, 'l1_ratio': 0.05450016507609014, 'max_iter': 4846}. Best is trial 53 with value: 0.10435899176025963.\n",
      "[I 2024-02-18 01:16:20,439] Trial 106 finished with value: 0.10614208904917494 and parameters: {'alpha': 0.02025367881334937, 'l1_ratio': 0.053920117205021184, 'max_iter': 4826}. Best is trial 53 with value: 0.10435899176025963.\n",
      "[I 2024-02-18 01:16:20,489] Trial 107 finished with value: 0.10673182583152686 and parameters: {'alpha': 0.001211122507723942, 'l1_ratio': 0.9978454291023309, 'max_iter': 4501}. Best is trial 53 with value: 0.10435899176025963.\n",
      "[I 2024-02-18 01:16:20,534] Trial 108 finished with value: 0.10968555715810467 and parameters: {'alpha': 0.04955023768415259, 'l1_ratio': 0.04039457273965223, 'max_iter': 4747}. Best is trial 53 with value: 0.10435899176025963.\n",
      "[I 2024-02-18 01:16:20,631] Trial 109 finished with value: 0.11151773838282268 and parameters: {'alpha': 0.037450124349762914, 'l1_ratio': 0.07503631308748121, 'max_iter': 4857}. Best is trial 53 with value: 0.10435899176025963.\n"
     ]
    },
    {
     "name": "stderr",
     "output_type": "stream",
     "text": [
      "[I 2024-02-18 01:16:20,680] Trial 110 finished with value: 0.10859175548492712 and parameters: {'alpha': 0.07321179532086522, 'l1_ratio': 0.020100803342745922, 'max_iter': 4720}. Best is trial 53 with value: 0.10435899176025963.\n",
      "[I 2024-02-18 01:16:20,729] Trial 111 finished with value: 0.10614887935044046 and parameters: {'alpha': 0.02056405920791461, 'l1_ratio': 0.053124030133840046, 'max_iter': 4851}. Best is trial 53 with value: 0.10435899176025963.\n",
      "[I 2024-02-18 01:16:20,779] Trial 112 finished with value: 0.1090371403753791 and parameters: {'alpha': 0.01573222284752354, 'l1_ratio': 0.13118064975056667, 'max_iter': 4659}. Best is trial 53 with value: 0.10435899176025963.\n",
      "[I 2024-02-18 01:16:20,827] Trial 113 finished with value: 0.11251361380698129 and parameters: {'alpha': 0.055576768212756394, 'l1_ratio': 0.05527187441751408, 'max_iter': 4910}. Best is trial 53 with value: 0.10435899176025963.\n",
      "[I 2024-02-18 01:16:20,898] Trial 114 finished with value: 0.10649969699269383 and parameters: {'alpha': 0.0013578667146078617, 'l1_ratio': 0.10338460354494333, 'max_iter': 4799}. Best is trial 53 with value: 0.10435899176025963.\n",
      "[I 2024-02-18 01:16:20,953] Trial 115 finished with value: 0.11151439806364835 and parameters: {'alpha': 0.1079674781191791, 'l1_ratio': 0.022012741760816305, 'max_iter': 4461}. Best is trial 53 with value: 0.10435899176025963.\n",
      "[I 2024-02-18 01:16:21,015] Trial 116 finished with value: 0.10800165571767702 and parameters: {'alpha': 0.037652229346196234, 'l1_ratio': 0.041047240882096485, 'max_iter': 4987}. Best is trial 53 with value: 0.10435899176025963.\n",
      "[I 2024-02-18 01:16:21,068] Trial 117 finished with value: 0.11605480417051353 and parameters: {'alpha': 0.06978916401225904, 'l1_ratio': 0.06481087023688739, 'max_iter': 4286}. Best is trial 53 with value: 0.10435899176025963.\n",
      "[I 2024-02-18 01:16:21,121] Trial 118 finished with value: 0.12361006235937919 and parameters: {'alpha': 0.018852734359803204, 'l1_ratio': 0.6265033366650105, 'max_iter': 4734}. Best is trial 53 with value: 0.10435899176025963.\n",
      "[I 2024-02-18 01:16:21,179] Trial 119 finished with value: 0.12757306915152103 and parameters: {'alpha': 0.044773972228395666, 'l1_ratio': 0.37222098733577313, 'max_iter': 4632}. Best is trial 53 with value: 0.10435899176025963.\n",
      "[I 2024-02-18 01:16:21,235] Trial 120 finished with value: 0.11947935832274756 and parameters: {'alpha': 0.09223986488452582, 'l1_ratio': 0.08219278662935758, 'max_iter': 4538}. Best is trial 53 with value: 0.10435899176025963.\n",
      "[I 2024-02-18 01:16:21,293] Trial 121 finished with value: 0.10577858579836891 and parameters: {'alpha': 0.01902681070906851, 'l1_ratio': 0.05054381910155237, 'max_iter': 4860}. Best is trial 53 with value: 0.10435899176025963.\n",
      "[I 2024-02-18 01:16:21,338] Trial 122 finished with value: 0.11651526883265757 and parameters: {'alpha': 0.5516727032677101, 'l1_ratio': 0.002184393735499328, 'max_iter': 4882}. Best is trial 53 with value: 0.10435899176025963.\n",
      "[I 2024-02-18 01:16:21,381] Trial 123 finished with value: 0.1364698429634204 and parameters: {'alpha': 0.9657689205922808, 'l1_ratio': 0.01687879852501327, 'max_iter': 4788}. Best is trial 53 with value: 0.10435899176025963.\n",
      "[I 2024-02-18 01:16:21,476] Trial 124 finished with value: 0.10772237681981782 and parameters: {'alpha': 0.00014682044019533047, 'l1_ratio': 0.042527146323546705, 'max_iter': 4989}. Best is trial 53 with value: 0.10435899176025963.\n",
      "[I 2024-02-18 01:16:21,531] Trial 125 finished with value: 0.10741606714587938 and parameters: {'alpha': 0.022952772893451285, 'l1_ratio': 0.06468461876383982, 'max_iter': 4380}. Best is trial 53 with value: 0.10435899176025963.\n",
      "[I 2024-02-18 01:16:21,588] Trial 126 finished with value: 0.10974526989485674 and parameters: {'alpha': 0.05895305111993718, 'l1_ratio': 0.033312677954961796, 'max_iter': 4610}. Best is trial 53 with value: 0.10435899176025963.\n",
      "[I 2024-02-18 01:16:21,651] Trial 127 finished with value: 0.10846052694263011 and parameters: {'alpha': 0.01933712843687272, 'l1_ratio': 0.09478417439644349, 'max_iter': 4723}. Best is trial 53 with value: 0.10435899176025963.\n",
      "[I 2024-02-18 01:16:21,708] Trial 128 finished with value: 0.12009278111003925 and parameters: {'alpha': 0.0376368409903558, 'l1_ratio': 0.20779204990959782, 'max_iter': 4861}. Best is trial 53 with value: 0.10435899176025963.\n",
      "[I 2024-02-18 01:16:21,767] Trial 129 finished with value: 0.10529639952821296 and parameters: {'alpha': 0.07237722951112036, 'l1_ratio': 0.0002747894043938527, 'max_iter': 4562}. Best is trial 53 with value: 0.10435899176025963.\n",
      "[I 2024-02-18 01:16:21,819] Trial 130 finished with value: 0.10534169069197791 and parameters: {'alpha': 0.07238258490777189, 'l1_ratio': 0.0007233639034623689, 'max_iter': 4516}. Best is trial 53 with value: 0.10435899176025963.\n",
      "[I 2024-02-18 01:16:21,868] Trial 131 finished with value: 0.10796682508836368 and parameters: {'alpha': 0.07853841435288536, 'l1_ratio': 0.01535873003546206, 'max_iter': 4529}. Best is trial 53 with value: 0.10435899176025963.\n",
      "[I 2024-02-18 01:16:21,917] Trial 132 finished with value: 0.10499243400809433 and parameters: {'alpha': 0.05668439451369439, 'l1_ratio': 0.001621713957933783, 'max_iter': 4647}. Best is trial 53 with value: 0.10435899176025963.\n",
      "[I 2024-02-18 01:16:21,969] Trial 133 finished with value: 0.10678187095753854 and parameters: {'alpha': 0.11562291840680167, 'l1_ratio': 0.0016899706909837288, 'max_iter': 4384}. Best is trial 53 with value: 0.10435899176025963.\n",
      "[I 2024-02-18 01:16:22,026] Trial 134 finished with value: 0.10500872312540678 and parameters: {'alpha': 0.06210600201363781, 'l1_ratio': 0.00026842643853168687, 'max_iter': 4248}. Best is trial 53 with value: 0.10435899176025963.\n",
      "[I 2024-02-18 01:16:22,081] Trial 135 finished with value: 0.11150378138194778 and parameters: {'alpha': 0.09923448145525124, 'l1_ratio': 0.024429054594989306, 'max_iter': 4128}. Best is trial 53 with value: 0.10435899176025963.\n",
      "[I 2024-02-18 01:16:22,132] Trial 136 finished with value: 0.11617582063312068 and parameters: {'alpha': 0.13490983858309585, 'l1_ratio': 0.03284328650919745, 'max_iter': 120}. Best is trial 53 with value: 0.10435899176025963.\n",
      "[I 2024-02-18 01:16:22,178] Trial 137 finished with value: 0.15215499838550017 and parameters: {'alpha': 0.06183458259590298, 'l1_ratio': 0.7057506532186499, 'max_iter': 3956}. Best is trial 53 with value: 0.10435899176025963.\n",
      "[I 2024-02-18 01:16:22,223] Trial 138 finished with value: 0.17340962171480107 and parameters: {'alpha': 0.07823223365930446, 'l1_ratio': 0.7945489353723587, 'max_iter': 4285}. Best is trial 53 with value: 0.10435899176025963.\n",
      "[I 2024-02-18 01:16:22,272] Trial 139 finished with value: 0.10486206959522175 and parameters: {'alpha': 0.052684680193073846, 'l1_ratio': 0.0015169450338389512, 'max_iter': 4608}. Best is trial 53 with value: 0.10435899176025963.\n",
      "[I 2024-02-18 01:16:22,323] Trial 140 finished with value: 0.10473999258027628 and parameters: {'alpha': 0.04695068254608854, 'l1_ratio': 0.0020390246670135906, 'max_iter': 4625}. Best is trial 53 with value: 0.10435899176025963.\n",
      "[I 2024-02-18 01:16:22,374] Trial 141 finished with value: 0.10468844310815505 and parameters: {'alpha': 0.04263583870936958, 'l1_ratio': 0.00304490024162341, 'max_iter': 4612}. Best is trial 53 with value: 0.10435899176025963.\n",
      "[I 2024-02-18 01:16:22,432] Trial 142 finished with value: 0.10469033130418044 and parameters: {'alpha': 0.04832977247208743, 'l1_ratio': 0.000904783915818403, 'max_iter': 4648}. Best is trial 53 with value: 0.10435899176025963.\n",
      "[I 2024-02-18 01:16:22,484] Trial 143 finished with value: 0.10783060024217776 and parameters: {'alpha': 0.04690759470179388, 'l1_ratio': 0.03044995158709205, 'max_iter': 4675}. Best is trial 53 with value: 0.10435899176025963.\n",
      "[I 2024-02-18 01:16:22,541] Trial 144 finished with value: 0.10588036667006069 and parameters: {'alpha': 0.04656547772193116, 'l1_ratio': 0.015876729024675677, 'max_iter': 4424}. Best is trial 53 with value: 0.10435899176025963.\n",
      "[I 2024-02-18 01:16:22,601] Trial 145 finished with value: 0.1282764365601045 and parameters: {'alpha': 0.6616542400646745, 'l1_ratio': 0.0180436734107371, 'max_iter': 4614}. Best is trial 53 with value: 0.10435899176025963.\n"
     ]
    },
    {
     "name": "stderr",
     "output_type": "stream",
     "text": [
      "[I 2024-02-18 01:16:22,657] Trial 146 finished with value: 0.11664010633623696 and parameters: {'alpha': 0.0996175378123742, 'l1_ratio': 0.04808942222328785, 'max_iter': 4695}. Best is trial 53 with value: 0.10435899176025963.\n",
      "[I 2024-02-18 01:16:22,711] Trial 147 finished with value: 0.1116276140999763 and parameters: {'alpha': 0.03565542957216918, 'l1_ratio': 0.08031691946323316, 'max_iter': 4210}. Best is trial 53 with value: 0.10435899176025963.\n",
      "[I 2024-02-18 01:16:22,768] Trial 148 finished with value: 0.10479840200254828 and parameters: {'alpha': 0.0524150733001712, 'l1_ratio': 0.0008877599044653198, 'max_iter': 4442}. Best is trial 53 with value: 0.10435899176025963.\n",
      "[I 2024-02-18 01:16:22,824] Trial 149 finished with value: 0.11093066637764509 and parameters: {'alpha': 0.0908140801547246, 'l1_ratio': 0.024445162367270967, 'max_iter': 4354}. Best is trial 53 with value: 0.10435899176025963.\n",
      "[I 2024-02-18 01:16:22,880] Trial 150 finished with value: 0.11035286706572806 and parameters: {'alpha': 0.05752474745329786, 'l1_ratio': 0.03799329096361807, 'max_iter': 4068}. Best is trial 53 with value: 0.10435899176025963.\n",
      "[I 2024-02-18 01:16:22,939] Trial 151 finished with value: 0.10451807545355381 and parameters: {'alpha': 0.03684970337321121, 'l1_ratio': 0.0027380825251013194, 'max_iter': 4447}. Best is trial 53 with value: 0.10435899176025963.\n",
      "[I 2024-02-18 01:16:22,996] Trial 152 finished with value: 0.1045818273516586 and parameters: {'alpha': 0.03599966576889513, 'l1_ratio': 0.004397918393629556, 'max_iter': 4524}. Best is trial 53 with value: 0.10435899176025963.\n",
      "[I 2024-02-18 01:16:23,064] Trial 153 finished with value: 0.105503075713252 and parameters: {'alpha': 0.03817694585817476, 'l1_ratio': 0.017641075482506176, 'max_iter': 4501}. Best is trial 53 with value: 0.10435899176025963.\n",
      "[I 2024-02-18 01:16:23,142] Trial 154 finished with value: 0.10487418932787546 and parameters: {'alpha': 0.053899365730517866, 'l1_ratio': 0.0012635417262507982, 'max_iter': 4441}. Best is trial 53 with value: 0.10435899176025963.\n",
      "[I 2024-02-18 01:16:23,202] Trial 155 finished with value: 0.10508388297217412 and parameters: {'alpha': 0.057449984111006824, 'l1_ratio': 0.0024573667348644283, 'max_iter': 4435}. Best is trial 53 with value: 0.10435899176025963.\n",
      "[I 2024-02-18 01:16:23,256] Trial 156 finished with value: 0.10643539217654592 and parameters: {'alpha': 0.1132159133917095, 'l1_ratio': 0.00012891462618371376, 'max_iter': 4289}. Best is trial 53 with value: 0.10435899176025963.\n",
      "[I 2024-02-18 01:16:23,311] Trial 157 finished with value: 0.10729827680556797 and parameters: {'alpha': 0.03368376090947581, 'l1_ratio': 0.040684554321933165, 'max_iter': 4615}. Best is trial 53 with value: 0.10435899176025963.\n",
      "[I 2024-02-18 01:16:23,365] Trial 158 finished with value: 0.11740614218606651 and parameters: {'alpha': 0.08730310984922358, 'l1_ratio': 0.06108617139807873, 'max_iter': 4193}. Best is trial 53 with value: 0.10435899176025963.\n",
      "[I 2024-02-18 01:16:23,428] Trial 159 finished with value: 0.10730162520968202 and parameters: {'alpha': 0.05466965019660339, 'l1_ratio': 0.02190546057141438, 'max_iter': 4472}. Best is trial 53 with value: 0.10435899176025963.\n",
      "[I 2024-02-18 01:16:23,531] Trial 160 finished with value: 0.10659594240416548 and parameters: {'alpha': 0.0014318283920164362, 'l1_ratio': 0.07243471547460689, 'max_iter': 4726}. Best is trial 53 with value: 0.10435899176025963.\n",
      "[I 2024-02-18 01:16:23,591] Trial 161 finished with value: 0.10503073031456973 and parameters: {'alpha': 0.05835307426871795, 'l1_ratio': 0.0014974077805598022, 'max_iter': 4401}. Best is trial 53 with value: 0.10435899176025963.\n",
      "[I 2024-02-18 01:16:23,653] Trial 162 finished with value: 0.10662006217187495 and parameters: {'alpha': 0.03196163950689969, 'l1_ratio': 0.036567517575921894, 'max_iter': 4359}. Best is trial 53 with value: 0.10435899176025963.\n",
      "[I 2024-02-18 01:16:23,710] Trial 163 finished with value: 0.1077012356000208 and parameters: {'alpha': 0.060277071206652405, 'l1_ratio': 0.021238738878728947, 'max_iter': 4588}. Best is trial 53 with value: 0.10435899176025963.\n",
      "[I 2024-02-18 01:16:23,768] Trial 164 finished with value: 0.10509672546437222 and parameters: {'alpha': 0.033362731165887505, 'l1_ratio': 0.015869505266894745, 'max_iter': 4451}. Best is trial 53 with value: 0.10435899176025963.\n",
      "[I 2024-02-18 01:16:23,837] Trial 165 finished with value: 0.10561003987459172 and parameters: {'alpha': 0.0812576262435865, 'l1_ratio': 0.0007997219778562971, 'max_iter': 4667}. Best is trial 53 with value: 0.10435899176025963.\n",
      "[I 2024-02-18 01:16:23,913] Trial 166 finished with value: 0.10528582541459103 and parameters: {'alpha': 0.01670170184027527, 'l1_ratio': 0.0458478975669759, 'max_iter': 4781}. Best is trial 53 with value: 0.10435899176025963.\n",
      "[I 2024-02-18 01:16:23,974] Trial 167 finished with value: 0.11457848786693098 and parameters: {'alpha': 0.10415194546986808, 'l1_ratio': 0.03545605664126034, 'max_iter': 4533}. Best is trial 53 with value: 0.10435899176025963.\n",
      "[I 2024-02-18 01:16:24,034] Trial 168 finished with value: 0.10470261417088544 and parameters: {'alpha': 0.05033196848283969, 'l1_ratio': 0.00039921329638297647, 'max_iter': 4329}. Best is trial 53 with value: 0.10435899176025963.\n",
      "[I 2024-02-18 01:16:24,085] Trial 169 finished with value: 0.1200882439410434 and parameters: {'alpha': 0.13043288097744843, 'l1_ratio': 0.06426232325076384, 'max_iter': 4290}. Best is trial 53 with value: 0.10435899176025963.\n",
      "[I 2024-02-18 01:16:24,148] Trial 170 finished with value: 0.10475365494262581 and parameters: {'alpha': 0.05287429956403163, 'l1_ratio': 0.00022411344364404095, 'max_iter': 4199}. Best is trial 53 with value: 0.10435899176025963.\n",
      "[I 2024-02-18 01:16:24,216] Trial 171 finished with value: 0.10480163751552775 and parameters: {'alpha': 0.04941791598566382, 'l1_ratio': 0.0019207156862452372, 'max_iter': 4025}. Best is trial 53 with value: 0.10435899176025963.\n",
      "[I 2024-02-18 01:16:24,295] Trial 172 finished with value: 0.10623198889643494 and parameters: {'alpha': 0.045243377653645736, 'l1_ratio': 0.01993824636510276, 'max_iter': 4165}. Best is trial 53 with value: 0.10435899176025963.\n",
      "[I 2024-02-18 01:16:24,355] Trial 173 finished with value: 0.10825108533453887 and parameters: {'alpha': 0.0773152074173089, 'l1_ratio': 0.017051492247116693, 'max_iter': 4045}. Best is trial 53 with value: 0.10435899176025963.\n",
      "[I 2024-02-18 01:16:24,406] Trial 174 finished with value: 0.10454050866338542 and parameters: {'alpha': 0.04359282296688517, 'l1_ratio': 0.0003803248674311853, 'max_iter': 4244}. Best is trial 53 with value: 0.10435899176025963.\n",
      "[I 2024-02-18 01:16:24,460] Trial 175 finished with value: 0.10856410533646939 and parameters: {'alpha': 0.03762686484572932, 'l1_ratio': 0.045810795132131175, 'max_iter': 4570}. Best is trial 53 with value: 0.10435899176025963.\n",
      "[I 2024-02-18 01:16:24,558] Trial 176 finished with value: 0.10782399249925398 and parameters: {'alpha': 2.3541217091374578e-05, 'l1_ratio': 0.034747234934124946, 'max_iter': 4329}. Best is trial 53 with value: 0.10435899176025963.\n",
      "[I 2024-02-18 01:16:24,620] Trial 177 finished with value: 0.10585703768834524 and parameters: {'alpha': 0.08893848160389049, 'l1_ratio': 0.0009280078117783574, 'max_iter': 4415}. Best is trial 53 with value: 0.10435899176025963.\n",
      "[I 2024-02-18 01:16:24,685] Trial 178 finished with value: 0.1072160042448322 and parameters: {'alpha': 0.024396822379191885, 'l1_ratio': 0.05801150989321939, 'max_iter': 4214}. Best is trial 53 with value: 0.10435899176025963.\n",
      "[I 2024-02-18 01:16:24,746] Trial 179 finished with value: 0.10693731253113148 and parameters: {'alpha': 0.0526453132318446, 'l1_ratio': 0.020687367684504566, 'max_iter': 4490}. Best is trial 53 with value: 0.10435899176025963.\n",
      "[I 2024-02-18 01:16:24,809] Trial 180 finished with value: 0.10529587850195732 and parameters: {'alpha': 0.07163283318887229, 'l1_ratio': 0.00047664892233505044, 'max_iter': 3813}. Best is trial 53 with value: 0.10435899176025963.\n",
      "[I 2024-02-18 01:16:24,940] Trial 181 finished with value: 0.10462727978364691 and parameters: {'alpha': 0.04678766305066984, 'l1_ratio': 0.0005736975911140977, 'max_iter': 4122}. Best is trial 53 with value: 0.10435899176025963.\n"
     ]
    },
    {
     "name": "stderr",
     "output_type": "stream",
     "text": [
      "[I 2024-02-18 01:16:25,117] Trial 182 finished with value: 0.10629224220159067 and parameters: {'alpha': 0.04484947160401724, 'l1_ratio': 0.020743033421375453, 'max_iter': 3976}. Best is trial 53 with value: 0.10435899176025963.\n",
      "[I 2024-02-18 01:16:25,167] Trial 183 finished with value: 0.12724265746053978 and parameters: {'alpha': 0.40492997974121314, 'l1_ratio': 0.03692047185714946, 'max_iter': 4102}. Best is trial 53 with value: 0.10435899176025963.\n",
      "[I 2024-02-18 01:16:25,226] Trial 184 finished with value: 0.10438840947496027 and parameters: {'alpha': 0.020573704933568034, 'l1_ratio': 0.0007078908670300557, 'max_iter': 4659}. Best is trial 53 with value: 0.10435899176025963.\n",
      "[I 2024-02-18 01:16:25,279] Trial 185 finished with value: 0.10467883154868741 and parameters: {'alpha': 0.017415480990443426, 'l1_ratio': 0.021703840676469435, 'max_iter': 4273}. Best is trial 53 with value: 0.10435899176025963.\n",
      "[I 2024-02-18 01:16:25,331] Trial 186 finished with value: 0.10544008356586586 and parameters: {'alpha': 0.0166856097732988, 'l1_ratio': 0.049967661741111384, 'max_iter': 4119}. Best is trial 53 with value: 0.10435899176025963.\n",
      "[I 2024-02-18 01:16:25,389] Trial 187 finished with value: 0.10475346928361973 and parameters: {'alpha': 0.0202556679629773, 'l1_ratio': 0.022352590335615378, 'max_iter': 4309}. Best is trial 53 with value: 0.10435899176025963.\n",
      "[I 2024-02-18 01:16:25,454] Trial 188 finished with value: 0.10515181982614881 and parameters: {'alpha': 0.021372012056887112, 'l1_ratio': 0.031907629120138385, 'max_iter': 4283}. Best is trial 53 with value: 0.10435899176025963.\n",
      "[I 2024-02-18 01:16:25,538] Trial 189 finished with value: 0.1064941301518883 and parameters: {'alpha': 0.001625253410276686, 'l1_ratio': 0.06932671806090056, 'max_iter': 4031}. Best is trial 53 with value: 0.10435899176025963.\n",
      "[I 2024-02-18 01:16:25,596] Trial 190 finished with value: 0.10552512695269092 and parameters: {'alpha': 0.03076714733949904, 'l1_ratio': 0.025034305523896946, 'max_iter': 3904}. Best is trial 53 with value: 0.10435899176025963.\n",
      "[I 2024-02-18 01:16:25,644] Trial 191 finished with value: 0.12977461725679637 and parameters: {'alpha': 0.7576414798025916, 'l1_ratio': 0.015880389297859336, 'max_iter': 4334}. Best is trial 53 with value: 0.10435899176025963.\n",
      "[I 2024-02-18 01:16:25,700] Trial 192 finished with value: 0.1073106810778585 and parameters: {'alpha': 0.03159388493727337, 'l1_ratio': 0.04394044645627107, 'max_iter': 4162}. Best is trial 53 with value: 0.10435899176025963.\n",
      "[I 2024-02-18 01:16:25,762] Trial 193 finished with value: 0.10452421916880303 and parameters: {'alpha': 0.01646361963766029, 'l1_ratio': 0.00035394656416886977, 'max_iter': 4465}. Best is trial 53 with value: 0.10435899176025963.\n",
      "[I 2024-02-18 01:16:25,822] Trial 194 finished with value: 0.10467131745164535 and parameters: {'alpha': 0.016416319414288588, 'l1_ratio': 0.02143548768948835, 'max_iter': 4252}. Best is trial 53 with value: 0.10435899176025963.\n",
      "[I 2024-02-18 01:16:25,886] Trial 195 finished with value: 0.10471860005561381 and parameters: {'alpha': 0.013320230808163313, 'l1_ratio': 0.024362554085920786, 'max_iter': 4226}. Best is trial 53 with value: 0.10435899176025963.\n",
      "[I 2024-02-18 01:16:25,995] Trial 196 finished with value: 0.1075278642923067 and parameters: {'alpha': 0.0003619438379472706, 'l1_ratio': 0.0494815451116605, 'max_iter': 4268}. Best is trial 53 with value: 0.10435899176025963.\n",
      "[I 2024-02-18 01:16:26,061] Trial 197 finished with value: 0.10477240813691303 and parameters: {'alpha': 0.014616301845714982, 'l1_ratio': 0.029959648026869432, 'max_iter': 4214}. Best is trial 53 with value: 0.10435899176025963.\n",
      "[I 2024-02-18 01:16:26,117] Trial 198 finished with value: 0.10677693296911418 and parameters: {'alpha': 0.016298759660009758, 'l1_ratio': 0.08196818337917951, 'max_iter': 4186}. Best is trial 53 with value: 0.10435899176025963.\n",
      "[I 2024-02-18 01:16:26,177] Trial 199 finished with value: 0.10477642430104737 and parameters: {'alpha': 0.017137655304501922, 'l1_ratio': 0.027449249429009635, 'max_iter': 4366}. Best is trial 53 with value: 0.10435899176025963.\n",
      "[I 2024-02-18 01:16:26,236] Trial 200 finished with value: 0.10598148762669804 and parameters: {'alpha': 0.01790185047701492, 'l1_ratio': 0.05854123632133088, 'max_iter': 4231}. Best is trial 53 with value: 0.10435899176025963.\n",
      "[I 2024-02-18 01:16:26,294] Trial 201 finished with value: 0.10477162474642099 and parameters: {'alpha': 0.017722888726416797, 'l1_ratio': 0.02643871697598829, 'max_iter': 4310}. Best is trial 53 with value: 0.10435899176025963.\n",
      "[I 2024-02-18 01:16:26,353] Trial 202 finished with value: 0.1059496854299314 and parameters: {'alpha': 0.03194616083030076, 'l1_ratio': 0.029242001477661858, 'max_iter': 4343}. Best is trial 53 with value: 0.10435899176025963.\n",
      "[I 2024-02-18 01:16:26,490] Trial 203 finished with value: 0.1074493460358213 and parameters: {'alpha': 0.0005588837987814295, 'l1_ratio': 0.023390854683422453, 'max_iter': 4125}. Best is trial 53 with value: 0.10435899176025963.\n",
      "[I 2024-02-18 01:16:26,592] Trial 204 finished with value: 0.10725441858983321 and parameters: {'alpha': 0.03393383024579856, 'l1_ratio': 0.03993922621427359, 'max_iter': 4273}. Best is trial 53 with value: 0.10435899176025963.\n",
      "[I 2024-02-18 01:16:26,687] Trial 205 finished with value: 0.10783218281848703 and parameters: {'alpha': 1.4227706977835985e-05, 'l1_ratio': 0.020442128215100906, 'max_iter': 4495}. Best is trial 53 with value: 0.10435899176025963.\n",
      "[I 2024-02-18 01:16:26,738] Trial 206 finished with value: 0.12324634146021088 and parameters: {'alpha': 0.020905489118889602, 'l1_ratio': 0.5445616633639084, 'max_iter': 1778}. Best is trial 53 with value: 0.10435899176025963.\n",
      "[I 2024-02-18 01:16:26,814] Trial 207 finished with value: 0.10904810156559944 and parameters: {'alpha': 0.033042797044389664, 'l1_ratio': 0.05788990219309851, 'max_iter': 4374}. Best is trial 53 with value: 0.10435899176025963.\n",
      "[I 2024-02-18 01:16:26,885] Trial 208 finished with value: 0.10465881274027986 and parameters: {'alpha': 0.018507162975293288, 'l1_ratio': 0.019728278722205856, 'max_iter': 4177}. Best is trial 53 with value: 0.10435899176025963.\n",
      "[I 2024-02-18 01:16:26,955] Trial 209 finished with value: 0.11920944568170196 and parameters: {'alpha': 0.3238722811687728, 'l1_ratio': 0.017753740834945686, 'max_iter': 4554}. Best is trial 53 with value: 0.10435899176025963.\n",
      "[I 2024-02-18 01:16:27,022] Trial 210 finished with value: 0.10964573803975221 and parameters: {'alpha': 0.04002785881386718, 'l1_ratio': 0.051529718905469965, 'max_iter': 4119}. Best is trial 53 with value: 0.10435899176025963.\n",
      "[I 2024-02-18 01:16:27,095] Trial 211 finished with value: 0.10470716792356706 and parameters: {'alpha': 0.02038242547553932, 'l1_ratio': 0.020352512249085426, 'max_iter': 2051}. Best is trial 53 with value: 0.10435899176025963.\n",
      "[I 2024-02-18 01:16:27,154] Trial 212 finished with value: 0.10543314882081009 and parameters: {'alpha': 0.0379679649552882, 'l1_ratio': 0.01693544770136701, 'max_iter': 4751}. Best is trial 53 with value: 0.10435899176025963.\n",
      "[I 2024-02-18 01:16:27,216] Trial 213 finished with value: 0.10504139357825197 and parameters: {'alpha': 0.0172682813377134, 'l1_ratio': 0.03727214830053803, 'max_iter': 2451}. Best is trial 53 with value: 0.10435899176025963.\n",
      "[I 2024-02-18 01:16:27,271] Trial 214 finished with value: 0.1439608128462132 and parameters: {'alpha': 0.07387948331237809, 'l1_ratio': 0.48181272215134774, 'max_iter': 982}. Best is trial 53 with value: 0.10435899176025963.\n",
      "[I 2024-02-18 01:16:27,330] Trial 215 finished with value: 0.10546405197458483 and parameters: {'alpha': 0.037245010934697516, 'l1_ratio': 0.017909475350681422, 'max_iter': 4441}. Best is trial 53 with value: 0.10435899176025963.\n",
      "[I 2024-02-18 01:16:27,398] Trial 216 finished with value: 0.10466696155778892 and parameters: {'alpha': 0.013850820380913518, 'l1_ratio': 0.0006413402135382563, 'max_iter': 1256}. Best is trial 53 with value: 0.10435899176025963.\n",
      "[I 2024-02-18 01:16:27,466] Trial 217 finished with value: 0.1052801507504621 and parameters: {'alpha': 0.06849327860444891, 'l1_ratio': 0.001191924360497941, 'max_iter': 1302}. Best is trial 53 with value: 0.10435899176025963.\n"
     ]
    },
    {
     "name": "stderr",
     "output_type": "stream",
     "text": [
      "[I 2024-02-18 01:16:27,588] Trial 218 finished with value: 0.10705924252828287 and parameters: {'alpha': 0.0010213127464904909, 'l1_ratio': 0.03802332216909594, 'max_iter': 2291}. Best is trial 53 with value: 0.10435899176025963.\n",
      "[I 2024-02-18 01:16:27,647] Trial 219 finished with value: 0.1056796168862312 and parameters: {'alpha': 0.044142481224661696, 'l1_ratio': 0.015377358200237477, 'max_iter': 2073}. Best is trial 53 with value: 0.10435899176025963.\n",
      "[I 2024-02-18 01:16:27,712] Trial 220 finished with value: 0.1043297818147324 and parameters: {'alpha': 0.02440349895727379, 'l1_ratio': 0.00011879208184863849, 'max_iter': 1483}. Best is trial 220 with value: 0.1043297818147324.\n",
      "[I 2024-02-18 01:16:27,769] Trial 221 finished with value: 0.10435611008422335 and parameters: {'alpha': 0.02593515472231191, 'l1_ratio': 0.0026172625362947963, 'max_iter': 1482}. Best is trial 220 with value: 0.1043297818147324.\n",
      "[I 2024-02-18 01:16:27,829] Trial 222 finished with value: 0.10463290344698734 and parameters: {'alpha': 0.022065409332078057, 'l1_ratio': 0.01549692465962018, 'max_iter': 1468}. Best is trial 220 with value: 0.1043297818147324.\n",
      "[I 2024-02-18 01:16:27,888] Trial 223 finished with value: 0.10516443426873408 and parameters: {'alpha': 0.03398937368597862, 'l1_ratio': 0.016455774478386895, 'max_iter': 1541}. Best is trial 220 with value: 0.1043297818147324.\n",
      "[I 2024-02-18 01:16:27,990] Trial 224 finished with value: 0.10735905653142117 and parameters: {'alpha': 0.0008661130972617021, 'l1_ratio': 0.0010370860273270657, 'max_iter': 1441}. Best is trial 220 with value: 0.1043297818147324.\n",
      "[I 2024-02-18 01:16:28,048] Trial 225 finished with value: 0.10627571190081103 and parameters: {'alpha': 0.025067872806798577, 'l1_ratio': 0.04403325443232653, 'max_iter': 1191}. Best is trial 220 with value: 0.1043297818147324.\n",
      "[I 2024-02-18 01:16:28,107] Trial 226 finished with value: 0.10521927058800484 and parameters: {'alpha': 0.06558057304056891, 'l1_ratio': 0.0013642207111673054, 'max_iter': 1621}. Best is trial 220 with value: 0.1043297818147324.\n",
      "[I 2024-02-18 01:16:28,162] Trial 227 finished with value: 0.10822515462817217 and parameters: {'alpha': 0.04316570522113511, 'l1_ratio': 0.036452300247870995, 'max_iter': 1372}. Best is trial 220 with value: 0.1043297818147324.\n",
      "[I 2024-02-18 01:16:28,222] Trial 228 finished with value: 0.1048000070671137 and parameters: {'alpha': 0.024719258358148123, 'l1_ratio': 0.018444524342941818, 'max_iter': 1058}. Best is trial 220 with value: 0.1043297818147324.\n",
      "[I 2024-02-18 01:16:28,285] Trial 229 finished with value: 0.10575517728716162 and parameters: {'alpha': 0.014954093489518483, 'l1_ratio': 0.0651332347082814, 'max_iter': 1655}. Best is trial 220 with value: 0.1043297818147324.\n",
      "[I 2024-02-18 01:16:28,344] Trial 230 finished with value: 0.10921217779663568 and parameters: {'alpha': 0.04594093644400972, 'l1_ratio': 0.040522709770338006, 'max_iter': 1381}. Best is trial 220 with value: 0.1043297818147324.\n",
      "[I 2024-02-18 01:16:28,408] Trial 231 finished with value: 0.10442345889524496 and parameters: {'alpha': 0.019191114746865776, 'l1_ratio': 0.000360344990000993, 'max_iter': 1136}. Best is trial 220 with value: 0.1043297818147324.\n",
      "[I 2024-02-18 01:16:28,479] Trial 232 finished with value: 0.10456348568970435 and parameters: {'alpha': 0.015561959161927715, 'l1_ratio': 0.0009734662118729975, 'max_iter': 1233}. Best is trial 220 with value: 0.1043297818147324.\n",
      "[I 2024-02-18 01:16:28,549] Trial 233 finished with value: 0.10465167458261754 and parameters: {'alpha': 0.013704644301578632, 'l1_ratio': 0.01903288442809072, 'max_iter': 1100}. Best is trial 220 with value: 0.1043297818147324.\n",
      "[I 2024-02-18 01:16:28,672] Trial 234 finished with value: 0.1066419182574211 and parameters: {'alpha': 0.0020028900039321153, 'l1_ratio': 0.018881386841105314, 'max_iter': 1167}. Best is trial 220 with value: 0.1043297818147324.\n",
      "[I 2024-02-18 01:16:28,747] Trial 235 finished with value: 0.10433513512153052 and parameters: {'alpha': 0.02982917774174701, 'l1_ratio': 0.000678692260359151, 'max_iter': 1079}. Best is trial 220 with value: 0.1043297818147324.\n",
      "[I 2024-02-18 01:16:28,814] Trial 236 finished with value: 0.10438109563511506 and parameters: {'alpha': 0.033573984815171445, 'l1_ratio': 0.0009961275335836847, 'max_iter': 1254}. Best is trial 220 with value: 0.1043297818147324.\n",
      "[I 2024-02-18 01:16:28,880] Trial 237 finished with value: 0.10432650177878093 and parameters: {'alpha': 0.025099280541238483, 'l1_ratio': 0.00030434183337616275, 'max_iter': 1099}. Best is trial 237 with value: 0.10432650177878093.\n",
      "[I 2024-02-18 01:16:28,989] Trial 238 finished with value: 0.10744098474375204 and parameters: {'alpha': 0.0007185310558814641, 'l1_ratio': 0.0005143262946890534, 'max_iter': 1274}. Best is trial 237 with value: 0.10432650177878093.\n",
      "[I 2024-02-18 01:16:29,054] Trial 239 finished with value: 0.10628286748995708 and parameters: {'alpha': 0.02884125941083651, 'l1_ratio': 0.03740819850831453, 'max_iter': 1095}. Best is trial 237 with value: 0.10432650177878093.\n",
      "[I 2024-02-18 01:16:29,112] Trial 240 finished with value: 0.1223226911207909 and parameters: {'alpha': 0.43615397735064365, 'l1_ratio': 0.018420852387430468, 'max_iter': 928}. Best is trial 237 with value: 0.10432650177878093.\n",
      "[I 2024-02-18 01:16:29,174] Trial 241 finished with value: 0.1043428772461911 and parameters: {'alpha': 0.030369703995746206, 'l1_ratio': 0.0008528726051307126, 'max_iter': 1090}. Best is trial 237 with value: 0.10432650177878093.\n",
      "[I 2024-02-18 01:16:29,243] Trial 242 finished with value: 0.10433939449407913 and parameters: {'alpha': 0.02808188653492085, 'l1_ratio': 0.0013394427474971678, 'max_iter': 1120}. Best is trial 237 with value: 0.10432650177878093.\n",
      "[I 2024-02-18 01:16:29,323] Trial 243 finished with value: 0.10503537718591056 and parameters: {'alpha': 0.03112574469081003, 'l1_ratio': 0.01680148553006012, 'max_iter': 1137}. Best is trial 237 with value: 0.10432650177878093.\n",
      "[I 2024-02-18 01:16:29,405] Trial 244 finished with value: 0.1051294089014667 and parameters: {'alpha': 0.01907595228131155, 'l1_ratio': 0.03577574242420301, 'max_iter': 1235}. Best is trial 237 with value: 0.10432650177878093.\n",
      "[I 2024-02-18 01:16:29,482] Trial 245 finished with value: 0.10456507208072893 and parameters: {'alpha': 0.01905365622105666, 'l1_ratio': 0.014596728618793055, 'max_iter': 1042}. Best is trial 237 with value: 0.10432650177878093.\n",
      "[I 2024-02-18 01:16:29,546] Trial 246 finished with value: 0.10481974450670714 and parameters: {'alpha': 0.03128744610048889, 'l1_ratio': 0.012523077121769005, 'max_iter': 1055}. Best is trial 237 with value: 0.10432650177878093.\n",
      "[I 2024-02-18 01:16:29,607] Trial 247 finished with value: 0.11023484345316824 and parameters: {'alpha': 0.26719429733906963, 'l1_ratio': 0.0007144203466716787, 'max_iter': 969}. Best is trial 237 with value: 0.10432650177878093.\n",
      "[I 2024-02-18 01:16:29,677] Trial 248 finished with value: 0.11347383323916352 and parameters: {'alpha': 0.06453838136989862, 'l1_ratio': 0.0526248233331337, 'max_iter': 1160}. Best is trial 237 with value: 0.10432650177878093.\n",
      "[I 2024-02-18 01:16:29,746] Trial 249 finished with value: 0.10438928987359707 and parameters: {'alpha': 0.034912611189469256, 'l1_ratio': 0.0006765004154868403, 'max_iter': 841}. Best is trial 237 with value: 0.10432650177878093.\n",
      "[I 2024-02-18 01:16:29,826] Trial 250 finished with value: 0.10799046120881133 and parameters: {'alpha': 0.04042225018878778, 'l1_ratio': 0.03771303277695233, 'max_iter': 822}. Best is trial 237 with value: 0.10432650177878093.\n",
      "[I 2024-02-18 01:16:29,927] Trial 251 finished with value: 0.10518460724413654 and parameters: {'alpha': 0.06700414648134534, 'l1_ratio': 0.0005671894908436056, 'max_iter': 1252}. Best is trial 237 with value: 0.10432650177878093.\n",
      "[I 2024-02-18 01:16:30,071] Trial 252 finished with value: 0.10678957055442413 and parameters: {'alpha': 0.0016905635632886093, 'l1_ratio': 0.01972975171814396, 'max_iter': 1426}. Best is trial 237 with value: 0.10432650177878093.\n",
      "[I 2024-02-18 01:16:30,145] Trial 253 finished with value: 0.10435160419023023 and parameters: {'alpha': 0.032177124642264146, 'l1_ratio': 0.0005516634461351374, 'max_iter': 1063}. Best is trial 237 with value: 0.10432650177878093.\n"
     ]
    },
    {
     "name": "stderr",
     "output_type": "stream",
     "text": [
      "[I 2024-02-18 01:16:30,216] Trial 254 finished with value: 0.10739789903075388 and parameters: {'alpha': 0.037780431237593594, 'l1_ratio': 0.036233038905195324, 'max_iter': 708}. Best is trial 237 with value: 0.10432650177878093.\n",
      "[I 2024-02-18 01:16:30,300] Trial 255 finished with value: 0.10494557629417714 and parameters: {'alpha': 0.05983664718805505, 'l1_ratio': 0.0002712622980138779, 'max_iter': 941}. Best is trial 237 with value: 0.10432650177878093.\n",
      "[I 2024-02-18 01:16:30,378] Trial 256 finished with value: 0.10548753502175173 and parameters: {'alpha': 0.03572171736784237, 'l1_ratio': 0.019509944079889055, 'max_iter': 1083}. Best is trial 237 with value: 0.10432650177878093.\n",
      "[I 2024-02-18 01:16:30,451] Trial 257 finished with value: 0.11212205362455668 and parameters: {'alpha': 0.055494502056859324, 'l1_ratio': 0.05256324696695961, 'max_iter': 857}. Best is trial 237 with value: 0.10432650177878093.\n",
      "[I 2024-02-18 01:16:30,524] Trial 258 finished with value: 0.10570809106928106 and parameters: {'alpha': 0.026562937210390505, 'l1_ratio': 0.03346344555323905, 'max_iter': 1021}. Best is trial 237 with value: 0.10432650177878093.\n",
      "[I 2024-02-18 01:16:30,648] Trial 259 finished with value: 0.10701019067143348 and parameters: {'alpha': 0.001309787396271602, 'l1_ratio': 0.017745472083442015, 'max_iter': 1115}. Best is trial 237 with value: 0.10432650177878093.\n",
      "[I 2024-02-18 01:16:30,722] Trial 260 finished with value: 0.1059495032100751 and parameters: {'alpha': 0.04415649800312691, 'l1_ratio': 0.01805517382168586, 'max_iter': 1362}. Best is trial 237 with value: 0.10432650177878093.\n",
      "[I 2024-02-18 01:16:30,792] Trial 261 finished with value: 0.10552836796563321 and parameters: {'alpha': 0.08053409005474677, 'l1_ratio': 0.00026436307325162535, 'max_iter': 907}. Best is trial 237 with value: 0.10432650177878093.\n",
      "[I 2024-02-18 01:16:30,857] Trial 262 finished with value: 0.10662552771520474 and parameters: {'alpha': 0.022549244583325752, 'l1_ratio': 0.05507302180785539, 'max_iter': 1160}. Best is trial 237 with value: 0.10432650177878093.\n",
      "[I 2024-02-18 01:16:30,918] Trial 263 finished with value: 0.11009609323621751 and parameters: {'alpha': 0.05700154413531746, 'l1_ratio': 0.03673106745052951, 'max_iter': 1521}. Best is trial 237 with value: 0.10432650177878093.\n",
      "[I 2024-02-18 01:16:30,990] Trial 264 finished with value: 0.10513072726882793 and parameters: {'alpha': 0.030610956901215278, 'l1_ratio': 0.019078699387208697, 'max_iter': 1304}. Best is trial 237 with value: 0.10432650177878093.\n",
      "[I 2024-02-18 01:16:31,071] Trial 265 finished with value: 0.10494020416339642 and parameters: {'alpha': 0.01551568151024511, 'l1_ratio': 0.037560547728003824, 'max_iter': 1040}. Best is trial 237 with value: 0.10432650177878093.\n",
      "[I 2024-02-18 01:16:31,148] Trial 266 finished with value: 0.10525343466373967 and parameters: {'alpha': 0.07127961850127212, 'l1_ratio': 0.0001493881748652311, 'max_iter': 1205}. Best is trial 237 with value: 0.10432650177878093.\n",
      "[I 2024-02-18 01:16:31,219] Trial 267 finished with value: 0.11283576896214675 and parameters: {'alpha': 0.04392536080329803, 'l1_ratio': 0.07391046785423754, 'max_iter': 749}. Best is trial 237 with value: 0.10432650177878093.\n",
      "[I 2024-02-18 01:16:31,290] Trial 268 finished with value: 0.10467235641850285 and parameters: {'alpha': 0.01761444230002027, 'l1_ratio': 0.021159176436340327, 'max_iter': 551}. Best is trial 237 with value: 0.10432650177878093.\n",
      "[I 2024-02-18 01:16:31,364] Trial 269 finished with value: 0.10448720317069353 and parameters: {'alpha': 0.03905294130132485, 'l1_ratio': 0.0011612272298296357, 'max_iter': 1133}. Best is trial 237 with value: 0.10432650177878093.\n",
      "[I 2024-02-18 01:16:31,441] Trial 270 finished with value: 0.10508852570776041 and parameters: {'alpha': 0.057884471673030125, 'l1_ratio': 0.002330614635242167, 'max_iter': 1010}. Best is trial 237 with value: 0.10432650177878093.\n",
      "[I 2024-02-18 01:16:31,536] Trial 271 finished with value: 0.106866493706038 and parameters: {'alpha': 0.000273448349634324, 'l1_ratio': 0.5841782887631826, 'max_iter': 1122}. Best is trial 237 with value: 0.10432650177878093.\n",
      "[I 2024-02-18 01:16:31,599] Trial 272 finished with value: 0.11540942400862808 and parameters: {'alpha': 0.08401058591273486, 'l1_ratio': 0.04959828162028537, 'max_iter': 1230}. Best is trial 237 with value: 0.10432650177878093.\n",
      "[I 2024-02-18 01:16:31,661] Trial 273 finished with value: 0.1472680968585496 and parameters: {'alpha': 0.04256820411235728, 'l1_ratio': 0.9102040331620367, 'max_iter': 1316}. Best is trial 237 with value: 0.10432650177878093.\n",
      "[I 2024-02-18 01:16:31,734] Trial 274 finished with value: 0.10438486675925068 and parameters: {'alpha': 0.03594436796050774, 'l1_ratio': 0.00011016548010822896, 'max_iter': 957}. Best is trial 237 with value: 0.10432650177878093.\n",
      "[I 2024-02-18 01:16:31,813] Trial 275 finished with value: 0.10518264561548363 and parameters: {'alpha': 0.06745806627985951, 'l1_ratio': 0.00044371218221582687, 'max_iter': 947}. Best is trial 237 with value: 0.10432650177878093.\n",
      "[I 2024-02-18 01:16:31,886] Trial 276 finished with value: 0.12589392675361027 and parameters: {'alpha': 0.03814876671904649, 'l1_ratio': 0.3847002138159247, 'max_iter': 909}. Best is trial 237 with value: 0.10432650177878093.\n",
      "[I 2024-02-18 01:16:31,956] Trial 277 finished with value: 0.1095588456905967 and parameters: {'alpha': 0.054565347597416575, 'l1_ratio': 0.03529606017762865, 'max_iter': 829}. Best is trial 237 with value: 0.10432650177878093.\n",
      "[I 2024-02-18 01:16:32,022] Trial 278 finished with value: 0.1260762060903193 and parameters: {'alpha': 0.5485343587167593, 'l1_ratio': 0.020317345209028788, 'max_iter': 1489}. Best is trial 237 with value: 0.10432650177878093.\n",
      "[I 2024-02-18 01:16:32,099] Trial 279 finished with value: 0.10438884137355497 and parameters: {'alpha': 0.03538276383260325, 'l1_ratio': 0.00046371939599342677, 'max_iter': 1012}. Best is trial 237 with value: 0.10432650177878093.\n",
      "[I 2024-02-18 01:16:32,177] Trial 280 finished with value: 0.10580634548215037 and parameters: {'alpha': 0.08559579346277546, 'l1_ratio': 0.0013251217637289252, 'max_iter': 1043}. Best is trial 237 with value: 0.10432650177878093.\n",
      "[I 2024-02-18 01:16:32,258] Trial 281 finished with value: 0.1374037249039376 and parameters: {'alpha': 0.0378269642973045, 'l1_ratio': 0.741920479899074, 'max_iter': 1169}. Best is trial 237 with value: 0.10432650177878093.\n",
      "[I 2024-02-18 01:16:32,326] Trial 282 finished with value: 0.11054100857826855 and parameters: {'alpha': 0.06316573301284642, 'l1_ratio': 0.03525203971665321, 'max_iter': 1369}. Best is trial 237 with value: 0.10432650177878093.\n",
      "[I 2024-02-18 01:16:32,393] Trial 283 finished with value: 0.10561898756351357 and parameters: {'alpha': 0.0351968717906131, 'l1_ratio': 0.021650266243682395, 'max_iter': 1018}. Best is trial 237 with value: 0.10432650177878093.\n",
      "[I 2024-02-18 01:16:32,456] Trial 284 finished with value: 0.11171126847038668 and parameters: {'alpha': 0.0505858280484356, 'l1_ratio': 0.05509850671437973, 'max_iter': 1224}. Best is trial 237 with value: 0.10432650177878093.\n",
      "[I 2024-02-18 01:16:32,531] Trial 285 finished with value: 0.12058126118559455 and parameters: {'alpha': 0.8449671459871988, 'l1_ratio': 0.0009259367405956452, 'max_iter': 771}. Best is trial 237 with value: 0.10432650177878093.\n",
      "[I 2024-02-18 01:16:32,608] Trial 286 finished with value: 0.22652834912716688 and parameters: {'alpha': 0.37545318987301834, 'l1_ratio': 0.31986043482615495, 'max_iter': 1865}. Best is trial 237 with value: 0.10432650177878093.\n",
      "[I 2024-02-18 01:16:32,684] Trial 287 finished with value: 0.1043226178935765 and parameters: {'alpha': 0.028683407616190204, 'l1_ratio': 0.0003237054831431511, 'max_iter': 967}. Best is trial 287 with value: 0.1043226178935765.\n",
      "[I 2024-02-18 01:16:32,751] Trial 288 finished with value: 0.10542992467514722 and parameters: {'alpha': 0.07622388049953993, 'l1_ratio': 0.0005239837805668312, 'max_iter': 947}. Best is trial 287 with value: 0.1043226178935765.\n",
      "[I 2024-02-18 01:16:32,858] Trial 289 finished with value: 0.1074576091008217 and parameters: {'alpha': 0.0005035155676837363, 'l1_ratio': 0.0329897314990916, 'max_iter': 1113}. Best is trial 287 with value: 0.1043226178935765.\n"
     ]
    },
    {
     "name": "stderr",
     "output_type": "stream",
     "text": [
      "[I 2024-02-18 01:16:32,936] Trial 290 finished with value: 0.10438387598284898 and parameters: {'alpha': 0.03370879838500027, 'l1_ratio': 0.0010261047525771821, 'max_iter': 856}. Best is trial 287 with value: 0.1043226178935765.\n",
      "[I 2024-02-18 01:16:33,027] Trial 291 finished with value: 0.10434649326494361 and parameters: {'alpha': 0.03060664380648433, 'l1_ratio': 0.0009241463448312133, 'max_iter': 825}. Best is trial 287 with value: 0.1043226178935765.\n",
      "[I 2024-02-18 01:16:33,102] Trial 292 finished with value: 0.10556133780543969 and parameters: {'alpha': 0.02634577984362247, 'l1_ratio': 0.031500780342374426, 'max_iter': 704}. Best is trial 287 with value: 0.1043226178935765.\n",
      "[I 2024-02-18 01:16:33,171] Trial 293 finished with value: 0.1049329925259351 and parameters: {'alpha': 0.05900314961539167, 'l1_ratio': 0.00037492212065020036, 'max_iter': 795}. Best is trial 287 with value: 0.1043226178935765.\n",
      "[I 2024-02-18 01:16:33,232] Trial 294 finished with value: 0.11664404604628378 and parameters: {'alpha': 0.09534773200517506, 'l1_ratio': 0.05035230798415515, 'max_iter': 872}. Best is trial 287 with value: 0.1043226178935765.\n",
      "[I 2024-02-18 01:16:33,308] Trial 295 finished with value: 0.10501558007282893 and parameters: {'alpha': 0.029568521766607198, 'l1_ratio': 0.017949932739715752, 'max_iter': 973}. Best is trial 287 with value: 0.1043226178935765.\n",
      "[I 2024-02-18 01:16:33,393] Trial 296 finished with value: 0.10466497097650444 and parameters: {'alpha': 0.018974984497005867, 'l1_ratio': 0.019729328253410963, 'max_iter': 868}. Best is trial 287 with value: 0.1043226178935765.\n",
      "[I 2024-02-18 01:16:33,472] Trial 297 finished with value: 0.10856688017964565 and parameters: {'alpha': 0.0484530448413679, 'l1_ratio': 0.03385506086915014, 'max_iter': 1057}. Best is trial 287 with value: 0.1043226178935765.\n",
      "[I 2024-02-18 01:16:33,541] Trial 298 finished with value: 0.10433883344893828 and parameters: {'alpha': 0.030398116155409077, 'l1_ratio': 0.0006696395175890899, 'max_iter': 632}. Best is trial 287 with value: 0.1043226178935765.\n",
      "[I 2024-02-18 01:16:33,607] Trial 299 finished with value: 0.11459978958214835 and parameters: {'alpha': 0.06571252506867169, 'l1_ratio': 0.05822970226936858, 'max_iter': 578}. Best is trial 287 with value: 0.1043226178935765.\n"
     ]
    },
    {
     "name": "stdout",
     "output_type": "stream",
     "text": [
      "Best params:\n",
      "- alpha: 0.028683407616190204\n",
      "- l1_ratio: 0.0003237054831431511\n",
      "- max_iterations: 967\n",
      "Best RMSE: 0.1043226178935765\n"
     ]
    }
   ],
   "source": [
    "# ElasticNet + Optuna study\n",
    "\n",
    "def objective(trial):\n",
    "    alpha = trial.suggest_float('alpha', 0.0, 1.0)\n",
    "    l1_ratio = trial.suggest_float('l1_ratio', 0.0, 1.0)\n",
    "#     rstate = trial.suggest_int('random_state', 25, 50)\n",
    "    iterations = trial.suggest_int('max_iter', 100, 5000)\n",
    "    \n",
    "    model = ElasticNet(alpha=alpha, l1_ratio=l1_ratio, random_state=rst)\n",
    "    model.fit(X_train, y_train)\n",
    "    \n",
    "    predictions = model.predict(X_test)\n",
    "    rmse = np.sqrt(mean_squared_error(y_test, predictions))\n",
    "    return rmse\n",
    "\n",
    "study = optuna.create_study(direction='minimize')\n",
    "study.optimize(objective, n_trials=300)\n",
    "\n",
    "best_alpha = study.best_params['alpha']\n",
    "best_l1_ratio = study.best_params['l1_ratio']\n",
    "best_max_iterations = study.best_params['max_iter']\n",
    "\n",
    "print(f\"Best params:\\n- alpha: {best_alpha}\\n- l1_ratio: {best_l1_ratio}\\n- max_iterations: {best_max_iterations}\")\n",
    "print(f'Best RMSE: {study.best_trial.value}')"
   ]
  },
  {
   "cell_type": "code",
   "execution_count": 118,
   "metadata": {},
   "outputs": [
    {
     "name": "stdout",
     "output_type": "stream",
     "text": [
      "ElasticNet + Optuna:\n",
      "- RMSE: 0.1043\n",
      "- R2: 0.9298\n"
     ]
    }
   ],
   "source": [
    "# Optuna + ElasticNet results\n",
    "\n",
    "opt_enet_params = study.best_params\n",
    "\n",
    "opt_enet = ElasticNet(**opt_enet_params)\n",
    "opt_enet.fit(X_train, y_train)\n",
    "opt_preds = opt_enet.predict(X_test)\n",
    "rmse = np.sqrt(mean_squared_error(y_test, opt_preds))\n",
    "r2 = r2_score(y_test, opt_preds)\n",
    "print(f'ElasticNet + Optuna:\\n- RMSE: {rmse :.4f}\\n- R2: {r2 :.4f}')\n",
    "\n",
    "# saving test predictions\n",
    "optuna_train_pred['ElasticNet'] = opt_preds\n",
    "optuna_test_pred['ElasticNet'] = opt_enet.predict(test_data)\n",
    "optuna_results['ElasticNet'] = [rmse, r2]"
   ]
  },
  {
   "cell_type": "markdown",
   "metadata": {},
   "source": [
    "### Non linear models"
   ]
  },
  {
   "cell_type": "code",
   "execution_count": 119,
   "metadata": {},
   "outputs": [
    {
     "name": "stdout",
     "output_type": "stream",
     "text": [
      "LGBMRegressor(learning_rate=0.05, max_bin=100, max_depth=4, n_estimators=250,\n",
      "              num_leaves=50, verbose=-1)\n",
      "Testing performance\n",
      "RMSE: 0.112\n",
      "R2: 0.919 \n",
      "\n"
     ]
    }
   ],
   "source": [
    "model = LGBMRegressor(verbose=-1)\n",
    "\n",
    "# params_lgbm = {'n_estimators': [400, 1000],\n",
    "#         'learning_rate': [0.1],\n",
    "#         # 'colsample_bytree': [0.7, 0.8],\n",
    "#         'max_depth': [4, 8, 12],\n",
    "#         'num_leaves': [10, 50, 100, 150],\n",
    "#         'reg_alpha': [1.1, 1.2],\n",
    "#         'reg_lambda': [1.1, 1.2],\n",
    "#         'min_split_gain': [0.3, 0.4],\n",
    "#         'subsample': [0.8, 0.9],\n",
    "#         'subsample_freq': [10, 20]}\n",
    "\n",
    "# params_lgbm = {'learning_rate': [0.01, 0.03, 0.05, 0.1],\n",
    "#                 \"max_depth\": [4, 8, 12],\n",
    "#                 \"num_leaves\": [100, 180], \n",
    "#                 # \"max_bin\": [200],\n",
    "#                 'n_estimators': [250, 400]}\n",
    "\n",
    "params_lgbm = {'learning_rate': [ 0.05],\n",
    "                \"max_depth\": [4],\n",
    "                \"num_leaves\": [50], \n",
    "                \"max_bin\": [100],\n",
    "                'n_estimators': [250]}\n",
    "\n",
    "\n",
    "gs_alg = GridSearchCV(model, param_grid = params_lgbm, cv = 5, scoring = 'neg_mean_squared_error', n_jobs=-1)\n",
    "\n",
    "gs_alg.fit(X_train, y_train)\n",
    "\n",
    "print(gs_alg.best_estimator_)\n",
    "\n",
    "pred = gs_alg.predict(X_test)\n",
    "pred_t = gs_alg.predict(test_data)\n",
    "models_train_pred[model.__class__.__name__] = pred\n",
    "models_test_pred[model.__class__.__name__] = pred_t\n",
    "\n",
    "#pred = np.log1p(np.round(np.exp(pred) / 100) * 100)\n",
    "\n",
    "rmse = (np.sqrt(mean_squared_error(y_test, pred)))\n",
    "r2 = r2_score(y_test, pred)\n",
    "\n",
    "results[model.__class__.__name__] = [rmse, r2]\n",
    "\n",
    "print('Testing performance')\n",
    "print('RMSE: {:.3f}'.format(rmse))\n",
    "print('R2: {:.3f}'.format(r2), '\\n')\n",
    "\n",
    "# LGBMRegressor(learning_rate=0.05, max_bin=100, max_depth=4, n_estimators=250,\n",
    "#               num_leaves=50, verbose=-1)\n",
    "# Testing performance\n",
    "# RMSE: 0.112\n",
    "# R2: 0.919 "
   ]
  },
  {
   "cell_type": "code",
   "execution_count": 120,
   "metadata": {
    "scrolled": true
   },
   "outputs": [
    {
     "name": "stderr",
     "output_type": "stream",
     "text": [
      "[I 2024-02-18 01:17:11,124] A new study created in memory with name: no-name-f73b90bd-94f3-4852-8d4e-8927d2fa2cd2\n"
     ]
    },
    {
     "name": "stdout",
     "output_type": "stream",
     "text": [
      "[LightGBM] [Warning] lambda_l2 is set=0.01580794584704459, reg_lambda=6.5669245361212865e-06 will be ignored. Current value: lambda_l2=0.01580794584704459\n",
      "[LightGBM] [Warning] lambda_l1 is set=5.0915413930366086e-08, reg_alpha=0.377504998147682 will be ignored. Current value: lambda_l1=5.0915413930366086e-08\n"
     ]
    },
    {
     "name": "stderr",
     "output_type": "stream",
     "text": [
      "[I 2024-02-18 01:17:11,422] Trial 0 finished with value: 0.39591479996011736 and parameters: {'lambda_l1': 5.0915413930366086e-08, 'lambda_l2': 0.01580794584704459, 'num_leaves': 38, 'max_depth': 5, 'learning_rate': 0.018853363348324995, 'n_estimators': 516, 'min_child_samples': 27, 'subsample': 0.540181860713322, 'colsample_bytree': 0.9950945035873535, 'subsample_freq': 5, 'min_child_weight': 335.91400527774937, 'reg_alpha': 0.377504998147682, 'reg_lambda': 6.5669245361212865e-06}. Best is trial 0 with value: 0.39591479996011736.\n"
     ]
    },
    {
     "name": "stdout",
     "output_type": "stream",
     "text": [
      "[LightGBM] [Warning] lambda_l2 is set=0.00028262869390967727, reg_lambda=0.020423854025699392 will be ignored. Current value: lambda_l2=0.00028262869390967727\n",
      "[LightGBM] [Warning] lambda_l1 is set=0.004419486087515817, reg_alpha=0.41103838580293656 will be ignored. Current value: lambda_l1=0.004419486087515817\n"
     ]
    },
    {
     "name": "stderr",
     "output_type": "stream",
     "text": [
      "[I 2024-02-18 01:17:11,764] Trial 1 finished with value: 0.39591479996011736 and parameters: {'lambda_l1': 0.004419486087515817, 'lambda_l2': 0.00028262869390967727, 'num_leaves': 177, 'max_depth': 13, 'learning_rate': 0.20698205167664754, 'n_estimators': 404, 'min_child_samples': 45, 'subsample': 0.5050683907806999, 'colsample_bytree': 0.8729764907802124, 'subsample_freq': 1, 'min_child_weight': 1310.4358900013906, 'reg_alpha': 0.41103838580293656, 'reg_lambda': 0.020423854025699392}. Best is trial 0 with value: 0.39591479996011736.\n",
      "[I 2024-02-18 01:17:11,850] Trial 2 finished with value: 0.2520531706918908 and parameters: {'lambda_l1': 1.0504589324352827, 'lambda_l2': 0.3981077739117335, 'num_leaves': 90, 'max_depth': 3, 'learning_rate': 0.018657550433388254, 'n_estimators': 102, 'min_child_samples': 76, 'subsample': 0.6255735672026566, 'colsample_bytree': 0.9943428393068474, 'subsample_freq': 7, 'min_child_weight': 330.2845840097299, 'reg_alpha': 0.004708620682858538, 'reg_lambda': 0.061117956646515814}. Best is trial 2 with value: 0.2520531706918908.\n"
     ]
    },
    {
     "name": "stdout",
     "output_type": "stream",
     "text": [
      "[LightGBM] [Warning] lambda_l2 is set=0.3981077739117335, reg_lambda=0.061117956646515814 will be ignored. Current value: lambda_l2=0.3981077739117335\n",
      "[LightGBM] [Warning] lambda_l1 is set=1.0504589324352827, reg_alpha=0.004708620682858538 will be ignored. Current value: lambda_l1=1.0504589324352827\n",
      "[LightGBM] [Warning] lambda_l2 is set=0.0019090294131412935, reg_lambda=0.00012821636481106727 will be ignored. Current value: lambda_l2=0.0019090294131412935\n",
      "[LightGBM] [Warning] lambda_l1 is set=0.0015690620094371323, reg_alpha=6.172604616013765e-06 will be ignored. Current value: lambda_l1=0.0015690620094371323\n"
     ]
    },
    {
     "name": "stderr",
     "output_type": "stream",
     "text": [
      "[I 2024-02-18 01:17:12,090] Trial 3 finished with value: 0.12524447121838417 and parameters: {'lambda_l1': 0.0015690620094371323, 'lambda_l2': 0.0019090294131412935, 'num_leaves': 220, 'max_depth': 2, 'learning_rate': 0.0790735635098356, 'n_estimators': 778, 'min_child_samples': 100, 'subsample': 0.85669058203211, 'colsample_bytree': 0.8052953425896159, 'subsample_freq': 3, 'min_child_weight': 2.311927778222985, 'reg_alpha': 6.172604616013765e-06, 'reg_lambda': 0.00012821636481106727}. Best is trial 3 with value: 0.12524447121838417.\n"
     ]
    },
    {
     "name": "stdout",
     "output_type": "stream",
     "text": [
      "[LightGBM] [Warning] lambda_l2 is set=5.920779494054353e-05, reg_lambda=1.116327190948775 will be ignored. Current value: lambda_l2=5.920779494054353e-05\n",
      "[LightGBM] [Warning] lambda_l1 is set=1.8973223490213954e-08, reg_alpha=5.3077762156437664 will be ignored. Current value: lambda_l1=1.8973223490213954e-08\n"
     ]
    },
    {
     "name": "stderr",
     "output_type": "stream",
     "text": [
      "[I 2024-02-18 01:17:12,503] Trial 4 finished with value: 0.12509584763521098 and parameters: {'lambda_l1': 1.8973223490213954e-08, 'lambda_l2': 5.920779494054353e-05, 'num_leaves': 73, 'max_depth': 19, 'learning_rate': 0.03637838121636998, 'n_estimators': 566, 'min_child_samples': 68, 'subsample': 0.7283836070963943, 'colsample_bytree': 0.7718965505822268, 'subsample_freq': 8, 'min_child_weight': 0.04552613919044396, 'reg_alpha': 5.3077762156437664, 'reg_lambda': 1.116327190948775}. Best is trial 4 with value: 0.12509584763521098.\n",
      "[I 2024-02-18 01:17:12,612] Trial 5 finished with value: 0.39591479996011736 and parameters: {'lambda_l1': 4.008574722383351e-05, 'lambda_l2': 0.0006070781768459487, 'num_leaves': 229, 'max_depth': 20, 'learning_rate': 0.04157549259428706, 'n_estimators': 292, 'min_child_samples': 20, 'subsample': 0.8354580495230953, 'colsample_bytree': 0.7815838898495772, 'subsample_freq': 7, 'min_child_weight': 20747.479529918503, 'reg_alpha': 1.1021728986465025e-06, 'reg_lambda': 1.3735186169813116e-08}. Best is trial 4 with value: 0.12509584763521098.\n"
     ]
    },
    {
     "name": "stdout",
     "output_type": "stream",
     "text": [
      "[LightGBM] [Warning] lambda_l2 is set=0.0006070781768459487, reg_lambda=1.3735186169813116e-08 will be ignored. Current value: lambda_l2=0.0006070781768459487\n",
      "[LightGBM] [Warning] lambda_l1 is set=4.008574722383351e-05, reg_alpha=1.1021728986465025e-06 will be ignored. Current value: lambda_l1=4.008574722383351e-05\n",
      "[LightGBM] [Warning] lambda_l2 is set=2.5465272212775196, reg_lambda=1.3559562164392738e-07 will be ignored. Current value: lambda_l2=2.5465272212775196\n",
      "[LightGBM] [Warning] lambda_l1 is set=2.533380186378281e-06, reg_alpha=0.6463301959187618 will be ignored. Current value: lambda_l1=2.533380186378281e-06\n"
     ]
    },
    {
     "name": "stderr",
     "output_type": "stream",
     "text": [
      "[I 2024-02-18 01:17:13,720] Trial 6 finished with value: 0.11311809255279574 and parameters: {'lambda_l1': 2.533380186378281e-06, 'lambda_l2': 2.5465272212775196, 'num_leaves': 115, 'max_depth': 13, 'learning_rate': 0.00698234706406782, 'n_estimators': 904, 'min_child_samples': 28, 'subsample': 0.7501545997941887, 'colsample_bytree': 0.6793158366002577, 'subsample_freq': 10, 'min_child_weight': 5.578384253781475e-05, 'reg_alpha': 0.6463301959187618, 'reg_lambda': 1.3559562164392738e-07}. Best is trial 6 with value: 0.11311809255279574.\n",
      "[I 2024-02-18 01:17:13,847] Trial 7 finished with value: 0.12319500461463877 and parameters: {'lambda_l1': 2.0981113763508215, 'lambda_l2': 3.4737793602228656e-06, 'num_leaves': 30, 'max_depth': 7, 'learning_rate': 0.08608261301135478, 'n_estimators': 172, 'min_child_samples': 17, 'subsample': 0.8592145795940209, 'colsample_bytree': 0.8236538650772145, 'subsample_freq': 7, 'min_child_weight': 0.11656858603698396, 'reg_alpha': 9.927749719276892e-08, 'reg_lambda': 3.4488617712099973e-07}. Best is trial 6 with value: 0.11311809255279574.\n"
     ]
    },
    {
     "name": "stdout",
     "output_type": "stream",
     "text": [
      "[LightGBM] [Warning] lambda_l2 is set=3.4737793602228656e-06, reg_lambda=3.4488617712099973e-07 will be ignored. Current value: lambda_l2=3.4737793602228656e-06\n",
      "[LightGBM] [Warning] lambda_l1 is set=2.0981113763508215, reg_alpha=9.927749719276892e-08 will be ignored. Current value: lambda_l1=2.0981113763508215\n",
      "[LightGBM] [Warning] lambda_l2 is set=0.45259442041746334, reg_lambda=9.70342084559804e-05 will be ignored. Current value: lambda_l2=0.45259442041746334\n",
      "[LightGBM] [Warning] lambda_l1 is set=7.708276776513514e-08, reg_alpha=0.015586557744659273 will be ignored. Current value: lambda_l1=7.708276776513514e-08\n"
     ]
    },
    {
     "name": "stderr",
     "output_type": "stream",
     "text": [
      "[I 2024-02-18 01:17:14,533] Trial 8 finished with value: 0.12072052079870925 and parameters: {'lambda_l1': 7.708276776513514e-08, 'lambda_l2': 0.45259442041746334, 'num_leaves': 66, 'max_depth': 6, 'learning_rate': 0.007483416010953078, 'n_estimators': 460, 'min_child_samples': 11, 'subsample': 0.9692134677131741, 'colsample_bytree': 0.7499541162888803, 'subsample_freq': 1, 'min_child_weight': 2.4918361133441535e-05, 'reg_alpha': 0.015586557744659273, 'reg_lambda': 9.70342084559804e-05}. Best is trial 6 with value: 0.11311809255279574.\n"
     ]
    },
    {
     "name": "stdout",
     "output_type": "stream",
     "text": [
      "[LightGBM] [Warning] lambda_l2 is set=0.012661379339466778, reg_lambda=2.632919151472615e-05 will be ignored. Current value: lambda_l2=0.012661379339466778\n",
      "[LightGBM] [Warning] lambda_l1 is set=0.1354071617845355, reg_alpha=2.2222494754494383e-06 will be ignored. Current value: lambda_l1=0.1354071617845355\n"
     ]
    },
    {
     "name": "stderr",
     "output_type": "stream",
     "text": [
      "[I 2024-02-18 01:17:14,876] Trial 9 finished with value: 0.12890438193538298 and parameters: {'lambda_l1': 0.1354071617845355, 'lambda_l2': 0.012661379339466778, 'num_leaves': 159, 'max_depth': 10, 'learning_rate': 0.1866860257293995, 'n_estimators': 738, 'min_child_samples': 8, 'subsample': 0.9381466308065896, 'colsample_bytree': 0.9169034465658339, 'subsample_freq': 8, 'min_child_weight': 0.18663660934027634, 'reg_alpha': 2.2222494754494383e-06, 'reg_lambda': 2.632919151472615e-05}. Best is trial 6 with value: 0.11311809255279574.\n"
     ]
    },
    {
     "name": "stdout",
     "output_type": "stream",
     "text": [
      "[LightGBM] [Warning] lambda_l2 is set=1.3480579210008425e-08, reg_lambda=1.8104904810029385e-08 will be ignored. Current value: lambda_l2=1.3480579210008425e-08\n",
      "[LightGBM] [Warning] lambda_l1 is set=5.077628827631844e-05, reg_alpha=0.00024347609782407088 will be ignored. Current value: lambda_l1=5.077628827631844e-05\n"
     ]
    },
    {
     "name": "stderr",
     "output_type": "stream",
     "text": [
      "[I 2024-02-18 01:17:15,689] Trial 10 finished with value: 0.11743490251973572 and parameters: {'lambda_l1': 5.077628827631844e-05, 'lambda_l2': 1.3480579210008425e-08, 'num_leaves': 124, 'max_depth': 15, 'learning_rate': 0.00707162945670988, 'n_estimators': 985, 'min_child_samples': 44, 'subsample': 0.7389522342951682, 'colsample_bytree': 0.5983834642651725, 'subsample_freq': 10, 'min_child_weight': 1.9372141658024548e-05, 'reg_alpha': 0.00024347609782407088, 'reg_lambda': 1.8104904810029385e-08}. Best is trial 6 with value: 0.11311809255279574.\n"
     ]
    },
    {
     "name": "stdout",
     "output_type": "stream",
     "text": [
      "[LightGBM] [Warning] lambda_l2 is set=2.5664460952451143e-08, reg_lambda=1.6903756863730556e-08 will be ignored. Current value: lambda_l2=2.5664460952451143e-08\n",
      "[LightGBM] [Warning] lambda_l1 is set=9.53987733481296e-06, reg_alpha=0.00019617935267347803 will be ignored. Current value: lambda_l1=9.53987733481296e-06\n"
     ]
    },
    {
     "name": "stderr",
     "output_type": "stream",
     "text": [
      "[I 2024-02-18 01:17:16,505] Trial 11 finished with value: 0.12013904527432626 and parameters: {'lambda_l1': 9.53987733481296e-06, 'lambda_l2': 2.5664460952451143e-08, 'num_leaves': 120, 'max_depth': 15, 'learning_rate': 0.005145700320718317, 'n_estimators': 999, 'min_child_samples': 42, 'subsample': 0.709426489939444, 'colsample_bytree': 0.6086967005656094, 'subsample_freq': 10, 'min_child_weight': 1.261937827033833e-05, 'reg_alpha': 0.00019617935267347803, 'reg_lambda': 1.6903756863730556e-08}. Best is trial 6 with value: 0.11311809255279574.\n"
     ]
    },
    {
     "name": "stdout",
     "output_type": "stream",
     "text": [
      "[LightGBM] [Warning] lambda_l2 is set=7.629940527007801, reg_lambda=9.317339919098105e-07 will be ignored. Current value: lambda_l2=7.629940527007801\n",
      "[LightGBM] [Warning] lambda_l1 is set=1.9188333907872523e-06, reg_alpha=0.00012632893633838615 will be ignored. Current value: lambda_l1=1.9188333907872523e-06\n"
     ]
    },
    {
     "name": "stderr",
     "output_type": "stream",
     "text": [
      "[I 2024-02-18 01:17:17,536] Trial 12 finished with value: 0.11262769733919221 and parameters: {'lambda_l1': 1.9188333907872523e-06, 'lambda_l2': 7.629940527007801, 'num_leaves': 132, 'max_depth': 16, 'learning_rate': 0.012105677907500808, 'n_estimators': 997, 'min_child_samples': 37, 'subsample': 0.6839061671333577, 'colsample_bytree': 0.571596124937462, 'subsample_freq': 10, 'min_child_weight': 0.0006483278278026865, 'reg_alpha': 0.00012632893633838615, 'reg_lambda': 9.317339919098105e-07}. Best is trial 12 with value: 0.11262769733919221.\n"
     ]
    },
    {
     "name": "stdout",
     "output_type": "stream",
     "text": [
      "[LightGBM] [Warning] lambda_l2 is set=4.713771969376895, reg_lambda=5.414795140923618e-06 will be ignored. Current value: lambda_l2=4.713771969376895\n",
      "[LightGBM] [Warning] lambda_l1 is set=1.3687552629956818e-06, reg_alpha=0.008389306730312523 will be ignored. Current value: lambda_l1=1.3687552629956818e-06\n"
     ]
    },
    {
     "name": "stderr",
     "output_type": "stream",
     "text": [
      "[I 2024-02-18 01:17:18,424] Trial 13 finished with value: 0.11020668696670925 and parameters: {'lambda_l1': 1.3687552629956818e-06, 'lambda_l2': 4.713771969376895, 'num_leaves': 156, 'max_depth': 17, 'learning_rate': 0.014636962332313987, 'n_estimators': 775, 'min_child_samples': 31, 'subsample': 0.6516166997318986, 'colsample_bytree': 0.5130479516116574, 'subsample_freq': 10, 'min_child_weight': 0.0014107926915594808, 'reg_alpha': 0.008389306730312523, 'reg_lambda': 5.414795140923618e-06}. Best is trial 13 with value: 0.11020668696670925.\n"
     ]
    },
    {
     "name": "stdout",
     "output_type": "stream",
     "text": [
      "[LightGBM] [Warning] lambda_l2 is set=3.226603376912256, reg_lambda=2.096523633817834e-06 will be ignored. Current value: lambda_l2=3.226603376912256\n",
      "[LightGBM] [Warning] lambda_l1 is set=6.635834453563721e-07, reg_alpha=0.0055810135057688766 will be ignored. Current value: lambda_l1=6.635834453563721e-07\n"
     ]
    },
    {
     "name": "stderr",
     "output_type": "stream",
     "text": [
      "[I 2024-02-18 01:17:19,102] Trial 14 finished with value: 0.12272454722843877 and parameters: {'lambda_l1': 6.635834453563721e-07, 'lambda_l2': 3.226603376912256, 'num_leaves': 172, 'max_depth': 17, 'learning_rate': 0.016255250406845657, 'n_estimators': 758, 'min_child_samples': 61, 'subsample': 0.6223490950808847, 'colsample_bytree': 0.5003090376683705, 'subsample_freq': 9, 'min_child_weight': 0.0010579406395469363, 'reg_alpha': 0.0055810135057688766, 'reg_lambda': 2.096523633817834e-06}. Best is trial 13 with value: 0.11020668696670925.\n"
     ]
    },
    {
     "name": "stdout",
     "output_type": "stream",
     "text": [
      "[LightGBM] [Warning] lambda_l2 is set=6.984400627043976, reg_lambda=0.002626359757661133 will be ignored. Current value: lambda_l2=6.984400627043976\n",
      "[LightGBM] [Warning] lambda_l1 is set=5.559605271408309e-07, reg_alpha=3.19560724811679e-05 will be ignored. Current value: lambda_l1=5.559605271408309e-07\n"
     ]
    },
    {
     "name": "stderr",
     "output_type": "stream",
     "text": [
      "[I 2024-02-18 01:17:20,006] Trial 15 finished with value: 0.11485437270854008 and parameters: {'lambda_l1': 5.559605271408309e-07, 'lambda_l2': 6.984400627043976, 'num_leaves': 199, 'max_depth': 17, 'learning_rate': 0.012476954892659861, 'n_estimators': 647, 'min_child_samples': 33, 'subsample': 0.639494413627644, 'colsample_bytree': 0.5301476916796598, 'subsample_freq': 5, 'min_child_weight': 0.0011183706552626777, 'reg_alpha': 3.19560724811679e-05, 'reg_lambda': 0.002626359757661133}. Best is trial 13 with value: 0.11020668696670925.\n"
     ]
    },
    {
     "name": "stdout",
     "output_type": "stream",
     "text": [
      "[LightGBM] [Warning] lambda_l2 is set=0.06650532594451104, reg_lambda=1.7129578274756869e-06 will be ignored. Current value: lambda_l2=0.06650532594451104\n",
      "[LightGBM] [Warning] lambda_l1 is set=0.00048309563533180253, reg_alpha=1.0524494300107273e-08 will be ignored. Current value: lambda_l1=0.00048309563533180253\n"
     ]
    },
    {
     "name": "stderr",
     "output_type": "stream",
     "text": [
      "[I 2024-02-18 01:17:20,703] Trial 16 finished with value: 0.14243475635188016 and parameters: {'lambda_l1': 0.00048309563533180253, 'lambda_l2': 0.06650532594451104, 'num_leaves': 149, 'max_depth': 10, 'learning_rate': 0.4314249803022463, 'n_estimators': 867, 'min_child_samples': 53, 'subsample': 0.5797669644418868, 'colsample_bytree': 0.5697035944682716, 'subsample_freq': 9, 'min_child_weight': 0.00268265300273994, 'reg_alpha': 1.0524494300107273e-08, 'reg_lambda': 1.7129578274756869e-06}. Best is trial 13 with value: 0.11020668696670925.\n"
     ]
    },
    {
     "name": "stdout",
     "output_type": "stream",
     "text": [
      "[LightGBM] [Warning] lambda_l2 is set=0.19803211281266536, reg_lambda=0.0010703394504562366 will be ignored. Current value: lambda_l2=0.19803211281266536\n",
      "[LightGBM] [Warning] lambda_l1 is set=0.015995843660193267, reg_alpha=0.037894693862476514 will be ignored. Current value: lambda_l1=0.015995843660193267\n"
     ]
    },
    {
     "name": "stderr",
     "output_type": "stream",
     "text": [
      "[I 2024-02-18 01:17:21,393] Trial 17 finished with value: 0.12567025989854003 and parameters: {'lambda_l1': 0.015995843660193267, 'lambda_l2': 0.19803211281266536, 'num_leaves': 253, 'max_depth': 18, 'learning_rate': 0.028071402355353582, 'n_estimators': 856, 'min_child_samples': 83, 'subsample': 0.6764289337811535, 'colsample_bytree': 0.6830913733510984, 'subsample_freq': 3, 'min_child_weight': 5.411862609608948, 'reg_alpha': 0.037894693862476514, 'reg_lambda': 0.0010703394504562366}. Best is trial 13 with value: 0.11020668696670925.\n"
     ]
    },
    {
     "name": "stdout",
     "output_type": "stream",
     "text": [
      "[LightGBM] [Warning] lambda_l2 is set=2.454718954020249e-06, reg_lambda=4.2848036855850827e-07 will be ignored. Current value: lambda_l2=2.454718954020249e-06\n",
      "[LightGBM] [Warning] lambda_l1 is set=7.355239984438035e-05, reg_alpha=0.000941633239398857 will be ignored. Current value: lambda_l1=7.355239984438035e-05\n"
     ]
    },
    {
     "name": "stderr",
     "output_type": "stream",
     "text": [
      "[I 2024-02-18 01:17:22,229] Trial 18 finished with value: 0.11400960957337487 and parameters: {'lambda_l1': 7.355239984438035e-05, 'lambda_l2': 2.454718954020249e-06, 'num_leaves': 96, 'max_depth': 15, 'learning_rate': 0.012687808002758611, 'n_estimators': 629, 'min_child_samples': 37, 'subsample': 0.7931356684769715, 'colsample_bytree': 0.6774017564906649, 'subsample_freq': 9, 'min_child_weight': 0.006209237351751683, 'reg_alpha': 0.000941633239398857, 'reg_lambda': 4.2848036855850827e-07}. Best is trial 13 with value: 0.11020668696670925.\n"
     ]
    },
    {
     "name": "stdout",
     "output_type": "stream",
     "text": [
      "[LightGBM] [Warning] lambda_l2 is set=0.01386552447468949, reg_lambda=1.3356657162230365e-05 will be ignored. Current value: lambda_l2=0.01386552447468949\n",
      "[LightGBM] [Warning] lambda_l1 is set=3.927478594900388e-07, reg_alpha=2.1401296604836978e-05 will be ignored. Current value: lambda_l1=3.927478594900388e-07\n"
     ]
    },
    {
     "name": "stderr",
     "output_type": "stream",
     "text": [
      "[I 2024-02-18 01:17:24,266] Trial 19 finished with value: 0.11853159841007768 and parameters: {'lambda_l1': 3.927478594900388e-07, 'lambda_l2': 0.01386552447468949, 'num_leaves': 152, 'max_depth': 13, 'learning_rate': 0.06522963267959707, 'n_estimators': 920, 'min_child_samples': 55, 'subsample': 0.6748498621357354, 'colsample_bytree': 0.6349055801710073, 'subsample_freq': 6, 'min_child_weight': 0.00027130668079312757, 'reg_alpha': 2.1401296604836978e-05, 'reg_lambda': 1.3356657162230365e-05}. Best is trial 13 with value: 0.11020668696670925.\n"
     ]
    },
    {
     "name": "stdout",
     "output_type": "stream",
     "text": [
      "[LightGBM] [Warning] lambda_l2 is set=1.242284624096241, reg_lambda=1.1732619516331581e-07 will be ignored. Current value: lambda_l2=1.242284624096241\n",
      "[LightGBM] [Warning] lambda_l1 is set=7.008960796477256e-06, reg_alpha=0.05207344176491391 will be ignored. Current value: lambda_l1=7.008960796477256e-06\n"
     ]
    },
    {
     "name": "stderr",
     "output_type": "stream",
     "text": [
      "[I 2024-02-18 01:17:25,122] Trial 20 finished with value: 0.11107766633806647 and parameters: {'lambda_l1': 7.008960796477256e-06, 'lambda_l2': 1.242284624096241, 'num_leaves': 190, 'max_depth': 20, 'learning_rate': 0.010352842322202741, 'n_estimators': 674, 'min_child_samples': 26, 'subsample': 0.7892944585742936, 'colsample_bytree': 0.5504331559158332, 'subsample_freq': 8, 'min_child_weight': 0.02019216054156666, 'reg_alpha': 0.05207344176491391, 'reg_lambda': 1.1732619516331581e-07}. Best is trial 13 with value: 0.11020668696670925.\n"
     ]
    },
    {
     "name": "stdout",
     "output_type": "stream",
     "text": [
      "[LightGBM] [Warning] lambda_l2 is set=9.014806851962435, reg_lambda=5.772501706402725e-07 will be ignored. Current value: lambda_l2=9.014806851962435\n",
      "[LightGBM] [Warning] lambda_l1 is set=5.9665621353354955e-06, reg_alpha=0.06961360011039837 will be ignored. Current value: lambda_l1=5.9665621353354955e-06\n"
     ]
    },
    {
     "name": "stderr",
     "output_type": "stream",
     "text": [
      "[I 2024-02-18 01:17:28,451] Trial 21 finished with value: 0.11384138680834302 and parameters: {'lambda_l1': 5.9665621353354955e-06, 'lambda_l2': 9.014806851962435, 'num_leaves': 196, 'max_depth': 20, 'learning_rate': 0.010770841226628759, 'n_estimators': 716, 'min_child_samples': 23, 'subsample': 0.8134936529300304, 'colsample_bytree': 0.5382164815446141, 'subsample_freq': 10, 'min_child_weight': 0.017069016912170436, 'reg_alpha': 0.06961360011039837, 'reg_lambda': 5.772501706402725e-07}. Best is trial 13 with value: 0.11020668696670925.\n"
     ]
    },
    {
     "name": "stdout",
     "output_type": "stream",
     "text": [
      "[LightGBM] [Warning] lambda_l2 is set=1.2747497119839557, reg_lambda=9.573919139162294e-08 will be ignored. Current value: lambda_l2=1.2747497119839557\n",
      "[LightGBM] [Warning] lambda_l1 is set=2.8349289958587457e-06, reg_alpha=0.0016936124370565443 will be ignored. Current value: lambda_l1=2.8349289958587457e-06\n"
     ]
    },
    {
     "name": "stderr",
     "output_type": "stream",
     "text": [
      "[I 2024-02-18 01:17:29,384] Trial 22 finished with value: 0.11208650981345426 and parameters: {'lambda_l1': 2.8349289958587457e-06, 'lambda_l2': 1.2747497119839557, 'num_leaves': 140, 'max_depth': 17, 'learning_rate': 0.024515484086074176, 'n_estimators': 834, 'min_child_samples': 36, 'subsample': 0.7888959637167475, 'colsample_bytree': 0.5053010460396403, 'subsample_freq': 8, 'min_child_weight': 0.6378748324857906, 'reg_alpha': 0.0016936124370565443, 'reg_lambda': 9.573919139162294e-08}. Best is trial 13 with value: 0.11020668696670925.\n"
     ]
    },
    {
     "name": "stdout",
     "output_type": "stream",
     "text": [
      "[LightGBM] [Warning] lambda_l2 is set=0.8086815120312604, reg_lambda=9.250291139612506e-08 will be ignored. Current value: lambda_l2=0.8086815120312604\n",
      "[LightGBM] [Warning] lambda_l1 is set=1.5919460200143662e-07, reg_alpha=0.001555496362980487 will be ignored. Current value: lambda_l1=1.5919460200143662e-07\n"
     ]
    },
    {
     "name": "stderr",
     "output_type": "stream",
     "text": [
      "[I 2024-02-18 01:17:30,979] Trial 23 finished with value: 0.110893703495541 and parameters: {'lambda_l1': 1.5919460200143662e-07, 'lambda_l2': 0.8086815120312604, 'num_leaves': 187, 'max_depth': 18, 'learning_rate': 0.022597090072369045, 'n_estimators': 663, 'min_child_samples': 14, 'subsample': 0.9025163218837717, 'colsample_bytree': 0.5018148123250727, 'subsample_freq': 8, 'min_child_weight': 10.782366791025975, 'reg_alpha': 0.001555496362980487, 'reg_lambda': 9.250291139612506e-08}. Best is trial 13 with value: 0.11020668696670925.\n"
     ]
    },
    {
     "name": "stdout",
     "output_type": "stream",
     "text": [
      "[LightGBM] [Warning] lambda_l2 is set=0.17835841530479243, reg_lambda=1.0698088693706548e-07 will be ignored. Current value: lambda_l2=0.17835841530479243\n",
      "[LightGBM] [Warning] lambda_l1 is set=2.1967319079617316e-07, reg_alpha=3.4059619242652635 will be ignored. Current value: lambda_l1=2.1967319079617316e-07\n"
     ]
    },
    {
     "name": "stderr",
     "output_type": "stream",
     "text": [
      "[I 2024-02-18 01:17:32,800] Trial 24 finished with value: 0.11294128693860025 and parameters: {'lambda_l1': 2.1967319079617316e-07, 'lambda_l2': 0.17835841530479243, 'num_leaves': 191, 'max_depth': 19, 'learning_rate': 0.026808215376488524, 'n_estimators': 643, 'min_child_samples': 13, 'subsample': 0.9024196670562797, 'colsample_bytree': 0.5549750848629768, 'subsample_freq': 6, 'min_child_weight': 10.677159932928953, 'reg_alpha': 3.4059619242652635, 'reg_lambda': 1.0698088693706548e-07}. Best is trial 13 with value: 0.11020668696670925.\n"
     ]
    },
    {
     "name": "stdout",
     "output_type": "stream",
     "text": [
      "[LightGBM] [Warning] lambda_l2 is set=0.03872002017739674, reg_lambda=6.277433163025836e-06 will be ignored. Current value: lambda_l2=0.03872002017739674\n",
      "[LightGBM] [Warning] lambda_l1 is set=2.0107552591959955e-05, reg_alpha=0.0981011779051226 will be ignored. Current value: lambda_l1=2.0107552591959955e-05\n"
     ]
    },
    {
     "name": "stderr",
     "output_type": "stream",
     "text": [
      "[I 2024-02-18 01:17:33,628] Trial 25 finished with value: 0.1172865397665524 and parameters: {'lambda_l1': 2.0107552591959955e-05, 'lambda_l2': 0.03872002017739674, 'num_leaves': 218, 'max_depth': 20, 'learning_rate': 0.009794454450557452, 'n_estimators': 556, 'min_child_samples': 8, 'subsample': 0.9009038304704339, 'colsample_bytree': 0.6357655532635034, 'subsample_freq': 8, 'min_child_weight': 36.22166307455601, 'reg_alpha': 0.0981011779051226, 'reg_lambda': 6.277433163025836e-06}. Best is trial 13 with value: 0.11020668696670925.\n"
     ]
    },
    {
     "name": "stdout",
     "output_type": "stream",
     "text": [
      "[LightGBM] [Warning] lambda_l2 is set=1.244117293072984, reg_lambda=4.16000295051878e-08 will be ignored. Current value: lambda_l2=1.244117293072984\n",
      "[LightGBM] [Warning] lambda_l1 is set=0.0002321808473661548, reg_alpha=0.0071278861295060066 will be ignored. Current value: lambda_l1=0.0002321808473661548\n"
     ]
    },
    {
     "name": "stderr",
     "output_type": "stream",
     "text": [
      "[I 2024-02-18 01:17:34,618] Trial 26 finished with value: 0.1123268447636336 and parameters: {'lambda_l1': 0.0002321808473661548, 'lambda_l2': 1.244117293072984, 'num_leaves': 252, 'max_depth': 18, 'learning_rate': 0.05290365410944237, 'n_estimators': 680, 'min_child_samples': 27, 'subsample': 0.7639070419932286, 'colsample_bytree': 0.5280470366656943, 'subsample_freq': 9, 'min_child_weight': 0.33413304425598495, 'reg_alpha': 0.0071278861295060066, 'reg_lambda': 4.16000295051878e-08}. Best is trial 13 with value: 0.11020668696670925.\n"
     ]
    },
    {
     "name": "stdout",
     "output_type": "stream",
     "text": [
      "[LightGBM] [Warning] lambda_l2 is set=0.5966470764918681, reg_lambda=5.9656707662279354e-05 will be ignored. Current value: lambda_l2=0.5966470764918681\n",
      "[LightGBM] [Warning] lambda_l1 is set=1.5105782007530434e-08, reg_alpha=0.0008771350387033844 will be ignored. Current value: lambda_l1=1.5105782007530434e-08\n"
     ]
    },
    {
     "name": "stderr",
     "output_type": "stream",
     "text": [
      "[I 2024-02-18 01:17:35,400] Trial 27 finished with value: 0.1483875145613577 and parameters: {'lambda_l1': 1.5105782007530434e-08, 'lambda_l2': 0.5966470764918681, 'num_leaves': 174, 'max_depth': 12, 'learning_rate': 0.005103595747734347, 'n_estimators': 368, 'min_child_samples': 22, 'subsample': 0.9830696231396376, 'colsample_bytree': 0.6076334554396335, 'subsample_freq': 4, 'min_child_weight': 0.023410808269134, 'reg_alpha': 0.0008771350387033844, 'reg_lambda': 5.9656707662279354e-05}. Best is trial 13 with value: 0.11020668696670925.\n"
     ]
    },
    {
     "name": "stdout",
     "output_type": "stream",
     "text": [
      "[LightGBM] [Warning] lambda_l2 is set=0.0035156638034162216, reg_lambda=2.875717605843757e-06 will be ignored. Current value: lambda_l2=0.0035156638034162216\n",
      "[LightGBM] [Warning] lambda_l1 is set=1.2179329647092366e-07, reg_alpha=0.02903480656578885 will be ignored. Current value: lambda_l1=1.2179329647092366e-07\n"
     ]
    },
    {
     "name": "stderr",
     "output_type": "stream",
     "text": [
      "[I 2024-02-18 01:17:37,310] Trial 28 finished with value: 0.11091324424731601 and parameters: {'lambda_l1': 1.2179329647092366e-07, 'lambda_l2': 0.0035156638034162216, 'num_leaves': 209, 'max_depth': 18, 'learning_rate': 0.01837514017768856, 'n_estimators': 803, 'min_child_samples': 16, 'subsample': 0.9028468870458042, 'colsample_bytree': 0.5049242359502432, 'subsample_freq': 7, 'min_child_weight': 0.0001506410090071005, 'reg_alpha': 0.02903480656578885, 'reg_lambda': 2.875717605843757e-06}. Best is trial 13 with value: 0.11020668696670925.\n"
     ]
    },
    {
     "name": "stdout",
     "output_type": "stream",
     "text": [
      "[LightGBM] [Warning] lambda_l2 is set=0.0042814205532742886, reg_lambda=4.106705961126254e-06 will be ignored. Current value: lambda_l2=0.0042814205532742886\n",
      "[LightGBM] [Warning] lambda_l1 is set=8.620211339392414e-08, reg_alpha=1.2200470992861199 will be ignored. Current value: lambda_l1=8.620211339392414e-08\n"
     ]
    },
    {
     "name": "stderr",
     "output_type": "stream",
     "text": [
      "[I 2024-02-18 01:17:40,735] Trial 29 finished with value: 0.11791393057904097 and parameters: {'lambda_l1': 8.620211339392414e-08, 'lambda_l2': 0.0042814205532742886, 'num_leaves': 236, 'max_depth': 14, 'learning_rate': 0.01895576464658496, 'n_estimators': 790, 'min_child_samples': 5, 'subsample': 0.907089427776113, 'colsample_bytree': 0.729705823122413, 'subsample_freq': 6, 'min_child_weight': 0.00023904151700498654, 'reg_alpha': 1.2200470992861199, 'reg_lambda': 4.106705961126254e-06}. Best is trial 13 with value: 0.11020668696670925.\n"
     ]
    },
    {
     "name": "stdout",
     "output_type": "stream",
     "text": [
      "[LightGBM] [Warning] lambda_l2 is set=6.407507311488913e-06, reg_lambda=0.0003352343208148463 will be ignored. Current value: lambda_l2=6.407507311488913e-06\n",
      "[LightGBM] [Warning] lambda_l1 is set=5.029327503482737e-08, reg_alpha=0.13603051435838245 will be ignored. Current value: lambda_l1=5.029327503482737e-08\n"
     ]
    },
    {
     "name": "stderr",
     "output_type": "stream",
     "text": [
      "[I 2024-02-18 01:17:41,205] Trial 30 finished with value: 0.12294354588659079 and parameters: {'lambda_l1': 5.029327503482737e-08, 'lambda_l2': 6.407507311488913e-06, 'num_leaves': 207, 'max_depth': 9, 'learning_rate': 0.03738623553310439, 'n_estimators': 522, 'min_child_samples': 31, 'subsample': 0.5767087154614353, 'colsample_bytree': 0.5008083992948342, 'subsample_freq': 7, 'min_child_weight': 54.18706478637647, 'reg_alpha': 0.13603051435838245, 'reg_lambda': 0.0003352343208148463}. Best is trial 13 with value: 0.11020668696670925.\n"
     ]
    },
    {
     "name": "stdout",
     "output_type": "stream",
     "text": [
      "[LightGBM] [Warning] lambda_l2 is set=0.06387626021520572, reg_lambda=1.1800985331001226e-05 will be ignored. Current value: lambda_l2=0.06387626021520572\n",
      "[LightGBM] [Warning] lambda_l1 is set=1.6047129737471774e-07, reg_alpha=0.027033016409219797 will be ignored. Current value: lambda_l1=1.6047129737471774e-07\n"
     ]
    },
    {
     "name": "stderr",
     "output_type": "stream",
     "text": [
      "[I 2024-02-18 01:17:41,755] Trial 31 finished with value: 0.11229606208043298 and parameters: {'lambda_l1': 1.6047129737471774e-07, 'lambda_l2': 0.06387626021520572, 'num_leaves': 4, 'max_depth': 18, 'learning_rate': 0.0167339955469696, 'n_estimators': 586, 'min_child_samples': 16, 'subsample': 0.9402358475460185, 'colsample_bytree': 0.547842603669064, 'subsample_freq': 8, 'min_child_weight': 0.00011062547374709065, 'reg_alpha': 0.027033016409219797, 'reg_lambda': 1.1800985331001226e-05}. Best is trial 13 with value: 0.11020668696670925.\n"
     ]
    },
    {
     "name": "stdout",
     "output_type": "stream",
     "text": [
      "[LightGBM] [Warning] lambda_l2 is set=9.880736305424035e-05, reg_lambda=2.59197394966005e-07 will be ignored. Current value: lambda_l2=9.880736305424035e-05\n",
      "[LightGBM] [Warning] lambda_l1 is set=9.873461325656794e-07, reg_alpha=0.23412213603619939 will be ignored. Current value: lambda_l1=9.873461325656794e-07\n"
     ]
    },
    {
     "name": "stderr",
     "output_type": "stream",
     "text": [
      "[I 2024-02-18 01:17:44,465] Trial 32 finished with value: 0.11449935647404198 and parameters: {'lambda_l1': 9.873461325656794e-07, 'lambda_l2': 9.880736305424035e-05, 'num_leaves': 188, 'max_depth': 19, 'learning_rate': 0.026418524019204963, 'n_estimators': 704, 'min_child_samples': 23, 'subsample': 0.8712385180855249, 'colsample_bytree': 0.5771866899255753, 'subsample_freq': 9, 'min_child_weight': 0.0065862704183681006, 'reg_alpha': 0.23412213603619939, 'reg_lambda': 2.59197394966005e-07}. Best is trial 13 with value: 0.11020668696670925.\n"
     ]
    },
    {
     "name": "stdout",
     "output_type": "stream",
     "text": [
      "[LightGBM] [Warning] lambda_l2 is set=0.1369605999341227, reg_lambda=6.129973215584052e-08 will be ignored. Current value: lambda_l2=0.1369605999341227\n",
      "[LightGBM] [Warning] lambda_l1 is set=1.2799608135291897e-08, reg_alpha=0.002197840218271392 will be ignored. Current value: lambda_l1=1.2799608135291897e-08\n"
     ]
    },
    {
     "name": "stderr",
     "output_type": "stream",
     "text": [
      "[I 2024-02-18 01:17:45,025] Trial 33 finished with value: 0.16629383134825929 and parameters: {'lambda_l1': 1.2799608135291897e-08, 'lambda_l2': 0.1369605999341227, 'num_leaves': 171, 'max_depth': 16, 'learning_rate': 0.008849908082311012, 'n_estimators': 796, 'min_child_samples': 15, 'subsample': 0.8289179754392371, 'colsample_bytree': 0.5006495157049314, 'subsample_freq': 7, 'min_child_weight': 239.63566386428226, 'reg_alpha': 0.002197840218271392, 'reg_lambda': 6.129973215584052e-08}. Best is trial 13 with value: 0.11020668696670925.\n",
      "[I 2024-02-18 01:17:45,317] Trial 34 finished with value: 0.39591479996011736 and parameters: {'lambda_l1': 9.498926212577371e-06, 'lambda_l2': 0.004520450976809293, 'num_leaves': 212, 'max_depth': 16, 'learning_rate': 0.018603920856342732, 'n_estimators': 468, 'min_child_samples': 28, 'subsample': 0.949252090252771, 'colsample_bytree': 0.640287490114343, 'subsample_freq': 6, 'min_child_weight': 14298.246716218218, 'reg_alpha': 0.016095838777601904, 'reg_lambda': 2.220400827035067e-06}. Best is trial 13 with value: 0.11020668696670925.\n"
     ]
    },
    {
     "name": "stdout",
     "output_type": "stream",
     "text": [
      "[LightGBM] [Warning] lambda_l2 is set=0.004520450976809293, reg_lambda=2.220400827035067e-06 will be ignored. Current value: lambda_l2=0.004520450976809293\n",
      "[LightGBM] [Warning] lambda_l1 is set=9.498926212577371e-06, reg_alpha=0.016095838777601904 will be ignored. Current value: lambda_l1=9.498926212577371e-06\n",
      "[LightGBM] [Warning] lambda_l2 is set=0.9027332431705672, reg_lambda=0.38639664378658606 will be ignored. Current value: lambda_l2=0.9027332431705672\n",
      "[LightGBM] [Warning] lambda_l1 is set=4.04749838753758e-08, reg_alpha=0.0054311637695603765 will be ignored. Current value: lambda_l1=4.04749838753758e-08\n"
     ]
    },
    {
     "name": "stderr",
     "output_type": "stream",
     "text": [
      "[I 2024-02-18 01:17:45,757] Trial 35 finished with value: 0.39591479996011736 and parameters: {'lambda_l1': 4.04749838753758e-08, 'lambda_l2': 0.9027332431705672, 'num_leaves': 160, 'max_depth': 19, 'learning_rate': 0.014111288815720262, 'n_estimators': 593, 'min_child_samples': 20, 'subsample': 0.8818892217611451, 'colsample_bytree': 0.5349577340251896, 'subsample_freq': 8, 'min_child_weight': 1416.6932656756633, 'reg_alpha': 0.0054311637695603765, 'reg_lambda': 0.38639664378658606}. Best is trial 13 with value: 0.11020668696670925.\n"
     ]
    },
    {
     "name": "stdout",
     "output_type": "stream",
     "text": [
      "[LightGBM] [Warning] lambda_l2 is set=0.034266704101252835, reg_lambda=0.0052444186443404844 will be ignored. Current value: lambda_l2=0.034266704101252835\n",
      "[LightGBM] [Warning] lambda_l1 is set=1.666961786660966e-07, reg_alpha=1.3916104485526184 will be ignored. Current value: lambda_l1=1.666961786660966e-07\n"
     ]
    },
    {
     "name": "stderr",
     "output_type": "stream",
     "text": [
      "[I 2024-02-18 01:17:46,601] Trial 36 finished with value: 0.11630341449434191 and parameters: {'lambda_l1': 1.666961786660966e-07, 'lambda_l2': 0.034266704101252835, 'num_leaves': 232, 'max_depth': 20, 'learning_rate': 0.02128201427304935, 'n_estimators': 802, 'min_child_samples': 49, 'subsample': 0.7857676179470126, 'colsample_bytree': 0.5895811274835213, 'subsample_freq': 5, 'min_child_weight': 2.1443933006567075, 'reg_alpha': 1.3916104485526184, 'reg_lambda': 0.0052444186443404844}. Best is trial 13 with value: 0.11020668696670925.\n"
     ]
    },
    {
     "name": "stdout",
     "output_type": "stream",
     "text": [
      "[LightGBM] [Warning] lambda_l2 is set=0.0006184639032460408, reg_lambda=1.0075984030428284e-06 will be ignored. Current value: lambda_l2=0.0006184639032460408\n",
      "[LightGBM] [Warning] lambda_l1 is set=9.790976413268807e-07, reg_alpha=0.0005182376795510312 will be ignored. Current value: lambda_l1=9.790976413268807e-07\n"
     ]
    },
    {
     "name": "stderr",
     "output_type": "stream",
     "text": [
      "[I 2024-02-18 01:17:47,850] Trial 37 finished with value: 0.11138536624745478 and parameters: {'lambda_l1': 9.790976413268807e-07, 'lambda_l2': 0.0006184639032460408, 'num_leaves': 184, 'max_depth': 18, 'learning_rate': 0.03612327530961439, 'n_estimators': 680, 'min_child_samples': 11, 'subsample': 0.5414556021569562, 'colsample_bytree': 0.525363922763394, 'subsample_freq': 7, 'min_child_weight': 0.004177324315317992, 'reg_alpha': 0.0005182376795510312, 'reg_lambda': 1.0075984030428284e-06}. Best is trial 13 with value: 0.11020668696670925.\n"
     ]
    },
    {
     "name": "stdout",
     "output_type": "stream",
     "text": [
      "[LightGBM] [Warning] lambda_l2 is set=2.023229777432908e-05, reg_lambda=3.585979746736484e-05 will be ignored. Current value: lambda_l2=2.023229777432908e-05\n",
      "[LightGBM] [Warning] lambda_l1 is set=0.00014293268763224362, reg_alpha=0.31872663686552755 will be ignored. Current value: lambda_l1=0.00014293268763224362\n"
     ]
    },
    {
     "name": "stderr",
     "output_type": "stream",
     "text": [
      "[I 2024-02-18 01:17:49,123] Trial 38 finished with value: 0.1152293485755817 and parameters: {'lambda_l1': 0.00014293268763224362, 'lambda_l2': 2.023229777432908e-05, 'num_leaves': 210, 'max_depth': 14, 'learning_rate': 0.008963259688726312, 'n_estimators': 931, 'min_child_samples': 27, 'subsample': 0.8358003083787557, 'colsample_bytree': 0.963922941848051, 'subsample_freq': 8, 'min_child_weight': 0.045374734268076776, 'reg_alpha': 0.31872663686552755, 'reg_lambda': 3.585979746736484e-05}. Best is trial 13 with value: 0.11020668696670925.\n",
      "[I 2024-02-18 01:17:49,301] Trial 39 finished with value: 0.15124805192622912 and parameters: {'lambda_l1': 0.0008624796465773261, 'lambda_l2': 2.541067372221816, 'num_leaves': 98, 'max_depth': 3, 'learning_rate': 0.0503586572408752, 'n_estimators': 62, 'min_child_samples': 100, 'subsample': 0.7035205005221413, 'colsample_bytree': 0.5587436796393243, 'subsample_freq': 9, 'min_child_weight': 7.247350015837249e-05, 'reg_alpha': 3.7662918055202497e-05, 'reg_lambda': 0.00018000918191504343}. Best is trial 13 with value: 0.11020668696670925.\n"
     ]
    },
    {
     "name": "stdout",
     "output_type": "stream",
     "text": [
      "[LightGBM] [Warning] lambda_l2 is set=2.541067372221816, reg_lambda=0.00018000918191504343 will be ignored. Current value: lambda_l2=2.541067372221816\n",
      "[LightGBM] [Warning] lambda_l1 is set=0.0008624796465773261, reg_alpha=3.7662918055202497e-05 will be ignored. Current value: lambda_l1=0.0008624796465773261\n",
      "[LightGBM] [Warning] lambda_l2 is set=0.0015487575901555735, reg_lambda=2.656019697791016e-07 will be ignored. Current value: lambda_l2=0.0015487575901555735\n",
      "[LightGBM] [Warning] lambda_l1 is set=9.089577243421111, reg_alpha=0.03926096731609727 will be ignored. Current value: lambda_l1=9.089577243421111\n"
     ]
    },
    {
     "name": "stderr",
     "output_type": "stream",
     "text": [
      "[I 2024-02-18 01:17:49,625] Trial 40 finished with value: 0.15275113246882963 and parameters: {'lambda_l1': 9.089577243421111, 'lambda_l2': 0.0015487575901555735, 'num_leaves': 164, 'max_depth': 17, 'learning_rate': 0.014585338879294594, 'n_estimators': 473, 'min_child_samples': 82, 'subsample': 0.9253803208782758, 'colsample_bytree': 0.7138041406383389, 'subsample_freq': 7, 'min_child_weight': 0.09599124293038765, 'reg_alpha': 0.03926096731609727, 'reg_lambda': 2.656019697791016e-07}. Best is trial 13 with value: 0.11020668696670925.\n"
     ]
    },
    {
     "name": "stdout",
     "output_type": "stream",
     "text": [
      "[LightGBM] [Warning] lambda_l2 is set=2.1248426451070183e-07, reg_lambda=1.1088715785999315e-06 will be ignored. Current value: lambda_l2=2.1248426451070183e-07\n",
      "[LightGBM] [Warning] lambda_l1 is set=1.4221235398065906e-06, reg_alpha=0.0006173955390441658 will be ignored. Current value: lambda_l1=1.4221235398065906e-06\n"
     ]
    },
    {
     "name": "stderr",
     "output_type": "stream",
     "text": [
      "[I 2024-02-18 01:17:50,866] Trial 41 finished with value: 0.11015186191500177 and parameters: {'lambda_l1': 1.4221235398065906e-06, 'lambda_l2': 2.1248426451070183e-07, 'num_leaves': 182, 'max_depth': 18, 'learning_rate': 0.029933281915922455, 'n_estimators': 664, 'min_child_samples': 11, 'subsample': 0.5015965437987622, 'colsample_bytree': 0.5229067594937995, 'subsample_freq': 7, 'min_child_weight': 0.0033074468440516145, 'reg_alpha': 0.0006173955390441658, 'reg_lambda': 1.1088715785999315e-06}. Best is trial 41 with value: 0.11015186191500177.\n"
     ]
    },
    {
     "name": "stdout",
     "output_type": "stream",
     "text": [
      "[LightGBM] [Warning] lambda_l2 is set=5.800520747126506e-07, reg_lambda=4.857494054246582e-08 will be ignored. Current value: lambda_l2=5.800520747126506e-07\n",
      "[LightGBM] [Warning] lambda_l1 is set=5.3222826389855065e-06, reg_alpha=0.0024286425320246244 will be ignored. Current value: lambda_l1=5.3222826389855065e-06\n"
     ]
    },
    {
     "name": "stderr",
     "output_type": "stream",
     "text": [
      "[I 2024-02-18 01:17:53,586] Trial 42 finished with value: 0.11418834973959899 and parameters: {'lambda_l1': 5.3222826389855065e-06, 'lambda_l2': 5.800520747126506e-07, 'num_leaves': 184, 'max_depth': 19, 'learning_rate': 0.03030438556571283, 'n_estimators': 750, 'min_child_samples': 5, 'subsample': 0.5085579327555259, 'colsample_bytree': 0.5221835994156496, 'subsample_freq': 7, 'min_child_weight': 0.0003198689589037344, 'reg_alpha': 0.0024286425320246244, 'reg_lambda': 4.857494054246582e-08}. Best is trial 41 with value: 0.11015186191500177.\n"
     ]
    },
    {
     "name": "stdout",
     "output_type": "stream",
     "text": [
      "[LightGBM] [Warning] lambda_l2 is set=4.892773854313013e-07, reg_lambda=5.288987384901581e-06 will be ignored. Current value: lambda_l2=4.892773854313013e-07\n",
      "[LightGBM] [Warning] lambda_l1 is set=2.190715839001525e-05, reg_alpha=0.011833183502097106 will be ignored. Current value: lambda_l1=2.190715839001525e-05\n"
     ]
    },
    {
     "name": "stderr",
     "output_type": "stream",
     "text": [
      "[I 2024-02-18 01:17:55,280] Trial 43 finished with value: 0.1213216594544687 and parameters: {'lambda_l1': 2.190715839001525e-05, 'lambda_l2': 4.892773854313013e-07, 'num_leaves': 201, 'max_depth': 18, 'learning_rate': 0.11423232452220179, 'n_estimators': 668, 'min_child_samples': 17, 'subsample': 0.5953936714367707, 'colsample_bytree': 0.5535878859440142, 'subsample_freq': 6, 'min_child_weight': 0.0020977008244901967, 'reg_alpha': 0.011833183502097106, 'reg_lambda': 5.288987384901581e-06}. Best is trial 41 with value: 0.11015186191500177.\n"
     ]
    },
    {
     "name": "stdout",
     "output_type": "stream",
     "text": [
      "[LightGBM] [Warning] lambda_l2 is set=0.0001523992716879184, reg_lambda=8.824394815335534 will be ignored. Current value: lambda_l2=0.0001523992716879184\n",
      "[LightGBM] [Warning] lambda_l1 is set=2.3731630378416463e-06, reg_alpha=0.00033352274211482635 will be ignored. Current value: lambda_l1=2.3731630378416463e-06\n"
     ]
    },
    {
     "name": "stderr",
     "output_type": "stream",
     "text": [
      "[I 2024-02-18 01:17:57,692] Trial 44 finished with value: 0.11835043469220641 and parameters: {'lambda_l1': 2.3731630378416463e-06, 'lambda_l2': 0.0001523992716879184, 'num_leaves': 224, 'max_depth': 20, 'learning_rate': 0.020214721257474113, 'n_estimators': 614, 'min_child_samples': 10, 'subsample': 0.9948904249662767, 'colsample_bytree': 0.8431256226334285, 'subsample_freq': 8, 'min_child_weight': 0.010999229208586, 'reg_alpha': 0.00033352274211482635, 'reg_lambda': 8.824394815335534}. Best is trial 41 with value: 0.11015186191500177.\n"
     ]
    },
    {
     "name": "stdout",
     "output_type": "stream",
     "text": [
      "[LightGBM] [Warning] lambda_l2 is set=0.34998916698695254, reg_lambda=2.5460786729764535e-08 will be ignored. Current value: lambda_l2=0.34998916698695254\n",
      "[LightGBM] [Warning] lambda_l1 is set=3.0255013992179814e-08, reg_alpha=0.00014423674635069016 will be ignored. Current value: lambda_l1=3.0255013992179814e-08\n"
     ]
    },
    {
     "name": "stderr",
     "output_type": "stream",
     "text": [
      "[I 2024-02-18 01:18:00,427] Trial 45 finished with value: 0.11036864786860673 and parameters: {'lambda_l1': 3.0255013992179814e-08, 'lambda_l2': 0.34998916698695254, 'num_leaves': 143, 'max_depth': 16, 'learning_rate': 0.034272147090310456, 'n_estimators': 716, 'min_child_samples': 19, 'subsample': 0.648315143563781, 'colsample_bytree': 0.5915691908244495, 'subsample_freq': 7, 'min_child_weight': 4.210840109769618e-05, 'reg_alpha': 0.00014423674635069016, 'reg_lambda': 2.5460786729764535e-08}. Best is trial 41 with value: 0.11015186191500177.\n"
     ]
    },
    {
     "name": "stdout",
     "output_type": "stream",
     "text": [
      "[LightGBM] [Warning] lambda_l2 is set=3.645452658064088e-05, reg_lambda=1.5810131950764112e-08 will be ignored. Current value: lambda_l2=3.645452658064088e-05\n",
      "[LightGBM] [Warning] lambda_l1 is set=5.958645640302702e-08, reg_alpha=7.752043796607048e-05 will be ignored. Current value: lambda_l1=5.958645640302702e-08\n"
     ]
    },
    {
     "name": "stderr",
     "output_type": "stream",
     "text": [
      "[I 2024-02-18 01:18:02,850] Trial 46 finished with value: 0.11259020385065874 and parameters: {'lambda_l1': 5.958645640302702e-08, 'lambda_l2': 3.645452658064088e-05, 'num_leaves': 140, 'max_depth': 16, 'learning_rate': 0.04373742632996821, 'n_estimators': 723, 'min_child_samples': 19, 'subsample': 0.6516140368179516, 'colsample_bytree': 0.5921910367703668, 'subsample_freq': 4, 'min_child_weight': 3.697181178440083e-05, 'reg_alpha': 7.752043796607048e-05, 'reg_lambda': 1.5810131950764112e-08}. Best is trial 41 with value: 0.11015186191500177.\n"
     ]
    },
    {
     "name": "stdout",
     "output_type": "stream",
     "text": [
      "[LightGBM] [Warning] lambda_l2 is set=1.0288822681132614e-07, reg_lambda=1.0829467410044169e-08 will be ignored. Current value: lambda_l2=1.0288822681132614e-07\n",
      "[LightGBM] [Warning] lambda_l1 is set=2.537213544951859e-08, reg_alpha=7.708763116748899e-05 will be ignored. Current value: lambda_l1=2.537213544951859e-08\n"
     ]
    },
    {
     "name": "stderr",
     "output_type": "stream",
     "text": [
      "[I 2024-02-18 01:18:04,672] Trial 47 finished with value: 0.11225399685060837 and parameters: {'lambda_l1': 2.537213544951859e-08, 'lambda_l2': 1.0288822681132614e-07, 'num_leaves': 114, 'max_depth': 14, 'learning_rate': 0.035136539382843085, 'n_estimators': 831, 'min_child_samples': 13, 'subsample': 0.5348651692673551, 'colsample_bytree': 0.5193588014045205, 'subsample_freq': 7, 'min_child_weight': 0.00013021339779833568, 'reg_alpha': 7.708763116748899e-05, 'reg_lambda': 1.0829467410044169e-08}. Best is trial 41 with value: 0.11015186191500177.\n"
     ]
    },
    {
     "name": "stdout",
     "output_type": "stream",
     "text": [
      "[LightGBM] [Warning] lambda_l2 is set=0.3304713428577416, reg_lambda=8.060658362591425e-07 will be ignored. Current value: lambda_l2=0.3304713428577416\n",
      "[LightGBM] [Warning] lambda_l1 is set=2.8207327098371425e-07, reg_alpha=5.927531870184197e-06 will be ignored. Current value: lambda_l1=2.8207327098371425e-07\n"
     ]
    },
    {
     "name": "stderr",
     "output_type": "stream",
     "text": [
      "[I 2024-02-18 01:18:07,307] Trial 48 finished with value: 0.11295320655663019 and parameters: {'lambda_l1': 2.8207327098371425e-07, 'lambda_l2': 0.3304713428577416, 'num_leaves': 147, 'max_depth': 15, 'learning_rate': 0.06779770066838597, 'n_estimators': 877, 'min_child_samples': 31, 'subsample': 0.607840036160285, 'colsample_bytree': 0.6129247204870527, 'subsample_freq': 6, 'min_child_weight': 0.0009517139966272661, 'reg_alpha': 5.927531870184197e-06, 'reg_lambda': 8.060658362591425e-07}. Best is trial 41 with value: 0.11015186191500177.\n"
     ]
    },
    {
     "name": "stdout",
     "output_type": "stream",
     "text": [
      "[LightGBM] [Warning] lambda_l2 is set=0.00040134151364221605, reg_lambda=3.261395232003877e-08 will be ignored. Current value: lambda_l2=0.00040134151364221605\n",
      "[LightGBM] [Warning] lambda_l1 is set=0.004122584987813055, reg_alpha=7.399161360615766e-07 will be ignored. Current value: lambda_l1=0.004122584987813055\n"
     ]
    },
    {
     "name": "stderr",
     "output_type": "stream",
     "text": [
      "[I 2024-02-18 01:18:08,995] Trial 49 finished with value: 0.10990101543106402 and parameters: {'lambda_l1': 0.004122584987813055, 'lambda_l2': 0.00040134151364221605, 'num_leaves': 163, 'max_depth': 17, 'learning_rate': 0.021962367529605186, 'n_estimators': 755, 'min_child_samples': 8, 'subsample': 0.5051594407517208, 'colsample_bytree': 0.5748953902486794, 'subsample_freq': 5, 'min_child_weight': 1.0946328536186024e-05, 'reg_alpha': 7.399161360615766e-07, 'reg_lambda': 3.261395232003877e-08}. Best is trial 49 with value: 0.10990101543106402.\n"
     ]
    },
    {
     "name": "stdout",
     "output_type": "stream",
     "text": [
      "[LightGBM] [Warning] lambda_l2 is set=5.4308159624491716e-08, reg_lambda=2.9656464375888866e-08 will be ignored. Current value: lambda_l2=5.4308159624491716e-08\n",
      "[LightGBM] [Warning] lambda_l1 is set=0.03002013855750344, reg_alpha=3.932061627674071e-07 will be ignored. Current value: lambda_l1=0.03002013855750344\n"
     ]
    },
    {
     "name": "stderr",
     "output_type": "stream",
     "text": [
      "[I 2024-02-18 01:18:09,464] Trial 50 finished with value: 0.11908385390549771 and parameters: {'lambda_l1': 0.03002013855750344, 'lambda_l2': 5.4308159624491716e-08, 'num_leaves': 129, 'max_depth': 12, 'learning_rate': 0.09462119375802289, 'n_estimators': 191, 'min_child_samples': 8, 'subsample': 0.5546619928294845, 'colsample_bytree': 0.6581627062058778, 'subsample_freq': 5, 'min_child_weight': 1.5567616280730907e-05, 'reg_alpha': 3.932061627674071e-07, 'reg_lambda': 2.9656464375888866e-08}. Best is trial 49 with value: 0.10990101543106402.\n"
     ]
    },
    {
     "name": "stdout",
     "output_type": "stream",
     "text": [
      "[LightGBM] [Warning] lambda_l2 is set=0.00048121998056859086, reg_lambda=2.0695982647634798e-07 will be ignored. Current value: lambda_l2=0.00048121998056859086\n",
      "[LightGBM] [Warning] lambda_l1 is set=0.00735034869846279, reg_alpha=1.1532891458885129e-07 will be ignored. Current value: lambda_l1=0.00735034869846279\n"
     ]
    },
    {
     "name": "stderr",
     "output_type": "stream",
     "text": [
      "[I 2024-02-18 01:18:10,417] Trial 51 finished with value: 0.10701520601392908 and parameters: {'lambda_l1': 0.00735034869846279, 'lambda_l2': 0.00048121998056859086, 'num_leaves': 165, 'max_depth': 17, 'learning_rate': 0.023879604191976836, 'n_estimators': 756, 'min_child_samples': 17, 'subsample': 0.5173377697336294, 'colsample_bytree': 0.572777918196538, 'subsample_freq': 4, 'min_child_weight': 1.1189088125373888e-05, 'reg_alpha': 1.1532891458885129e-07, 'reg_lambda': 2.0695982647634798e-07}. Best is trial 51 with value: 0.10701520601392908.\n"
     ]
    },
    {
     "name": "stdout",
     "output_type": "stream",
     "text": [
      "[LightGBM] [Warning] lambda_l2 is set=0.0007703619842948031, reg_lambda=2.2229408892568482e-07 will be ignored. Current value: lambda_l2=0.0007703619842948031\n",
      "[LightGBM] [Warning] lambda_l1 is set=0.008924795788780575, reg_alpha=8.602668019538571e-08 will be ignored. Current value: lambda_l1=0.008924795788780575\n"
     ]
    },
    {
     "name": "stderr",
     "output_type": "stream",
     "text": [
      "[I 2024-02-18 01:18:12,344] Trial 52 finished with value: 0.11162552702943417 and parameters: {'lambda_l1': 0.008924795788780575, 'lambda_l2': 0.0007703619842948031, 'num_leaves': 165, 'max_depth': 17, 'learning_rate': 0.03262342978489585, 'n_estimators': 757, 'min_child_samples': 5, 'subsample': 0.5037019438869679, 'colsample_bytree': 0.580670801801221, 'subsample_freq': 4, 'min_child_weight': 1.0791833463828443e-05, 'reg_alpha': 8.602668019538571e-08, 'reg_lambda': 2.2229408892568482e-07}. Best is trial 51 with value: 0.10701520601392908.\n"
     ]
    },
    {
     "name": "stdout",
     "output_type": "stream",
     "text": [
      "[LightGBM] [Warning] lambda_l2 is set=0.0002627848978025469, reg_lambda=3.4897701846798345e-08 will be ignored. Current value: lambda_l2=0.0002627848978025469\n",
      "[LightGBM] [Warning] lambda_l1 is set=0.002276488811299821, reg_alpha=4.402644200938407e-08 will be ignored. Current value: lambda_l1=0.002276488811299821\n"
     ]
    },
    {
     "name": "stderr",
     "output_type": "stream",
     "text": [
      "[I 2024-02-18 01:18:13,018] Trial 53 finished with value: 0.10744073120829419 and parameters: {'lambda_l1': 0.002276488811299821, 'lambda_l2': 0.0002627848978025469, 'num_leaves': 110, 'max_depth': 16, 'learning_rate': 0.022140642963948222, 'n_estimators': 554, 'min_child_samples': 20, 'subsample': 0.513878494185632, 'colsample_bytree': 0.6246854829341607, 'subsample_freq': 3, 'min_child_weight': 3.381355156238028e-05, 'reg_alpha': 4.402644200938407e-08, 'reg_lambda': 3.4897701846798345e-08}. Best is trial 51 with value: 0.10701520601392908.\n"
     ]
    },
    {
     "name": "stdout",
     "output_type": "stream",
     "text": [
      "[LightGBM] [Warning] lambda_l2 is set=0.00023801408507215694, reg_lambda=2.0278027619646685e-08 will be ignored. Current value: lambda_l2=0.00023801408507215694\n",
      "[LightGBM] [Warning] lambda_l1 is set=0.003037805022499022, reg_alpha=1.5085190908950176e-08 will be ignored. Current value: lambda_l1=0.003037805022499022\n"
     ]
    },
    {
     "name": "stderr",
     "output_type": "stream",
     "text": [
      "[I 2024-02-18 01:18:13,607] Trial 54 finished with value: 0.111176967505331 and parameters: {'lambda_l1': 0.003037805022499022, 'lambda_l2': 0.00023801408507215694, 'num_leaves': 113, 'max_depth': 15, 'learning_rate': 0.044798746016307824, 'n_estimators': 541, 'min_child_samples': 23, 'subsample': 0.5330846657090644, 'colsample_bytree': 0.6200786520838145, 'subsample_freq': 2, 'min_child_weight': 3.5989934194670335e-05, 'reg_alpha': 1.5085190908950176e-08, 'reg_lambda': 2.0278027619646685e-08}. Best is trial 51 with value: 0.10701520601392908.\n"
     ]
    },
    {
     "name": "stdout",
     "output_type": "stream",
     "text": [
      "[LightGBM] [Warning] lambda_l2 is set=8.152330034402826e-06, reg_lambda=1.698345021017688e-07 will be ignored. Current value: lambda_l2=8.152330034402826e-06\n",
      "[LightGBM] [Warning] lambda_l1 is set=0.058275759178833826, reg_alpha=4.2152993134664846e-08 will be ignored. Current value: lambda_l1=0.058275759178833826\n"
     ]
    },
    {
     "name": "stderr",
     "output_type": "stream",
     "text": [
      "[I 2024-02-18 01:18:14,113] Trial 55 finished with value: 0.10865954747569821 and parameters: {'lambda_l1': 0.058275759178833826, 'lambda_l2': 8.152330034402826e-06, 'num_leaves': 86, 'max_depth': 16, 'learning_rate': 0.023620362638595762, 'n_estimators': 392, 'min_child_samples': 20, 'subsample': 0.517935187382812, 'colsample_bytree': 0.5623571565240774, 'subsample_freq': 3, 'min_child_weight': 4.556129153442289e-05, 'reg_alpha': 4.2152993134664846e-08, 'reg_lambda': 1.698345021017688e-07}. Best is trial 51 with value: 0.10701520601392908.\n"
     ]
    },
    {
     "name": "stdout",
     "output_type": "stream",
     "text": [
      "[LightGBM] [Warning] lambda_l2 is set=1.621312737831511e-05, reg_lambda=5.053367012083574e-07 will be ignored. Current value: lambda_l2=1.621312737831511e-05\n",
      "[LightGBM] [Warning] lambda_l1 is set=0.07108101923649887, reg_alpha=3.944732768159493e-08 will be ignored. Current value: lambda_l1=0.07108101923649887\n"
     ]
    },
    {
     "name": "stderr",
     "output_type": "stream",
     "text": [
      "[I 2024-02-18 01:18:14,504] Trial 56 finished with value: 0.11478378767665882 and parameters: {'lambda_l1': 0.07108101923649887, 'lambda_l2': 1.621312737831511e-05, 'num_leaves': 63, 'max_depth': 17, 'learning_rate': 0.022784702787035357, 'n_estimators': 364, 'min_child_samples': 33, 'subsample': 0.5168607302001569, 'colsample_bytree': 0.5648190480708546, 'subsample_freq': 3, 'min_child_weight': 0.0005463898500340242, 'reg_alpha': 3.944732768159493e-08, 'reg_lambda': 5.053367012083574e-07}. Best is trial 51 with value: 0.10701520601392908.\n",
      "[I 2024-02-18 01:18:14,804] Trial 57 finished with value: 0.12239098913994971 and parameters: {'lambda_l1': 0.3705055421722919, 'lambda_l2': 9.2489032665855e-07, 'num_leaves': 76, 'max_depth': 16, 'learning_rate': 0.015416374810994766, 'n_estimators': 321, 'min_child_samples': 39, 'subsample': 0.561544000509615, 'colsample_bytree': 0.7794634455022701, 'subsample_freq': 2, 'min_child_weight': 1.0142763900717761e-05, 'reg_alpha': 3.080381204540144e-07, 'reg_lambda': 1.6829871502662022e-07}. Best is trial 51 with value: 0.10701520601392908.\n"
     ]
    },
    {
     "name": "stdout",
     "output_type": "stream",
     "text": [
      "[LightGBM] [Warning] lambda_l2 is set=9.2489032665855e-07, reg_lambda=1.6829871502662022e-07 will be ignored. Current value: lambda_l2=9.2489032665855e-07\n",
      "[LightGBM] [Warning] lambda_l1 is set=0.3705055421722919, reg_alpha=3.080381204540144e-07 will be ignored. Current value: lambda_l1=0.3705055421722919\n"
     ]
    },
    {
     "name": "stderr",
     "output_type": "stream",
     "text": [
      "[I 2024-02-18 01:18:15,101] Trial 58 finished with value: 0.14947441079400395 and parameters: {'lambda_l1': 0.0023802510646158733, 'lambda_l2': 2.1481118522910758e-07, 'num_leaves': 107, 'max_depth': 8, 'learning_rate': 0.4227839245824073, 'n_estimators': 431, 'min_child_samples': 65, 'subsample': 0.5252622218577159, 'colsample_bytree': 0.6593651590815286, 'subsample_freq': 3, 'min_child_weight': 6.780627229577852e-05, 'reg_alpha': 2.929934219782396e-08, 'reg_lambda': 6.52589825548388e-08}. Best is trial 51 with value: 0.10701520601392908.\n"
     ]
    },
    {
     "name": "stdout",
     "output_type": "stream",
     "text": [
      "[LightGBM] [Warning] lambda_l2 is set=2.1481118522910758e-07, reg_lambda=6.52589825548388e-08 will be ignored. Current value: lambda_l2=2.1481118522910758e-07\n",
      "[LightGBM] [Warning] lambda_l1 is set=0.0023802510646158733, reg_alpha=2.929934219782396e-08 will be ignored. Current value: lambda_l1=0.0023802510646158733\n"
     ]
    },
    {
     "name": "stderr",
     "output_type": "stream",
     "text": [
      "[I 2024-02-18 01:18:15,402] Trial 59 finished with value: 0.10948846416099496 and parameters: {'lambda_l1': 0.007501237023169809, 'lambda_l2': 2.9976423504662637e-06, 'num_leaves': 83, 'max_depth': 5, 'learning_rate': 0.029005778973794027, 'n_estimators': 261, 'min_child_samples': 11, 'subsample': 0.5010326184734605, 'colsample_bytree': 0.6233943323689288, 'subsample_freq': 2, 'min_child_weight': 2.3503228170976733e-05, 'reg_alpha': 4.337798113882864e-07, 'reg_lambda': 5.48333765145547e-07}. Best is trial 51 with value: 0.10701520601392908.\n"
     ]
    },
    {
     "name": "stdout",
     "output_type": "stream",
     "text": [
      "[LightGBM] [Warning] lambda_l2 is set=2.9976423504662637e-06, reg_lambda=5.48333765145547e-07 will be ignored. Current value: lambda_l2=2.9976423504662637e-06\n",
      "[LightGBM] [Warning] lambda_l1 is set=0.007501237023169809, reg_alpha=4.337798113882864e-07 will be ignored. Current value: lambda_l1=0.007501237023169809\n"
     ]
    },
    {
     "name": "stderr",
     "output_type": "stream",
     "text": [
      "[I 2024-02-18 01:18:15,698] Trial 60 finished with value: 0.10602969623144662 and parameters: {'lambda_l1': 0.0077469948553748, 'lambda_l2': 4.080026986053334e-06, 'num_leaves': 78, 'max_depth': 5, 'learning_rate': 0.029172310185237933, 'n_estimators': 256, 'min_child_samples': 10, 'subsample': 0.5554523354534358, 'colsample_bytree': 0.6230202869848426, 'subsample_freq': 1, 'min_child_weight': 2.767704772547356e-05, 'reg_alpha': 9.26198811651416e-07, 'reg_lambda': 1.0880623808785944e-06}. Best is trial 60 with value: 0.10602969623144662.\n"
     ]
    },
    {
     "name": "stdout",
     "output_type": "stream",
     "text": [
      "[LightGBM] [Warning] lambda_l2 is set=4.080026986053334e-06, reg_lambda=1.0880623808785944e-06 will be ignored. Current value: lambda_l2=4.080026986053334e-06\n",
      "[LightGBM] [Warning] lambda_l1 is set=0.0077469948553748, reg_alpha=9.26198811651416e-07 will be ignored. Current value: lambda_l1=0.0077469948553748\n"
     ]
    },
    {
     "name": "stderr",
     "output_type": "stream",
     "text": [
      "[I 2024-02-18 01:18:15,991] Trial 61 finished with value: 0.10575546972084658 and parameters: {'lambda_l1': 0.006181264928083726, 'lambda_l2': 2.3858094528100672e-06, 'num_leaves': 48, 'max_depth': 5, 'learning_rate': 0.029899055257496924, 'n_estimators': 244, 'min_child_samples': 10, 'subsample': 0.5530338278589628, 'colsample_bytree': 0.6241228197647067, 'subsample_freq': 1, 'min_child_weight': 2.918125337065079e-05, 'reg_alpha': 8.159697659617436e-07, 'reg_lambda': 1.1655352235563023e-06}. Best is trial 61 with value: 0.10575546972084658.\n"
     ]
    },
    {
     "name": "stdout",
     "output_type": "stream",
     "text": [
      "[LightGBM] [Warning] lambda_l2 is set=2.3858094528100672e-06, reg_lambda=1.1655352235563023e-06 will be ignored. Current value: lambda_l2=2.3858094528100672e-06\n",
      "[LightGBM] [Warning] lambda_l1 is set=0.006181264928083726, reg_alpha=8.159697659617436e-07 will be ignored. Current value: lambda_l1=0.006181264928083726\n"
     ]
    },
    {
     "name": "stderr",
     "output_type": "stream",
     "text": [
      "[I 2024-02-18 01:18:16,290] Trial 62 finished with value: 0.1078914924008951 and parameters: {'lambda_l1': 0.006553752805948064, 'lambda_l2': 3.945486181197834e-06, 'num_leaves': 51, 'max_depth': 5, 'learning_rate': 0.025331515411232297, 'n_estimators': 217, 'min_child_samples': 8, 'subsample': 0.5572856973559732, 'colsample_bytree': 0.6930370367817099, 'subsample_freq': 1, 'min_child_weight': 2.9657836161186478e-05, 'reg_alpha': 8.689007077308927e-07, 'reg_lambda': 3.865116345387174e-07}. Best is trial 61 with value: 0.10575546972084658.\n"
     ]
    },
    {
     "name": "stdout",
     "output_type": "stream",
     "text": [
      "[LightGBM] [Warning] lambda_l2 is set=3.945486181197834e-06, reg_lambda=3.865116345387174e-07 will be ignored. Current value: lambda_l2=3.945486181197834e-06\n",
      "[LightGBM] [Warning] lambda_l1 is set=0.006553752805948064, reg_alpha=8.689007077308927e-07 will be ignored. Current value: lambda_l1=0.006553752805948064\n"
     ]
    },
    {
     "name": "stderr",
     "output_type": "stream",
     "text": [
      "[I 2024-02-18 01:18:16,573] Trial 63 finished with value: 0.10744677902124082 and parameters: {'lambda_l1': 0.009539340206154719, 'lambda_l2': 2.7012641504005556e-06, 'num_leaves': 47, 'max_depth': 5, 'learning_rate': 0.025445125733985607, 'n_estimators': 226, 'min_child_samples': 13, 'subsample': 0.5609051448781819, 'colsample_bytree': 0.6997436466693864, 'subsample_freq': 1, 'min_child_weight': 3.8101130825554125e-05, 'reg_alpha': 2.4685329158296724e-06, 'reg_lambda': 4.7341604349770693e-07}. Best is trial 61 with value: 0.10575546972084658.\n"
     ]
    },
    {
     "name": "stdout",
     "output_type": "stream",
     "text": [
      "[LightGBM] [Warning] lambda_l2 is set=2.7012641504005556e-06, reg_lambda=4.7341604349770693e-07 will be ignored. Current value: lambda_l2=2.7012641504005556e-06\n",
      "[LightGBM] [Warning] lambda_l1 is set=0.009539340206154719, reg_alpha=2.4685329158296724e-06 will be ignored. Current value: lambda_l1=0.009539340206154719\n"
     ]
    },
    {
     "name": "stderr",
     "output_type": "stream",
     "text": [
      "[I 2024-02-18 01:18:16,799] Trial 64 finished with value: 0.11626046329647122 and parameters: {'lambda_l1': 0.03873802928056396, 'lambda_l2': 8.141724205691976e-06, 'num_leaves': 44, 'max_depth': 4, 'learning_rate': 0.024381500777193626, 'n_estimators': 198, 'min_child_samples': 19, 'subsample': 0.5563358390691788, 'colsample_bytree': 0.7027226945766095, 'subsample_freq': 1, 'min_child_weight': 0.00041498944663508796, 'reg_alpha': 1.9165769562368053e-06, 'reg_lambda': 1.5379977395307105e-06}. Best is trial 61 with value: 0.10575546972084658.\n"
     ]
    },
    {
     "name": "stdout",
     "output_type": "stream",
     "text": [
      "[LightGBM] [Warning] lambda_l2 is set=8.141724205691976e-06, reg_lambda=1.5379977395307105e-06 will be ignored. Current value: lambda_l2=8.141724205691976e-06\n",
      "[LightGBM] [Warning] lambda_l1 is set=0.03873802928056396, reg_alpha=1.9165769562368053e-06 will be ignored. Current value: lambda_l1=0.03873802928056396\n"
     ]
    },
    {
     "name": "stderr",
     "output_type": "stream",
     "text": [
      "[I 2024-02-18 01:18:17,051] Trial 65 finished with value: 0.10838500228655908 and parameters: {'lambda_l1': 0.00115616132997204, 'lambda_l2': 1.17253504565074e-06, 'num_leaves': 50, 'max_depth': 6, 'learning_rate': 0.06233537202321247, 'n_estimators': 145, 'min_child_samples': 14, 'subsample': 0.5731135563331294, 'colsample_bytree': 0.7435197189844982, 'subsample_freq': 1, 'min_child_weight': 7.929368735017396e-05, 'reg_alpha': 1.643563156156498e-07, 'reg_lambda': 1.3328154077800557e-05}. Best is trial 61 with value: 0.10575546972084658.\n"
     ]
    },
    {
     "name": "stdout",
     "output_type": "stream",
     "text": [
      "[LightGBM] [Warning] lambda_l2 is set=1.17253504565074e-06, reg_lambda=1.3328154077800557e-05 will be ignored. Current value: lambda_l2=1.17253504565074e-06\n",
      "[LightGBM] [Warning] lambda_l1 is set=0.00115616132997204, reg_alpha=1.643563156156498e-07 will be ignored. Current value: lambda_l1=0.00115616132997204\n"
     ]
    },
    {
     "name": "stderr",
     "output_type": "stream",
     "text": [
      "[I 2024-02-18 01:18:17,331] Trial 66 finished with value: 0.10896611833023602 and parameters: {'lambda_l1': 0.0012185563489599904, 'lambda_l2': 1.4802395855757187e-06, 'num_leaves': 50, 'max_depth': 6, 'learning_rate': 0.06754763645199538, 'n_estimators': 111, 'min_child_samples': 15, 'subsample': 0.5940060551621048, 'colsample_bytree': 0.6927616466196772, 'subsample_freq': 1, 'min_child_weight': 0.0001475991948713417, 'reg_alpha': 1.505502419918075e-07, 'reg_lambda': 1.1791642619690762e-05}. Best is trial 61 with value: 0.10575546972084658.\n"
     ]
    },
    {
     "name": "stdout",
     "output_type": "stream",
     "text": [
      "[LightGBM] [Warning] lambda_l2 is set=1.4802395855757187e-06, reg_lambda=1.1791642619690762e-05 will be ignored. Current value: lambda_l2=1.4802395855757187e-06\n",
      "[LightGBM] [Warning] lambda_l1 is set=0.0012185563489599904, reg_alpha=1.505502419918075e-07 will be ignored. Current value: lambda_l1=0.0012185563489599904\n",
      "[LightGBM] [Warning] lambda_l2 is set=5.421296425673141e-05, reg_lambda=2.6520876286621485e-05 will be ignored. Current value: lambda_l2=5.421296425673141e-05\n",
      "[LightGBM] [Warning] lambda_l1 is set=0.017296607100031093, reg_alpha=6.278245865637359e-06 will be ignored. Current value: lambda_l1=0.017296607100031093\n"
     ]
    },
    {
     "name": "stderr",
     "output_type": "stream",
     "text": [
      "[I 2024-02-18 01:18:17,675] Trial 67 finished with value: 0.11057311934379374 and parameters: {'lambda_l1': 0.017296607100031093, 'lambda_l2': 5.421296425673141e-05, 'num_leaves': 30, 'max_depth': 6, 'learning_rate': 0.05900521205120672, 'n_estimators': 248, 'min_child_samples': 9, 'subsample': 0.5722016461293027, 'colsample_bytree': 0.7490066453342106, 'subsample_freq': 1, 'min_child_weight': 2.2545765079704517e-05, 'reg_alpha': 6.278245865637359e-06, 'reg_lambda': 2.6520876286621485e-05}. Best is trial 61 with value: 0.10575546972084658.\n",
      "[I 2024-02-18 01:18:17,902] Trial 68 finished with value: 0.10993620570538368 and parameters: {'lambda_l1': 0.000520622720679833, 'lambda_l2': 4.563795319708407e-06, 'num_leaves': 25, 'max_depth': 4, 'learning_rate': 0.03918455031903498, 'n_estimators': 147, 'min_child_samples': 13, 'subsample': 0.6249656757220617, 'colsample_bytree': 0.6677171216913361, 'subsample_freq': 2, 'min_child_weight': 9.021807011824337e-05, 'reg_alpha': 1.3379166475746764e-07, 'reg_lambda': 2.6221329733999553e-06}. Best is trial 61 with value: 0.10575546972084658.\n"
     ]
    },
    {
     "name": "stdout",
     "output_type": "stream",
     "text": [
      "[LightGBM] [Warning] lambda_l2 is set=4.563795319708407e-06, reg_lambda=2.6221329733999553e-06 will be ignored. Current value: lambda_l2=4.563795319708407e-06\n",
      "[LightGBM] [Warning] lambda_l1 is set=0.000520622720679833, reg_alpha=1.3379166475746764e-07 will be ignored. Current value: lambda_l1=0.000520622720679833\n"
     ]
    },
    {
     "name": "stderr",
     "output_type": "stream",
     "text": [
      "[I 2024-02-18 01:18:18,101] Trial 69 finished with value: 0.11170977463753123 and parameters: {'lambda_l1': 0.23238567317741743, 'lambda_l2': 1.513686684081584e-06, 'num_leaves': 59, 'max_depth': 2, 'learning_rate': 0.045891145491766434, 'n_estimators': 227, 'min_child_samples': 7, 'subsample': 0.5903412904639173, 'colsample_bytree': 0.805834898471486, 'subsample_freq': 1, 'min_child_weight': 0.00020139694845821527, 'reg_alpha': 4.076723004044088e-06, 'reg_lambda': 3.9164588781421984e-07}. Best is trial 61 with value: 0.10575546972084658.\n"
     ]
    },
    {
     "name": "stdout",
     "output_type": "stream",
     "text": [
      "[LightGBM] [Warning] lambda_l2 is set=1.513686684081584e-06, reg_lambda=3.9164588781421984e-07 will be ignored. Current value: lambda_l2=1.513686684081584e-06\n",
      "[LightGBM] [Warning] lambda_l1 is set=0.23238567317741743, reg_alpha=4.076723004044088e-06 will be ignored. Current value: lambda_l1=0.23238567317741743\n",
      "[LightGBM] [Warning] lambda_l2 is set=1.993192920386327e-05, reg_lambda=1.0551688691934202e-07 will be ignored. Current value: lambda_l2=1.993192920386327e-05\n",
      "[LightGBM] [Warning] lambda_l1 is set=0.007464519965071229, reg_alpha=1.6807616568621018e-06 will be ignored. Current value: lambda_l1=0.007464519965071229\n"
     ]
    },
    {
     "name": "stderr",
     "output_type": "stream",
     "text": [
      "[I 2024-02-18 01:18:18,495] Trial 70 finished with value: 0.11609409778896988 and parameters: {'lambda_l1': 0.007464519965071229, 'lambda_l2': 1.993192920386327e-05, 'num_leaves': 20, 'max_depth': 7, 'learning_rate': 0.12006484593705632, 'n_estimators': 315, 'min_child_samples': 25, 'subsample': 0.545989927784787, 'colsample_bytree': 0.730460816150539, 'subsample_freq': 1, 'min_child_weight': 2.803513797238833e-05, 'reg_alpha': 1.6807616568621018e-06, 'reg_lambda': 1.0551688691934202e-07}. Best is trial 61 with value: 0.10575546972084658.\n",
      "[I 2024-02-18 01:18:18,726] Trial 71 finished with value: 0.11645638720271294 and parameters: {'lambda_l1': 0.06792279138205128, 'lambda_l2': 8.383332140751405e-06, 'num_leaves': 70, 'max_depth': 5, 'learning_rate': 0.025765994044966496, 'n_estimators': 142, 'min_child_samples': 17, 'subsample': 0.5248277775239143, 'colsample_bytree': 0.6469620579607973, 'subsample_freq': 2, 'min_child_weight': 5.3895697359789806e-05, 'reg_alpha': 5.301718664857106e-08, 'reg_lambda': 1.430738237829121e-07}. Best is trial 61 with value: 0.10575546972084658.\n"
     ]
    },
    {
     "name": "stdout",
     "output_type": "stream",
     "text": [
      "[LightGBM] [Warning] lambda_l2 is set=8.383332140751405e-06, reg_lambda=1.430738237829121e-07 will be ignored. Current value: lambda_l2=8.383332140751405e-06\n",
      "[LightGBM] [Warning] lambda_l1 is set=0.06792279138205128, reg_alpha=5.301718664857106e-08 will be ignored. Current value: lambda_l1=0.06792279138205128\n"
     ]
    },
    {
     "name": "stderr",
     "output_type": "stream",
     "text": [
      "[I 2024-02-18 01:18:19,002] Trial 72 finished with value: 0.11293629236917224 and parameters: {'lambda_l1': 0.0019877623419076286, 'lambda_l2': 2.428141113378501e-06, 'num_leaves': 55, 'max_depth': 4, 'learning_rate': 0.018416978435644618, 'n_estimators': 295, 'min_child_samples': 21, 'subsample': 0.5673575501832925, 'colsample_bytree': 0.7600418161292171, 'subsample_freq': 1, 'min_child_weight': 6.15814997636936e-05, 'reg_alpha': 2.1972646664187264e-07, 'reg_lambda': 8.873581888426198e-07}. Best is trial 61 with value: 0.10575546972084658.\n"
     ]
    },
    {
     "name": "stdout",
     "output_type": "stream",
     "text": [
      "[LightGBM] [Warning] lambda_l2 is set=2.428141113378501e-06, reg_lambda=8.873581888426198e-07 will be ignored. Current value: lambda_l2=2.428141113378501e-06\n",
      "[LightGBM] [Warning] lambda_l1 is set=0.0019877623419076286, reg_alpha=2.1972646664187264e-07 will be ignored. Current value: lambda_l1=0.0019877623419076286\n",
      "[LightGBM] [Warning] lambda_l2 is set=1.3549165642550119e-05, reg_lambda=2.3323812206622139e-07 will be ignored. Current value: lambda_l2=1.3549165642550119e-05\n",
      "[LightGBM] [Warning] lambda_l1 is set=0.015345171377807365, reg_alpha=8.343489037457384e-07 will be ignored. Current value: lambda_l1=0.015345171377807365\n"
     ]
    },
    {
     "name": "stderr",
     "output_type": "stream",
     "text": [
      "[I 2024-02-18 01:18:19,472] Trial 73 finished with value: 0.10776755478757362 and parameters: {'lambda_l1': 0.015345171377807365, 'lambda_l2': 1.3549165642550119e-05, 'num_leaves': 84, 'max_depth': 7, 'learning_rate': 0.040600254039673815, 'n_estimators': 366, 'min_child_samples': 13, 'subsample': 0.548099558209097, 'colsample_bytree': 0.7290567351030058, 'subsample_freq': 3, 'min_child_weight': 2.1736759277852874e-05, 'reg_alpha': 8.343489037457384e-07, 'reg_lambda': 2.3323812206622139e-07}. Best is trial 61 with value: 0.10575546972084658.\n",
      "[I 2024-02-18 01:18:19,732] Trial 74 finished with value: 0.13034432252465933 and parameters: {'lambda_l1': 0.010941139483827295, 'lambda_l2': 3.6774925501635925e-05, 'num_leaves': 37, 'max_depth': 7, 'learning_rate': 0.05433184327993876, 'n_estimators': 222, 'min_child_samples': 96, 'subsample': 0.6134443408204617, 'colsample_bytree': 0.7217633037639798, 'subsample_freq': 2, 'min_child_weight': 2.08454680674928e-05, 'reg_alpha': 6.854535464767e-07, 'reg_lambda': 3.328240808885311e-07}. Best is trial 61 with value: 0.10575546972084658.\n"
     ]
    },
    {
     "name": "stdout",
     "output_type": "stream",
     "text": [
      "[LightGBM] [Warning] lambda_l2 is set=3.6774925501635925e-05, reg_lambda=3.328240808885311e-07 will be ignored. Current value: lambda_l2=3.6774925501635925e-05\n",
      "[LightGBM] [Warning] lambda_l1 is set=0.010941139483827295, reg_alpha=6.854535464767e-07 will be ignored. Current value: lambda_l1=0.010941139483827295\n"
     ]
    },
    {
     "name": "stderr",
     "output_type": "stream",
     "text": [
      "[I 2024-02-18 01:18:19,979] Trial 75 finished with value: 0.11357124119275312 and parameters: {'lambda_l1': 0.004572264459755379, 'lambda_l2': 7.917875969313703e-07, 'num_leaves': 78, 'max_depth': 5, 'learning_rate': 0.0312522529101453, 'n_estimators': 156, 'min_child_samples': 13, 'subsample': 0.5477976332399725, 'colsample_bytree': 0.7384452879155704, 'subsample_freq': 1, 'min_child_weight': 0.0002650873309194283, 'reg_alpha': 7.478614078828162e-07, 'reg_lambda': 1.0101359266595269e-05}. Best is trial 61 with value: 0.10575546972084658.\n"
     ]
    },
    {
     "name": "stdout",
     "output_type": "stream",
     "text": [
      "[LightGBM] [Warning] lambda_l2 is set=7.917875969313703e-07, reg_lambda=1.0101359266595269e-05 will be ignored. Current value: lambda_l2=7.917875969313703e-07\n",
      "[LightGBM] [Warning] lambda_l1 is set=0.004572264459755379, reg_alpha=7.478614078828162e-07 will be ignored. Current value: lambda_l1=0.004572264459755379\n"
     ]
    },
    {
     "name": "stderr",
     "output_type": "stream",
     "text": [
      "[I 2024-02-18 01:18:20,224] Trial 76 finished with value: 0.10849707215887607 and parameters: {'lambda_l1': 0.0009452439311730719, 'lambda_l2': 3.341355184443566e-07, 'num_leaves': 92, 'max_depth': 3, 'learning_rate': 0.040275924978923724, 'n_estimators': 268, 'min_child_samples': 5, 'subsample': 0.5829548371513353, 'colsample_bytree': 0.6854294825829212, 'subsample_freq': 4, 'min_child_weight': 9.747742535615156e-05, 'reg_alpha': 1.3239389237765191e-05, 'reg_lambda': 1.5545676630835992e-06}. Best is trial 61 with value: 0.10575546972084658.\n"
     ]
    },
    {
     "name": "stdout",
     "output_type": "stream",
     "text": [
      "[LightGBM] [Warning] lambda_l2 is set=3.341355184443566e-07, reg_lambda=1.5545676630835992e-06 will be ignored. Current value: lambda_l2=3.341355184443566e-07\n",
      "[LightGBM] [Warning] lambda_l1 is set=0.0009452439311730719, reg_alpha=1.3239389237765191e-05 will be ignored. Current value: lambda_l1=0.0009452439311730719\n"
     ]
    },
    {
     "name": "stderr",
     "output_type": "stream",
     "text": [
      "[I 2024-02-18 01:18:20,467] Trial 77 finished with value: 0.11000681739747936 and parameters: {'lambda_l1': 0.017925559425256296, 'lambda_l2': 1.3175175613755386e-06, 'num_leaves': 47, 'max_depth': 7, 'learning_rate': 0.07599992193284705, 'n_estimators': 110, 'min_child_samples': 17, 'subsample': 0.6067617640522994, 'colsample_bytree': 0.7118597667515836, 'subsample_freq': 3, 'min_child_weight': 0.000649589595174895, 'reg_alpha': 2.9523976088641232e-06, 'reg_lambda': 3.982487361284578e-06}. Best is trial 61 with value: 0.10575546972084658.\n"
     ]
    },
    {
     "name": "stdout",
     "output_type": "stream",
     "text": [
      "[LightGBM] [Warning] lambda_l2 is set=1.3175175613755386e-06, reg_lambda=3.982487361284578e-06 will be ignored. Current value: lambda_l2=1.3175175613755386e-06\n",
      "[LightGBM] [Warning] lambda_l1 is set=0.017925559425256296, reg_alpha=2.9523976088641232e-06 will be ignored. Current value: lambda_l1=0.017925559425256296\n",
      "[LightGBM] [Warning] lambda_l2 is set=1.391135026437432e-05, reg_lambda=7.928126727188598e-08 will be ignored. Current value: lambda_l2=1.391135026437432e-05\n",
      "[LightGBM] [Warning] lambda_l1 is set=0.0044351593097259326, reg_alpha=1.1768960051632261e-06 will be ignored. Current value: lambda_l1=0.0044351593097259326\n"
     ]
    },
    {
     "name": "stderr",
     "output_type": "stream",
     "text": [
      "[I 2024-02-18 01:18:20,808] Trial 78 finished with value: 0.11101760414568813 and parameters: {'lambda_l1': 0.0044351593097259326, 'lambda_l2': 1.391135026437432e-05, 'num_leaves': 41, 'max_depth': 6, 'learning_rate': 0.027169458586436296, 'n_estimators': 329, 'min_child_samples': 24, 'subsample': 0.5664180233532887, 'colsample_bytree': 0.7006021757978494, 'subsample_freq': 2, 'min_child_weight': 1.850404011918452e-05, 'reg_alpha': 1.1768960051632261e-06, 'reg_lambda': 7.928126727188598e-08}. Best is trial 61 with value: 0.10575546972084658.\n"
     ]
    },
    {
     "name": "stdout",
     "output_type": "stream",
     "text": [
      "[LightGBM] [Warning] lambda_l2 is set=9.791782719720855e-05, reg_lambda=5.805404366802546e-07 will be ignored. Current value: lambda_l2=9.791782719720855e-05\n",
      "[LightGBM] [Warning] lambda_l1 is set=0.00047745470480391276, reg_alpha=1.5254143765936456e-08 will be ignored. Current value: lambda_l1=0.00047745470480391276\n"
     ]
    },
    {
     "name": "stderr",
     "output_type": "stream",
     "text": [
      "[I 2024-02-18 01:18:21,169] Trial 79 finished with value: 0.11667268642320248 and parameters: {'lambda_l1': 0.00047745470480391276, 'lambda_l2': 9.791782719720855e-05, 'num_leaves': 67, 'max_depth': 8, 'learning_rate': 0.016439319682156017, 'n_estimators': 187, 'min_child_samples': 13, 'subsample': 0.5310543362742404, 'colsample_bytree': 0.7629822896762832, 'subsample_freq': 1, 'min_child_weight': 0.00014831520569639982, 'reg_alpha': 1.5254143765936456e-08, 'reg_lambda': 5.805404366802546e-07}. Best is trial 61 with value: 0.10575546972084658.\n"
     ]
    },
    {
     "name": "stdout",
     "output_type": "stream",
     "text": [
      "[LightGBM] [Warning] lambda_l2 is set=2.920374862292953e-06, reg_lambda=2.697549581104181e-07 will be ignored. Current value: lambda_l2=2.920374862292953e-06\n",
      "[LightGBM] [Warning] lambda_l1 is set=0.00020109653418546263, reg_alpha=1.6692203089404308e-07 will be ignored. Current value: lambda_l1=0.00020109653418546263\n"
     ]
    },
    {
     "name": "stderr",
     "output_type": "stream",
     "text": [
      "[I 2024-02-18 01:18:21,570] Trial 80 finished with value: 0.39591479996011736 and parameters: {'lambda_l1': 0.00020109653418546263, 'lambda_l2': 2.920374862292953e-06, 'num_leaves': 13, 'max_depth': 3, 'learning_rate': 0.01175857714981671, 'n_estimators': 274, 'min_child_samples': 10, 'subsample': 0.5480438408984386, 'colsample_bytree': 0.6732491313118285, 'subsample_freq': 2, 'min_child_weight': 95382.63558037918, 'reg_alpha': 1.6692203089404308e-07, 'reg_lambda': 2.697549581104181e-07}. Best is trial 61 with value: 0.10575546972084658.\n"
     ]
    },
    {
     "name": "stdout",
     "output_type": "stream",
     "text": [
      "[LightGBM] [Warning] lambda_l2 is set=4.684890691329233e-07, reg_lambda=1.8623617743367485e-06 will be ignored. Current value: lambda_l2=4.684890691329233e-07\n",
      "[LightGBM] [Warning] lambda_l1 is set=0.0008578827801095916, reg_alpha=1.2943514300645233e-05 will be ignored. Current value: lambda_l1=0.0008578827801095916\n"
     ]
    },
    {
     "name": "stderr",
     "output_type": "stream",
     "text": [
      "[I 2024-02-18 01:18:22,249] Trial 81 finished with value: 0.1084910891886628 and parameters: {'lambda_l1': 0.0008578827801095916, 'lambda_l2': 4.684890691329233e-07, 'num_leaves': 97, 'max_depth': 3, 'learning_rate': 0.039728389684626275, 'n_estimators': 229, 'min_child_samples': 6, 'subsample': 0.5839293520612908, 'colsample_bytree': 0.7939249402372607, 'subsample_freq': 4, 'min_child_weight': 8.47265228293141e-05, 'reg_alpha': 1.2943514300645233e-05, 'reg_lambda': 1.8623617743367485e-06}. Best is trial 61 with value: 0.10575546972084658.\n"
     ]
    },
    {
     "name": "stdout",
     "output_type": "stream",
     "text": [
      "[LightGBM] [Warning] lambda_l2 is set=4.27098803335738e-06, reg_lambda=1.5598067405904164e-06 will be ignored. Current value: lambda_l2=4.27098803335738e-06\n",
      "[LightGBM] [Warning] lambda_l1 is set=0.0013854889393268882, reg_alpha=1.0369041032567115e-05 will be ignored. Current value: lambda_l1=0.0013854889393268882\n"
     ]
    },
    {
     "name": "stderr",
     "output_type": "stream",
     "text": [
      "[I 2024-02-18 01:18:22,842] Trial 82 finished with value: 0.12091426569819523 and parameters: {'lambda_l1': 0.0013854889393268882, 'lambda_l2': 4.27098803335738e-06, 'num_leaves': 108, 'max_depth': 5, 'learning_rate': 0.04073149280246619, 'n_estimators': 70, 'min_child_samples': 7, 'subsample': 0.5816152125181807, 'colsample_bytree': 0.7912186859653508, 'subsample_freq': 4, 'min_child_weight': 2.991938396422358e-05, 'reg_alpha': 1.0369041032567115e-05, 'reg_lambda': 1.5598067405904164e-06}. Best is trial 61 with value: 0.10575546972084658.\n",
      "[I 2024-02-18 01:18:23,069] Trial 83 finished with value: 0.10957873813388548 and parameters: {'lambda_l1': 0.026927526501406354, 'lambda_l2': 3.23684042442718e-07, 'num_leaves': 101, 'max_depth': 2, 'learning_rate': 0.04838433380364155, 'n_estimators': 227, 'min_child_samples': 15, 'subsample': 0.5402516349269357, 'colsample_bytree': 0.8305956443014356, 'subsample_freq': 1, 'min_child_weight': 7.060442312390946e-05, 'reg_alpha': 7.67689099824554e-08, 'reg_lambda': 3.7780905331733874e-06}. Best is trial 61 with value: 0.10575546972084658.\n"
     ]
    },
    {
     "name": "stdout",
     "output_type": "stream",
     "text": [
      "[LightGBM] [Warning] lambda_l2 is set=3.23684042442718e-07, reg_lambda=3.7780905331733874e-06 will be ignored. Current value: lambda_l2=3.23684042442718e-07\n",
      "[LightGBM] [Warning] lambda_l1 is set=0.026927526501406354, reg_alpha=7.67689099824554e-08 will be ignored. Current value: lambda_l1=0.026927526501406354\n",
      "[LightGBM] [Warning] lambda_l2 is set=1.897551664197766e-06, reg_lambda=8.029572372921022e-07 will be ignored. Current value: lambda_l2=1.897551664197766e-06\n",
      "[LightGBM] [Warning] lambda_l1 is set=0.0005324053814085737, reg_alpha=1.2180376486780516e-06 will be ignored. Current value: lambda_l1=0.0005324053814085737\n"
     ]
    },
    {
     "name": "stderr",
     "output_type": "stream",
     "text": [
      "[I 2024-02-18 01:18:23,300] Trial 84 finished with value: 0.11305601211044235 and parameters: {'lambda_l1': 0.0005324053814085737, 'lambda_l2': 1.897551664197766e-06, 'num_leaves': 34, 'max_depth': 4, 'learning_rate': 0.034648845031089746, 'n_estimators': 130, 'min_child_samples': 11, 'subsample': 0.5609238735013522, 'colsample_bytree': 0.8057840939553563, 'subsample_freq': 3, 'min_child_weight': 1.020808964392732e-05, 'reg_alpha': 1.2180376486780516e-06, 'reg_lambda': 8.029572372921022e-07}. Best is trial 61 with value: 0.10575546972084658.\n"
     ]
    },
    {
     "name": "stdout",
     "output_type": "stream",
     "text": [
      "[LightGBM] [Warning] lambda_l2 is set=0.0011108984814065025, reg_lambda=6.597364736622865e-06 will be ignored. Current value: lambda_l2=0.0011108984814065025\n",
      "[LightGBM] [Warning] lambda_l1 is set=8.024132116325046e-05, reg_alpha=2.574973409543676e-07 will be ignored. Current value: lambda_l1=8.024132116325046e-05\n"
     ]
    },
    {
     "name": "stderr",
     "output_type": "stream",
     "text": [
      "[I 2024-02-18 01:18:23,683] Trial 85 finished with value: 0.10905535484465335 and parameters: {'lambda_l1': 8.024132116325046e-05, 'lambda_l2': 0.0011108984814065025, 'num_leaves': 51, 'max_depth': 6, 'learning_rate': 0.03039213707798395, 'n_estimators': 248, 'min_child_samples': 7, 'subsample': 0.5182839380389697, 'colsample_bytree': 0.8657381884898162, 'subsample_freq': 1, 'min_child_weight': 0.0002170311277751223, 'reg_alpha': 2.574973409543676e-07, 'reg_lambda': 6.597364736622865e-06}. Best is trial 61 with value: 0.10575546972084658.\n",
      "[I 2024-02-18 01:18:24,007] Trial 86 finished with value: 0.11381373616101832 and parameters: {'lambda_l1': 0.0126791543436762, 'lambda_l2': 1.0793148293850912e-07, 'num_leaves': 84, 'max_depth': 8, 'learning_rate': 0.05820035439462572, 'n_estimators': 172, 'min_child_samples': 12, 'subsample': 0.6329407443911479, 'colsample_bytree': 0.7447880504337671, 'subsample_freq': 4, 'min_child_weight': 1.8216079016840867e-05, 'reg_alpha': 2.8779401034405485e-06, 'reg_lambda': 0.0005815196855210833}. Best is trial 61 with value: 0.10575546972084658.\n"
     ]
    },
    {
     "name": "stdout",
     "output_type": "stream",
     "text": [
      "[LightGBM] [Warning] lambda_l2 is set=1.0793148293850912e-07, reg_lambda=0.0005815196855210833 will be ignored. Current value: lambda_l2=1.0793148293850912e-07\n",
      "[LightGBM] [Warning] lambda_l1 is set=0.0126791543436762, reg_alpha=2.8779401034405485e-06 will be ignored. Current value: lambda_l1=0.0126791543436762\n",
      "[LightGBM] [Warning] lambda_l2 is set=9.532422170960833e-07, reg_lambda=4.150273482341964e-05 will be ignored. Current value: lambda_l2=9.532422170960833e-07\n",
      "[LightGBM] [Warning] lambda_l1 is set=0.004974052786340459, reg_alpha=5.131694472562946e-07 will be ignored. Current value: lambda_l1=0.004974052786340459\n"
     ]
    },
    {
     "name": "stderr",
     "output_type": "stream",
     "text": [
      "[I 2024-02-18 01:18:24,537] Trial 87 finished with value: 0.10861795657277477 and parameters: {'lambda_l1': 0.004974052786340459, 'lambda_l2': 9.532422170960833e-07, 'num_leaves': 63, 'max_depth': 10, 'learning_rate': 0.0255679840018908, 'n_estimators': 345, 'min_child_samples': 17, 'subsample': 0.5993966148502273, 'colsample_bytree': 0.63044004449255, 'subsample_freq': 3, 'min_child_weight': 0.0016384174705269883, 'reg_alpha': 5.131694472562946e-07, 'reg_lambda': 4.150273482341964e-05}. Best is trial 61 with value: 0.10575546972084658.\n",
      "[I 2024-02-18 01:18:24,763] Trial 88 finished with value: 0.11793684040661163 and parameters: {'lambda_l1': 0.0026208229531956644, 'lambda_l2': 1.1391675593744947e-08, 'num_leaves': 123, 'max_depth': 3, 'learning_rate': 0.020087973610088992, 'n_estimators': 210, 'min_child_samples': 5, 'subsample': 0.5750936855081634, 'colsample_bytree': 0.6490369864219906, 'subsample_freq': 2, 'min_child_weight': 3.3092885888437234e-05, 'reg_alpha': 2.2794494211940336e-08, 'reg_lambda': 1.828613229131014e-05}. Best is trial 61 with value: 0.10575546972084658.\n"
     ]
    },
    {
     "name": "stdout",
     "output_type": "stream",
     "text": [
      "[LightGBM] [Warning] lambda_l2 is set=1.1391675593744947e-08, reg_lambda=1.828613229131014e-05 will be ignored. Current value: lambda_l2=1.1391675593744947e-08\n",
      "[LightGBM] [Warning] lambda_l1 is set=0.0026208229531956644, reg_alpha=2.2794494211940336e-08 will be ignored. Current value: lambda_l1=0.0026208229531956644\n"
     ]
    },
    {
     "name": "stderr",
     "output_type": "stream",
     "text": [
      "[I 2024-02-18 01:18:25,000] Trial 89 finished with value: 0.1266460654093897 and parameters: {'lambda_l1': 0.007532812124369754, 'lambda_l2': 1.1827337700152503e-05, 'num_leaves': 74, 'max_depth': 5, 'learning_rate': 0.03830891777300458, 'n_estimators': 292, 'min_child_samples': 72, 'subsample': 0.5356003507080942, 'colsample_bytree': 0.6002931038968573, 'subsample_freq': 1, 'min_child_weight': 0.00038772572370037887, 'reg_alpha': 7.860270992659831e-08, 'reg_lambda': 3.6052475571217486e-07}. Best is trial 61 with value: 0.10575546972084658.\n"
     ]
    },
    {
     "name": "stdout",
     "output_type": "stream",
     "text": [
      "[LightGBM] [Warning] lambda_l2 is set=1.1827337700152503e-05, reg_lambda=3.6052475571217486e-07 will be ignored. Current value: lambda_l2=1.1827337700152503e-05\n",
      "[LightGBM] [Warning] lambda_l1 is set=0.007532812124369754, reg_alpha=7.860270992659831e-08 will be ignored. Current value: lambda_l1=0.007532812124369754\n",
      "[LightGBM] [Warning] lambda_l2 is set=2.744703543403606e-05, reg_lambda=9.622252991298128e-05 will be ignored. Current value: lambda_l2=2.744703543403606e-05\n",
      "[LightGBM] [Warning] lambda_l1 is set=0.15123588237525812, reg_alpha=9.34123678036894e-07 will be ignored. Current value: lambda_l1=0.15123588237525812\n"
     ]
    },
    {
     "name": "stderr",
     "output_type": "stream",
     "text": [
      "[I 2024-02-18 01:18:25,386] Trial 90 finished with value: 0.11174419749582226 and parameters: {'lambda_l1': 0.15123588237525812, 'lambda_l2': 2.744703543403606e-05, 'num_leaves': 91, 'max_depth': 4, 'learning_rate': 0.028293175083383436, 'n_estimators': 494, 'min_child_samples': 29, 'subsample': 0.5562954978844009, 'colsample_bytree': 0.7618385728024628, 'subsample_freq': 2, 'min_child_weight': 9.588769079403299e-05, 'reg_alpha': 9.34123678036894e-07, 'reg_lambda': 9.622252991298128e-05}. Best is trial 61 with value: 0.10575546972084658.\n",
      "[I 2024-02-18 01:18:25,624] Trial 91 finished with value: 0.109393980531984 and parameters: {'lambda_l1': 0.0008931953664737511, 'lambda_l2': 5.337453680453978e-07, 'num_leaves': 93, 'max_depth': 3, 'learning_rate': 0.039162122285404354, 'n_estimators': 273, 'min_child_samples': 5, 'subsample': 0.5843173490305175, 'colsample_bytree': 0.6835593239783906, 'subsample_freq': 4, 'min_child_weight': 9.429417184275616e-05, 'reg_alpha': 1.3576136987304807e-05, 'reg_lambda': 1.7369461652868792e-06}. Best is trial 61 with value: 0.10575546972084658.\n"
     ]
    },
    {
     "name": "stdout",
     "output_type": "stream",
     "text": [
      "[LightGBM] [Warning] lambda_l2 is set=5.337453680453978e-07, reg_lambda=1.7369461652868792e-06 will be ignored. Current value: lambda_l2=5.337453680453978e-07\n",
      "[LightGBM] [Warning] lambda_l1 is set=0.0008931953664737511, reg_alpha=1.3576136987304807e-05 will be ignored. Current value: lambda_l1=0.0008931953664737511\n"
     ]
    },
    {
     "name": "stderr",
     "output_type": "stream",
     "text": [
      "[I 2024-02-18 01:18:25,876] Trial 92 finished with value: 0.10888489785666171 and parameters: {'lambda_l1': 0.0009550221913676637, 'lambda_l2': 2.936487673158123e-07, 'num_leaves': 101, 'max_depth': 2, 'learning_rate': 0.033461990628630006, 'n_estimators': 425, 'min_child_samples': 9, 'subsample': 0.5841705086433736, 'colsample_bytree': 0.68711877877347, 'subsample_freq': 4, 'min_child_weight': 4.683992077506496e-05, 'reg_alpha': 5.008244371005891e-06, 'reg_lambda': 1.2562476442906932e-06}. Best is trial 61 with value: 0.10575546972084658.\n"
     ]
    },
    {
     "name": "stdout",
     "output_type": "stream",
     "text": [
      "[LightGBM] [Warning] lambda_l2 is set=2.936487673158123e-07, reg_lambda=1.2562476442906932e-06 will be ignored. Current value: lambda_l2=2.936487673158123e-07\n",
      "[LightGBM] [Warning] lambda_l1 is set=0.0009550221913676637, reg_alpha=5.008244371005891e-06 will be ignored. Current value: lambda_l1=0.0009550221913676637\n"
     ]
    },
    {
     "name": "stderr",
     "output_type": "stream",
     "text": [
      "[I 2024-02-18 01:18:26,140] Trial 93 finished with value: 0.11102936094315914 and parameters: {'lambda_l1': 0.00031044452068164157, 'lambda_l2': 5.0217734344675706e-06, 'num_leaves': 55, 'max_depth': 6, 'learning_rate': 0.05041218381214438, 'n_estimators': 168, 'min_child_samples': 15, 'subsample': 0.5173146305316247, 'colsample_bytree': 0.7265119254868928, 'subsample_freq': 5, 'min_child_weight': 1.6668854597948943e-05, 'reg_alpha': 1.0732995072169401e-05, 'reg_lambda': 7.345570216389498e-06}. Best is trial 61 with value: 0.10575546972084658.\n"
     ]
    },
    {
     "name": "stdout",
     "output_type": "stream",
     "text": [
      "[LightGBM] [Warning] lambda_l2 is set=5.0217734344675706e-06, reg_lambda=7.345570216389498e-06 will be ignored. Current value: lambda_l2=5.0217734344675706e-06\n",
      "[LightGBM] [Warning] lambda_l1 is set=0.00031044452068164157, reg_alpha=1.0732995072169401e-05 will be ignored. Current value: lambda_l1=0.00031044452068164157\n"
     ]
    },
    {
     "name": "stderr",
     "output_type": "stream",
     "text": [
      "[I 2024-02-18 01:18:26,383] Trial 94 finished with value: 0.1067616685457485 and parameters: {'lambda_l1': 0.0016581540552417645, 'lambda_l2': 0.0026834199706739386, 'num_leaves': 78, 'max_depth': 3, 'learning_rate': 0.04314961169669521, 'n_estimators': 247, 'min_child_samples': 9, 'subsample': 0.6145612161457886, 'colsample_bytree': 0.7121892173499886, 'subsample_freq': 4, 'min_child_weight': 0.0001504955335401696, 'reg_alpha': 2.8759759196541374e-05, 'reg_lambda': 2.5509798909344187e-06}. Best is trial 61 with value: 0.10575546972084658.\n"
     ]
    },
    {
     "name": "stdout",
     "output_type": "stream",
     "text": [
      "[LightGBM] [Warning] lambda_l2 is set=0.0026834199706739386, reg_lambda=2.5509798909344187e-06 will be ignored. Current value: lambda_l2=0.0026834199706739386\n",
      "[LightGBM] [Warning] lambda_l1 is set=0.0016581540552417645, reg_alpha=2.8759759196541374e-05 will be ignored. Current value: lambda_l1=0.0016581540552417645\n"
     ]
    },
    {
     "name": "stderr",
     "output_type": "stream",
     "text": [
      "[I 2024-02-18 01:18:26,687] Trial 95 finished with value: 0.1059735264856394 and parameters: {'lambda_l1': 0.02433352912006046, 'lambda_l2': 0.006271836786818084, 'num_leaves': 80, 'max_depth': 5, 'learning_rate': 0.060459485237094095, 'n_estimators': 245, 'min_child_samples': 9, 'subsample': 0.6636857001770418, 'colsample_bytree': 0.7064037265234092, 'subsample_freq': 1, 'min_child_weight': 0.000767005156993292, 'reg_alpha': 2.787396923837341e-05, 'reg_lambda': 3.148509563063375e-06}. Best is trial 61 with value: 0.10575546972084658.\n"
     ]
    },
    {
     "name": "stdout",
     "output_type": "stream",
     "text": [
      "[LightGBM] [Warning] lambda_l2 is set=0.006271836786818084, reg_lambda=3.148509563063375e-06 will be ignored. Current value: lambda_l2=0.006271836786818084\n",
      "[LightGBM] [Warning] lambda_l1 is set=0.02433352912006046, reg_alpha=2.787396923837341e-05 will be ignored. Current value: lambda_l1=0.02433352912006046\n"
     ]
    },
    {
     "name": "stderr",
     "output_type": "stream",
     "text": [
      "[I 2024-02-18 01:18:27,011] Trial 96 finished with value: 0.1113685431563035 and parameters: {'lambda_l1': 0.025984908558790404, 'lambda_l2': 0.002086688447365417, 'num_leaves': 80, 'max_depth': 5, 'learning_rate': 0.09529266455490723, 'n_estimators': 287, 'min_child_samples': 10, 'subsample': 0.6627961152861105, 'colsample_bytree': 0.7046879705584049, 'subsample_freq': 1, 'min_child_weight': 0.0008161334038942951, 'reg_alpha': 2.4763996622747196e-05, 'reg_lambda': 0.05371225053629822}. Best is trial 61 with value: 0.10575546972084658.\n"
     ]
    },
    {
     "name": "stdout",
     "output_type": "stream",
     "text": [
      "[LightGBM] [Warning] lambda_l2 is set=0.002086688447365417, reg_lambda=0.05371225053629822 will be ignored. Current value: lambda_l2=0.002086688447365417\n",
      "[LightGBM] [Warning] lambda_l1 is set=0.025984908558790404, reg_alpha=2.4763996622747196e-05 will be ignored. Current value: lambda_l1=0.025984908558790404\n",
      "[LightGBM] [Warning] lambda_l2 is set=0.01028531357246235, reg_lambda=5.0877016450930064e-08 will be ignored. Current value: lambda_l2=0.01028531357246235\n",
      "[LightGBM] [Warning] lambda_l1 is set=0.044897803442198604, reg_alpha=4.464603855216291e-05 will be ignored. Current value: lambda_l1=0.044897803442198604\n"
     ]
    },
    {
     "name": "stderr",
     "output_type": "stream",
     "text": [
      "[I 2024-02-18 01:18:27,887] Trial 97 finished with value: 0.11444858532829816 and parameters: {'lambda_l1': 0.044897803442198604, 'lambda_l2': 0.01028531357246235, 'num_leaves': 68, 'max_depth': 6, 'learning_rate': 0.07890462259943065, 'n_estimators': 969, 'min_child_samples': 18, 'subsample': 0.6974727967744787, 'colsample_bytree': 0.7176780390499211, 'subsample_freq': 1, 'min_child_weight': 0.00018599976503301847, 'reg_alpha': 4.464603855216291e-05, 'reg_lambda': 5.0877016450930064e-08}. Best is trial 61 with value: 0.10575546972084658.\n",
      "[I 2024-02-18 01:18:28,071] Trial 98 finished with value: 0.1154904514922724 and parameters: {'lambda_l1': 0.0017487022447208182, 'lambda_l2': 0.0003571807499320023, 'num_leaves': 59, 'max_depth': 4, 'learning_rate': 0.05775262054532078, 'n_estimators': 82, 'min_child_samples': 22, 'subsample': 0.6216316758243415, 'colsample_bytree': 0.6638944068508108, 'subsample_freq': 1, 'min_child_weight': 3.739941463558856e-05, 'reg_alpha': 1.5792040032010868e-06, 'reg_lambda': 3.0827360064333244e-06}. Best is trial 61 with value: 0.10575546972084658.\n"
     ]
    },
    {
     "name": "stdout",
     "output_type": "stream",
     "text": [
      "[LightGBM] [Warning] lambda_l2 is set=0.0003571807499320023, reg_lambda=3.0827360064333244e-06 will be ignored. Current value: lambda_l2=0.0003571807499320023\n",
      "[LightGBM] [Warning] lambda_l1 is set=0.0017487022447208182, reg_alpha=1.5792040032010868e-06 will be ignored. Current value: lambda_l1=0.0017487022447208182\n",
      "[LightGBM] [Warning] lambda_l2 is set=0.001918820469827747, reg_lambda=1.9647025152855102e-07 will be ignored. Current value: lambda_l2=0.001918820469827747\n",
      "[LightGBM] [Warning] lambda_l1 is set=0.0034127759301441555, reg_alpha=5.241711857181597e-07 will be ignored. Current value: lambda_l1=0.0034127759301441555\n"
     ]
    },
    {
     "name": "stderr",
     "output_type": "stream",
     "text": [
      "[I 2024-02-18 01:18:28,510] Trial 99 finished with value: 0.11849181006433421 and parameters: {'lambda_l1': 0.0034127759301441555, 'lambda_l2': 0.001918820469827747, 'num_leaves': 72, 'max_depth': 7, 'learning_rate': 0.07362306140631537, 'n_estimators': 247, 'min_child_samples': 56, 'subsample': 0.7242999032263455, 'colsample_bytree': 0.7375293398757344, 'subsample_freq': 2, 'min_child_weight': 0.00034659538081179177, 'reg_alpha': 5.241711857181597e-07, 'reg_lambda': 1.9647025152855102e-07}. Best is trial 61 with value: 0.10575546972084658.\n"
     ]
    },
    {
     "name": "stdout",
     "output_type": "stream",
     "text": [
      "Best RMSE: 0.10575546972084658\n"
     ]
    }
   ],
   "source": [
    "# LightGBM + Optuna\n",
    "\n",
    "def objective(trial):\n",
    "    params = {\n",
    "        'objective': 'regression',\n",
    "        'metric': 'mse',\n",
    "        'verbosity': -1,\n",
    "        'boosting_type': 'gbdt',\n",
    "        'lambda_l1': trial.suggest_loguniform('lambda_l1', 1e-8, 10.0),\n",
    "        'lambda_l2': trial.suggest_loguniform('lambda_l2', 1e-8, 10.0),\n",
    "        'num_leaves': trial.suggest_int('num_leaves', 2, 256),\n",
    "        'max_depth': trial.suggest_int('max_depth', 2, 20),\n",
    "        'learning_rate': trial.suggest_loguniform('learning_rate', 0.005, 0.5),\n",
    "        'n_estimators': trial.suggest_int('n_estimators', 50, 1000),\n",
    "        'min_child_samples': trial.suggest_int('min_child_samples', 5, 100),\n",
    "        'subsample': trial.suggest_uniform('subsample', 0.5, 1.0),\n",
    "        'colsample_bytree': trial.suggest_uniform('colsample_bytree', 0.5, 1.0),\n",
    "        'subsample_freq': trial.suggest_int('subsample_freq', 1, 10),\n",
    "        'min_child_weight': trial.suggest_loguniform('min_child_weight', 1e-5, 1e5),\n",
    "        'reg_alpha': trial.suggest_loguniform('reg_alpha', 1e-8, 10.0),\n",
    "        'reg_lambda': trial.suggest_loguniform('reg_lambda', 1e-8, 10.0),\n",
    "    }\n",
    "    \n",
    "    model = LGBMRegressor(**params)\n",
    "    model.fit(X_train, y_train)\n",
    "    \n",
    "    predictions = model.predict(X_test)\n",
    "    rmse = np.sqrt(mean_squared_error(y_test, predictions))\n",
    "    return rmse\n",
    "\n",
    "# Create a study object and optimize the objective function\n",
    "study = optuna.create_study(direction='minimize')\n",
    "study.optimize(objective, n_trials=100)\n",
    "\n",
    "print(f'Best RMSE: {study.best_trial.value}')"
   ]
  },
  {
   "cell_type": "code",
   "execution_count": 121,
   "metadata": {},
   "outputs": [
    {
     "name": "stdout",
     "output_type": "stream",
     "text": [
      "Best: {'lambda_l1': 0.006181264928083726, 'lambda_l2': 2.3858094528100672e-06, 'num_leaves': 48, 'max_depth': 5, 'learning_rate': 0.029899055257496924, 'n_estimators': 244, 'min_child_samples': 10, 'subsample': 0.5530338278589628, 'colsample_bytree': 0.6241228197647067, 'subsample_freq': 1, 'min_child_weight': 2.918125337065079e-05, 'reg_alpha': 8.159697659617436e-07, 'reg_lambda': 1.1655352235563023e-06}\n",
      "\n",
      "[LightGBM] [Warning] lambda_l2 is set=2.3858094528100672e-06, reg_lambda=1.1655352235563023e-06 will be ignored. Current value: lambda_l2=2.3858094528100672e-06\n",
      "[LightGBM] [Warning] lambda_l1 is set=0.006181264928083726, reg_alpha=8.159697659617436e-07 will be ignored. Current value: lambda_l1=0.006181264928083726\n",
      "LightGBM + Optuna:\n",
      "- RMSE: 0.1058\n",
      "- R2: 0.9278\n"
     ]
    }
   ],
   "source": [
    "# LGBM + Optuna results\n",
    "\n",
    "opt_lgbm_params = study.best_params\n",
    "\n",
    "print(f'Best: {opt_lgbm_params}\\n')\n",
    "\n",
    "opt_lgbm = LGBMRegressor(**opt_lgbm_params)\n",
    "opt_lgbm.fit(X_train, y_train)\n",
    "opt_preds = opt_lgbm.predict(X_test)\n",
    "rmse = np.sqrt(mean_squared_error(y_test, opt_preds))\n",
    "r2 = r2_score(y_test, opt_preds)\n",
    "print(f'LightGBM + Optuna:\\n- RMSE: {rmse :.4f}\\n- R2: {r2 :.4f}')\n",
    "\n",
    "# saving test predictions\n",
    "optuna_train_pred['LightGBM'] = opt_preds\n",
    "optuna_test_pred['LightGBM'] = opt_lgbm.predict(test_data)\n",
    "optuna_results['LightGBM'] = [rmse, r2]"
   ]
  },
  {
   "cell_type": "code",
   "execution_count": 122,
   "metadata": {},
   "outputs": [
    {
     "name": "stdout",
     "output_type": "stream",
     "text": [
      "<catboost.core.CatBoostRegressor object at 0x136acd410>\n",
      "Testing performance\n",
      "RMSE: 0.105\n",
      "R2: 0.929 \n",
      "\n"
     ]
    }
   ],
   "source": [
    "model = cb.CatBoostRegressor(verbose=False, loss_function='RMSE')\n",
    "\n",
    "params_cb = {'iterations': [400],\n",
    "        'learning_rate': [0.1],\n",
    "        'depth': [4],\n",
    "        'l2_leaf_reg': [0.5]}\n",
    "\n",
    "\n",
    "# grid = {'learning_rate': [0.03, 0.1],\n",
    "#         'depth': [4, 6, 10],\n",
    "#         'l2_leaf_reg': [1, 3, 5, 7, 9]}\n",
    "\n",
    "# grid_search_result = model.grid_search(params_cb, X=X_train, y=y_train, verbose=False)\n",
    "\n",
    "gs_alg = GridSearchCV(model, param_grid = params_cb, cv = 5, scoring = 'neg_mean_squared_error', n_jobs=-1)\n",
    "\n",
    "gs_alg.fit(X_train, y_train)\n",
    "\n",
    "print(gs_alg.best_estimator_)\n",
    "\n",
    "pred = gs_alg.predict(X_test)\n",
    "pred_t = gs_alg.predict(test_data)\n",
    "models_train_pred[model.__class__.__name__] = pred\n",
    "models_test_pred[model.__class__.__name__] = pred_t\n",
    "\n",
    "#pred = np.log1p(np.round(np.exp(pred) / 100) * 100)\n",
    "\n",
    "rmse = (np.sqrt(mean_squared_error(y_test, pred)))\n",
    "r2 = r2_score(y_test, pred)\n",
    "\n",
    "results[model.__class__.__name__] = [rmse, r2]\n",
    "\n",
    "print('Testing performance')\n",
    "print('RMSE: {:.3f}'.format(rmse))\n",
    "print('R2: {:.3f}'.format(r2), '\\n')\n",
    "\n",
    "# <catboost.core.CatBoostRegressor object at 0x168c3c760>\n",
    "# Testing performance\n",
    "# RMSE: 0.105\n",
    "# R2: 0.928 "
   ]
  },
  {
   "cell_type": "code",
   "execution_count": 123,
   "metadata": {
    "scrolled": true
   },
   "outputs": [
    {
     "name": "stderr",
     "output_type": "stream",
     "text": [
      "[I 2024-02-18 01:18:54,107] A new study created in memory with name: no-name-f67ae690-24d2-4a20-921e-f1e79986e6c5\n",
      "[I 2024-02-18 01:19:08,890] Trial 0 finished with value: 0.14980659511472463 and parameters: {'iterations': 172, 'learning_rate': 0.01461443438849237, 'depth': 12, 'l2_leaf_reg': 0.00032031806660923553, 'bagging_temperature': 0.14086399630701493, 'random_strength': 0.013084183100129812, 'border_count': 73, 'one_hot_max_size': 7, 'leaf_estimation_iterations': 8, 'leaf_estimation_method': 'Gradient', 'grow_policy': 'SymmetricTree', 'subsample': 0.6806633940353405, 'rsm': 0.7221430165202839}. Best is trial 0 with value: 0.14980659511472463.\n",
      "[I 2024-02-18 01:19:10,032] Trial 1 finished with value: 0.11777511665821244 and parameters: {'iterations': 111, 'learning_rate': 0.11470921946757053, 'depth': 11, 'l2_leaf_reg': 0.003721332077199555, 'bagging_temperature': 1.1403758337928889, 'random_strength': 4.376158215399734e-06, 'border_count': 144, 'one_hot_max_size': 7, 'leaf_estimation_iterations': 10, 'leaf_estimation_method': 'Gradient', 'grow_policy': 'Lossguide', 'subsample': 0.487753877248136, 'rsm': 0.8454648314588129}. Best is trial 1 with value: 0.11777511665821244.\n",
      "[I 2024-02-18 01:19:14,202] Trial 2 finished with value: 0.10351179854717361 and parameters: {'iterations': 778, 'learning_rate': 0.02222514451203963, 'depth': 10, 'l2_leaf_reg': 2.849438430042118e-08, 'bagging_temperature': 0.3517116606144633, 'random_strength': 8.78814595837574, 'border_count': 166, 'one_hot_max_size': 2, 'leaf_estimation_iterations': 8, 'leaf_estimation_method': 'Newton', 'grow_policy': 'Lossguide', 'subsample': 0.40744120874576906, 'rsm': 0.3283670473008712}. Best is trial 2 with value: 0.10351179854717361.\n",
      "[I 2024-02-18 01:19:17,132] Trial 3 finished with value: 0.1207678255449351 and parameters: {'iterations': 851, 'learning_rate': 0.007993164362730822, 'depth': 5, 'l2_leaf_reg': 97.34186458162867, 'bagging_temperature': 1.7500632484436203, 'random_strength': 5.952666058713935e-05, 'border_count': 225, 'one_hot_max_size': 13, 'leaf_estimation_iterations': 3, 'leaf_estimation_method': 'Newton', 'grow_policy': 'Lossguide', 'subsample': 0.6660654126009384, 'rsm': 0.12371218968631423}. Best is trial 2 with value: 0.10351179854717361.\n",
      "[I 2024-02-18 01:19:23,983] Trial 4 finished with value: 0.1373385975463549 and parameters: {'iterations': 795, 'learning_rate': 0.45619333865423656, 'depth': 8, 'l2_leaf_reg': 5.29064788908418e-07, 'bagging_temperature': 1.6822021038160537, 'random_strength': 0.7130447014544896, 'border_count': 166, 'one_hot_max_size': 12, 'leaf_estimation_iterations': 1, 'leaf_estimation_method': 'Gradient', 'grow_policy': 'SymmetricTree', 'subsample': 0.3196979705705478, 'rsm': 0.3789983639858854}. Best is trial 2 with value: 0.10351179854717361.\n",
      "[I 2024-02-18 01:20:20,344] Trial 5 finished with value: 0.12593128949756202 and parameters: {'iterations': 895, 'learning_rate': 0.009060315541358461, 'depth': 11, 'l2_leaf_reg': 0.005569102680513902, 'bagging_temperature': 1.2756105466905716, 'random_strength': 0.0023757736755138856, 'border_count': 140, 'one_hot_max_size': 6, 'leaf_estimation_iterations': 7, 'leaf_estimation_method': 'Gradient', 'grow_policy': 'SymmetricTree', 'subsample': 0.3637024755684579, 'rsm': 0.9012373272702179}. Best is trial 2 with value: 0.10351179854717361.\n",
      "[I 2024-02-18 01:20:22,011] Trial 6 finished with value: 0.11008327695449747 and parameters: {'iterations': 651, 'learning_rate': 0.006563433508498818, 'depth': 5, 'l2_leaf_reg': 0.4708257809524944, 'bagging_temperature': 2.276470323038566, 'random_strength': 2.269093647490527e-08, 'border_count': 115, 'one_hot_max_size': 3, 'leaf_estimation_iterations': 8, 'leaf_estimation_method': 'Newton', 'grow_policy': 'Depthwise', 'subsample': 0.772052687183282, 'rsm': 0.21858953149092758}. Best is trial 2 with value: 0.10351179854717361.\n",
      "[I 2024-02-18 01:20:22,698] Trial 7 finished with value: 0.11133293533121236 and parameters: {'iterations': 823, 'learning_rate': 0.014121531093862154, 'depth': 2, 'l2_leaf_reg': 0.016354732873283942, 'bagging_temperature': 4.277283571178748, 'random_strength': 1.4646076933727533e-05, 'border_count': 44, 'one_hot_max_size': 16, 'leaf_estimation_iterations': 3, 'leaf_estimation_method': 'Gradient', 'grow_policy': 'Depthwise', 'subsample': 0.6552570882881306, 'rsm': 0.3836247445915857}. Best is trial 2 with value: 0.10351179854717361.\n",
      "[I 2024-02-18 01:20:25,488] Trial 8 finished with value: 0.11753455468561685 and parameters: {'iterations': 552, 'learning_rate': 0.006193218850624618, 'depth': 6, 'l2_leaf_reg': 9.269121607978254e-06, 'bagging_temperature': 0.35833207136892625, 'random_strength': 7.488758727040283e-05, 'border_count': 63, 'one_hot_max_size': 3, 'leaf_estimation_iterations': 10, 'leaf_estimation_method': 'Gradient', 'grow_policy': 'Depthwise', 'subsample': 0.3668576558976363, 'rsm': 0.6362213678291392}. Best is trial 2 with value: 0.10351179854717361.\n",
      "[I 2024-02-18 01:20:27,092] Trial 9 finished with value: 0.10651870255753015 and parameters: {'iterations': 772, 'learning_rate': 0.02034846418286605, 'depth': 4, 'l2_leaf_reg': 0.1530902613187594, 'bagging_temperature': 0.39713922496832677, 'random_strength': 0.00010001612749402678, 'border_count': 242, 'one_hot_max_size': 10, 'leaf_estimation_iterations': 5, 'leaf_estimation_method': 'Newton', 'grow_policy': 'Depthwise', 'subsample': 0.947847310870922, 'rsm': 0.28248738528228506}. Best is trial 2 with value: 0.10351179854717361.\n",
      "[I 2024-02-18 01:20:29,605] Trial 10 finished with value: 0.10819482530207677 and parameters: {'iterations': 369, 'learning_rate': 0.04777606350536067, 'depth': 9, 'l2_leaf_reg': 1.0821710649849568e-08, 'bagging_temperature': 9.787388945589319, 'random_strength': 6.1735100821651425, 'border_count': 191, 'one_hot_max_size': 2, 'leaf_estimation_iterations': 6, 'leaf_estimation_method': 'Newton', 'grow_policy': 'Lossguide', 'subsample': 0.10135845070787958, 'rsm': 0.5327441101422772}. Best is trial 2 with value: 0.10351179854717361.\n",
      "[I 2024-02-18 01:20:30,711] Trial 11 finished with value: 0.10867985615598774 and parameters: {'iterations': 1000, 'learning_rate': 0.045175121167976576, 'depth': 2, 'l2_leaf_reg': 2.616562437270959, 'bagging_temperature': 0.36629108379340386, 'random_strength': 0.03496009423464225, 'border_count': 255, 'one_hot_max_size': 10, 'leaf_estimation_iterations': 4, 'leaf_estimation_method': 'Newton', 'grow_policy': 'Depthwise', 'subsample': 0.9556775547845534, 'rsm': 0.3268888252425287}. Best is trial 2 with value: 0.10351179854717361.\n",
      "[I 2024-02-18 01:20:32,695] Trial 12 finished with value: 0.11053876508301923 and parameters: {'iterations': 658, 'learning_rate': 0.025680781801092824, 'depth': 4, 'l2_leaf_reg': 1.0124805643701825e-08, 'bagging_temperature': 0.43804500287454534, 'random_strength': 3.420491709576645e-07, 'border_count': 206, 'one_hot_max_size': 9, 'leaf_estimation_iterations': 6, 'leaf_estimation_method': 'Newton', 'grow_policy': 'Lossguide', 'subsample': 0.9142264131165408, 'rsm': 0.48822138069362486}. Best is trial 2 with value: 0.10351179854717361.\n",
      "[I 2024-02-18 01:20:35,518] Trial 13 finished with value: 0.11779191272291681 and parameters: {'iterations': 416, 'learning_rate': 0.1331146993555757, 'depth': 9, 'l2_leaf_reg': 5.031181937831943e-05, 'bagging_temperature': 0.12211894720696623, 'random_strength': 0.0010932310557699807, 'border_count': 252, 'one_hot_max_size': 10, 'leaf_estimation_iterations': 5, 'leaf_estimation_method': 'Newton', 'grow_policy': 'Lossguide', 'subsample': 0.18008388706258976, 'rsm': 0.23314420140893072}. Best is trial 2 with value: 0.10351179854717361.\n",
      "[I 2024-02-18 01:20:38,916] Trial 14 finished with value: 0.10837794711557985 and parameters: {'iterations': 683, 'learning_rate': 0.026403196733750516, 'depth': 7, 'l2_leaf_reg': 0.15906918255794733, 'bagging_temperature': 0.5815435576165261, 'random_strength': 0.12152415486379557, 'border_count': 182, 'one_hot_max_size': 5, 'leaf_estimation_iterations': 8, 'leaf_estimation_method': 'Newton', 'grow_policy': 'Depthwise', 'subsample': 0.5007069329932352, 'rsm': 0.10409924798778022}. Best is trial 2 with value: 0.10351179854717361.\n",
      "[I 2024-02-18 01:20:40,301] Trial 15 finished with value: 0.11584836015663585 and parameters: {'iterations': 994, 'learning_rate': 0.09522282416421025, 'depth': 3, 'l2_leaf_reg': 6.384837684972597e-07, 'bagging_temperature': 0.19080752752212188, 'random_strength': 9.736658550314404, 'border_count': 106, 'one_hot_max_size': 13, 'leaf_estimation_iterations': 1, 'leaf_estimation_method': 'Newton', 'grow_policy': 'Lossguide', 'subsample': 0.8268870678852157, 'rsm': 0.4462275590968308}. Best is trial 2 with value: 0.10351179854717361.\n"
     ]
    },
    {
     "name": "stderr",
     "output_type": "stream",
     "text": [
      "[I 2024-02-18 01:20:56,567] Trial 16 finished with value: 0.12024588882278175 and parameters: {'iterations': 531, 'learning_rate': 0.021120922245385376, 'depth': 10, 'l2_leaf_reg': 20.332581055281498, 'bagging_temperature': 0.22823253986632377, 'random_strength': 2.599655520853734e-06, 'border_count': 215, 'one_hot_max_size': 9, 'leaf_estimation_iterations': 9, 'leaf_estimation_method': 'Newton', 'grow_policy': 'Depthwise', 'subsample': 0.5914063661316472, 'rsm': 0.25701755048928987}. Best is trial 2 with value: 0.10351179854717361.\n",
      "[I 2024-02-18 01:21:01,872] Trial 17 finished with value: 0.11337589162181988 and parameters: {'iterations': 713, 'learning_rate': 0.07916077119633826, 'depth': 7, 'l2_leaf_reg': 0.034931011739749294, 'bagging_temperature': 0.7221020787697298, 'random_strength': 0.000280593627504559, 'border_count': 231, 'one_hot_max_size': 5, 'leaf_estimation_iterations': 5, 'leaf_estimation_method': 'Newton', 'grow_policy': 'Lossguide', 'subsample': 0.2403596420449438, 'rsm': 0.5937750686468263}. Best is trial 2 with value: 0.10351179854717361.\n",
      "[I 2024-02-18 01:21:02,792] Trial 18 finished with value: 0.12436409352066354 and parameters: {'iterations': 444, 'learning_rate': 0.315276481715854, 'depth': 4, 'l2_leaf_reg': 0.0005672040169295772, 'bagging_temperature': 0.24734030508297664, 'random_strength': 0.4741566380528787, 'border_count': 159, 'one_hot_max_size': 16, 'leaf_estimation_iterations': 7, 'leaf_estimation_method': 'Newton', 'grow_policy': 'Depthwise', 'subsample': 0.4488832657179599, 'rsm': 0.31673120582851555}. Best is trial 2 with value: 0.10351179854717361.\n",
      "[I 2024-02-18 01:21:08,505] Trial 19 finished with value: 0.10635856636839609 and parameters: {'iterations': 903, 'learning_rate': 0.03499395036717888, 'depth': 8, 'l2_leaf_reg': 3.4339438969192914e-07, 'bagging_temperature': 0.7116045317868874, 'random_strength': 0.005198176769448841, 'border_count': 116, 'one_hot_max_size': 11, 'leaf_estimation_iterations': 4, 'leaf_estimation_method': 'Newton', 'grow_policy': 'SymmetricTree', 'subsample': 0.8195771918734976, 'rsm': 0.19282930055845926}. Best is trial 2 with value: 0.10351179854717361.\n",
      "[I 2024-02-18 01:21:20,983] Trial 20 finished with value: 0.10887738344514213 and parameters: {'iterations': 908, 'learning_rate': 0.0367061944020668, 'depth': 9, 'l2_leaf_reg': 2.5365237666003956e-07, 'bagging_temperature': 0.7518556210132178, 'random_strength': 0.004838618650915092, 'border_count': 108, 'one_hot_max_size': 12, 'leaf_estimation_iterations': 2, 'leaf_estimation_method': 'Newton', 'grow_policy': 'SymmetricTree', 'subsample': 0.7457779898461783, 'rsm': 0.17651484197913903}. Best is trial 2 with value: 0.10351179854717361.\n",
      "[I 2024-02-18 01:21:22,925] Trial 21 finished with value: 0.10535589916865314 and parameters: {'iterations': 775, 'learning_rate': 0.014079007207360047, 'depth': 6, 'l2_leaf_reg': 9.192206563601778e-08, 'bagging_temperature': 0.4961961701034126, 'random_strength': 0.00046793503643370496, 'border_count': 87, 'one_hot_max_size': 11, 'leaf_estimation_iterations': 4, 'leaf_estimation_method': 'Newton', 'grow_policy': 'SymmetricTree', 'subsample': 0.9904164240202985, 'rsm': 0.3986643843791723}. Best is trial 2 with value: 0.10351179854717361.\n",
      "[I 2024-02-18 01:21:28,793] Trial 22 finished with value: 0.10425953913638718 and parameters: {'iterations': 922, 'learning_rate': 0.016561452616695137, 'depth': 8, 'l2_leaf_reg': 4.962759443050211e-08, 'bagging_temperature': 0.5855893335762845, 'random_strength': 0.05706788553703695, 'border_count': 86, 'one_hot_max_size': 12, 'leaf_estimation_iterations': 4, 'leaf_estimation_method': 'Newton', 'grow_policy': 'SymmetricTree', 'subsample': 0.8584460669137486, 'rsm': 0.4323195001430646}. Best is trial 2 with value: 0.10351179854717361.\n",
      "[I 2024-02-18 01:21:30,245] Trial 23 finished with value: 0.10904927108684581 and parameters: {'iterations': 589, 'learning_rate': 0.011374934220256918, 'depth': 6, 'l2_leaf_reg': 6.796693458354472e-08, 'bagging_temperature': 0.27197040645895304, 'random_strength': 1.7503416600443862, 'border_count': 82, 'one_hot_max_size': 15, 'leaf_estimation_iterations': 4, 'leaf_estimation_method': 'Newton', 'grow_policy': 'SymmetricTree', 'subsample': 0.9911703064012779, 'rsm': 0.4203992451995177}. Best is trial 2 with value: 0.10351179854717361.\n",
      "[I 2024-02-18 01:21:35,601] Trial 24 finished with value: 0.10706976610476439 and parameters: {'iterations': 748, 'learning_rate': 0.01526563612644229, 'depth': 8, 'l2_leaf_reg': 6.811358098959487e-06, 'bagging_temperature': 0.4957018472157157, 'random_strength': 0.12328679351852656, 'border_count': 33, 'one_hot_max_size': 14, 'leaf_estimation_iterations': 3, 'leaf_estimation_method': 'Newton', 'grow_policy': 'SymmetricTree', 'subsample': 0.8657576026871262, 'rsm': 0.6667293080051842}. Best is trial 2 with value: 0.10351179854717361.\n",
      "[I 2024-02-18 01:21:38,151] Trial 25 finished with value: 0.11357779380945729 and parameters: {'iterations': 943, 'learning_rate': 0.0050457801133229644, 'depth': 6, 'l2_leaf_reg': 4.664049492281791e-08, 'bagging_temperature': 0.9214009487823004, 'random_strength': 0.041557089377071255, 'border_count': 91, 'one_hot_max_size': 12, 'leaf_estimation_iterations': 2, 'leaf_estimation_method': 'Newton', 'grow_policy': 'SymmetricTree', 'subsample': 0.585145316189694, 'rsm': 0.5188435424192397}. Best is trial 2 with value: 0.10351179854717361.\n",
      "[I 2024-02-18 01:21:45,357] Trial 26 finished with value: 0.11180818584052091 and parameters: {'iterations': 267, 'learning_rate': 0.061820375821375485, 'depth': 10, 'l2_leaf_reg': 5.471247899183824e-06, 'bagging_temperature': 0.1667860073989091, 'random_strength': 1.4192154547283513, 'border_count': 135, 'one_hot_max_size': 8, 'leaf_estimation_iterations': 7, 'leaf_estimation_method': 'Newton', 'grow_policy': 'SymmetricTree', 'subsample': 0.8895837078386066, 'rsm': 0.3551057421240168}. Best is trial 2 with value: 0.10351179854717361.\n",
      "[I 2024-02-18 01:22:04,109] Trial 27 finished with value: 0.11597032831628491 and parameters: {'iterations': 837, 'learning_rate': 0.011258399255930517, 'depth': 10, 'l2_leaf_reg': 2.089025745581779e-06, 'bagging_temperature': 0.2871511618845551, 'random_strength': 0.000759854493562419, 'border_count': 94, 'one_hot_max_size': 14, 'leaf_estimation_iterations': 6, 'leaf_estimation_method': 'Newton', 'grow_policy': 'SymmetricTree', 'subsample': 0.7589739086455767, 'rsm': 0.44146191409257146}. Best is trial 2 with value: 0.10351179854717361.\n",
      "[I 2024-02-18 01:23:03,887] Trial 28 finished with value: 0.12862489609201058 and parameters: {'iterations': 730, 'learning_rate': 0.019498019883505295, 'depth': 12, 'l2_leaf_reg': 8.023436425659008e-08, 'bagging_temperature': 0.10286995010703001, 'random_strength': 0.16042471323871849, 'border_count': 62, 'one_hot_max_size': 11, 'leaf_estimation_iterations': 4, 'leaf_estimation_method': 'Newton', 'grow_policy': 'SymmetricTree', 'subsample': 0.42705885915373587, 'rsm': 0.5679036598535218}. Best is trial 2 with value: 0.10351179854717361.\n",
      "[I 2024-02-18 01:23:09,539] Trial 29 finished with value: 0.1099666813357521 and parameters: {'iterations': 601, 'learning_rate': 0.033613167644905836, 'depth': 8, 'l2_leaf_reg': 5.697670893125968e-05, 'bagging_temperature': 3.1081218974810145, 'random_strength': 0.011894364345296317, 'border_count': 128, 'one_hot_max_size': 8, 'leaf_estimation_iterations': 2, 'leaf_estimation_method': 'Gradient', 'grow_policy': 'SymmetricTree', 'subsample': 0.9918694993498344, 'rsm': 0.7657048301500199}. Best is trial 2 with value: 0.10351179854717361.\n",
      "[I 2024-02-18 01:23:15,842] Trial 30 finished with value: 0.10897496938247014 and parameters: {'iterations': 944, 'learning_rate': 0.013024738496431707, 'depth': 7, 'l2_leaf_reg': 3.187448699640117e-08, 'bagging_temperature': 0.611385893700351, 'random_strength': 0.02263172121897591, 'border_count': 69, 'one_hot_max_size': 11, 'leaf_estimation_iterations': 5, 'leaf_estimation_method': 'Newton', 'grow_policy': 'Lossguide', 'subsample': 0.7104656260931477, 'rsm': 0.48537229030509527}. Best is trial 2 with value: 0.10351179854717361.\n",
      "[I 2024-02-18 01:23:22,004] Trial 31 finished with value: 0.10873848912618744 and parameters: {'iterations': 875, 'learning_rate': 0.028604592668184933, 'depth': 8, 'l2_leaf_reg': 3.1250223194841667e-07, 'bagging_temperature': 0.7571247203575099, 'random_strength': 0.0044860453411261, 'border_count': 122, 'one_hot_max_size': 11, 'leaf_estimation_iterations': 4, 'leaf_estimation_method': 'Newton', 'grow_policy': 'SymmetricTree', 'subsample': 0.8158548622524944, 'rsm': 0.17389143577119956}. Best is trial 2 with value: 0.10351179854717361.\n"
     ]
    },
    {
     "name": "stderr",
     "output_type": "stream",
     "text": [
      "[I 2024-02-18 01:23:51,930] Trial 32 finished with value: 0.11953581156097177 and parameters: {'iterations': 792, 'learning_rate': 0.01735171314918613, 'depth': 11, 'l2_leaf_reg': 1.6005509098231963e-06, 'bagging_temperature': 1.0306355581641216, 'random_strength': 0.000366204509075911, 'border_count': 157, 'one_hot_max_size': 13, 'leaf_estimation_iterations': 3, 'leaf_estimation_method': 'Newton', 'grow_policy': 'SymmetricTree', 'subsample': 0.8244725971034412, 'rsm': 0.2749838182619086}. Best is trial 2 with value: 0.10351179854717361.\n",
      "[I 2024-02-18 01:23:54,736] Trial 33 finished with value: 0.10572109298093514 and parameters: {'iterations': 941, 'learning_rate': 0.009711077030321582, 'depth': 7, 'l2_leaf_reg': 1.1853166859298146e-07, 'bagging_temperature': 0.5074827537910974, 'random_strength': 0.00913227901214976, 'border_count': 96, 'one_hot_max_size': 9, 'leaf_estimation_iterations': 4, 'leaf_estimation_method': 'Newton', 'grow_policy': 'SymmetricTree', 'subsample': 0.895172595167409, 'rsm': 0.17419529872066358}. Best is trial 2 with value: 0.10351179854717361.\n",
      "[I 2024-02-18 01:23:56,649] Trial 34 finished with value: 0.10909259433533193 and parameters: {'iterations': 960, 'learning_rate': 0.008090637668583468, 'depth': 5, 'l2_leaf_reg': 0.00010152387757827488, 'bagging_temperature': 0.3257302775762802, 'random_strength': 1.2192953461399568e-05, 'border_count': 83, 'one_hot_max_size': 7, 'leaf_estimation_iterations': 9, 'leaf_estimation_method': 'Gradient', 'grow_policy': 'SymmetricTree', 'subsample': 0.9203202265756373, 'rsm': 0.39486636794762187}. Best is trial 2 with value: 0.10351179854717361.\n",
      "[I 2024-02-18 01:23:57,070] Trial 35 finished with value: 0.27556671677661765 and parameters: {'iterations': 57, 'learning_rate': 0.009733298448265957, 'depth': 7, 'l2_leaf_reg': 1.0729021777893083e-07, 'bagging_temperature': 0.5367646546465439, 'random_strength': 0.3082517256392528, 'border_count': 96, 'one_hot_max_size': 5, 'leaf_estimation_iterations': 3, 'leaf_estimation_method': 'Newton', 'grow_policy': 'Lossguide', 'subsample': 0.5278921451243708, 'rsm': 0.31567741387238885}. Best is trial 2 with value: 0.10351179854717361.\n",
      "[I 2024-02-18 01:25:02,494] Trial 36 finished with value: 0.1293732423901959 and parameters: {'iterations': 853, 'learning_rate': 0.007087169688590278, 'depth': 12, 'l2_leaf_reg': 1.953196871639401e-08, 'bagging_temperature': 1.0605468979736747, 'random_strength': 0.0014399566468609123, 'border_count': 149, 'one_hot_max_size': 7, 'leaf_estimation_iterations': 5, 'leaf_estimation_method': 'Newton', 'grow_policy': 'SymmetricTree', 'subsample': 0.8680079902501294, 'rsm': 0.34836623329511907}. Best is trial 2 with value: 0.10351179854717361.\n",
      "[I 2024-02-18 01:25:04,095] Trial 37 finished with value: 0.10308527934223331 and parameters: {'iterations': 815, 'learning_rate': 0.01549796620263859, 'depth': 6, 'l2_leaf_reg': 8.666398992105841e-07, 'bagging_temperature': 1.7010863567131926, 'random_strength': 3.02436217077754, 'border_count': 51, 'one_hot_max_size': 14, 'leaf_estimation_iterations': 7, 'leaf_estimation_method': 'Gradient', 'grow_policy': 'SymmetricTree', 'subsample': 0.27355976669548837, 'rsm': 0.15643358754469602}. Best is trial 37 with value: 0.10308527934223331.\n",
      "[I 2024-02-18 01:25:06,655] Trial 38 finished with value: 0.10147322091961725 and parameters: {'iterations': 822, 'learning_rate': 0.016338485959188413, 'depth': 6, 'l2_leaf_reg': 1.1324993488069604e-06, 'bagging_temperature': 1.533287540385425, 'random_strength': 2.889627128383442, 'border_count': 53, 'one_hot_max_size': 14, 'leaf_estimation_iterations': 7, 'leaf_estimation_method': 'Gradient', 'grow_policy': 'Lossguide', 'subsample': 0.277097762981457, 'rsm': 0.13738010155365526}. Best is trial 38 with value: 0.10147322091961725.\n",
      "[I 2024-02-18 01:25:08,596] Trial 39 finished with value: 0.10148064422122283 and parameters: {'iterations': 808, 'learning_rate': 0.017190398253559922, 'depth': 5, 'l2_leaf_reg': 1.296772452308641e-06, 'bagging_temperature': 1.7411495123903404, 'random_strength': 2.789690034585447, 'border_count': 49, 'one_hot_max_size': 15, 'leaf_estimation_iterations': 7, 'leaf_estimation_method': 'Gradient', 'grow_policy': 'Lossguide', 'subsample': 0.2855687702250582, 'rsm': 0.1368961867226534}. Best is trial 38 with value: 0.10147322091961725.\n",
      "[I 2024-02-18 01:25:10,250] Trial 40 finished with value: 0.10118031893626367 and parameters: {'iterations': 638, 'learning_rate': 0.021908118844025912, 'depth': 5, 'l2_leaf_reg': 2.016472780541853e-05, 'bagging_temperature': 1.4639322621693152, 'random_strength': 3.13557625559052, 'border_count': 51, 'one_hot_max_size': 15, 'leaf_estimation_iterations': 7, 'leaf_estimation_method': 'Gradient', 'grow_policy': 'Lossguide', 'subsample': 0.29274459866045055, 'rsm': 0.1335946969276564}. Best is trial 40 with value: 0.10118031893626367.\n",
      "[I 2024-02-18 01:25:11,855] Trial 41 finished with value: 0.10081749137741347 and parameters: {'iterations': 629, 'learning_rate': 0.02312967441544361, 'depth': 5, 'l2_leaf_reg': 1.4732117499840687e-05, 'bagging_temperature': 1.5439071376991877, 'random_strength': 3.39506460897197, 'border_count': 45, 'one_hot_max_size': 15, 'leaf_estimation_iterations': 7, 'leaf_estimation_method': 'Gradient', 'grow_policy': 'Lossguide', 'subsample': 0.2880196402501306, 'rsm': 0.13110206496570131}. Best is trial 41 with value: 0.10081749137741347.\n",
      "[I 2024-02-18 01:25:13,677] Trial 42 finished with value: 0.1031741044421686 and parameters: {'iterations': 606, 'learning_rate': 0.024400046820654237, 'depth': 5, 'l2_leaf_reg': 1.764852854113842e-05, 'bagging_temperature': 1.517416229941421, 'random_strength': 2.269044167079097, 'border_count': 48, 'one_hot_max_size': 15, 'leaf_estimation_iterations': 7, 'leaf_estimation_method': 'Gradient', 'grow_policy': 'Lossguide', 'subsample': 0.2854993124996712, 'rsm': 0.13435558366094247}. Best is trial 41 with value: 0.10081749137741347.\n",
      "[I 2024-02-18 01:25:15,054] Trial 43 finished with value: 0.10829939780081281 and parameters: {'iterations': 478, 'learning_rate': 0.01704643497711181, 'depth': 5, 'l2_leaf_reg': 0.00016333722854609164, 'bagging_temperature': 2.293444591656802, 'random_strength': 3.911351311583532, 'border_count': 51, 'one_hot_max_size': 15, 'leaf_estimation_iterations': 8, 'leaf_estimation_method': 'Gradient', 'grow_policy': 'Lossguide', 'subsample': 0.22493391516302685, 'rsm': 0.1299777051447517}. Best is trial 41 with value: 0.10081749137741347.\n",
      "[I 2024-02-18 01:25:15,925] Trial 44 finished with value: 0.11009230736792913 and parameters: {'iterations': 681, 'learning_rate': 0.011722222272518687, 'depth': 3, 'l2_leaf_reg': 1.785559406677284e-06, 'bagging_temperature': 2.148189280428157, 'random_strength': 0.7189942079338274, 'border_count': 33, 'one_hot_max_size': 14, 'leaf_estimation_iterations': 7, 'leaf_estimation_method': 'Gradient', 'grow_policy': 'Lossguide', 'subsample': 0.3175252591192571, 'rsm': 0.10119409630727305}. Best is trial 41 with value: 0.10081749137741347.\n",
      "[I 2024-02-18 01:25:17,525] Trial 45 finished with value: 0.10467087028430767 and parameters: {'iterations': 812, 'learning_rate': 0.041503417810793766, 'depth': 4, 'l2_leaf_reg': 0.0012680558863349923, 'bagging_temperature': 3.168029101651543, 'random_strength': 3.108936674831937, 'border_count': 56, 'one_hot_max_size': 16, 'leaf_estimation_iterations': 8, 'leaf_estimation_method': 'Gradient', 'grow_policy': 'Lossguide', 'subsample': 0.14163648728875464, 'rsm': 0.2205541631154598}. Best is trial 41 with value: 0.10081749137741347.\n",
      "[I 2024-02-18 01:25:20,157] Trial 46 finished with value: 0.10324323526846767 and parameters: {'iterations': 705, 'learning_rate': 0.0311010178063373, 'depth': 6, 'l2_leaf_reg': 2.2533697013488094e-05, 'bagging_temperature': 1.380493611106428, 'random_strength': 0.9644024931928539, 'border_count': 42, 'one_hot_max_size': 15, 'leaf_estimation_iterations': 9, 'leaf_estimation_method': 'Gradient', 'grow_policy': 'Lossguide', 'subsample': 0.37430339656489897, 'rsm': 0.14498878106576937}. Best is trial 41 with value: 0.10081749137741347.\n",
      "[I 2024-02-18 01:25:22,013] Trial 47 finished with value: 0.10144789964446654 and parameters: {'iterations': 634, 'learning_rate': 0.022649312443440626, 'depth': 5, 'l2_leaf_reg': 4.249081252732016e-06, 'bagging_temperature': 1.8693597178413879, 'random_strength': 9.96772683645929, 'border_count': 73, 'one_hot_max_size': 14, 'leaf_estimation_iterations': 6, 'leaf_estimation_method': 'Gradient', 'grow_policy': 'Lossguide', 'subsample': 0.2631062394488421, 'rsm': 0.2195972972310027}. Best is trial 41 with value: 0.10081749137741347.\n"
     ]
    },
    {
     "name": "stderr",
     "output_type": "stream",
     "text": [
      "[I 2024-02-18 01:25:23,077] Trial 48 finished with value: 0.10837685417466118 and parameters: {'iterations': 633, 'learning_rate': 0.02281594794506588, 'depth': 3, 'l2_leaf_reg': 3.6765146461741325e-06, 'bagging_temperature': 6.20242586994562, 'random_strength': 7.01023725837056, 'border_count': 76, 'one_hot_max_size': 16, 'leaf_estimation_iterations': 6, 'leaf_estimation_method': 'Gradient', 'grow_policy': 'Lossguide', 'subsample': 0.18552719503317722, 'rsm': 0.2291121977858816}. Best is trial 41 with value: 0.10081749137741347.\n",
      "[I 2024-02-18 01:25:24,822] Trial 49 finished with value: 0.10538487571699627 and parameters: {'iterations': 562, 'learning_rate': 0.05586202823333904, 'depth': 5, 'l2_leaf_reg': 1.5818799583768903e-05, 'bagging_temperature': 2.0312094922161505, 'random_strength': 0.3260771646237731, 'border_count': 65, 'one_hot_max_size': 13, 'leaf_estimation_iterations': 6, 'leaf_estimation_method': 'Gradient', 'grow_policy': 'Lossguide', 'subsample': 0.32398125717616505, 'rsm': 0.20291745962030477}. Best is trial 41 with value: 0.10081749137741347.\n",
      "[I 2024-02-18 01:25:26,206] Trial 50 finished with value: 0.1131071536672622 and parameters: {'iterations': 501, 'learning_rate': 0.018921701937825927, 'depth': 4, 'l2_leaf_reg': 0.0021075907399061592, 'bagging_temperature': 2.8616717365720814, 'random_strength': 8.392920919526208, 'border_count': 42, 'one_hot_max_size': 15, 'leaf_estimation_iterations': 8, 'leaf_estimation_method': 'Gradient', 'grow_policy': 'Lossguide', 'subsample': 0.21538571055678113, 'rsm': 0.9664004304370206}. Best is trial 41 with value: 0.10081749137741347.\n",
      "[I 2024-02-18 01:25:27,966] Trial 51 finished with value: 0.10274354832417817 and parameters: {'iterations': 650, 'learning_rate': 0.023080239138000648, 'depth': 5, 'l2_leaf_reg': 8.261505856828579e-07, 'bagging_temperature': 1.7403676886495716, 'random_strength': 3.0310618606005573, 'border_count': 56, 'one_hot_max_size': 14, 'leaf_estimation_iterations': 7, 'leaf_estimation_method': 'Gradient', 'grow_policy': 'Lossguide', 'subsample': 0.27106921340683154, 'rsm': 0.15403339360493484}. Best is trial 41 with value: 0.10081749137741347.\n",
      "[I 2024-02-18 01:25:29,950] Trial 52 finished with value: 0.10152335238173979 and parameters: {'iterations': 643, 'learning_rate': 0.027044456402529705, 'depth': 5, 'l2_leaf_reg': 0.0003648076934007551, 'bagging_temperature': 1.216258769268048, 'random_strength': 0.9417416550991614, 'border_count': 75, 'one_hot_max_size': 14, 'leaf_estimation_iterations': 7, 'leaf_estimation_method': 'Gradient', 'grow_policy': 'Lossguide', 'subsample': 0.2609034609024015, 'rsm': 0.25643191964608886}. Best is trial 41 with value: 0.10081749137741347.\n",
      "[I 2024-02-18 01:25:31,523] Trial 53 finished with value: 0.10265612657000132 and parameters: {'iterations': 746, 'learning_rate': 0.028760808502758424, 'depth': 4, 'l2_leaf_reg': 0.00019812016235500586, 'bagging_temperature': 1.2710466671941385, 'random_strength': 0.9769740392199604, 'border_count': 69, 'one_hot_max_size': 13, 'leaf_estimation_iterations': 6, 'leaf_estimation_method': 'Gradient', 'grow_policy': 'Lossguide', 'subsample': 0.3950578104428985, 'rsm': 0.27340786602720085}. Best is trial 41 with value: 0.10081749137741347.\n",
      "[I 2024-02-18 01:25:33,104] Trial 54 finished with value: 0.10006330048129165 and parameters: {'iterations': 559, 'learning_rate': 0.039824525310871564, 'depth': 5, 'l2_leaf_reg': 3.416408213094633e-05, 'bagging_temperature': 4.575174727510956, 'random_strength': 9.719010932834408, 'border_count': 39, 'one_hot_max_size': 16, 'leaf_estimation_iterations': 8, 'leaf_estimation_method': 'Gradient', 'grow_policy': 'Lossguide', 'subsample': 0.3362664804423019, 'rsm': 0.1058491945216402}. Best is trial 54 with value: 0.10006330048129165.\n",
      "[I 2024-02-18 01:25:34,298] Trial 55 finished with value: 0.10111352507325244 and parameters: {'iterations': 365, 'learning_rate': 0.03920708244153588, 'depth': 6, 'l2_leaf_reg': 5.116333201546804e-05, 'bagging_temperature': 4.520306412377049, 'random_strength': 5.420410057311608, 'border_count': 32, 'one_hot_max_size': 16, 'leaf_estimation_iterations': 8, 'leaf_estimation_method': 'Gradient', 'grow_policy': 'Lossguide', 'subsample': 0.32978706690176407, 'rsm': 0.10106216653501537}. Best is trial 54 with value: 0.10006330048129165.\n",
      "[I 2024-02-18 01:25:35,504] Trial 56 finished with value: 0.10726118207870712 and parameters: {'iterations': 368, 'learning_rate': 0.03942220224624956, 'depth': 6, 'l2_leaf_reg': 3.519000850298984e-05, 'bagging_temperature': 4.326028843634915, 'random_strength': 9.487999714120322, 'border_count': 32, 'one_hot_max_size': 16, 'leaf_estimation_iterations': 8, 'leaf_estimation_method': 'Gradient', 'grow_policy': 'Lossguide', 'subsample': 0.33380036214167813, 'rsm': 0.1096377709749128}. Best is trial 54 with value: 0.10006330048129165.\n",
      "[I 2024-02-18 01:25:36,030] Trial 57 finished with value: 0.10757608076591743 and parameters: {'iterations': 312, 'learning_rate': 0.07277053757979464, 'depth': 3, 'l2_leaf_reg': 7.478648007563862e-05, 'bagging_temperature': 6.852454205337473, 'random_strength': 0.27280504161449387, 'border_count': 41, 'one_hot_max_size': 16, 'leaf_estimation_iterations': 9, 'leaf_estimation_method': 'Gradient', 'grow_policy': 'Lossguide', 'subsample': 0.4478058153863109, 'rsm': 0.19970530690106822}. Best is trial 54 with value: 0.10006330048129165.\n",
      "[I 2024-02-18 01:25:36,840] Trial 58 finished with value: 0.10306997646568826 and parameters: {'iterations': 181, 'learning_rate': 0.0533275332513048, 'depth': 6, 'l2_leaf_reg': 8.032957253666603e-06, 'bagging_temperature': 4.106897853992376, 'random_strength': 4.417080185108391e-08, 'border_count': 60, 'one_hot_max_size': 16, 'leaf_estimation_iterations': 10, 'leaf_estimation_method': 'Gradient', 'grow_policy': 'Lossguide', 'subsample': 0.15341976953455327, 'rsm': 0.104102551959326}. Best is trial 54 with value: 0.10006330048129165.\n",
      "[I 2024-02-18 01:25:38,591] Trial 59 finished with value: 0.10586247090505221 and parameters: {'iterations': 550, 'learning_rate': 0.13848291861602663, 'depth': 5, 'l2_leaf_reg': 0.0006403431134029573, 'bagging_temperature': 5.250087885699914, 'random_strength': 4.877946901307446, 'border_count': 40, 'one_hot_max_size': 15, 'leaf_estimation_iterations': 8, 'leaf_estimation_method': 'Gradient', 'grow_policy': 'Lossguide', 'subsample': 0.3570901780288369, 'rsm': 0.24176635360889506}. Best is trial 54 with value: 0.10006330048129165.\n",
      "[I 2024-02-18 01:25:39,534] Trial 60 finished with value: 0.10416980863763024 and parameters: {'iterations': 456, 'learning_rate': 0.04602416570586981, 'depth': 4, 'l2_leaf_reg': 0.005912010578065919, 'bagging_temperature': 9.990842434741815, 'random_strength': 0.4801829315782414, 'border_count': 58, 'one_hot_max_size': 13, 'leaf_estimation_iterations': 8, 'leaf_estimation_method': 'Gradient', 'grow_policy': 'Lossguide', 'subsample': 0.1105076889213509, 'rsm': 0.17921575545499815}. Best is trial 54 with value: 0.10006330048129165.\n",
      "[I 2024-02-18 01:25:40,629] Trial 61 finished with value: 0.10606097147631162 and parameters: {'iterations': 391, 'learning_rate': 0.02078935483908007, 'depth': 5, 'l2_leaf_reg': 1.3759033297562542e-05, 'bagging_temperature': 2.587136400984287, 'random_strength': 1.6798901574435068, 'border_count': 50, 'one_hot_max_size': 15, 'leaf_estimation_iterations': 7, 'leaf_estimation_method': 'Gradient', 'grow_policy': 'Lossguide', 'subsample': 0.309734009727438, 'rsm': 0.14820398289346004}. Best is trial 54 with value: 0.10006330048129165.\n",
      "[I 2024-02-18 01:25:42,570] Trial 62 finished with value: 0.100502104702229 and parameters: {'iterations': 575, 'learning_rate': 0.036252186580480746, 'depth': 6, 'l2_leaf_reg': 3.765442681624864e-06, 'bagging_temperature': 3.801725959053829, 'random_strength': 4.672999917949828, 'border_count': 38, 'one_hot_max_size': 16, 'leaf_estimation_iterations': 6, 'leaf_estimation_method': 'Gradient', 'grow_policy': 'Lossguide', 'subsample': 0.20247365323705147, 'rsm': 0.1287327230324468}. Best is trial 54 with value: 0.10006330048129165.\n",
      "[I 2024-02-18 01:25:44,673] Trial 63 finished with value: 0.10060115159074515 and parameters: {'iterations': 521, 'learning_rate': 0.06706634417994357, 'depth': 6, 'l2_leaf_reg': 3.1357071806454917e-06, 'bagging_temperature': 3.6498661762463063, 'random_strength': 5.202149315476165, 'border_count': 37, 'one_hot_max_size': 16, 'leaf_estimation_iterations': 6, 'leaf_estimation_method': 'Gradient', 'grow_policy': 'Lossguide', 'subsample': 0.17919567732606134, 'rsm': 0.206235323789359}. Best is trial 54 with value: 0.10006330048129165.\n"
     ]
    },
    {
     "name": "stderr",
     "output_type": "stream",
     "text": [
      "[I 2024-02-18 01:25:46,957] Trial 64 finished with value: 0.1038656071128058 and parameters: {'iterations': 499, 'learning_rate': 0.0988757666743991, 'depth': 7, 'l2_leaf_reg': 3.428320422200381e-05, 'bagging_temperature': 3.637321150730057, 'random_strength': 9.992916082078155, 'border_count': 37, 'one_hot_max_size': 16, 'leaf_estimation_iterations': 6, 'leaf_estimation_method': 'Gradient', 'grow_policy': 'Lossguide', 'subsample': 0.18312550538455144, 'rsm': 0.21442483787253158}. Best is trial 54 with value: 0.10006330048129165.\n",
      "[I 2024-02-18 01:25:48,839] Trial 65 finished with value: 0.10626193225590065 and parameters: {'iterations': 575, 'learning_rate': 0.06304914037134304, 'depth': 6, 'l2_leaf_reg': 3.568780016158174e-06, 'bagging_temperature': 5.073304943824563, 'random_strength': 5.325832987293363, 'border_count': 32, 'one_hot_max_size': 16, 'leaf_estimation_iterations': 6, 'leaf_estimation_method': 'Gradient', 'grow_policy': 'Depthwise', 'subsample': 0.23812311303666706, 'rsm': 0.29843152051131366}. Best is trial 54 with value: 0.10006330048129165.\n",
      "[I 2024-02-18 01:25:50,651] Trial 66 finished with value: 0.10373409801092405 and parameters: {'iterations': 512, 'learning_rate': 0.03435783152220499, 'depth': 6, 'l2_leaf_reg': 4.486988569401598e-06, 'bagging_temperature': 8.008905182066345, 'random_strength': 1.4849635601946278, 'border_count': 45, 'one_hot_max_size': 15, 'leaf_estimation_iterations': 5, 'leaf_estimation_method': 'Gradient', 'grow_policy': 'Lossguide', 'subsample': 0.20509119130982645, 'rsm': 0.1896802030338431}. Best is trial 54 with value: 0.10006330048129165.\n",
      "[I 2024-02-18 01:25:52,706] Trial 67 finished with value: 0.1074260043654236 and parameters: {'iterations': 536, 'learning_rate': 0.04247194754589924, 'depth': 7, 'l2_leaf_reg': 0.00014647710776254815, 'bagging_temperature': 3.664019277888998, 'random_strength': 0.14726400431494788, 'border_count': 66, 'one_hot_max_size': 16, 'leaf_estimation_iterations': 6, 'leaf_estimation_method': 'Gradient', 'grow_policy': 'Lossguide', 'subsample': 0.15312666026433056, 'rsm': 0.10398034816084699}. Best is trial 54 with value: 0.10006330048129165.\n",
      "[I 2024-02-18 01:25:54,101] Trial 68 finished with value: 0.11250866334985583 and parameters: {'iterations': 617, 'learning_rate': 0.17270597891218786, 'depth': 4, 'l2_leaf_reg': 9.203833861324538e-06, 'bagging_temperature': 4.66063910218416, 'random_strength': 0.5603149547023998, 'border_count': 38, 'one_hot_max_size': 15, 'leaf_estimation_iterations': 5, 'leaf_estimation_method': 'Gradient', 'grow_policy': 'Lossguide', 'subsample': 0.3468557543013706, 'rsm': 0.16457413153162143}. Best is trial 54 with value: 0.10006330048129165.\n",
      "[I 2024-02-18 01:25:56,040] Trial 69 finished with value: 0.11121428176578291 and parameters: {'iterations': 447, 'learning_rate': 0.07754458147222411, 'depth': 5, 'l2_leaf_reg': 2.597177693517084e-06, 'bagging_temperature': 2.497477813123606, 'random_strength': 5.215481362310621, 'border_count': 75, 'one_hot_max_size': 16, 'leaf_estimation_iterations': 6, 'leaf_estimation_method': 'Gradient', 'grow_policy': 'Lossguide', 'subsample': 0.39536529037353507, 'rsm': 0.24350523878262167}. Best is trial 54 with value: 0.10006330048129165.\n",
      "[I 2024-02-18 01:25:58,098] Trial 70 finished with value: 0.10401741534053269 and parameters: {'iterations': 664, 'learning_rate': 0.04736646222736186, 'depth': 6, 'l2_leaf_reg': 3.8856864112229005e-05, 'bagging_temperature': 5.617847841548377, 'random_strength': 1.4000947066732132, 'border_count': 60, 'one_hot_max_size': 16, 'leaf_estimation_iterations': 9, 'leaf_estimation_method': 'Gradient', 'grow_policy': 'Depthwise', 'subsample': 0.11226674640322418, 'rsm': 0.20241279032609746}. Best is trial 54 with value: 0.10006330048129165.\n",
      "[I 2024-02-18 01:26:00,734] Trial 71 finished with value: 0.10064626859446547 and parameters: {'iterations': 581, 'learning_rate': 0.03193951194291607, 'depth': 6, 'l2_leaf_reg': 5.538209606408212e-07, 'bagging_temperature': 1.9869620790770566, 'random_strength': 4.520417539383662, 'border_count': 53, 'one_hot_max_size': 14, 'leaf_estimation_iterations': 7, 'leaf_estimation_method': 'Gradient', 'grow_policy': 'Lossguide', 'subsample': 0.2975224491254334, 'rsm': 0.1284595548230756}. Best is trial 54 with value: 0.10006330048129165.\n",
      "[I 2024-02-18 01:26:02,853] Trial 72 finished with value: 0.10216910065517924 and parameters: {'iterations': 591, 'learning_rate': 0.03605941281455393, 'depth': 6, 'l2_leaf_reg': 4.2904551012929975e-07, 'bagging_temperature': 1.9418649702939759, 'random_strength': 4.77640424772869, 'border_count': 45, 'one_hot_max_size': 14, 'leaf_estimation_iterations': 8, 'leaf_estimation_method': 'Gradient', 'grow_policy': 'Lossguide', 'subsample': 0.25257092223033234, 'rsm': 0.122722470462467}. Best is trial 54 with value: 0.10006330048129165.\n",
      "[I 2024-02-18 01:26:07,874] Trial 73 finished with value: 0.1049233957293784 and parameters: {'iterations': 704, 'learning_rate': 0.03241006085190876, 'depth': 7, 'l2_leaf_reg': 9.451477445861616e-06, 'bagging_temperature': 3.3414024997755574, 'random_strength': 1.8163957227238405, 'border_count': 37, 'one_hot_max_size': 15, 'leaf_estimation_iterations': 7, 'leaf_estimation_method': 'Gradient', 'grow_policy': 'Lossguide', 'subsample': 0.30590745543413406, 'rsm': 0.8217507786981278}. Best is trial 54 with value: 0.10006330048129165.\n",
      "[I 2024-02-18 01:26:10,358] Trial 74 finished with value: 0.10326571406885837 and parameters: {'iterations': 623, 'learning_rate': 0.06294288787998036, 'depth': 5, 'l2_leaf_reg': 2.1928045767750672e-07, 'bagging_temperature': 0.8986333822132642, 'random_strength': 0.06883614023076483, 'border_count': 175, 'one_hot_max_size': 14, 'leaf_estimation_iterations': 6, 'leaf_estimation_method': 'Gradient', 'grow_policy': 'Lossguide', 'subsample': 0.19653381311659535, 'rsm': 0.16199547045755627}. Best is trial 54 with value: 0.10006330048129165.\n",
      "[I 2024-02-18 01:26:11,846] Trial 75 finished with value: 0.10189581664949808 and parameters: {'iterations': 534, 'learning_rate': 0.029670694896112536, 'depth': 6, 'l2_leaf_reg': 2.2064724993495215e-05, 'bagging_temperature': 7.763754618542968, 'random_strength': 9.351266883197724, 'border_count': 46, 'one_hot_max_size': 15, 'leaf_estimation_iterations': 7, 'leaf_estimation_method': 'Gradient', 'grow_policy': 'Lossguide', 'subsample': 0.23025167264177976, 'rsm': 0.1271986002441042}. Best is trial 54 with value: 0.10006330048129165.\n",
      "[I 2024-02-18 01:26:13,512] Trial 76 finished with value: 0.10629747331253327 and parameters: {'iterations': 567, 'learning_rate': 0.024790279325384926, 'depth': 5, 'l2_leaf_reg': 7.4275297206586e-05, 'bagging_temperature': 2.521452628791482, 'random_strength': 0.23575566201684794, 'border_count': 55, 'one_hot_max_size': 13, 'leaf_estimation_iterations': 7, 'leaf_estimation_method': 'Gradient', 'grow_policy': 'Lossguide', 'subsample': 0.3709428211477794, 'rsm': 0.18181206189369153}. Best is trial 54 with value: 0.10006330048129165.\n",
      "[I 2024-02-18 01:26:14,506] Trial 77 finished with value: 0.10431546173515008 and parameters: {'iterations': 240, 'learning_rate': 0.03869294007274903, 'depth': 7, 'l2_leaf_reg': 5.197212505636106e-07, 'bagging_temperature': 2.8112931500780003, 'random_strength': 0.6221139949465995, 'border_count': 70, 'one_hot_max_size': 16, 'leaf_estimation_iterations': 6, 'leaf_estimation_method': 'Gradient', 'grow_policy': 'Lossguide', 'subsample': 0.420292077820935, 'rsm': 0.11956447357319172}. Best is trial 54 with value: 0.10006330048129165.\n",
      "[I 2024-02-18 01:26:18,252] Trial 78 finished with value: 0.10422153676311084 and parameters: {'iterations': 673, 'learning_rate': 0.05262942371001944, 'depth': 6, 'l2_leaf_reg': 5.7658571203593084e-06, 'bagging_temperature': 1.4510241004095454, 'random_strength': 4.911047730983284, 'border_count': 38, 'one_hot_max_size': 15, 'leaf_estimation_iterations': 7, 'leaf_estimation_method': 'Gradient', 'grow_policy': 'Lossguide', 'subsample': 0.2991542910521431, 'rsm': 0.6811135483696441}. Best is trial 54 with value: 0.10006330048129165.\n",
      "[I 2024-02-18 01:26:19,054] Trial 79 finished with value: 0.10700106957382166 and parameters: {'iterations': 422, 'learning_rate': 0.019843224816441594, 'depth': 4, 'l2_leaf_reg': 2.030346360493746e-07, 'bagging_temperature': 1.9686983799359248, 'random_strength': 2.4334001584204175, 'border_count': 61, 'one_hot_max_size': 16, 'leaf_estimation_iterations': 8, 'leaf_estimation_method': 'Gradient', 'grow_policy': 'Lossguide', 'subsample': 0.16226783178368445, 'rsm': 0.21579833043442967}. Best is trial 54 with value: 0.10006330048129165.\n"
     ]
    },
    {
     "name": "stderr",
     "output_type": "stream",
     "text": [
      "[I 2024-02-18 01:26:20,415] Trial 80 finished with value: 0.10306535623624118 and parameters: {'iterations': 486, 'learning_rate': 0.026068151234136208, 'depth': 5, 'l2_leaf_reg': 2.629342328967708e-06, 'bagging_temperature': 3.9235990766135354, 'random_strength': 6.781118742245321e-07, 'border_count': 102, 'one_hot_max_size': 14, 'leaf_estimation_iterations': 5, 'leaf_estimation_method': 'Gradient', 'grow_policy': 'Lossguide', 'subsample': 0.24861012262141136, 'rsm': 0.15746362079331605}. Best is trial 54 with value: 0.10006330048129165.\n",
      "[I 2024-02-18 01:26:22,189] Trial 81 finished with value: 0.10792792400051814 and parameters: {'iterations': 592, 'learning_rate': 0.013710134756119884, 'depth': 6, 'l2_leaf_reg': 7.523259986508404e-07, 'bagging_temperature': 1.5374726477083798, 'random_strength': 3.2046965194288095, 'border_count': 54, 'one_hot_max_size': 12, 'leaf_estimation_iterations': 7, 'leaf_estimation_method': 'Gradient', 'grow_policy': 'Lossguide', 'subsample': 0.3400142874139893, 'rsm': 0.13536173170569404}. Best is trial 54 with value: 0.10006330048129165.\n",
      "[I 2024-02-18 01:26:23,728] Trial 82 finished with value: 0.1020402061280661 and parameters: {'iterations': 468, 'learning_rate': 0.03148380029382318, 'depth': 6, 'l2_leaf_reg': 1.1970251005616776e-06, 'bagging_temperature': 4.63096941995082, 'random_strength': 1.2345089051462337, 'border_count': 49, 'one_hot_max_size': 14, 'leaf_estimation_iterations': 7, 'leaf_estimation_method': 'Gradient', 'grow_policy': 'Lossguide', 'subsample': 0.284368730389548, 'rsm': 0.10272128442541514}. Best is trial 54 with value: 0.10006330048129165.\n",
      "[I 2024-02-18 01:26:24,895] Trial 83 finished with value: 0.1101478268749065 and parameters: {'iterations': 337, 'learning_rate': 0.018370937653222782, 'depth': 5, 'l2_leaf_reg': 1.1351108145368361e-05, 'bagging_temperature': 1.1092832545373328, 'random_strength': 2.191100590449274, 'border_count': 32, 'one_hot_max_size': 15, 'leaf_estimation_iterations': 6, 'leaf_estimation_method': 'Gradient', 'grow_policy': 'Lossguide', 'subsample': 0.4756403225283785, 'rsm': 0.14620537262516084}. Best is trial 54 with value: 0.10006330048129165.\n",
      "[I 2024-02-18 01:26:27,073] Trial 84 finished with value: 0.10221140604078872 and parameters: {'iterations': 527, 'learning_rate': 0.022033921800095328, 'depth': 7, 'l2_leaf_reg': 2.228772540989994e-06, 'bagging_temperature': 0.9041271671392733, 'random_strength': 6.408879730560157, 'border_count': 80, 'one_hot_max_size': 14, 'leaf_estimation_iterations': 8, 'leaf_estimation_method': 'Gradient', 'grow_policy': 'Lossguide', 'subsample': 0.21582981931153739, 'rsm': 0.1722553041989311}. Best is trial 54 with value: 0.10006330048129165.\n",
      "[I 2024-02-18 01:26:29,170] Trial 85 finished with value: 0.10102784651442545 and parameters: {'iterations': 723, 'learning_rate': 0.02761398822065024, 'depth': 6, 'l2_leaf_reg': 2.4972939028423294e-05, 'bagging_temperature': 2.240511977804083, 'random_strength': 3.9584228052509087, 'border_count': 52, 'one_hot_max_size': 15, 'leaf_estimation_iterations': 8, 'leaf_estimation_method': 'Gradient', 'grow_policy': 'Depthwise', 'subsample': 0.2545226794825374, 'rsm': 0.12745403551788453}. Best is trial 54 with value: 0.10006330048129165.\n",
      "[I 2024-02-18 01:26:31,247] Trial 86 finished with value: 0.10008046026358562 and parameters: {'iterations': 731, 'learning_rate': 0.043564990668112466, 'depth': 5, 'l2_leaf_reg': 0.0003682682357126015, 'bagging_temperature': 2.206345995656229, 'random_strength': 4.107485528603005, 'border_count': 44, 'one_hot_max_size': 16, 'leaf_estimation_iterations': 9, 'leaf_estimation_method': 'Gradient', 'grow_policy': 'Depthwise', 'subsample': 0.12835178329480046, 'rsm': 0.18766717044379116}. Best is trial 54 with value: 0.10006330048129165.\n",
      "[I 2024-02-18 01:26:33,141] Trial 87 finished with value: 0.10434726571242998 and parameters: {'iterations': 755, 'learning_rate': 0.04515062118401652, 'depth': 6, 'l2_leaf_reg': 0.00032508797268700483, 'bagging_temperature': 2.8863836746981737, 'random_strength': 0.8590049308732349, 'border_count': 44, 'one_hot_max_size': 16, 'leaf_estimation_iterations': 9, 'leaf_estimation_method': 'Gradient', 'grow_policy': 'Depthwise', 'subsample': 0.12711534561818372, 'rsm': 0.19306585689346636}. Best is trial 54 with value: 0.10006330048129165.\n",
      "[I 2024-02-18 01:26:34,233] Trial 88 finished with value: 0.09993839259553154 and parameters: {'iterations': 729, 'learning_rate': 0.03741886565902058, 'depth': 4, 'l2_leaf_reg': 0.00012414918542647002, 'bagging_temperature': 3.4557698591923347, 'random_strength': 3.978540770994777, 'border_count': 37, 'one_hot_max_size': 15, 'leaf_estimation_iterations': 9, 'leaf_estimation_method': 'Gradient', 'grow_policy': 'Depthwise', 'subsample': 0.1682710176653096, 'rsm': 0.12902667144758706}. Best is trial 88 with value: 0.09993839259553154.\n",
      "[I 2024-02-18 01:26:35,360] Trial 89 finished with value: 0.10436093619141623 and parameters: {'iterations': 731, 'learning_rate': 0.07032369628780973, 'depth': 4, 'l2_leaf_reg': 0.00012330666189758828, 'bagging_temperature': 3.5013842027341204, 'random_strength': 0.43522742181773105, 'border_count': 37, 'one_hot_max_size': 16, 'leaf_estimation_iterations': 10, 'leaf_estimation_method': 'Gradient', 'grow_policy': 'Depthwise', 'subsample': 0.1693749894822645, 'rsm': 0.25988556266072416}. Best is trial 88 with value: 0.09993839259553154.\n",
      "[I 2024-02-18 01:26:36,162] Trial 90 finished with value: 0.10462846999939163 and parameters: {'iterations': 692, 'learning_rate': 0.055918943083084885, 'depth': 3, 'l2_leaf_reg': 0.00023527543561813695, 'bagging_temperature': 2.311703062133675, 'random_strength': 5.050740750201242, 'border_count': 44, 'one_hot_max_size': 15, 'leaf_estimation_iterations': 9, 'leaf_estimation_method': 'Gradient', 'grow_policy': 'Depthwise', 'subsample': 0.12971361320542943, 'rsm': 0.10040278543414373}. Best is trial 88 with value: 0.09993839259553154.\n",
      "[I 2024-02-18 01:26:37,667] Trial 91 finished with value: 0.10155645799263799 and parameters: {'iterations': 783, 'learning_rate': 0.03953741557219092, 'depth': 5, 'l2_leaf_reg': 6.031925812750737e-05, 'bagging_temperature': 3.120198105401019, 'random_strength': 4.0477515327691326e-05, 'border_count': 51, 'one_hot_max_size': 15, 'leaf_estimation_iterations': 9, 'leaf_estimation_method': 'Gradient', 'grow_policy': 'Depthwise', 'subsample': 0.2021719146995486, 'rsm': 0.12629854421736128}. Best is trial 88 with value: 0.09993839259553154.\n",
      "[I 2024-02-18 01:26:39,112] Trial 92 finished with value: 0.09952240214403561 and parameters: {'iterations': 713, 'learning_rate': 0.034465879281446024, 'depth': 4, 'l2_leaf_reg': 0.0007971779205125634, 'bagging_temperature': 2.179033128468454, 'random_strength': 3.609353467556531, 'border_count': 38, 'one_hot_max_size': 16, 'leaf_estimation_iterations': 8, 'leaf_estimation_method': 'Gradient', 'grow_policy': 'Depthwise', 'subsample': 0.23106364974405008, 'rsm': 0.16381336592677279}. Best is trial 92 with value: 0.09952240214403561.\n",
      "[I 2024-02-18 01:26:41,325] Trial 93 finished with value: 0.10330298340831756 and parameters: {'iterations': 718, 'learning_rate': 0.03496081999201686, 'depth': 4, 'l2_leaf_reg': 0.0047954151254651295, 'bagging_temperature': 2.2606242539552577, 'random_strength': 1.5488737933387253, 'border_count': 36, 'one_hot_max_size': 16, 'leaf_estimation_iterations': 9, 'leaf_estimation_method': 'Gradient', 'grow_policy': 'Depthwise', 'subsample': 0.1763298539499618, 'rsm': 0.16105643624873459}. Best is trial 92 with value: 0.09952240214403561.\n",
      "[I 2024-02-18 01:26:42,582] Trial 94 finished with value: 0.10597682039789247 and parameters: {'iterations': 758, 'learning_rate': 0.04886252022781413, 'depth': 4, 'l2_leaf_reg': 0.0010446932142760463, 'bagging_temperature': 2.7432278041091838, 'random_strength': 3.8237038041537827, 'border_count': 198, 'one_hot_max_size': 16, 'leaf_estimation_iterations': 8, 'leaf_estimation_method': 'Gradient', 'grow_policy': 'Depthwise', 'subsample': 0.2344060106996882, 'rsm': 0.1838574346256026}. Best is trial 92 with value: 0.09952240214403561.\n",
      "[I 2024-02-18 01:26:44,780] Trial 95 finished with value: 0.10922483760283004 and parameters: {'iterations': 684, 'learning_rate': 0.08656160278263077, 'depth': 7, 'l2_leaf_reg': 3.5779557680137554e-05, 'bagging_temperature': 3.927335729022325, 'random_strength': 2.0707526594720207, 'border_count': 40, 'one_hot_max_size': 16, 'leaf_estimation_iterations': 10, 'leaf_estimation_method': 'Gradient', 'grow_policy': 'Depthwise', 'subsample': 0.19161320259858766, 'rsm': 0.12467252992427469}. Best is trial 92 with value: 0.09952240214403561.\n"
     ]
    },
    {
     "name": "stderr",
     "output_type": "stream",
     "text": [
      "[I 2024-02-18 01:26:47,510] Trial 96 finished with value: 0.10292436918156432 and parameters: {'iterations': 732, 'learning_rate': 0.028007106346621038, 'depth': 6, 'l2_leaf_reg': 0.0007024171615534981, 'bagging_temperature': 6.075737322648658, 'random_strength': 6.48505221579198, 'border_count': 46, 'one_hot_max_size': 15, 'leaf_estimation_iterations': 8, 'leaf_estimation_method': 'Gradient', 'grow_policy': 'Depthwise', 'subsample': 0.2541761264278097, 'rsm': 0.1514037612472301}. Best is trial 92 with value: 0.09952240214403561.\n",
      "[I 2024-02-18 01:26:49,445] Trial 97 finished with value: 0.10312691752775306 and parameters: {'iterations': 856, 'learning_rate': 0.04247577698542367, 'depth': 3, 'l2_leaf_reg': 0.0017174445943183262, 'bagging_temperature': 4.5025940116822865, 'random_strength': 0.8797204002406921, 'border_count': 64, 'one_hot_max_size': 16, 'leaf_estimation_iterations': 8, 'leaf_estimation_method': 'Gradient', 'grow_policy': 'Depthwise', 'subsample': 0.10067006279668578, 'rsm': 0.23473672629595893}. Best is trial 92 with value: 0.09952240214403561.\n",
      "[I 2024-02-18 01:26:50,196] Trial 98 finished with value: 0.10753806837399496 and parameters: {'iterations': 618, 'learning_rate': 0.03754598181758044, 'depth': 2, 'l2_leaf_reg': 9.513149307990486e-05, 'bagging_temperature': 2.125183926839566, 'random_strength': 3.515833071496506, 'border_count': 56, 'one_hot_max_size': 4, 'leaf_estimation_iterations': 9, 'leaf_estimation_method': 'Gradient', 'grow_policy': 'Depthwise', 'subsample': 0.6141441120695712, 'rsm': 0.2901846877494937}. Best is trial 92 with value: 0.09952240214403561.\n",
      "[I 2024-02-18 01:26:51,387] Trial 99 finished with value: 0.1027088839354232 and parameters: {'iterations': 575, 'learning_rate': 0.05742056629427141, 'depth': 5, 'l2_leaf_reg': 0.013777736458195113, 'bagging_temperature': 3.111290613721063, 'random_strength': 6.383115137526976, 'border_count': 34, 'one_hot_max_size': 15, 'leaf_estimation_iterations': 8, 'leaf_estimation_method': 'Gradient', 'grow_policy': 'Depthwise', 'subsample': 0.1325338634783339, 'rsm': 0.17318303594635165}. Best is trial 92 with value: 0.09952240214403561.\n"
     ]
    },
    {
     "name": "stdout",
     "output_type": "stream",
     "text": [
      "Best RMSE: 0.09952240214403561\n"
     ]
    }
   ],
   "source": [
    "# Catboost + Optuna study\n",
    "\n",
    "def objective(trial):\n",
    "    params = {\n",
    "        'loss_function': 'RMSE',\n",
    "        'eval_metric': 'RMSE',\n",
    "        'iterations': trial.suggest_int('iterations', 50, 1000),\n",
    "        'learning_rate': trial.suggest_loguniform('learning_rate', 0.005, 0.5),\n",
    "        'depth': trial.suggest_int('depth', 2, 12),\n",
    "        'l2_leaf_reg': trial.suggest_loguniform('l2_leaf_reg', 1e-8, 100.0),\n",
    "        'bagging_temperature': trial.suggest_loguniform('bagging_temperature', 0.1, 10.0),\n",
    "        'random_strength': trial.suggest_loguniform('random_strength', 1e-8, 10.0),\n",
    "        'border_count': trial.suggest_int('border_count', 32, 255),\n",
    "        'one_hot_max_size': trial.suggest_int('one_hot_max_size', 2, 16),\n",
    "        'leaf_estimation_iterations': trial.suggest_int('leaf_estimation_iterations', 1, 10),\n",
    "        'leaf_estimation_method': trial.suggest_categorical('leaf_estimation_method', ['Newton', 'Gradient']),\n",
    "        'grow_policy': trial.suggest_categorical('grow_policy', ['SymmetricTree', 'Depthwise', 'Lossguide']),\n",
    "        'subsample': trial.suggest_float('subsample', 0.1, 1.0),\n",
    "        'rsm': trial.suggest_float('rsm', 0.1, 1.0),\n",
    "        'verbose': False,\n",
    "    }\n",
    "    \n",
    "    model = cb.CatBoostRegressor(**params)\n",
    "    model.fit(X_train, y_train)\n",
    "    \n",
    "    predictions = model.predict(X_test)\n",
    "    rmse = np.sqrt(mean_squared_error(y_test, predictions))\n",
    "    return rmse\n",
    "\n",
    "# Create a study object and optimize the objective function\n",
    "study = optuna.create_study(direction='minimize')\n",
    "study.optimize(objective, n_trials=100)\n",
    "\n",
    "print(f'Best RMSE: {study.best_trial.value}')"
   ]
  },
  {
   "cell_type": "code",
   "execution_count": 124,
   "metadata": {},
   "outputs": [
    {
     "name": "stdout",
     "output_type": "stream",
     "text": [
      "Best: {'iterations': 767, 'learning_rate': 0.029595990654101904, 'depth': 5, 'l2_leaf_reg': 2.463457979520428, 'bagging_temperature': 0.3862143831133332, 'random_strength': 9.961378219592522, 'border_count': 43, 'one_hot_max_size': 9, 'leaf_estimation_iterations': 2, 'leaf_estimation_method': 'Gradient', 'grow_policy': 'Lossguide', 'subsample': 0.6989281130491345, 'rsm': 0.6113719966496803}\n",
      "\n",
      "CatBoost + Optuna:\n",
      "- RMSE: 0.0972\n",
      "- R2: 0.9391\n"
     ]
    }
   ],
   "source": [
    "# CatBoost + Optuna results\n",
    "\n",
    "# params from previous rerun were better\n",
    "cb_better_params = {'iterations': 767, 'learning_rate': 0.029595990654101904, \n",
    "                    'depth': 5, 'l2_leaf_reg': 2.463457979520428, \n",
    "                    'bagging_temperature': 0.3862143831133332, 'random_strength': 9.961378219592522, \n",
    "                    'border_count': 43, 'one_hot_max_size': 9, 'leaf_estimation_iterations': 2, \n",
    "                    'leaf_estimation_method': 'Gradient', 'grow_policy': 'Lossguide', \n",
    "                    'subsample': 0.6989281130491345, 'rsm': 0.6113719966496803}\n",
    "\n",
    "opt_cb_params = study.best_params\n",
    "\n",
    "print(f'Best: {cb_better_params}\\n')\n",
    "\n",
    "opt_cat = cb.CatBoostRegressor(**cb_better_params, verbose=False)\n",
    "opt_cat.fit(X_train, y_train)\n",
    "opt_preds = opt_cat.predict(X_test)\n",
    "rmse = np.sqrt(mean_squared_error(y_test, opt_preds))\n",
    "r2 = r2_score(y_test, opt_preds)\n",
    "print(f'CatBoost + Optuna:\\n- RMSE: {rmse :.4f}\\n- R2: {r2 :.4f}')\n",
    "\n",
    "# saving test predictions\n",
    "optuna_train_pred['CatBoost'] = opt_preds\n",
    "optuna_test_pred['CatBoost'] = opt_cat.predict(test_data)\n",
    "optuna_results['CatBoost'] = [rmse, r2]"
   ]
  },
  {
   "cell_type": "code",
   "execution_count": 125,
   "metadata": {},
   "outputs": [
    {
     "name": "stderr",
     "output_type": "stream",
     "text": [
      "[I 2024-02-18 01:27:09,674] A new study created in memory with name: no-name-8bbe86b2-ad90-4a6b-9c1e-210d61511f56\n",
      "[I 2024-02-18 01:27:11,064] Trial 0 finished with value: 0.1270641788261089 and parameters: {'eta': 0.2051953664658, 'max_depth': 4, 'min_child_weight': 1, 'subsample': 0.7398145202204645, 'colsample_bytree': 0.9990932523468014, 'gamma': 0.1771159928069067, 'n_estimators': 228, 'lambda': 0.4748711982298226, 'alpha': 1.378326785769096, 'tree_method': 'exact', 'objective': 'reg:squarederror'}. Best is trial 0 with value: 0.1270641788261089.\n",
      "[I 2024-02-18 01:27:12,442] Trial 1 finished with value: 0.10515135352339754 and parameters: {'eta': 0.06264803674486348, 'max_depth': 3, 'min_child_weight': 8, 'subsample': 0.8646671989760824, 'colsample_bytree': 0.7232210900581262, 'gamma': 0.038597880432532095, 'n_estimators': 655, 'lambda': 0.436484821681864, 'alpha': 0.20025519217186338, 'tree_method': 'exact', 'objective': 'reg:squarederror'}. Best is trial 1 with value: 0.10515135352339754.\n",
      "[I 2024-02-18 01:27:12,837] Trial 2 finished with value: 0.125560120245233 and parameters: {'eta': 0.16031859882460173, 'max_depth': 7, 'min_child_weight': 5, 'subsample': 0.9734226999601436, 'colsample_bytree': 0.7481046944038197, 'gamma': 0.14290013928892875, 'n_estimators': 527, 'lambda': 1.2473623081765706, 'alpha': 0.8846152670758585, 'tree_method': 'approx', 'objective': 'reg:squarederror'}. Best is trial 1 with value: 0.10515135352339754.\n",
      "[I 2024-02-18 01:27:13,303] Trial 3 finished with value: 0.1343450152932771 and parameters: {'eta': 0.22614939823166672, 'max_depth': 4, 'min_child_weight': 2, 'subsample': 0.9534557287955585, 'colsample_bytree': 0.8264823475075518, 'gamma': 0.3503416209574982, 'n_estimators': 662, 'lambda': 1.3444405024256607, 'alpha': 1.4472828887861027, 'tree_method': 'approx', 'objective': 'reg:squarederror'}. Best is trial 1 with value: 0.10515135352339754.\n",
      "[I 2024-02-18 01:27:13,662] Trial 4 finished with value: 0.13997958853623563 and parameters: {'eta': 0.08600899089550507, 'max_depth': 5, 'min_child_weight': 1, 'subsample': 0.578462963877918, 'colsample_bytree': 0.927384533898717, 'gamma': 0.46240875175182355, 'n_estimators': 415, 'lambda': 0.33518410613990257, 'alpha': 1.6222043996861242, 'tree_method': 'approx', 'objective': 'reg:squarederror'}. Best is trial 1 with value: 0.10515135352339754.\n",
      "[I 2024-02-18 01:27:14,215] Trial 5 finished with value: 0.12941173173833762 and parameters: {'eta': 0.2431486990036603, 'max_depth': 7, 'min_child_weight': 8, 'subsample': 0.6423733216701764, 'colsample_bytree': 0.69792110559906, 'gamma': 0.44475892713854703, 'n_estimators': 902, 'lambda': 0.6691228491752235, 'alpha': 0.5768380031577443, 'tree_method': 'approx', 'objective': 'reg:squarederror'}. Best is trial 1 with value: 0.10515135352339754.\n",
      "[I 2024-02-18 01:27:14,549] Trial 6 finished with value: 0.12020636205582838 and parameters: {'eta': 0.11527956407520228, 'max_depth': 7, 'min_child_weight': 7, 'subsample': 0.7373180404131434, 'colsample_bytree': 0.534471182881417, 'gamma': 0.07215312626701059, 'n_estimators': 484, 'lambda': 1.9929404284815602, 'alpha': 1.4428217908312502, 'tree_method': 'approx', 'objective': 'reg:squarederror'}. Best is trial 1 with value: 0.10515135352339754.\n",
      "[I 2024-02-18 01:27:15,589] Trial 7 finished with value: 0.139536212751262 and parameters: {'eta': 0.24350662040309645, 'max_depth': 3, 'min_child_weight': 5, 'subsample': 0.6146383915079026, 'colsample_bytree': 0.695600723904507, 'gamma': 0.42265212606738517, 'n_estimators': 605, 'lambda': 1.5506154534940368, 'alpha': 1.3182636872518798, 'tree_method': 'exact', 'objective': 'reg:squarederror'}. Best is trial 1 with value: 0.10515135352339754.\n",
      "[I 2024-02-18 01:27:16,067] Trial 8 finished with value: 0.13509499425613025 and parameters: {'eta': 0.15908618840373956, 'max_depth': 7, 'min_child_weight': 3, 'subsample': 0.8904358238728998, 'colsample_bytree': 0.5305518718626157, 'gamma': 0.4213569787255391, 'n_estimators': 848, 'lambda': 1.635576402313774, 'alpha': 0.6015763599250861, 'tree_method': 'approx', 'objective': 'reg:squarederror'}. Best is trial 1 with value: 0.10515135352339754.\n",
      "[I 2024-02-18 01:27:18,780] Trial 9 finished with value: 0.12091016759600248 and parameters: {'eta': 0.2732556306889635, 'max_depth': 5, 'min_child_weight': 9, 'subsample': 0.6427242047679627, 'colsample_bytree': 0.8939100867436623, 'gamma': 0.21065552938850352, 'n_estimators': 851, 'lambda': 1.8903343796156151, 'alpha': 0.2203758140909584, 'tree_method': 'exact', 'objective': 'reg:squarederror'}. Best is trial 1 with value: 0.10515135352339754.\n",
      "[I 2024-02-18 01:27:19,227] Trial 10 finished with value: 0.9151825761878559 and parameters: {'eta': 0.015236047546956281, 'max_depth': 9, 'min_child_weight': 10, 'subsample': 0.834034518267688, 'colsample_bytree': 0.6196775699751211, 'gamma': 0.02895757785497194, 'n_estimators': 167, 'lambda': 0.051585221603359765, 'alpha': 0.01191848419929542, 'tree_method': 'hist', 'objective': 'reg:squarederror'}. Best is trial 1 with value: 0.10515135352339754.\n",
      "[I 2024-02-18 01:27:19,735] Trial 11 finished with value: 0.1144729524440361 and parameters: {'eta': 0.0657455744659077, 'max_depth': 9, 'min_child_weight': 7, 'subsample': 0.7566156025607201, 'colsample_bytree': 0.5269126079044673, 'gamma': 0.009363329468014651, 'n_estimators': 392, 'lambda': 0.9556890142167069, 'alpha': 1.878489691745013, 'tree_method': 'hist', 'objective': 'reg:squarederror'}. Best is trial 1 with value: 0.10515135352339754.\n",
      "[I 2024-02-18 01:27:20,212] Trial 12 finished with value: 0.12278934832770208 and parameters: {'eta': 0.02756342125551217, 'max_depth': 10, 'min_child_weight': 7, 'subsample': 0.8034071628588296, 'colsample_bytree': 0.6068293071213872, 'gamma': 0.007499526175939063, 'n_estimators': 319, 'lambda': 0.9681993927227569, 'alpha': 1.9239261720337049, 'tree_method': 'hist', 'objective': 'reg:squarederror'}. Best is trial 1 with value: 0.10515135352339754.\n",
      "[I 2024-02-18 01:27:20,722] Trial 13 finished with value: 0.11958517535641913 and parameters: {'eta': 0.06890897314657168, 'max_depth': 9, 'min_child_weight': 6, 'subsample': 0.8668756676975767, 'colsample_bytree': 0.6092946983604501, 'gamma': 0.1034705587769062, 'n_estimators': 687, 'lambda': 0.8191596737472795, 'alpha': 0.9861116189626737, 'tree_method': 'hist', 'objective': 'reg:squarederror'}. Best is trial 1 with value: 0.10515135352339754.\n",
      "[I 2024-02-18 01:27:21,071] Trial 14 finished with value: 0.1312608543630364 and parameters: {'eta': 0.060518949737912484, 'max_depth': 9, 'min_child_weight': 10, 'subsample': 0.782316758542859, 'colsample_bytree': 0.8052904282563869, 'gamma': 0.28955523032670405, 'n_estimators': 365, 'lambda': 0.08819097273237997, 'alpha': 1.9174171941461955, 'tree_method': 'hist', 'objective': 'reg:squarederror'}. Best is trial 1 with value: 0.10515135352339754.\n",
      "[I 2024-02-18 01:27:23,682] Trial 15 finished with value: 0.11263940949614921 and parameters: {'eta': 0.11794441312286358, 'max_depth': 6, 'min_child_weight': 8, 'subsample': 0.9129651229661098, 'colsample_bytree': 0.5024220277248725, 'gamma': 0.08138577466241231, 'n_estimators': 735, 'lambda': 0.5502327759288361, 'alpha': 0.5048357504802862, 'tree_method': 'exact', 'objective': 'reg:squarederror'}. Best is trial 1 with value: 0.10515135352339754.\n",
      "[I 2024-02-18 01:27:25,716] Trial 16 finished with value: 0.1261822317716876 and parameters: {'eta': 0.116147927134447, 'max_depth': 3, 'min_child_weight': 9, 'subsample': 0.9155538664997857, 'colsample_bytree': 0.66704368331458, 'gamma': 0.260224905216607, 'n_estimators': 748, 'lambda': 0.42505073108142555, 'alpha': 0.45357770951346144, 'tree_method': 'exact', 'objective': 'reg:squarederror'}. Best is trial 1 with value: 0.10515135352339754.\n",
      "[I 2024-02-18 01:27:29,732] Trial 17 finished with value: 0.11330779914289281 and parameters: {'eta': 0.1303956801269271, 'max_depth': 5, 'min_child_weight': 4, 'subsample': 0.5076819545957636, 'colsample_bytree': 0.7738723381258533, 'gamma': 0.10149227209695132, 'n_estimators': 963, 'lambda': 0.6365266923592556, 'alpha': 0.29612216539374975, 'tree_method': 'exact', 'objective': 'reg:squarederror'}. Best is trial 1 with value: 0.10515135352339754.\n"
     ]
    },
    {
     "name": "stderr",
     "output_type": "stream",
     "text": [
      "[I 2024-02-18 01:27:34,283] Trial 18 finished with value: 0.11576743371561 and parameters: {'eta': 0.17637469373932027, 'max_depth': 6, 'min_child_weight': 8, 'subsample': 0.992532351087381, 'colsample_bytree': 0.8594848126952889, 'gamma': 0.0766438848209653, 'n_estimators': 760, 'lambda': 0.2597469177127026, 'alpha': 0.01830558792954906, 'tree_method': 'exact', 'objective': 'reg:squarederror'}. Best is trial 1 with value: 0.10515135352339754.\n",
      "[I 2024-02-18 01:27:36,311] Trial 19 finished with value: 0.11943427220407761 and parameters: {'eta': 0.1032012082282518, 'max_depth': 4, 'min_child_weight': 8, 'subsample': 0.9150973181312394, 'colsample_bytree': 0.5018277679298304, 'gamma': 0.1432298450311704, 'n_estimators': 594, 'lambda': 0.5854161105966236, 'alpha': 0.8223905597090357, 'tree_method': 'exact', 'objective': 'reg:squarederror'}. Best is trial 1 with value: 0.10515135352339754.\n",
      "[I 2024-02-18 01:27:38,656] Trial 20 finished with value: 0.12311639916570667 and parameters: {'eta': 0.05370728953722427, 'max_depth': 6, 'min_child_weight': 6, 'subsample': 0.8571493383987057, 'colsample_bytree': 0.5860633438380465, 'gamma': 0.20804338021535623, 'n_estimators': 761, 'lambda': 1.1615261596824458, 'alpha': 0.7179436696917689, 'tree_method': 'exact', 'objective': 'reg:squarederror'}. Best is trial 1 with value: 0.10515135352339754.\n",
      "[I 2024-02-18 01:27:44,245] Trial 21 finished with value: 0.11503138986245584 and parameters: {'eta': 0.12601789976423364, 'max_depth': 6, 'min_child_weight': 4, 'subsample': 0.5092252664140213, 'colsample_bytree': 0.7841373294247622, 'gamma': 0.06203463515332166, 'n_estimators': 972, 'lambda': 0.7125047261821091, 'alpha': 0.31611159385334986, 'tree_method': 'exact', 'objective': 'reg:squarederror'}. Best is trial 1 with value: 0.10515135352339754.\n",
      "[I 2024-02-18 01:27:47,426] Trial 22 finished with value: 0.11417266846761377 and parameters: {'eta': 0.13383735916348713, 'max_depth': 5, 'min_child_weight': 4, 'subsample': 0.5036099929266343, 'colsample_bytree': 0.7382107669641418, 'gamma': 0.11778258658785307, 'n_estimators': 988, 'lambda': 0.2412846805554168, 'alpha': 0.26740597568033114, 'tree_method': 'exact', 'objective': 'reg:squarederror'}. Best is trial 1 with value: 0.10515135352339754.\n",
      "[I 2024-02-18 01:27:49,683] Trial 23 finished with value: 0.10941537716597773 and parameters: {'eta': 0.09313691816563552, 'max_depth': 3, 'min_child_weight': 4, 'subsample': 0.7008545644652882, 'colsample_bytree': 0.660816181839505, 'gamma': 0.05553196818512006, 'n_estimators': 875, 'lambda': 0.5621841126097528, 'alpha': 0.40538346141020376, 'tree_method': 'exact', 'objective': 'reg:squarederror'}. Best is trial 1 with value: 0.10515135352339754.\n",
      "[I 2024-02-18 01:27:51,219] Trial 24 finished with value: 0.10476883442912208 and parameters: {'eta': 0.03801469452909462, 'max_depth': 3, 'min_child_weight': 9, 'subsample': 0.7022008974229069, 'colsample_bytree': 0.6852353049929981, 'gamma': 0.04452833310357038, 'n_estimators': 826, 'lambda': 0.8420795225697753, 'alpha': 0.5024567423299254, 'tree_method': 'exact', 'objective': 'reg:squarederror'}. Best is trial 24 with value: 0.10476883442912208.\n",
      "[I 2024-02-18 01:27:52,803] Trial 25 finished with value: 0.11111172254835863 and parameters: {'eta': 0.03387356224959626, 'max_depth': 3, 'min_child_weight': 9, 'subsample': 0.707639735090632, 'colsample_bytree': 0.656942472638724, 'gamma': 0.05307166545482886, 'n_estimators': 850, 'lambda': 0.8380779482847031, 'alpha': 1.1272659636698283, 'tree_method': 'exact', 'objective': 'reg:squarederror'}. Best is trial 24 with value: 0.10476883442912208.\n",
      "[I 2024-02-18 01:27:55,035] Trial 26 finished with value: 0.10849322515751772 and parameters: {'eta': 0.08795025844348578, 'max_depth': 3, 'min_child_weight': 3, 'subsample': 0.68826902533918, 'colsample_bytree': 0.7090667054499875, 'gamma': 0.034814174334576, 'n_estimators': 902, 'lambda': 0.8179703178033142, 'alpha': 0.10508811647529037, 'tree_method': 'exact', 'objective': 'reg:squarederror'}. Best is trial 24 with value: 0.10476883442912208.\n",
      "[I 2024-02-18 01:27:57,645] Trial 27 finished with value: 0.10472718544553905 and parameters: {'eta': 0.034551914907502736, 'max_depth': 4, 'min_child_weight': 2, 'subsample': 0.6973404106974254, 'colsample_bytree': 0.7199324363745846, 'gamma': 0.0009811304860398717, 'n_estimators': 664, 'lambda': 1.1486275571248947, 'alpha': 0.1360135839804829, 'tree_method': 'exact', 'objective': 'reg:squarederror'}. Best is trial 27 with value: 0.10472718544553905.\n",
      "[I 2024-02-18 01:28:06,467] Trial 28 finished with value: 0.12297660219124779 and parameters: {'eta': 0.04153267639827569, 'max_depth': 4, 'min_child_weight': 10, 'subsample': 0.8107178571281934, 'colsample_bytree': 0.7334574617840348, 'gamma': 0.33004645894512474, 'n_estimators': 609, 'lambda': 1.116932322065497, 'alpha': 0.15347639531141105, 'tree_method': 'exact', 'objective': 'reg:squarederror'}. Best is trial 27 with value: 0.10472718544553905.\n",
      "[I 2024-02-18 01:28:09,257] Trial 29 finished with value: 0.12520840385541068 and parameters: {'eta': 0.011157782701480826, 'max_depth': 4, 'min_child_weight': 9, 'subsample': 0.7446825369205465, 'colsample_bytree': 0.9575541467703581, 'gamma': 0.17762035337968904, 'n_estimators': 670, 'lambda': 1.4094940627086059, 'alpha': 0.6761161235699378, 'tree_method': 'exact', 'objective': 'reg:squarederror'}. Best is trial 27 with value: 0.10472718544553905.\n",
      "[I 2024-02-18 01:28:11,034] Trial 30 finished with value: 0.10460668110794875 and parameters: {'eta': 0.04446626255753848, 'max_depth': 4, 'min_child_weight': 1, 'subsample': 0.6670316640655107, 'colsample_bytree': 0.8394410762422485, 'gamma': 0.0014708994188985104, 'n_estimators': 486, 'lambda': 1.0692298200880304, 'alpha': 0.36767920065897997, 'tree_method': 'exact', 'objective': 'reg:squarederror'}. Best is trial 30 with value: 0.10460668110794875.\n",
      "[I 2024-02-18 01:28:21,309] Trial 31 finished with value: 0.10374585232469206 and parameters: {'eta': 0.04503663278335013, 'max_depth': 4, 'min_child_weight': 1, 'subsample': 0.6618993481964217, 'colsample_bytree': 0.8390274742558774, 'gamma': 0.0007731441798306178, 'n_estimators': 507, 'lambda': 1.0873839064458495, 'alpha': 0.34924174118600715, 'tree_method': 'exact', 'objective': 'reg:squarederror'}. Best is trial 31 with value: 0.10374585232469206.\n",
      "[I 2024-02-18 01:28:24,029] Trial 32 finished with value: 0.10336833432936479 and parameters: {'eta': 0.040968530054917435, 'max_depth': 4, 'min_child_weight': 1, 'subsample': 0.6670527457945358, 'colsample_bytree': 0.8491773468899921, 'gamma': 0.002186814998779138, 'n_estimators': 459, 'lambda': 1.0733707119275357, 'alpha': 0.3785270794110917, 'tree_method': 'exact', 'objective': 'reg:squarederror'}. Best is trial 32 with value: 0.10336833432936479.\n",
      "[I 2024-02-18 01:28:26,590] Trial 33 finished with value: 0.10494798028821296 and parameters: {'eta': 0.051129600877959334, 'max_depth': 4, 'min_child_weight': 1, 'subsample': 0.6608053239394297, 'colsample_bytree': 0.8548569684168781, 'gamma': 0.014842682615501918, 'n_estimators': 458, 'lambda': 1.0648416026559715, 'alpha': 0.38776678618063437, 'tree_method': 'exact', 'objective': 'reg:squarederror'}. Best is trial 32 with value: 0.10336833432936479.\n",
      "[I 2024-02-18 01:28:29,365] Trial 34 finished with value: 0.1028873994151569 and parameters: {'eta': 0.025240810719488374, 'max_depth': 5, 'min_child_weight': 2, 'subsample': 0.558477887849622, 'colsample_bytree': 0.8407720232025621, 'gamma': 0.0004239688702521549, 'n_estimators': 548, 'lambda': 1.2483833931595452, 'alpha': 0.13060538994758542, 'tree_method': 'exact', 'objective': 'reg:squarederror'}. Best is trial 34 with value: 0.1028873994151569.\n",
      "[I 2024-02-18 01:28:31,039] Trial 35 finished with value: 0.1212639985285739 and parameters: {'eta': 0.07563714456155013, 'max_depth': 5, 'min_child_weight': 1, 'subsample': 0.5795901930130367, 'colsample_bytree': 0.8359306090046612, 'gamma': 0.14130581218426563, 'n_estimators': 539, 'lambda': 1.301598164934148, 'alpha': 0.8325173560478105, 'tree_method': 'exact', 'objective': 'reg:squarederror'}. Best is trial 34 with value: 0.1028873994151569.\n",
      "[I 2024-02-18 01:28:31,950] Trial 36 finished with value: 0.11630167353298311 and parameters: {'eta': 0.18756583436249585, 'max_depth': 5, 'min_child_weight': 2, 'subsample': 0.578534756860767, 'colsample_bytree': 0.893613008493708, 'gamma': 0.00030967241541705203, 'n_estimators': 257, 'lambda': 1.4238541113696068, 'alpha': 0.3612018827059811, 'tree_method': 'exact', 'objective': 'reg:squarederror'}. Best is trial 34 with value: 0.1028873994151569.\n"
     ]
    },
    {
     "name": "stderr",
     "output_type": "stream",
     "text": [
      "[I 2024-02-18 01:28:32,759] Trial 37 finished with value: 0.11251694184166798 and parameters: {'eta': 0.021061494240192706, 'max_depth': 4, 'min_child_weight': 1, 'subsample': 0.5387302541452762, 'colsample_bytree': 0.993719838430094, 'gamma': 0.044049966227313476, 'n_estimators': 483, 'lambda': 1.4926108641559381, 'alpha': 0.6018184613090488, 'tree_method': 'approx', 'objective': 'reg:squarederror'}. Best is trial 34 with value: 0.1028873994151569.\n",
      "[I 2024-02-18 01:28:34,416] Trial 38 finished with value: 0.10803523146348754 and parameters: {'eta': 0.04969198169875468, 'max_depth': 5, 'min_child_weight': 2, 'subsample': 0.6166719631282269, 'colsample_bytree': 0.9022671628045312, 'gamma': 0.09027405438278678, 'n_estimators': 431, 'lambda': 1.230110454039057, 'alpha': 0.2143935767196379, 'tree_method': 'exact', 'objective': 'reg:squarederror'}. Best is trial 34 with value: 0.1028873994151569.\n",
      "[I 2024-02-18 01:28:34,908] Trial 39 finished with value: 0.11415150938288236 and parameters: {'eta': 0.07508642768733167, 'max_depth': 4, 'min_child_weight': 3, 'subsample': 0.5457603703734586, 'colsample_bytree': 0.8162497500516434, 'gamma': 0.13318712002480682, 'n_estimators': 513, 'lambda': 1.7207269725892849, 'alpha': 0.09101088626904885, 'tree_method': 'approx', 'objective': 'reg:squarederror'}. Best is trial 34 with value: 0.1028873994151569.\n",
      "[I 2024-02-18 01:28:36,981] Trial 40 finished with value: 0.10878880311271565 and parameters: {'eta': 0.09370314186467021, 'max_depth': 5, 'min_child_weight': 2, 'subsample': 0.6123812678670711, 'colsample_bytree': 0.8673155460288051, 'gamma': 0.030460684649084573, 'n_estimators': 321, 'lambda': 1.2761960510204993, 'alpha': 0.7241448695057908, 'tree_method': 'exact', 'objective': 'reg:squarederror'}. Best is trial 34 with value: 0.1028873994151569.\n",
      "[I 2024-02-18 01:28:39,527] Trial 41 finished with value: 0.10443380668993421 and parameters: {'eta': 0.030558436502224742, 'max_depth': 4, 'min_child_weight': 1, 'subsample': 0.6692263173779808, 'colsample_bytree': 0.783859576209526, 'gamma': 0.0038477549567194017, 'n_estimators': 572, 'lambda': 1.0473426514114486, 'alpha': 0.15371166474480344, 'tree_method': 'exact', 'objective': 'reg:squarederror'}. Best is trial 34 with value: 0.1028873994151569.\n",
      "[I 2024-02-18 01:28:41,937] Trial 42 finished with value: 0.10516792824190357 and parameters: {'eta': 0.022315434238021993, 'max_depth': 4, 'min_child_weight': 1, 'subsample': 0.6643834043822552, 'colsample_bytree': 0.7840631135336328, 'gamma': 0.028504591418885346, 'n_estimators': 568, 'lambda': 0.9796566486057114, 'alpha': 0.25584852663555624, 'tree_method': 'exact', 'objective': 'reg:squarederror'}. Best is trial 34 with value: 0.1028873994151569.\n",
      "[I 2024-02-18 01:28:42,889] Trial 43 finished with value: 0.13972787765765599 and parameters: {'eta': 0.010786457516224826, 'max_depth': 3, 'min_child_weight': 1, 'subsample': 0.6284321785047314, 'colsample_bytree': 0.7604858079801923, 'gamma': 0.06546056772303986, 'n_estimators': 505, 'lambda': 1.0672058976437964, 'alpha': 0.029975270281049918, 'tree_method': 'exact', 'objective': 'reg:squarederror'}. Best is trial 34 with value: 0.1028873994151569.\n",
      "[I 2024-02-18 01:28:46,028] Trial 44 finished with value: 0.10433847497336497 and parameters: {'eta': 0.04150895831674512, 'max_depth': 5, 'min_child_weight': 2, 'subsample': 0.6600702626277164, 'colsample_bytree': 0.8382638964642517, 'gamma': 0.02081441911187366, 'n_estimators': 557, 'lambda': 1.215908914159212, 'alpha': 0.5106078940389788, 'tree_method': 'exact', 'objective': 'reg:squarederror'}. Best is trial 34 with value: 0.1028873994151569.\n",
      "[I 2024-02-18 01:28:48,587] Trial 45 finished with value: 0.10877994983705128 and parameters: {'eta': 0.02793287438217107, 'max_depth': 5, 'min_child_weight': 2, 'subsample': 0.7238072424043654, 'colsample_bytree': 0.8053480709420037, 'gamma': 0.027443550394576723, 'n_estimators': 565, 'lambda': 1.2493734293770118, 'alpha': 0.48904123697758894, 'tree_method': 'approx', 'objective': 'reg:squarederror'}. Best is trial 34 with value: 0.1028873994151569.\n",
      "[I 2024-02-18 01:28:49,433] Trial 46 finished with value: 0.12838459794508447 and parameters: {'eta': 0.2947389193664258, 'max_depth': 6, 'min_child_weight': 3, 'subsample': 0.599584902788254, 'colsample_bytree': 0.8798172357904057, 'gamma': 0.16492762864379273, 'n_estimators': 634, 'lambda': 0.9015529239488401, 'alpha': 0.2095184184772427, 'tree_method': 'hist', 'objective': 'reg:squarederror'}. Best is trial 34 with value: 0.1028873994151569.\n",
      "[I 2024-02-18 01:28:52,477] Trial 47 finished with value: 0.1277604541572796 and parameters: {'eta': 0.05779259885629606, 'max_depth': 8, 'min_child_weight': 2, 'subsample': 0.6422910303736485, 'colsample_bytree': 0.912450013235197, 'gamma': 0.36054550046490963, 'n_estimators': 423, 'lambda': 1.3611015383065093, 'alpha': 0.5765896223738071, 'tree_method': 'exact', 'objective': 'reg:squarederror'}. Best is trial 34 with value: 0.1028873994151569.\n",
      "[I 2024-02-18 01:28:54,050] Trial 48 finished with value: 0.13485825839946516 and parameters: {'eta': 0.1460888939062695, 'max_depth': 5, 'min_child_weight': 3, 'subsample': 0.7669314366334262, 'colsample_bytree': 0.9472897063162651, 'gamma': 0.47900362335052504, 'n_estimators': 380, 'lambda': 1.5972957226047408, 'alpha': 1.0078168637006515, 'tree_method': 'exact', 'objective': 'reg:squarederror'}. Best is trial 34 with value: 0.1028873994151569.\n",
      "[I 2024-02-18 01:28:54,535] Trial 49 finished with value: 0.11670806312516677 and parameters: {'eta': 0.07571221545490785, 'max_depth': 4, 'min_child_weight': 1, 'subsample': 0.5498200946166839, 'colsample_bytree': 0.8265372277732933, 'gamma': 0.023216537007755056, 'n_estimators': 543, 'lambda': 1.2162342346555945, 'alpha': 1.6743077289981487, 'tree_method': 'hist', 'objective': 'reg:squarederror'}. Best is trial 34 with value: 0.1028873994151569.\n",
      "[I 2024-02-18 01:28:56,270] Trial 50 finished with value: 0.11512272901515842 and parameters: {'eta': 0.06382023541204238, 'max_depth': 7, 'min_child_weight': 2, 'subsample': 0.6737965318660637, 'colsample_bytree': 0.7984849982178752, 'gamma': 0.07939588352133199, 'n_estimators': 448, 'lambda': 1.4720423042010433, 'alpha': 1.2530682981995995, 'tree_method': 'exact', 'objective': 'reg:squarederror'}. Best is trial 34 with value: 0.1028873994151569.\n",
      "[I 2024-02-18 01:28:57,660] Trial 51 finished with value: 0.1056503503246205 and parameters: {'eta': 0.04392991260225796, 'max_depth': 4, 'min_child_weight': 1, 'subsample': 0.6480395565354942, 'colsample_bytree': 0.8417194567857309, 'gamma': 0.0016665886237996691, 'n_estimators': 496, 'lambda': 1.1035183964547186, 'alpha': 0.36262531743302484, 'tree_method': 'exact', 'objective': 'reg:squarederror'}. Best is trial 34 with value: 0.1028873994151569.\n",
      "[I 2024-02-18 01:29:00,149] Trial 52 finished with value: 0.10601034044082468 and parameters: {'eta': 0.02639880620612228, 'max_depth': 5, 'min_child_weight': 1, 'subsample': 0.7251607550679857, 'colsample_bytree': 0.8432309408299026, 'gamma': 0.01986906502989099, 'n_estimators': 472, 'lambda': 1.0408198230080339, 'alpha': 0.4326210341177824, 'tree_method': 'exact', 'objective': 'reg:squarederror'}. Best is trial 34 with value: 0.1028873994151569.\n",
      "[I 2024-02-18 01:29:03,192] Trial 53 finished with value: 0.11414222074343165 and parameters: {'eta': 0.21539498189251177, 'max_depth': 4, 'min_child_weight': 2, 'subsample': 0.6714944989010075, 'colsample_bytree': 0.8764237402040169, 'gamma': 0.04621243449376179, 'n_estimators': 706, 'lambda': 0.922012233241926, 'alpha': 0.3256115670869366, 'tree_method': 'exact', 'objective': 'reg:squarederror'}. Best is trial 34 with value: 0.1028873994151569.\n",
      "[I 2024-02-18 01:29:05,703] Trial 54 finished with value: 0.10925534747833822 and parameters: {'eta': 0.04309758411965387, 'max_depth': 3, 'min_child_weight': 1, 'subsample': 0.6810047140070127, 'colsample_bytree': 0.7644178203703637, 'gamma': 0.10179333133212112, 'n_estimators': 587, 'lambda': 0.7408466680562726, 'alpha': 0.17801864593861713, 'tree_method': 'exact', 'objective': 'reg:squarederror'}. Best is trial 34 with value: 0.1028873994151569.\n",
      "[I 2024-02-18 01:29:08,252] Trial 55 finished with value: 0.10883802888418954 and parameters: {'eta': 0.056967517797841094, 'max_depth': 4, 'min_child_weight': 2, 'subsample': 0.5946369941556566, 'colsample_bytree': 0.8217897002409117, 'gamma': 0.06285732833265004, 'n_estimators': 629, 'lambda': 1.002799846291124, 'alpha': 0.553954658556921, 'tree_method': 'exact', 'objective': 'reg:squarederror'}. Best is trial 34 with value: 0.1028873994151569.\n"
     ]
    },
    {
     "name": "stderr",
     "output_type": "stream",
     "text": [
      "[I 2024-02-18 01:29:10,425] Trial 56 finished with value: 0.10555461028639529 and parameters: {'eta': 0.020855544645672384, 'max_depth': 6, 'min_child_weight': 1, 'subsample': 0.6348166251666651, 'colsample_bytree': 0.9270671747378831, 'gamma': 0.00040564429600314054, 'n_estimators': 529, 'lambda': 1.1946655739372305, 'alpha': 0.2551688672114129, 'tree_method': 'approx', 'objective': 'reg:squarederror'}. Best is trial 34 with value: 0.1028873994151569.\n",
      "[I 2024-02-18 01:29:11,605] Trial 57 finished with value: 0.11104849335876835 and parameters: {'eta': 0.10001551550113569, 'max_depth': 5, 'min_child_weight': 3, 'subsample': 0.562661480178947, 'colsample_bytree': 0.7908049012533912, 'gamma': 0.02276622978802534, 'n_estimators': 353, 'lambda': 1.3412185159988894, 'alpha': 0.07576961346203526, 'tree_method': 'exact', 'objective': 'reg:squarederror'}. Best is trial 34 with value: 0.1028873994151569.\n",
      "[I 2024-02-18 01:29:12,587] Trial 58 finished with value: 0.10923884435231052 and parameters: {'eta': 0.03367407186110432, 'max_depth': 4, 'min_child_weight': 5, 'subsample': 0.7189919873024008, 'colsample_bytree': 0.8481241511310362, 'gamma': 0.047889550754394265, 'n_estimators': 403, 'lambda': 1.7047396735872933, 'alpha': 0.42679236880710913, 'tree_method': 'hist', 'objective': 'reg:squarederror'}. Best is trial 34 with value: 0.1028873994151569.\n",
      "[I 2024-02-18 01:29:14,704] Trial 59 finished with value: 0.10624481537325835 and parameters: {'eta': 0.06658097413408487, 'max_depth': 5, 'min_child_weight': 1, 'subsample': 0.6508866554364199, 'colsample_bytree': 0.8173412657362221, 'gamma': 0.01767697241056049, 'n_estimators': 555, 'lambda': 1.1450881674201343, 'alpha': 0.30790658559712425, 'tree_method': 'exact', 'objective': 'reg:squarederror'}. Best is trial 34 with value: 0.1028873994151569.\n",
      "[I 2024-02-18 01:29:15,378] Trial 60 finished with value: 0.10956542364843418 and parameters: {'eta': 0.07919584387161506, 'max_depth': 3, 'min_child_weight': 3, 'subsample': 0.7592694543331856, 'colsample_bytree': 0.8845205862902894, 'gamma': 0.08299633684185503, 'n_estimators': 279, 'lambda': 0.8848720163103312, 'alpha': 0.642638147063304, 'tree_method': 'exact', 'objective': 'reg:squarederror'}. Best is trial 34 with value: 0.1028873994151569.\n",
      "[I 2024-02-18 01:29:17,475] Trial 61 finished with value: 0.10534899925546899 and parameters: {'eta': 0.034521999657548735, 'max_depth': 4, 'min_child_weight': 2, 'subsample': 0.6848741883083932, 'colsample_bytree': 0.7455786039600963, 'gamma': 0.006564525891363885, 'n_estimators': 702, 'lambda': 1.1326139871183951, 'alpha': 0.13569039946305456, 'tree_method': 'exact', 'objective': 'reg:squarederror'}. Best is trial 34 with value: 0.1028873994151569.\n",
      "[I 2024-02-18 01:29:18,169] Trial 62 finished with value: 0.16767545234015918 and parameters: {'eta': 0.04240504375609587, 'max_depth': 4, 'min_child_weight': 2, 'subsample': 0.6974657299238932, 'colsample_bytree': 0.8622353711427371, 'gamma': 0.038338882534606496, 'n_estimators': 112, 'lambda': 1.0262047432555574, 'alpha': 0.010789637496572357, 'tree_method': 'exact', 'objective': 'reg:squarederror'}. Best is trial 34 with value: 0.1028873994151569.\n",
      "[I 2024-02-18 01:29:21,309] Trial 63 finished with value: 0.10911394622575223 and parameters: {'eta': 0.01615170045485629, 'max_depth': 3, 'min_child_weight': 2, 'subsample': 0.6268084716512532, 'colsample_bytree': 0.7109633495406751, 'gamma': 0.0013701399201414776, 'n_estimators': 653, 'lambda': 1.1718384928138472, 'alpha': 0.17236290510468447, 'tree_method': 'exact', 'objective': 'reg:squarederror'}. Best is trial 34 with value: 0.1028873994151569.\n",
      "[I 2024-02-18 01:29:23,160] Trial 64 finished with value: 0.10654175761620577 and parameters: {'eta': 0.04985516591353045, 'max_depth': 4, 'min_child_weight': 1, 'subsample': 0.7373093416203718, 'colsample_bytree': 0.7724020298136562, 'gamma': 0.0690462335829829, 'n_estimators': 609, 'lambda': 0.960680092885196, 'alpha': 0.08424907662371385, 'tree_method': 'exact', 'objective': 'reg:squarederror'}. Best is trial 34 with value: 0.1028873994151569.\n",
      "[I 2024-02-18 01:29:26,503] Trial 65 finished with value: 0.10710504653413375 and parameters: {'eta': 0.03136044963417462, 'max_depth': 8, 'min_child_weight': 2, 'subsample': 0.6524709156489072, 'colsample_bytree': 0.8310020158932666, 'gamma': 0.01697059889608335, 'n_estimators': 514, 'lambda': 1.3346286823117386, 'alpha': 0.5137259468948623, 'tree_method': 'exact', 'objective': 'reg:squarederror'}. Best is trial 34 with value: 0.1028873994151569.\n",
      "[I 2024-02-18 01:29:28,069] Trial 66 finished with value: 0.10646489721017874 and parameters: {'eta': 0.06165552426255569, 'max_depth': 3, 'min_child_weight': 1, 'subsample': 0.7102540752331845, 'colsample_bytree': 0.8078716332317107, 'gamma': 0.039957653707470925, 'n_estimators': 591, 'lambda': 1.0822674991661396, 'alpha': 0.2705269215877075, 'tree_method': 'exact', 'objective': 'reg:squarederror'}. Best is trial 34 with value: 0.1028873994151569.\n",
      "[I 2024-02-18 01:29:30,707] Trial 67 finished with value: 0.11916197250015392 and parameters: {'eta': 0.048676165181471276, 'max_depth': 5, 'min_child_weight': 3, 'subsample': 0.7845045324881823, 'colsample_bytree': 0.7832998508193381, 'gamma': 0.2506061237216979, 'n_estimators': 454, 'lambda': 0.7810608576176113, 'alpha': 0.13718934997985352, 'tree_method': 'exact', 'objective': 'reg:squarederror'}. Best is trial 34 with value: 0.1028873994151569.\n",
      "[I 2024-02-18 01:29:37,118] Trial 68 finished with value: 0.11290812834657504 and parameters: {'eta': 0.03767045064040541, 'max_depth': 6, 'min_child_weight': 2, 'subsample': 0.5257116006228146, 'colsample_bytree': 0.8662613599226217, 'gamma': 0.11636387210521174, 'n_estimators': 628, 'lambda': 1.2662894972107899, 'alpha': 0.39217685164343896, 'tree_method': 'exact', 'objective': 'reg:squarederror'}. Best is trial 34 with value: 0.1028873994151569.\n",
      "[I 2024-02-18 01:29:39,885] Trial 69 finished with value: 0.10851531917171979 and parameters: {'eta': 0.08372233553843994, 'max_depth': 4, 'min_child_weight': 1, 'subsample': 0.5926752336259838, 'colsample_bytree': 0.7200997711779777, 'gamma': 0.050248532601907786, 'n_estimators': 667, 'lambda': 1.181419061085113, 'alpha': 0.3282762529211257, 'tree_method': 'exact', 'objective': 'reg:squarederror'}. Best is trial 34 with value: 0.1028873994151569.\n",
      "[I 2024-02-18 01:29:40,871] Trial 70 finished with value: 0.12446267518173121 and parameters: {'eta': 0.01067542789134519, 'max_depth': 5, 'min_child_weight': 1, 'subsample': 0.6880026569034392, 'colsample_bytree': 0.6828931978181937, 'gamma': 0.014774278928800934, 'n_estimators': 581, 'lambda': 1.3882337581674906, 'alpha': 0.21753057350959953, 'tree_method': 'approx', 'objective': 'reg:squarederror'}. Best is trial 34 with value: 0.1028873994151569.\n",
      "[I 2024-02-18 01:29:42,874] Trial 71 finished with value: 0.10639813706538903 and parameters: {'eta': 0.02508534153612206, 'max_depth': 3, 'min_child_weight': 6, 'subsample': 0.7013316777943801, 'colsample_bytree': 0.6372939858236931, 'gamma': 0.03575248919273744, 'n_estimators': 772, 'lambda': 0.8853243830381278, 'alpha': 0.4659912238212829, 'tree_method': 'exact', 'objective': 'reg:squarederror'}. Best is trial 34 with value: 0.1028873994151569.\n",
      "[I 2024-02-18 01:29:46,725] Trial 72 finished with value: 0.11026399772913359 and parameters: {'eta': 0.03611092294726762, 'max_depth': 3, 'min_child_weight': 7, 'subsample': 0.6652742434990835, 'colsample_bytree': 0.6830363422717799, 'gamma': 0.06004167220278133, 'n_estimators': 812, 'lambda': 0.8459528589849571, 'alpha': 0.7634583801218355, 'tree_method': 'exact', 'objective': 'reg:squarederror'}. Best is trial 34 with value: 0.1028873994151569.\n",
      "[I 2024-02-18 01:29:50,334] Trial 73 finished with value: 0.10365340539888676 and parameters: {'eta': 0.05435522235568479, 'max_depth': 4, 'min_child_weight': 5, 'subsample': 0.6122871262465399, 'colsample_bytree': 0.7367752003257474, 'gamma': 0.011987160215404044, 'n_estimators': 795, 'lambda': 1.0167825602989569, 'alpha': 0.5198017450203097, 'tree_method': 'exact', 'objective': 'reg:squarederror'}. Best is trial 34 with value: 0.1028873994151569.\n",
      "[I 2024-02-18 01:29:52,028] Trial 74 finished with value: 0.1090895377843212 and parameters: {'eta': 0.07128036061403281, 'max_depth': 4, 'min_child_weight': 4, 'subsample': 0.6087817365863225, 'colsample_bytree': 0.7531228358255999, 'gamma': 0.011380684075912518, 'n_estimators': 480, 'lambda': 1.0426709395872389, 'alpha': 0.5275270112490504, 'tree_method': 'exact', 'objective': 'reg:squarederror'}. Best is trial 34 with value: 0.1028873994151569.\n"
     ]
    },
    {
     "name": "stderr",
     "output_type": "stream",
     "text": [
      "[I 2024-02-18 01:29:54,188] Trial 75 finished with value: 0.11960188940701727 and parameters: {'eta': 0.05234913822493573, 'max_depth': 4, 'min_child_weight': 5, 'subsample': 0.566150718291383, 'colsample_bytree': 0.7194417784165488, 'gamma': 0.21747865175341527, 'n_estimators': 787, 'lambda': 0.9716594643496526, 'alpha': 0.6356546212465254, 'tree_method': 'exact', 'objective': 'reg:squarederror'}. Best is trial 34 with value: 0.1028873994151569.\n",
      "[I 2024-02-18 01:29:55,712] Trial 76 finished with value: 0.10810004318310158 and parameters: {'eta': 0.02027273933681637, 'max_depth': 5, 'min_child_weight': 6, 'subsample': 0.624813233851515, 'colsample_bytree': 0.7309929682253131, 'gamma': 0.032814896484224525, 'n_estimators': 737, 'lambda': 1.2934271820795757, 'alpha': 0.3430973875399115, 'tree_method': 'hist', 'objective': 'reg:squarederror'}. Best is trial 34 with value: 0.1028873994151569.\n",
      "[I 2024-02-18 01:29:57,295] Trial 77 finished with value: 0.1045652045919138 and parameters: {'eta': 0.04430957848425308, 'max_depth': 4, 'min_child_weight': 1, 'subsample': 0.6567797413964583, 'colsample_bytree': 0.7937918513105354, 'gamma': 0.0004960264612672675, 'n_estimators': 534, 'lambda': 1.1043816673334241, 'alpha': 0.06059846393315611, 'tree_method': 'exact', 'objective': 'reg:squarederror'}. Best is trial 34 with value: 0.1028873994151569.\n",
      "[I 2024-02-18 01:30:02,249] Trial 78 finished with value: 0.1269112864224886 and parameters: {'eta': 0.04482011879104572, 'max_depth': 10, 'min_child_weight': 1, 'subsample': 0.6575730693188406, 'colsample_bytree': 0.795421238095118, 'gamma': 0.4152550281841946, 'n_estimators': 534, 'lambda': 1.096244055340606, 'alpha': 0.032281854862776696, 'tree_method': 'exact', 'objective': 'reg:squarederror'}. Best is trial 34 with value: 0.1028873994151569.\n",
      "[I 2024-02-18 01:30:03,570] Trial 79 finished with value: 0.10454090868323515 and parameters: {'eta': 0.05768487729444459, 'max_depth': 4, 'min_child_weight': 1, 'subsample': 0.633419862263773, 'colsample_bytree': 0.8356091506181353, 'gamma': 0.01610961780292276, 'n_estimators': 430, 'lambda': 1.2213272474860664, 'alpha': 0.2389167507498741, 'tree_method': 'exact', 'objective': 'reg:squarederror'}. Best is trial 34 with value: 0.1028873994151569.\n",
      "[I 2024-02-18 01:30:04,606] Trial 80 finished with value: 0.11051800643648754 and parameters: {'eta': 0.2426423440570476, 'max_depth': 4, 'min_child_weight': 1, 'subsample': 0.6047166987851269, 'colsample_bytree': 0.8117909243445682, 'gamma': 0.09225090007322567, 'n_estimators': 348, 'lambda': 1.470594004534409, 'alpha': 0.26035717109800827, 'tree_method': 'exact', 'objective': 'reg:squarederror'}. Best is trial 34 with value: 0.1028873994151569.\n",
      "[I 2024-02-18 01:30:07,090] Trial 81 finished with value: 0.1054926854148837 and parameters: {'eta': 0.06094082357509931, 'max_depth': 4, 'min_child_weight': 1, 'subsample': 0.637200854631202, 'colsample_bytree': 0.8476745272159816, 'gamma': 0.01534888105903605, 'n_estimators': 428, 'lambda': 1.2206992935525998, 'alpha': 0.19343366468634687, 'tree_method': 'exact', 'objective': 'reg:squarederror'}. Best is trial 34 with value: 0.1028873994151569.\n",
      "[I 2024-02-18 01:30:09,615] Trial 82 finished with value: 0.10702125899168548 and parameters: {'eta': 0.06808293175471088, 'max_depth': 4, 'min_child_weight': 1, 'subsample': 0.6220775920348688, 'colsample_bytree': 0.8253056936564162, 'gamma': 0.02809511495667003, 'n_estimators': 389, 'lambda': 1.0164129360417513, 'alpha': 0.06542481918277562, 'tree_method': 'exact', 'objective': 'reg:squarederror'}. Best is trial 34 with value: 0.1028873994151569.\n",
      "[I 2024-02-18 01:30:10,876] Trial 83 finished with value: 0.10871997328817976 and parameters: {'eta': 0.05288042199008379, 'max_depth': 4, 'min_child_weight': 2, 'subsample': 0.5792904510708371, 'colsample_bytree': 0.775837188258676, 'gamma': 0.05833203647387587, 'n_estimators': 445, 'lambda': 1.1046370276583153, 'alpha': 0.4022238185360431, 'tree_method': 'exact', 'objective': 'reg:squarederror'}. Best is trial 34 with value: 0.1028873994151569.\n",
      "[I 2024-02-18 01:30:12,786] Trial 84 finished with value: 0.10568109322752364 and parameters: {'eta': 0.030614467847704364, 'max_depth': 5, 'min_child_weight': 1, 'subsample': 0.6734758609597913, 'colsample_bytree': 0.8346810959142309, 'gamma': 0.03618322275993115, 'n_estimators': 493, 'lambda': 0.9211398634512189, 'alpha': 0.2914962333888115, 'tree_method': 'exact', 'objective': 'reg:squarederror'}. Best is trial 34 with value: 0.1028873994151569.\n",
      "[I 2024-02-18 01:30:15,474] Trial 85 finished with value: 0.10707422128805007 and parameters: {'eta': 0.040254335351199155, 'max_depth': 4, 'min_child_weight': 2, 'subsample': 0.6403036406488698, 'colsample_bytree': 0.8524122909335081, 'gamma': 0.011228902462394883, 'n_estimators': 908, 'lambda': 1.2511213226807183, 'alpha': 0.9444135863706726, 'tree_method': 'exact', 'objective': 'reg:squarederror'}. Best is trial 34 with value: 0.1028873994151569.\n",
      "[I 2024-02-18 01:30:16,489] Trial 86 finished with value: 0.10864775008579809 and parameters: {'eta': 0.1696122679296032, 'max_depth': 3, 'min_child_weight': 1, 'subsample': 0.5863326366477055, 'colsample_bytree': 0.9032793317087797, 'gamma': 0.0019821209016034434, 'n_estimators': 466, 'lambda': 1.1666725910647902, 'alpha': 0.4496721302005517, 'tree_method': 'exact', 'objective': 'reg:squarederror'}. Best is trial 34 with value: 0.1028873994151569.\n",
      "[I 2024-02-18 01:30:19,498] Trial 87 finished with value: 0.10928104781970592 and parameters: {'eta': 0.016919359652613326, 'max_depth': 5, 'min_child_weight': 1, 'subsample': 0.5625053852531109, 'colsample_bytree': 0.875413025725687, 'gamma': 0.023982392232824185, 'n_estimators': 554, 'lambda': 1.3051937914316045, 'alpha': 0.11833237925136793, 'tree_method': 'exact', 'objective': 'reg:squarederror'}. Best is trial 34 with value: 0.1028873994151569.\n",
      "[I 2024-02-18 01:30:20,521] Trial 88 finished with value: 0.12203125838865973 and parameters: {'eta': 0.05693148253897947, 'max_depth': 4, 'min_child_weight': 1, 'subsample': 0.6581525655847831, 'colsample_bytree': 0.7930151389736556, 'gamma': 0.30161743198466295, 'n_estimators': 510, 'lambda': 1.0719521092409696, 'alpha': 0.1726424369510245, 'tree_method': 'approx', 'objective': 'reg:squarederror'}. Best is trial 34 with value: 0.1028873994151569.\n",
      "[I 2024-02-18 01:30:22,137] Trial 89 finished with value: 0.10902314545156083 and parameters: {'eta': 0.024705356973365736, 'max_depth': 4, 'min_child_weight': 2, 'subsample': 0.6175365717223309, 'colsample_bytree': 0.8045797120700845, 'gamma': 0.05051332703567645, 'n_estimators': 419, 'lambda': 1.0127688499597804, 'alpha': 0.3543919007953864, 'tree_method': 'exact', 'objective': 'reg:squarederror'}. Best is trial 34 with value: 0.1028873994151569.\n",
      "[I 2024-02-18 01:30:22,821] Trial 90 finished with value: 0.12185669131641477 and parameters: {'eta': 0.08450922162202755, 'max_depth': 3, 'min_child_weight': 7, 'subsample': 0.9515674970155495, 'colsample_bytree': 0.7598748948489548, 'gamma': 0.07646276173083512, 'n_estimators': 528, 'lambda': 1.209091399890189, 'alpha': 1.6141197832827194, 'tree_method': 'hist', 'objective': 'reg:squarederror'}. Best is trial 34 with value: 0.1028873994151569.\n",
      "[I 2024-02-18 01:30:24,240] Trial 91 finished with value: 0.10450788841785533 and parameters: {'eta': 0.046888938739967884, 'max_depth': 4, 'min_child_weight': 2, 'subsample': 0.6932787428885644, 'colsample_bytree': 0.742520092704983, 'gamma': 0.00019554644851307363, 'n_estimators': 575, 'lambda': 1.1309568148274562, 'alpha': 0.24779449528464992, 'tree_method': 'exact', 'objective': 'reg:squarederror'}. Best is trial 34 with value: 0.1028873994151569.\n",
      "[I 2024-02-18 01:30:26,214] Trial 92 finished with value: 0.10465693573576579 and parameters: {'eta': 0.045350313546425436, 'max_depth': 4, 'min_child_weight': 2, 'subsample': 0.6810202806936644, 'colsample_bytree': 0.83424043837972, 'gamma': 0.01065889523277402, 'n_estimators': 563, 'lambda': 1.1318510645663868, 'alpha': 0.23132803902506494, 'tree_method': 'exact', 'objective': 'reg:squarederror'}. Best is trial 34 with value: 0.1028873994151569.\n",
      "[I 2024-02-18 01:30:27,729] Trial 93 finished with value: 0.10578075513782721 and parameters: {'eta': 0.028451796951288133, 'max_depth': 4, 'min_child_weight': 1, 'subsample': 0.6706159584517326, 'colsample_bytree': 0.741082139020009, 'gamma': 0.01681987248359107, 'n_estimators': 478, 'lambda': 0.9366598715489542, 'alpha': 0.29351255880454663, 'tree_method': 'exact', 'objective': 'reg:squarederror'}. Best is trial 34 with value: 0.1028873994151569.\n"
     ]
    },
    {
     "name": "stderr",
     "output_type": "stream",
     "text": [
      "[I 2024-02-18 01:30:29,011] Trial 94 finished with value: 0.10597353750030224 and parameters: {'eta': 0.05718792931546933, 'max_depth': 4, 'min_child_weight': 3, 'subsample': 0.6444874792460059, 'colsample_bytree': 0.8560938255806084, 'gamma': 0.026467043456874804, 'n_estimators': 516, 'lambda': 1.1327544421383997, 'alpha': 0.4693683530157192, 'tree_method': 'exact', 'objective': 'reg:squarederror'}. Best is trial 34 with value: 0.1028873994151569.\n",
      "[I 2024-02-18 01:30:30,842] Trial 95 finished with value: 0.10888114887630031 and parameters: {'eta': 0.038727411397717446, 'max_depth': 5, 'min_child_weight': 2, 'subsample': 0.691128241477487, 'colsample_bytree': 0.7827860287070245, 'gamma': 0.04341631893274338, 'n_estimators': 610, 'lambda': 1.0619192789555698, 'alpha': 0.06067623433904365, 'tree_method': 'exact', 'objective': 'reg:squarederror'}. Best is trial 34 with value: 0.1028873994151569.\n",
      "[I 2024-02-18 01:30:33,307] Trial 96 finished with value: 0.10663929119707347 and parameters: {'eta': 0.06590320962278193, 'max_depth': 4, 'min_child_weight': 4, 'subsample': 0.6602540592414462, 'colsample_bytree': 0.8196207468094, 'gamma': 0.001268871707370299, 'n_estimators': 577, 'lambda': 0.9899608551553782, 'alpha': 0.38494398151159065, 'tree_method': 'exact', 'objective': 'reg:squarederror'}. Best is trial 34 with value: 0.1028873994151569.\n",
      "[I 2024-02-18 01:30:34,177] Trial 97 finished with value: 0.1039187286041899 and parameters: {'eta': 0.047787675780042, 'max_depth': 3, 'min_child_weight': 1, 'subsample': 0.7151327264893469, 'colsample_bytree': 0.6994515624819244, 'gamma': 0.02784877695168591, 'n_estimators': 491, 'lambda': 1.2040421210219288, 'alpha': 0.22998945674234164, 'tree_method': 'exact', 'objective': 'reg:squarederror'}. Best is trial 34 with value: 0.1028873994151569.\n",
      "[I 2024-02-18 01:30:35,212] Trial 98 finished with value: 0.10653498581953479 and parameters: {'eta': 0.05061667574873566, 'max_depth': 3, 'min_child_weight': 2, 'subsample': 0.7315415802824876, 'colsample_bytree': 0.7565486363632191, 'gamma': 0.03366533937158864, 'n_estimators': 543, 'lambda': 1.4246668956269593, 'alpha': 0.0023188909811718283, 'tree_method': 'exact', 'objective': 'reg:squarederror'}. Best is trial 34 with value: 0.1028873994151569.\n",
      "[I 2024-02-18 01:30:35,988] Trial 99 finished with value: 0.10771841798764269 and parameters: {'eta': 0.11190394089357561, 'max_depth': 3, 'min_child_weight': 1, 'subsample': 0.7138822712041084, 'colsample_bytree': 0.7046321697008537, 'gamma': 0.06977278002350107, 'n_estimators': 405, 'lambda': 1.3218531806680367, 'alpha': 0.10716176395329446, 'tree_method': 'exact', 'objective': 'reg:squarederror'}. Best is trial 34 with value: 0.1028873994151569.\n",
      "[I 2024-02-18 01:30:37,520] Trial 100 finished with value: 0.11078603643404134 and parameters: {'eta': 0.017770594608534605, 'max_depth': 6, 'min_child_weight': 1, 'subsample': 0.631302445905499, 'colsample_bytree': 0.6926477079327986, 'gamma': 0.023049442678092516, 'n_estimators': 497, 'lambda': 1.3730901520117977, 'alpha': 0.2184706672161385, 'tree_method': 'exact', 'objective': 'reg:squarederror'}. Best is trial 34 with value: 0.1028873994151569.\n",
      "[I 2024-02-18 01:30:40,288] Trial 101 finished with value: 0.10527895208545687 and parameters: {'eta': 0.04653772176219079, 'max_depth': 4, 'min_child_weight': 1, 'subsample': 0.6936782862082093, 'colsample_bytree': 0.7694042106304632, 'gamma': 0.009647953760501135, 'n_estimators': 450, 'lambda': 1.188830197848509, 'alpha': 0.16007902590350379, 'tree_method': 'exact', 'objective': 'reg:squarederror'}. Best is trial 34 with value: 0.1028873994151569.\n",
      "[I 2024-02-18 01:30:41,565] Trial 102 finished with value: 0.10354120498113986 and parameters: {'eta': 0.03950590247717195, 'max_depth': 4, 'min_child_weight': 1, 'subsample': 0.6750507215463851, 'colsample_bytree': 0.888441688042756, 'gamma': 0.010387957907337552, 'n_estimators': 472, 'lambda': 1.2232914180153571, 'alpha': 0.2494986181578247, 'tree_method': 'exact', 'objective': 'reg:squarederror'}. Best is trial 34 with value: 0.1028873994151569.\n",
      "[I 2024-02-18 01:30:42,350] Trial 103 finished with value: 0.10783525762181757 and parameters: {'eta': 0.031238978348767123, 'max_depth': 3, 'min_child_weight': 1, 'subsample': 0.681375803215303, 'colsample_bytree': 0.8842002468688854, 'gamma': 0.053998475621276174, 'n_estimators': 371, 'lambda': 1.2311457286937082, 'alpha': 0.2495251404432201, 'tree_method': 'exact', 'objective': 'reg:squarederror'}. Best is trial 34 with value: 0.1028873994151569.\n",
      "[I 2024-02-18 01:30:44,093] Trial 104 finished with value: 0.1083889691235593 and parameters: {'eta': 0.07168825339882529, 'max_depth': 5, 'min_child_weight': 2, 'subsample': 0.6500971916601078, 'colsample_bytree': 0.8711347385822616, 'gamma': 0.04287785128321093, 'n_estimators': 469, 'lambda': 1.2516586339045173, 'alpha': 0.30308177287585747, 'tree_method': 'exact', 'objective': 'reg:squarederror'}. Best is trial 34 with value: 0.1028873994151569.\n",
      "[I 2024-02-18 01:30:46,406] Trial 105 finished with value: 0.10499639846609944 and parameters: {'eta': 0.03817135289636736, 'max_depth': 4, 'min_child_weight': 3, 'subsample': 0.7068135509270757, 'colsample_bytree': 0.670741732651211, 'gamma': 0.02172981712839193, 'n_estimators': 440, 'lambda': 1.160401635654098, 'alpha': 0.1914335020382056, 'tree_method': 'exact', 'objective': 'reg:squarederror'}. Best is trial 34 with value: 0.1028873994151569.\n",
      "[I 2024-02-18 01:30:48,316] Trial 106 finished with value: 0.10881993171947581 and parameters: {'eta': 0.056521962444136514, 'max_depth': 3, 'min_child_weight': 1, 'subsample': 0.5201709182116322, 'colsample_bytree': 0.8939692821633722, 'gamma': 0.009152032118877669, 'n_estimators': 937, 'lambda': 1.1252709781540806, 'alpha': 0.5536881146411026, 'tree_method': 'exact', 'objective': 'reg:squarederror'}. Best is trial 34 with value: 0.1028873994151569.\n",
      "[I 2024-02-18 01:30:50,173] Trial 107 finished with value: 0.10782195078204393 and parameters: {'eta': 0.024790749006168733, 'max_depth': 7, 'min_child_weight': 1, 'subsample': 0.7441923075674449, 'colsample_bytree': 0.7483372193209531, 'gamma': 0.03222834809554755, 'n_estimators': 527, 'lambda': 1.2845983181758518, 'alpha': 0.12401754141464982, 'tree_method': 'exact', 'objective': 'reg:squarederror'}. Best is trial 34 with value: 0.1028873994151569.\n",
      "[I 2024-02-18 01:30:51,705] Trial 108 finished with value: 0.11490594522717304 and parameters: {'eta': 0.19615183074443793, 'max_depth': 5, 'min_child_weight': 2, 'subsample': 0.6784984530658598, 'colsample_bytree': 0.7987279408353055, 'gamma': 0.00021219359850379292, 'n_estimators': 595, 'lambda': 1.0318185048643425, 'alpha': 0.4139668563616337, 'tree_method': 'approx', 'objective': 'reg:squarederror'}. Best is trial 34 with value: 0.1028873994151569.\n",
      "[I 2024-02-18 01:30:53,654] Trial 109 finished with value: 0.10698407279373535 and parameters: {'eta': 0.06143254544017438, 'max_depth': 4, 'min_child_weight': 2, 'subsample': 0.7140922328859844, 'colsample_bytree': 0.7313340669947862, 'gamma': 0.010614919993992394, 'n_estimators': 557, 'lambda': 1.2108913157843582, 'alpha': 0.3363359095035684, 'tree_method': 'exact', 'objective': 'reg:squarederror'}. Best is trial 34 with value: 0.1028873994151569.\n",
      "[I 2024-02-18 01:30:55,302] Trial 110 finished with value: 0.1050297152263469 and parameters: {'eta': 0.04170101996787838, 'max_depth': 4, 'min_child_weight': 5, 'subsample': 0.6659501076083816, 'colsample_bytree': 0.5546272606516829, 'gamma': 0.023302234883145242, 'n_estimators': 493, 'lambda': 1.0965307788964793, 'alpha': 0.05003690128751909, 'tree_method': 'exact', 'objective': 'reg:squarederror'}. Best is trial 34 with value: 0.1028873994151569.\n",
      "[I 2024-02-18 01:30:56,961] Trial 111 finished with value: 0.10500946889562492 and parameters: {'eta': 0.047400542140544254, 'max_depth': 4, 'min_child_weight': 1, 'subsample': 0.6453307871422993, 'colsample_bytree': 0.8398477309321647, 'gamma': 0.01624376838374115, 'n_estimators': 643, 'lambda': 1.0554458283904982, 'alpha': 0.2704905361554336, 'tree_method': 'exact', 'objective': 'reg:squarederror'}. Best is trial 34 with value: 0.1028873994151569.\n",
      "[I 2024-02-18 01:30:59,188] Trial 112 finished with value: 0.10419557094550096 and parameters: {'eta': 0.032219878303193866, 'max_depth': 4, 'min_child_weight': 1, 'subsample': 0.6931876539408685, 'colsample_bytree': 0.8632689817557208, 'gamma': 0.041287177136643094, 'n_estimators': 511, 'lambda': 1.1575577717286325, 'alpha': 0.35482081905647594, 'tree_method': 'exact', 'objective': 'reg:squarederror'}. Best is trial 34 with value: 0.1028873994151569.\n"
     ]
    },
    {
     "name": "stderr",
     "output_type": "stream",
     "text": [
      "[I 2024-02-18 01:31:00,457] Trial 113 finished with value: 0.10436441209558327 and parameters: {'eta': 0.034756734132380736, 'max_depth': 4, 'min_child_weight': 1, 'subsample': 0.697500063813361, 'colsample_bytree': 0.8593401928136667, 'gamma': 0.04345709520896319, 'n_estimators': 522, 'lambda': 1.1799014373111458, 'alpha': 0.22608163653617422, 'tree_method': 'exact', 'objective': 'reg:squarederror'}. Best is trial 34 with value: 0.1028873994151569.\n",
      "[I 2024-02-18 01:31:02,143] Trial 114 finished with value: 0.10470992055349357 and parameters: {'eta': 0.031678100629493125, 'max_depth': 5, 'min_child_weight': 1, 'subsample': 0.7041455264736165, 'colsample_bytree': 0.9116369755038284, 'gamma': 0.04494534109827043, 'n_estimators': 513, 'lambda': 1.182864685367933, 'alpha': 0.22318607747387972, 'tree_method': 'exact', 'objective': 'reg:squarederror'}. Best is trial 34 with value: 0.1028873994151569.\n",
      "[I 2024-02-18 01:31:02,954] Trial 115 finished with value: 0.11875996383604387 and parameters: {'eta': 0.01147192870312308, 'max_depth': 4, 'min_child_weight': 1, 'subsample': 0.7278570783932193, 'colsample_bytree': 0.8888452500552094, 'gamma': 0.05858963950140202, 'n_estimators': 614, 'lambda': 1.2690954175449731, 'alpha': 0.3219812557758231, 'tree_method': 'hist', 'objective': 'reg:squarederror'}. Best is trial 34 with value: 0.1028873994151569.\n",
      "[I 2024-02-18 01:31:05,137] Trial 116 finished with value: 0.10514945103708627 and parameters: {'eta': 0.03645477545870923, 'max_depth': 4, 'min_child_weight': 1, 'subsample': 0.721382466104609, 'colsample_bytree': 0.8649486583604991, 'gamma': 0.038875824151819324, 'n_estimators': 464, 'lambda': 1.3367176366336082, 'alpha': 0.4314879650737453, 'tree_method': 'exact', 'objective': 'reg:squarederror'}. Best is trial 34 with value: 0.1028873994151569.\n",
      "[I 2024-02-18 01:31:06,213] Trial 117 finished with value: 0.1057590323781678 and parameters: {'eta': 0.024816948658774436, 'max_depth': 3, 'min_child_weight': 2, 'subsample': 0.6982961810863385, 'colsample_bytree': 0.8657157796342279, 'gamma': 0.028996476048254744, 'n_estimators': 570, 'lambda': 0.9676621872038988, 'alpha': 0.36993326619491945, 'tree_method': 'exact', 'objective': 'reg:squarederror'}. Best is trial 34 with value: 0.1028873994151569.\n",
      "[I 2024-02-18 01:31:07,682] Trial 118 finished with value: 0.12427566326697836 and parameters: {'eta': 0.017384790588482548, 'max_depth': 8, 'min_child_weight': 1, 'subsample': 0.6895428731680714, 'colsample_bytree': 0.9242534292669953, 'gamma': 0.09022628716873789, 'n_estimators': 423, 'lambda': 1.1426075198093315, 'alpha': 1.122371599039634, 'tree_method': 'exact', 'objective': 'reg:squarederror'}. Best is trial 34 with value: 0.1028873994151569.\n",
      "[I 2024-02-18 01:31:09,559] Trial 119 finished with value: 0.10585668283936682 and parameters: {'eta': 0.05435533460149314, 'max_depth': 4, 'min_child_weight': 1, 'subsample': 0.670615063224858, 'colsample_bytree': 0.8540690660604021, 'gamma': 0.052480692412642686, 'n_estimators': 684, 'lambda': 1.23675458170488, 'alpha': 0.1580412492852744, 'tree_method': 'exact', 'objective': 'reg:squarederror'}. Best is trial 34 with value: 0.1028873994151569.\n",
      "[I 2024-02-18 01:31:11,417] Trial 120 finished with value: 0.11296798739379532 and parameters: {'eta': 0.14053957277498627, 'max_depth': 4, 'min_child_weight': 2, 'subsample': 0.6780912659257161, 'colsample_bytree': 0.8271405569960852, 'gamma': 0.06756340974896123, 'n_estimators': 399, 'lambda': 1.1752351741618794, 'alpha': 0.514573954600875, 'tree_method': 'exact', 'objective': 'reg:squarederror'}. Best is trial 34 with value: 0.1028873994151569.\n",
      "[I 2024-02-18 01:31:12,664] Trial 121 finished with value: 0.10622283244108231 and parameters: {'eta': 0.04143650322952, 'max_depth': 4, 'min_child_weight': 1, 'subsample': 0.6552328743198628, 'colsample_bytree': 0.8472491063351656, 'gamma': 0.011653244882060054, 'n_estimators': 538, 'lambda': 1.1000990487109665, 'alpha': 0.275263149019675, 'tree_method': 'exact', 'objective': 'reg:squarederror'}. Best is trial 34 with value: 0.1028873994151569.\n",
      "[I 2024-02-18 01:31:13,798] Trial 122 finished with value: 0.10408327122742114 and parameters: {'eta': 0.02989882760320357, 'max_depth': 4, 'min_child_weight': 8, 'subsample': 0.6312050410495961, 'colsample_bytree': 0.8159129289494476, 'gamma': 0.0009020995876355372, 'n_estimators': 498, 'lambda': 1.009504794115542, 'alpha': 0.09404078975868263, 'tree_method': 'exact', 'objective': 'reg:squarederror'}. Best is trial 34 with value: 0.1028873994151569.\n",
      "[I 2024-02-18 01:31:14,967] Trial 123 finished with value: 0.104708522512243 and parameters: {'eta': 0.030847101322722382, 'max_depth': 4, 'min_child_weight': 6, 'subsample': 0.6312684302945888, 'colsample_bytree': 0.8107837761995718, 'gamma': 0.019316076029935594, 'n_estimators': 491, 'lambda': 0.8675540671841679, 'alpha': 0.19464049632933028, 'tree_method': 'exact', 'objective': 'reg:squarederror'}. Best is trial 34 with value: 0.1028873994151569.\n",
      "[I 2024-02-18 01:31:15,682] Trial 124 finished with value: 0.11644710663336233 and parameters: {'eta': 0.03421404949311212, 'max_depth': 4, 'min_child_weight': 8, 'subsample': 0.6152404229895052, 'colsample_bytree': 0.8573506016923477, 'gamma': 0.033724999006206915, 'n_estimators': 201, 'lambda': 1.0323246524866023, 'alpha': 0.10717785444152092, 'tree_method': 'exact', 'objective': 'reg:squarederror'}. Best is trial 34 with value: 0.1028873994151569.\n",
      "[I 2024-02-18 01:31:18,324] Trial 125 finished with value: 0.1065568335951824 and parameters: {'eta': 0.02336385316001808, 'max_depth': 5, 'min_child_weight': 10, 'subsample': 0.634561040590807, 'colsample_bytree': 0.8427760020075961, 'gamma': 0.009790721198528293, 'n_estimators': 437, 'lambda': 1.8994402149792917, 'alpha': 0.22830666644180772, 'tree_method': 'exact', 'objective': 'reg:squarederror'}. Best is trial 34 with value: 0.1028873994151569.\n",
      "[I 2024-02-18 01:31:19,572] Trial 126 finished with value: 0.10511270137007107 and parameters: {'eta': 0.05121237996433904, 'max_depth': 4, 'min_child_weight': 9, 'subsample': 0.59776509153351, 'colsample_bytree': 0.8205185708618853, 'gamma': 0.02389100657358232, 'n_estimators': 481, 'lambda': 0.9850558833112517, 'alpha': 0.13467620515714968, 'tree_method': 'exact', 'objective': 'reg:squarederror'}. Best is trial 34 with value: 0.1028873994151569.\n",
      "[I 2024-02-18 01:31:20,861] Trial 127 finished with value: 0.1042506530973669 and parameters: {'eta': 0.038661157938733766, 'max_depth': 3, 'min_child_weight': 1, 'subsample': 0.6916002382926985, 'colsample_bytree': 0.8785274838903301, 'gamma': 0.038886743148807475, 'n_estimators': 508, 'lambda': 1.1936053503772968, 'alpha': 0.3060435371126269, 'tree_method': 'exact', 'objective': 'reg:squarederror'}. Best is trial 34 with value: 0.1028873994151569.\n",
      "[I 2024-02-18 01:31:22,702] Trial 128 finished with value: 0.10551363248271749 and parameters: {'eta': 0.027693940534874856, 'max_depth': 3, 'min_child_weight': 1, 'subsample': 0.6887590214616306, 'colsample_bytree': 0.8744665634217963, 'gamma': 0.041786614922464556, 'n_estimators': 510, 'lambda': 0.9407175800974876, 'alpha': 0.3019568489369818, 'tree_method': 'exact', 'objective': 'reg:squarederror'}. Best is trial 34 with value: 0.1028873994151569.\n",
      "[I 2024-02-18 01:31:23,178] Trial 129 finished with value: 0.12054073525309521 and parameters: {'eta': 0.03669944964506572, 'max_depth': 3, 'min_child_weight': 7, 'subsample': 0.703349862030054, 'colsample_bytree': 0.8981749436362455, 'gamma': 0.19317884434564978, 'n_estimators': 552, 'lambda': 0.1219499178742689, 'alpha': 0.6052588332059601, 'tree_method': 'approx', 'objective': 'reg:squarederror'}. Best is trial 34 with value: 0.1028873994151569.\n",
      "[I 2024-02-18 01:31:24,191] Trial 130 finished with value: 0.11507005600461476 and parameters: {'eta': 0.01535204033494842, 'max_depth': 3, 'min_child_weight': 4, 'subsample': 0.7393518049891284, 'colsample_bytree': 0.9161454177670846, 'gamma': 0.0007592757531511031, 'n_estimators': 522, 'lambda': 1.3020503297497024, 'alpha': 0.35681169557597275, 'tree_method': 'exact', 'objective': 'reg:squarederror'}. Best is trial 34 with value: 0.1028873994151569.\n",
      "[I 2024-02-18 01:31:25,567] Trial 131 finished with value: 0.11486134718856392 and parameters: {'eta': 0.04843513326404296, 'max_depth': 4, 'min_child_weight': 1, 'subsample': 0.6654670900838838, 'colsample_bytree': 0.8316418053919082, 'gamma': 0.030251484617680274, 'n_estimators': 579, 'lambda': 1.2183895881959546, 'alpha': 1.9981569089677051, 'tree_method': 'exact', 'objective': 'reg:squarederror'}. Best is trial 34 with value: 0.1028873994151569.\n"
     ]
    },
    {
     "name": "stderr",
     "output_type": "stream",
     "text": [
      "[I 2024-02-18 01:31:26,568] Trial 132 finished with value: 0.10509086144558266 and parameters: {'eta': 0.0413322945177364, 'max_depth': 3, 'min_child_weight': 1, 'subsample': 0.6776461714959174, 'colsample_bytree': 0.8762397916284548, 'gamma': 0.018036687412614043, 'n_estimators': 459, 'lambda': 1.157823806853873, 'alpha': 0.24642000137138975, 'tree_method': 'exact', 'objective': 'reg:squarederror'}. Best is trial 34 with value: 0.1028873994151569.\n",
      "[I 2024-02-18 01:31:29,626] Trial 133 finished with value: 0.1032265418483149 and parameters: {'eta': 0.06180313723271556, 'max_depth': 4, 'min_child_weight': 2, 'subsample': 0.6477042544308459, 'colsample_bytree': 0.8549935308351579, 'gamma': 0.008589313132660651, 'n_estimators': 502, 'lambda': 1.0720083751982026, 'alpha': 0.16556690714705666, 'tree_method': 'exact', 'objective': 'reg:squarederror'}. Best is trial 34 with value: 0.1028873994151569.\n",
      "[I 2024-02-18 01:31:30,842] Trial 134 finished with value: 0.12521589960050558 and parameters: {'eta': 0.030475096914053902, 'max_depth': 4, 'min_child_weight': 2, 'subsample': 0.6485456941043016, 'colsample_bytree': 0.8867985252449951, 'gamma': 0.3825240509022447, 'n_estimators': 504, 'lambda': 1.0650942329840276, 'alpha': 0.16184401379792226, 'tree_method': 'exact', 'objective': 'reg:squarederror'}. Best is trial 34 with value: 0.1028873994151569.\n",
      "[I 2024-02-18 01:31:31,876] Trial 135 finished with value: 0.11113837404985873 and parameters: {'eta': 0.020935693326258165, 'max_depth': 3, 'min_child_weight': 8, 'subsample': 0.715247832847946, 'colsample_bytree': 0.8602690240410693, 'gamma': 0.007767579665989793, 'n_estimators': 478, 'lambda': 1.1232838105715943, 'alpha': 0.4777648354876695, 'tree_method': 'exact', 'objective': 'reg:squarederror'}. Best is trial 34 with value: 0.1028873994151569.\n",
      "[I 2024-02-18 01:31:33,875] Trial 136 finished with value: 0.10566747773971842 and parameters: {'eta': 0.06329138376891644, 'max_depth': 4, 'min_child_weight': 2, 'subsample': 0.6933977993948052, 'colsample_bytree': 0.8562020148260697, 'gamma': 0.037445386062231543, 'n_estimators': 551, 'lambda': 1.0006120802067853, 'alpha': 0.32648025062955677, 'tree_method': 'exact', 'objective': 'reg:squarederror'}. Best is trial 34 with value: 0.1028873994151569.\n",
      "[I 2024-02-18 01:31:34,829] Trial 137 finished with value: 0.10796230559151244 and parameters: {'eta': 0.0463160241555581, 'max_depth': 4, 'min_child_weight': 3, 'subsample': 0.6611679994487663, 'colsample_bytree': 0.8483966120057218, 'gamma': 0.04943198951614154, 'n_estimators': 528, 'lambda': 1.0790585538097408, 'alpha': 0.08857950229066401, 'tree_method': 'hist', 'objective': 'reg:squarederror'}. Best is trial 34 with value: 0.1028873994151569.\n",
      "[I 2024-02-18 01:31:36,436] Trial 138 finished with value: 0.10967105398123383 and parameters: {'eta': 0.03981166586824374, 'max_depth': 6, 'min_child_weight': 2, 'subsample': 0.6825020399750149, 'colsample_bytree': 0.8676228779078808, 'gamma': 0.00015553567126517023, 'n_estimators': 494, 'lambda': 1.1817054748202716, 'alpha': 0.1969018344901246, 'tree_method': 'exact', 'objective': 'reg:squarederror'}. Best is trial 34 with value: 0.1028873994151569.\n",
      "[I 2024-02-18 01:31:37,667] Trial 139 finished with value: 0.11091428994883688 and parameters: {'eta': 0.27123058568913494, 'max_depth': 3, 'min_child_weight': 10, 'subsample': 0.6725241327880447, 'colsample_bytree': 0.9419024157159331, 'gamma': 0.022507900124009175, 'n_estimators': 568, 'lambda': 1.2655461463829942, 'alpha': 0.4033033943296085, 'tree_method': 'exact', 'objective': 'reg:squarederror'}. Best is trial 34 with value: 0.1028873994151569.\n",
      "[I 2024-02-18 01:31:38,912] Trial 140 finished with value: 0.12056436778623682 and parameters: {'eta': 0.052884676057523144, 'max_depth': 5, 'min_child_weight': 1, 'subsample': 0.7521594376374845, 'colsample_bytree': 0.6445066518054461, 'gamma': 0.22904845195684884, 'n_estimators': 466, 'lambda': 1.0338904326564635, 'alpha': 0.2588231834022557, 'tree_method': 'exact', 'objective': 'reg:squarederror'}. Best is trial 34 with value: 0.1028873994151569.\n",
      "[I 2024-02-18 01:31:41,122] Trial 141 finished with value: 0.10476418868236 and parameters: {'eta': 0.034030050256714434, 'max_depth': 4, 'min_child_weight': 1, 'subsample': 0.6420002672925302, 'colsample_bytree': 0.8324797800160076, 'gamma': 0.014085435236000558, 'n_estimators': 510, 'lambda': 1.1412899925557984, 'alpha': 0.2849275547882778, 'tree_method': 'exact', 'objective': 'reg:squarederror'}. Best is trial 34 with value: 0.1028873994151569.\n",
      "[I 2024-02-18 01:31:42,181] Trial 142 finished with value: 0.10500902381176622 and parameters: {'eta': 0.05942542168502734, 'max_depth': 4, 'min_child_weight': 1, 'subsample': 0.6257938312038361, 'colsample_bytree': 0.8152124195149073, 'gamma': 0.028195115109451878, 'n_estimators': 416, 'lambda': 1.2111389265270185, 'alpha': 0.18117099560375333, 'tree_method': 'exact', 'objective': 'reg:squarederror'}. Best is trial 34 with value: 0.1028873994151569.\n",
      "[I 2024-02-18 01:31:43,281] Trial 143 finished with value: 0.10838765735342533 and parameters: {'eta': 0.0786194532868533, 'max_depth': 4, 'min_child_weight': 1, 'subsample': 0.6063331289121457, 'colsample_bytree': 0.8387170721636529, 'gamma': 0.009856049141397006, 'n_estimators': 448, 'lambda': 1.100976124707738, 'alpha': 0.22500282103981262, 'tree_method': 'exact', 'objective': 'reg:squarederror'}. Best is trial 34 with value: 0.1028873994151569.\n",
      "[I 2024-02-18 01:31:44,812] Trial 144 finished with value: 0.10378038872406088 and parameters: {'eta': 0.06864475354390656, 'max_depth': 4, 'min_child_weight': 2, 'subsample': 0.6539373171883254, 'colsample_bytree': 0.8819190521360017, 'gamma': 0.017859542645194234, 'n_estimators': 594, 'lambda': 1.3672851650684967, 'alpha': 0.13857250186796924, 'tree_method': 'exact', 'objective': 'reg:squarederror'}. Best is trial 34 with value: 0.1028873994151569.\n",
      "[I 2024-02-18 01:31:47,619] Trial 145 finished with value: 0.10589425087234851 and parameters: {'eta': 0.07036966566892869, 'max_depth': 4, 'min_child_weight': 2, 'subsample': 0.6533304786845919, 'colsample_bytree': 0.8764833969818375, 'gamma': 0.03537498491380414, 'n_estimators': 601, 'lambda': 1.3545798670590885, 'alpha': 0.13908835626604077, 'tree_method': 'exact', 'objective': 'reg:squarederror'}. Best is trial 34 with value: 0.1028873994151569.\n",
      "[I 2024-02-18 01:31:49,561] Trial 146 finished with value: 0.1067327898236383 and parameters: {'eta': 0.050400529071011974, 'max_depth': 4, 'min_child_weight': 2, 'subsample': 0.6654027366159405, 'colsample_bytree': 0.8875032857247279, 'gamma': 0.019281423399722136, 'n_estimators': 545, 'lambda': 1.4151109531696138, 'alpha': 0.09263073313465675, 'tree_method': 'exact', 'objective': 'reg:squarederror'}. Best is trial 34 with value: 0.1028873994151569.\n",
      "[I 2024-02-18 01:31:51,228] Trial 147 finished with value: 0.1062997818741096 and parameters: {'eta': 0.026987554565735518, 'max_depth': 4, 'min_child_weight': 3, 'subsample': 0.695864190688979, 'colsample_bytree': 0.8992715625099584, 'gamma': 0.06031250929930212, 'n_estimators': 621, 'lambda': 1.305852876131758, 'alpha': 0.03850963872990952, 'tree_method': 'exact', 'objective': 'reg:squarederror'}. Best is trial 34 with value: 0.1028873994151569.\n",
      "[I 2024-02-18 01:31:53,692] Trial 148 finished with value: 0.1074626904604714 and parameters: {'eta': 0.045438254699837206, 'max_depth': 5, 'min_child_weight': 2, 'subsample': 0.6846567979228575, 'colsample_bytree': 0.7058421567057694, 'gamma': 0.008316040544067926, 'n_estimators': 523, 'lambda': 0.9132470208291651, 'alpha': 0.3705071038044776, 'tree_method': 'exact', 'objective': 'reg:squarederror'}. Best is trial 34 with value: 0.1028873994151569.\n",
      "[I 2024-02-18 01:31:54,990] Trial 149 finished with value: 0.1047457507923127 and parameters: {'eta': 0.036951403578731834, 'max_depth': 4, 'min_child_weight': 3, 'subsample': 0.7076190178789599, 'colsample_bytree': 0.7363740331036658, 'gamma': 0.024309728173369703, 'n_estimators': 578, 'lambda': 1.4659216641934685, 'alpha': 0.1607743296817428, 'tree_method': 'exact', 'objective': 'reg:squarederror'}. Best is trial 34 with value: 0.1028873994151569.\n",
      "[I 2024-02-18 01:31:57,136] Trial 150 finished with value: 0.12302099616582429 and parameters: {'eta': 0.06539114936628884, 'max_depth': 4, 'min_child_weight': 2, 'subsample': 0.6713824815443166, 'colsample_bytree': 0.716220871621927, 'gamma': 0.2747357302039705, 'n_estimators': 595, 'lambda': 1.5118535319787298, 'alpha': 0.4444445151103719, 'tree_method': 'exact', 'objective': 'reg:squarederror'}. Best is trial 34 with value: 0.1028873994151569.\n"
     ]
    },
    {
     "name": "stderr",
     "output_type": "stream",
     "text": [
      "[I 2024-02-18 01:32:02,082] Trial 151 finished with value: 0.10623104760984456 and parameters: {'eta': 0.05306885224742039, 'max_depth': 4, 'min_child_weight': 1, 'subsample': 0.6374577509273783, 'colsample_bytree': 0.8444505507831063, 'gamma': 0.009788435300462433, 'n_estimators': 482, 'lambda': 1.2404998073464224, 'alpha': 0.21896052755048298, 'tree_method': 'exact', 'objective': 'reg:squarederror'}. Best is trial 34 with value: 0.1028873994151569.\n",
      "[I 2024-02-18 01:32:05,517] Trial 152 finished with value: 0.10588440760399379 and parameters: {'eta': 0.058121071072661096, 'max_depth': 4, 'min_child_weight': 1, 'subsample': 0.6472819819858627, 'colsample_bytree': 0.8279798220864523, 'gamma': 0.00022412231286138978, 'n_estimators': 502, 'lambda': 1.1915416106496979, 'alpha': 0.30764600336253023, 'tree_method': 'exact', 'objective': 'reg:squarederror'}. Best is trial 34 with value: 0.1028873994151569.\n",
      "[I 2024-02-18 01:32:07,116] Trial 153 finished with value: 0.10434181245428881 and parameters: {'eta': 0.04228195679997495, 'max_depth': 4, 'min_child_weight': 1, 'subsample': 0.6212191593835926, 'colsample_bytree': 0.8591501064372644, 'gamma': 0.03992581227847995, 'n_estimators': 540, 'lambda': 1.1527572377972846, 'alpha': 0.24976163201141238, 'tree_method': 'exact', 'objective': 'reg:squarederror'}. Best is trial 34 with value: 0.1028873994151569.\n",
      "[I 2024-02-18 01:32:08,756] Trial 154 finished with value: 0.10551446706696292 and parameters: {'eta': 0.04012234312575975, 'max_depth': 4, 'min_child_weight': 1, 'subsample': 0.623509782319575, 'colsample_bytree': 0.8668509032548068, 'gamma': 0.0454147449876401, 'n_estimators': 539, 'lambda': 1.1460069690297574, 'alpha': 0.2658154765060454, 'tree_method': 'exact', 'objective': 'reg:squarederror'}. Best is trial 34 with value: 0.1028873994151569.\n",
      "[I 2024-02-18 01:32:11,212] Trial 155 finished with value: 0.10820957032327969 and parameters: {'eta': 0.03273959616321589, 'max_depth': 4, 'min_child_weight': 2, 'subsample': 0.5405091204768553, 'colsample_bytree': 0.8798507429851383, 'gamma': 0.031186230572566885, 'n_estimators': 553, 'lambda': 1.0710314455543477, 'alpha': 0.11133077719513562, 'tree_method': 'exact', 'objective': 'reg:squarederror'}. Best is trial 34 with value: 0.1028873994151569.\n",
      "[I 2024-02-18 01:32:12,972] Trial 156 finished with value: 0.10528508700570145 and parameters: {'eta': 0.04360614969067582, 'max_depth': 3, 'min_child_weight': 9, 'subsample': 0.5881357378876929, 'colsample_bytree': 0.8601950397611041, 'gamma': 0.018973212975810012, 'n_estimators': 876, 'lambda': 0.4404387834021526, 'alpha': 0.19328429213640114, 'tree_method': 'exact', 'objective': 'reg:squarederror'}. Best is trial 34 with value: 0.1028873994151569.\n",
      "[I 2024-02-18 01:32:16,959] Trial 157 finished with value: 0.10770776154223881 and parameters: {'eta': 0.023790415528828546, 'max_depth': 7, 'min_child_weight': 1, 'subsample': 0.5669033685352973, 'colsample_bytree': 0.8492587133866712, 'gamma': 0.03865318350477499, 'n_estimators': 567, 'lambda': 1.021457103905683, 'alpha': 0.3364039471671429, 'tree_method': 'exact', 'objective': 'reg:squarederror'}. Best is trial 34 with value: 0.1028873994151569.\n",
      "[I 2024-02-18 01:32:17,611] Trial 158 finished with value: 0.10941389932316095 and parameters: {'eta': 0.04707979758232622, 'max_depth': 4, 'min_child_weight': 2, 'subsample': 0.6540450323691621, 'colsample_bytree': 0.803709547798824, 'gamma': 0.048254332998520166, 'n_estimators': 523, 'lambda': 1.0945041577686812, 'alpha': 0.15038157499421861, 'tree_method': 'approx', 'objective': 'reg:squarederror'}. Best is trial 34 with value: 0.1028873994151569.\n",
      "[I 2024-02-18 01:32:19,206] Trial 159 finished with value: 0.10578778285208917 and parameters: {'eta': 0.029504576421268754, 'max_depth': 5, 'min_child_weight': 1, 'subsample': 0.6635192404225586, 'colsample_bytree': 0.9075170299202865, 'gamma': 0.027851990297496534, 'n_estimators': 499, 'lambda': 0.9555786108928406, 'alpha': 0.28727214694304914, 'tree_method': 'exact', 'objective': 'reg:squarederror'}. Best is trial 34 with value: 0.1028873994151569.\n",
      "[I 2024-02-18 01:32:21,114] Trial 160 finished with value: 0.10236305113208766 and parameters: {'eta': 0.03642103178348327, 'max_depth': 3, 'min_child_weight': 1, 'subsample': 0.6880946896262706, 'colsample_bytree': 0.8730352717759273, 'gamma': 0.009516716214573848, 'n_estimators': 538, 'lambda': 1.2797679408410996, 'alpha': 0.07121717890229964, 'tree_method': 'exact', 'objective': 'reg:squarederror'}. Best is trial 160 with value: 0.10236305113208766.\n",
      "[I 2024-02-18 01:32:22,693] Trial 161 finished with value: 0.10273214864759272 and parameters: {'eta': 0.035709014613755384, 'max_depth': 3, 'min_child_weight': 1, 'subsample': 0.688167380832784, 'colsample_bytree': 0.8711634140578848, 'gamma': 0.00989223781000088, 'n_estimators': 539, 'lambda': 1.2884350766924488, 'alpha': 0.08029571280531295, 'tree_method': 'exact', 'objective': 'reg:squarederror'}. Best is trial 160 with value: 0.10236305113208766.\n",
      "[I 2024-02-18 01:32:23,802] Trial 162 finished with value: 0.10170153464519875 and parameters: {'eta': 0.03594536745498179, 'max_depth': 3, 'min_child_weight': 1, 'subsample': 0.6783869588102942, 'colsample_bytree': 0.8828949819131054, 'gamma': 0.017112955009765705, 'n_estimators': 540, 'lambda': 1.3331336852497029, 'alpha': 0.00651787554086064, 'tree_method': 'exact', 'objective': 'reg:squarederror'}. Best is trial 162 with value: 0.10170153464519875.\n",
      "[I 2024-02-18 01:32:24,926] Trial 163 finished with value: 0.10188641827917659 and parameters: {'eta': 0.036857727696399854, 'max_depth': 3, 'min_child_weight': 1, 'subsample': 0.6815752799659539, 'colsample_bytree': 0.8950309978031696, 'gamma': 0.016756891405418868, 'n_estimators': 535, 'lambda': 1.2794785436849583, 'alpha': 0.028179616279761774, 'tree_method': 'exact', 'objective': 'reg:squarederror'}. Best is trial 162 with value: 0.10170153464519875.\n",
      "[I 2024-02-18 01:32:27,114] Trial 164 finished with value: 0.10348696458293545 and parameters: {'eta': 0.04015541343510843, 'max_depth': 3, 'min_child_weight': 1, 'subsample': 0.6825359921587325, 'colsample_bytree': 0.8932254773635356, 'gamma': 0.01430834827603935, 'n_estimators': 544, 'lambda': 1.3565449130369533, 'alpha': 0.008785019645809314, 'tree_method': 'exact', 'objective': 'reg:squarederror'}. Best is trial 162 with value: 0.10170153464519875.\n",
      "[I 2024-02-18 01:32:28,068] Trial 165 finished with value: 0.10855460009878869 and parameters: {'eta': 0.019944799064575403, 'max_depth': 3, 'min_child_weight': 1, 'subsample': 0.680775757884301, 'colsample_bytree': 0.8920347273005592, 'gamma': 0.0148384249248156, 'n_estimators': 483, 'lambda': 1.4070245023292376, 'alpha': 0.001971173951361105, 'tree_method': 'exact', 'objective': 'reg:squarederror'}. Best is trial 162 with value: 0.10170153464519875.\n",
      "[I 2024-02-18 01:32:29,160] Trial 166 finished with value: 0.10360256325284282 and parameters: {'eta': 0.0370468655319123, 'max_depth': 3, 'min_child_weight': 1, 'subsample': 0.6883423125679662, 'colsample_bytree': 0.9219278209122291, 'gamma': 0.0182595837368516, 'n_estimators': 509, 'lambda': 1.3721962746751042, 'alpha': 0.05002952974052191, 'tree_method': 'exact', 'objective': 'reg:squarederror'}. Best is trial 162 with value: 0.10170153464519875.\n",
      "[I 2024-02-18 01:32:32,062] Trial 167 finished with value: 0.1020522851419995 and parameters: {'eta': 0.03607865851716859, 'max_depth': 3, 'min_child_weight': 1, 'subsample': 0.6886412320838492, 'colsample_bytree': 0.9252921959254444, 'gamma': 0.00935436583404325, 'n_estimators': 507, 'lambda': 1.440658930002017, 'alpha': 0.048379056688884016, 'tree_method': 'exact', 'objective': 'reg:squarederror'}. Best is trial 162 with value: 0.10170153464519875.\n",
      "[I 2024-02-18 01:32:33,062] Trial 168 finished with value: 0.165781560552262 and parameters: {'eta': 0.010604299840514232, 'max_depth': 3, 'min_child_weight': 1, 'subsample': 0.7100037456947603, 'colsample_bytree': 0.9362665965035191, 'gamma': 0.011288483868468278, 'n_estimators': 463, 'lambda': 1.4546575079430628, 'alpha': 0.044004720973848194, 'tree_method': 'exact', 'objective': 'reg:squarederror'}. Best is trial 162 with value: 0.10170153464519875.\n"
     ]
    },
    {
     "name": "stderr",
     "output_type": "stream",
     "text": [
      "[I 2024-02-18 01:32:34,080] Trial 169 finished with value: 0.10402670611524373 and parameters: {'eta': 0.029503469642441237, 'max_depth': 3, 'min_child_weight': 1, 'subsample': 0.6838117600903136, 'colsample_bytree': 0.9251213196187129, 'gamma': 0.018507698395064956, 'n_estimators': 492, 'lambda': 1.3695460224239953, 'alpha': 0.0664373845480254, 'tree_method': 'exact', 'objective': 'reg:squarederror'}. Best is trial 162 with value: 0.10170153464519875.\n",
      "[I 2024-02-18 01:32:34,654] Trial 170 finished with value: 0.1091847747111095 and parameters: {'eta': 0.023119287941138142, 'max_depth': 3, 'min_child_weight': 1, 'subsample': 0.6748259435991223, 'colsample_bytree': 0.9171968569009916, 'gamma': 0.0077492444140637665, 'n_estimators': 489, 'lambda': 1.3742663970623672, 'alpha': 0.05545273295516437, 'tree_method': 'hist', 'objective': 'reg:squarederror'}. Best is trial 162 with value: 0.10170153464519875.\n",
      "[I 2024-02-18 01:32:36,351] Trial 171 finished with value: 0.10470592472026184 and parameters: {'eta': 0.03375387161286804, 'max_depth': 3, 'min_child_weight': 1, 'subsample': 0.6827526956440856, 'colsample_bytree': 0.9196869086051547, 'gamma': 0.021214094541693443, 'n_estimators': 531, 'lambda': 1.5872175214495354, 'alpha': 0.004063323905262692, 'tree_method': 'exact', 'objective': 'reg:squarederror'}. Best is trial 162 with value: 0.10170153464519875.\n",
      "[I 2024-02-18 01:32:37,823] Trial 172 finished with value: 0.1021889304246734 and parameters: {'eta': 0.03166756800060923, 'max_depth': 3, 'min_child_weight': 1, 'subsample': 0.7027811674590075, 'colsample_bytree': 0.9349517300237264, 'gamma': 0.0007116114940500533, 'n_estimators': 508, 'lambda': 1.3295392240593913, 'alpha': 0.07569354715665073, 'tree_method': 'exact', 'objective': 'reg:squarederror'}. Best is trial 162 with value: 0.10170153464519875.\n",
      "[I 2024-02-18 01:32:38,829] Trial 173 finished with value: 0.10501754076390778 and parameters: {'eta': 0.026855379346624637, 'max_depth': 3, 'min_child_weight': 1, 'subsample': 0.7020071711325737, 'colsample_bytree': 0.971830838253159, 'gamma': 1.564830662494532e-05, 'n_estimators': 473, 'lambda': 1.3818057055555066, 'alpha': 0.08037689507322969, 'tree_method': 'exact', 'objective': 'reg:squarederror'}. Best is trial 162 with value: 0.10170153464519875.\n",
      "[I 2024-02-18 01:32:39,916] Trial 174 finished with value: 0.10197360946743801 and parameters: {'eta': 0.03580763170607239, 'max_depth': 3, 'min_child_weight': 1, 'subsample': 0.7253864919971258, 'colsample_bytree': 0.9577921953365438, 'gamma': 0.014600495545447453, 'n_estimators': 502, 'lambda': 1.336256375932235, 'alpha': 0.06847234468750663, 'tree_method': 'exact', 'objective': 'reg:squarederror'}. Best is trial 162 with value: 0.10170153464519875.\n",
      "[I 2024-02-18 01:32:42,085] Trial 175 finished with value: 0.10273262472912702 and parameters: {'eta': 0.03861573971524458, 'max_depth': 3, 'min_child_weight': 1, 'subsample': 0.715589036873341, 'colsample_bytree': 0.9564989474608009, 'gamma': 0.01632004799476905, 'n_estimators': 540, 'lambda': 1.3371005444698438, 'alpha': 0.03162856795011988, 'tree_method': 'exact', 'objective': 'reg:squarederror'}. Best is trial 162 with value: 0.10170153464519875.\n",
      "[I 2024-02-18 01:32:43,439] Trial 176 finished with value: 0.10430878084000353 and parameters: {'eta': 0.05272638316806677, 'max_depth': 3, 'min_child_weight': 1, 'subsample': 0.7143004779455903, 'colsample_bytree': 0.992557319312931, 'gamma': 0.027318850779211527, 'n_estimators': 550, 'lambda': 1.3329916049095536, 'alpha': 0.024982205354867847, 'tree_method': 'exact', 'objective': 'reg:squarederror'}. Best is trial 162 with value: 0.10170153464519875.\n",
      "[I 2024-02-18 01:32:44,833] Trial 177 finished with value: 0.10329748465148557 and parameters: {'eta': 0.03793397814233676, 'max_depth': 3, 'min_child_weight': 1, 'subsample': 0.7263669658893065, 'colsample_bytree': 0.9544560245233059, 'gamma': 0.01416918345967834, 'n_estimators': 538, 'lambda': 1.4323071642316865, 'alpha': 0.0005565526012244887, 'tree_method': 'exact', 'objective': 'reg:squarederror'}. Best is trial 162 with value: 0.10170153464519875.\n",
      "[I 2024-02-18 01:32:46,801] Trial 178 finished with value: 0.1039008576020493 and parameters: {'eta': 0.040567182951566555, 'max_depth': 3, 'min_child_weight': 1, 'subsample': 0.7309409329504638, 'colsample_bytree': 0.9681742654159058, 'gamma': 0.011272068508970222, 'n_estimators': 534, 'lambda': 1.5074231730110288, 'alpha': 0.0009345830587958633, 'tree_method': 'exact', 'objective': 'reg:squarederror'}. Best is trial 162 with value: 0.10170153464519875.\n",
      "[I 2024-02-18 01:32:47,882] Trial 179 finished with value: 0.10388767872699102 and parameters: {'eta': 0.03745458744358061, 'max_depth': 3, 'min_child_weight': 1, 'subsample': 0.7022678422223422, 'colsample_bytree': 0.957775459724439, 'gamma': 0.01484709544827199, 'n_estimators': 515, 'lambda': 1.4391866212509135, 'alpha': 0.03442744563606539, 'tree_method': 'exact', 'objective': 'reg:squarederror'}. Best is trial 162 with value: 0.10170153464519875.\n",
      "[I 2024-02-18 01:32:49,031] Trial 180 finished with value: 0.10977788897716258 and parameters: {'eta': 0.01686880331608896, 'max_depth': 3, 'min_child_weight': 1, 'subsample': 0.7078261993284634, 'colsample_bytree': 0.9543205553761152, 'gamma': 0.009347524662804467, 'n_estimators': 559, 'lambda': 1.5443973424198116, 'alpha': 0.06767810515906919, 'tree_method': 'exact', 'objective': 'reg:squarederror'}. Best is trial 162 with value: 0.10170153464519875.\n",
      "[I 2024-02-18 01:32:50,189] Trial 181 finished with value: 0.10391350931549599 and parameters: {'eta': 0.037537370110924936, 'max_depth': 3, 'min_child_weight': 1, 'subsample': 0.7298271848089128, 'colsample_bytree': 0.9344766599661378, 'gamma': 0.016977376972298286, 'n_estimators': 515, 'lambda': 1.4232954544342014, 'alpha': 0.040483484021730985, 'tree_method': 'exact', 'objective': 'reg:squarederror'}. Best is trial 162 with value: 0.10170153464519875.\n",
      "[I 2024-02-18 01:32:52,808] Trial 182 finished with value: 0.10449301646195082 and parameters: {'eta': 0.03651722831742395, 'max_depth': 3, 'min_child_weight': 1, 'subsample': 0.7346436792088035, 'colsample_bytree': 0.9649113532910473, 'gamma': 0.00035733205684043354, 'n_estimators': 540, 'lambda': 1.3199436839680918, 'alpha': 0.03755151817653407, 'tree_method': 'exact', 'objective': 'reg:squarederror'}. Best is trial 162 with value: 0.10170153464519875.\n",
      "[I 2024-02-18 01:32:54,178] Trial 183 finished with value: 0.11237569601725639 and parameters: {'eta': 0.04492505631870848, 'max_depth': 3, 'min_child_weight': 1, 'subsample': 0.699926524720697, 'colsample_bytree': 0.9796858430364247, 'gamma': 0.15460756736761194, 'n_estimators': 522, 'lambda': 1.4373188407748296, 'alpha': 0.10761668768627733, 'tree_method': 'exact', 'objective': 'reg:squarederror'}. Best is trial 162 with value: 0.10170153464519875.\n",
      "[I 2024-02-18 01:32:55,577] Trial 184 finished with value: 0.1027384608141485 and parameters: {'eta': 0.036562448656225544, 'max_depth': 3, 'min_child_weight': 1, 'subsample': 0.7199349232547939, 'colsample_bytree': 0.9370385961197999, 'gamma': 0.019234004341103353, 'n_estimators': 584, 'lambda': 1.391591367577966, 'alpha': 0.07726473426113088, 'tree_method': 'exact', 'objective': 'reg:squarederror'}. Best is trial 162 with value: 0.10170153464519875.\n",
      "[I 2024-02-18 01:32:58,543] Trial 185 finished with value: 0.10552123279269408 and parameters: {'eta': 0.025677688081238215, 'max_depth': 3, 'min_child_weight': 1, 'subsample': 0.725884165001184, 'colsample_bytree': 0.9476123103820598, 'gamma': 0.02677274707368093, 'n_estimators': 586, 'lambda': 1.3493657698241923, 'alpha': 0.07812318133831046, 'tree_method': 'exact', 'objective': 'reg:squarederror'}. Best is trial 162 with value: 0.10170153464519875.\n",
      "[I 2024-02-18 01:32:59,712] Trial 186 finished with value: 0.10409556073178027 and parameters: {'eta': 0.04967606763964487, 'max_depth': 3, 'min_child_weight': 1, 'subsample': 0.7202472327716082, 'colsample_bytree': 0.9315127285528375, 'gamma': 0.019862748721371105, 'n_estimators': 561, 'lambda': 1.2865314120267362, 'alpha': 0.003094177829460737, 'tree_method': 'exact', 'objective': 'reg:squarederror'}. Best is trial 162 with value: 0.10170153464519875.\n"
     ]
    },
    {
     "name": "stderr",
     "output_type": "stream",
     "text": [
      "[I 2024-02-18 01:33:02,832] Trial 187 finished with value: 0.10168595772407729 and parameters: {'eta': 0.04342654707840294, 'max_depth': 3, 'min_child_weight': 1, 'subsample': 0.750414914375869, 'colsample_bytree': 0.9427755813631347, 'gamma': 0.011866700515978018, 'n_estimators': 1000, 'lambda': 1.374184078633866, 'alpha': 0.11265177765679313, 'tree_method': 'exact', 'objective': 'reg:squarederror'}. Best is trial 187 with value: 0.10168595772407729.\n",
      "[I 2024-02-18 01:33:04,818] Trial 188 finished with value: 0.11037465513713623 and parameters: {'eta': 0.1569555789368013, 'max_depth': 3, 'min_child_weight': 1, 'subsample': 0.7477322516318219, 'colsample_bytree': 0.9466695422605593, 'gamma': 0.0077338747463722365, 'n_estimators': 938, 'lambda': 1.3983858962664995, 'alpha': 0.1083419587701573, 'tree_method': 'exact', 'objective': 'reg:squarederror'}. Best is trial 187 with value: 0.10168595772407729.\n",
      "[I 2024-02-18 01:33:06,741] Trial 189 finished with value: 0.10395310314971935 and parameters: {'eta': 0.044423791749475916, 'max_depth': 3, 'min_child_weight': 1, 'subsample': 0.7756490593142972, 'colsample_bytree': 0.9066917620605383, 'gamma': 0.026969254930846516, 'n_estimators': 540, 'lambda': 1.3171055062938106, 'alpha': 0.08911928504394072, 'tree_method': 'exact', 'objective': 'reg:squarederror'}. Best is trial 187 with value: 0.10168595772407729.\n",
      "[I 2024-02-18 01:33:09,739] Trial 190 finished with value: 0.10269359914941685 and parameters: {'eta': 0.03421883457367285, 'max_depth': 3, 'min_child_weight': 1, 'subsample': 0.7526485977620018, 'colsample_bytree': 0.9550029886464678, 'gamma': 0.008107656444411792, 'n_estimators': 961, 'lambda': 1.26930938313884, 'alpha': 0.06024551813851568, 'tree_method': 'exact', 'objective': 'reg:squarederror'}. Best is trial 187 with value: 0.10168595772407729.\n",
      "[I 2024-02-18 01:33:11,941] Trial 191 finished with value: 0.10351420282382862 and parameters: {'eta': 0.03346306011383684, 'max_depth': 3, 'min_child_weight': 1, 'subsample': 0.7452042845453324, 'colsample_bytree': 0.9439925844544476, 'gamma': 0.009185784472565687, 'n_estimators': 996, 'lambda': 1.2780737548385943, 'alpha': 0.05642791259433724, 'tree_method': 'exact', 'objective': 'reg:squarederror'}. Best is trial 187 with value: 0.10168595772407729.\n",
      "[I 2024-02-18 01:33:16,062] Trial 192 finished with value: 0.10485450368038668 and parameters: {'eta': 0.033359630038479124, 'max_depth': 3, 'min_child_weight': 1, 'subsample': 0.7579466075918897, 'colsample_bytree': 0.9548648667566613, 'gamma': 0.009575078863268787, 'n_estimators': 1000, 'lambda': 1.2609758256791213, 'alpha': 0.05033396404388088, 'tree_method': 'exact', 'objective': 'reg:squarederror'}. Best is trial 187 with value: 0.10168595772407729.\n",
      "[I 2024-02-18 01:33:18,500] Trial 193 finished with value: 0.10258393645727933 and parameters: {'eta': 0.038666308472881425, 'max_depth': 3, 'min_child_weight': 1, 'subsample': 0.7905046753673549, 'colsample_bytree': 0.9385973743933653, 'gamma': 0.00044344657249814493, 'n_estimators': 987, 'lambda': 1.2930321252387669, 'alpha': 0.06937209662153329, 'tree_method': 'exact', 'objective': 'reg:squarederror'}. Best is trial 187 with value: 0.10168595772407729.\n",
      "[I 2024-02-18 01:33:22,146] Trial 194 finished with value: 0.10542675182864944 and parameters: {'eta': 0.022540637602034924, 'max_depth': 3, 'min_child_weight': 1, 'subsample': 0.7944727831934301, 'colsample_bytree': 0.9776566011625466, 'gamma': 0.0003802529780262513, 'n_estimators': 971, 'lambda': 1.3000692800003273, 'alpha': 0.00028911101232900055, 'tree_method': 'exact', 'objective': 'reg:squarederror'}. Best is trial 187 with value: 0.10168595772407729.\n",
      "[I 2024-02-18 01:33:26,803] Trial 195 finished with value: 0.10505481537625232 and parameters: {'eta': 0.029030944665507395, 'max_depth': 3, 'min_child_weight': 1, 'subsample': 0.8610705178981005, 'colsample_bytree': 0.9411739933246804, 'gamma': 0.02935209742702858, 'n_estimators': 953, 'lambda': 1.3426598110885288, 'alpha': 0.06634595735116545, 'tree_method': 'exact', 'objective': 'reg:squarederror'}. Best is trial 187 with value: 0.10168595772407729.\n",
      "[I 2024-02-18 01:33:29,415] Trial 196 finished with value: 0.10339774764944945 and parameters: {'eta': 0.036404107949916754, 'max_depth': 3, 'min_child_weight': 1, 'subsample': 0.8161221864174268, 'colsample_bytree': 0.958279335515959, 'gamma': 0.00963401102144429, 'n_estimators': 978, 'lambda': 1.3945712718265824, 'alpha': 0.11532458313142119, 'tree_method': 'exact', 'objective': 'reg:squarederror'}. Best is trial 187 with value: 0.10168595772407729.\n",
      "[I 2024-02-18 01:33:32,854] Trial 197 finished with value: 0.10292520990144989 and parameters: {'eta': 0.03429115612970488, 'max_depth': 3, 'min_child_weight': 1, 'subsample': 0.8279907590960237, 'colsample_bytree': 0.9585878706673604, 'gamma': 0.008154926761331904, 'n_estimators': 981, 'lambda': 1.4912846925870513, 'alpha': 0.1256706165344304, 'tree_method': 'exact', 'objective': 'reg:squarederror'}. Best is trial 187 with value: 0.10168595772407729.\n",
      "[I 2024-02-18 01:33:36,455] Trial 198 finished with value: 0.10526343596982761 and parameters: {'eta': 0.019341080636617193, 'max_depth': 3, 'min_child_weight': 1, 'subsample': 0.8204598516286175, 'colsample_bytree': 0.9590349292411597, 'gamma': 0.006778512836668733, 'n_estimators': 986, 'lambda': 1.4804950464332307, 'alpha': 0.11149364513300156, 'tree_method': 'exact', 'objective': 'reg:squarederror'}. Best is trial 187 with value: 0.10168595772407729.\n",
      "[I 2024-02-18 01:33:37,564] Trial 199 finished with value: 0.10476105463974486 and parameters: {'eta': 0.03233383606246338, 'max_depth': 3, 'min_child_weight': 1, 'subsample': 0.8261922834129292, 'colsample_bytree': 0.9493575024070368, 'gamma': 0.020746492417880583, 'n_estimators': 997, 'lambda': 1.404568608774474, 'alpha': 0.12459947210725764, 'tree_method': 'approx', 'objective': 'reg:squarederror'}. Best is trial 187 with value: 0.10168595772407729.\n"
     ]
    },
    {
     "name": "stdout",
     "output_type": "stream",
     "text": [
      "Best RMSE: 0.10168595772407729\n"
     ]
    }
   ],
   "source": [
    "# XGBoost + Optuna study\n",
    "\n",
    "def objective(trial):\n",
    "    params = {\n",
    "        'eta': trial.suggest_float('eta', 0.01, 0.3),\n",
    "        'max_depth': trial.suggest_int('max_depth', 3, 10),\n",
    "        'min_child_weight': trial.suggest_int('min_child_weight', 1, 10),\n",
    "        'subsample': trial.suggest_float('subsample', 0.5, 1.0),\n",
    "        'colsample_bytree': trial.suggest_float('colsample_bytree', 0.5, 1.0),\n",
    "        'gamma': trial.suggest_float('gamma', 0, 0.5),\n",
    "        'n_estimators': trial.suggest_int('n_estimators', 100, 1000),\n",
    "        'lambda': trial.suggest_float('lambda', 0, 2),\n",
    "        'alpha': trial.suggest_float('alpha', 0, 2),\n",
    "        'tree_method': trial.suggest_categorical('tree_method', ['exact', 'approx', 'hist']),\n",
    "        'objective': trial.suggest_categorical('objective', ['reg:squarederror'])\n",
    "    }\n",
    "    \n",
    "    model = XGBRegressor(**params)\n",
    "    model.fit(X_train, y_train)\n",
    "    \n",
    "    predictions = model.predict(X_test)\n",
    "    rmse = np.sqrt(mean_squared_error(y_test, predictions))\n",
    "    return rmse\n",
    "\n",
    "# Create a study object and optimize the objective function\n",
    "study = optuna.create_study(direction='minimize')\n",
    "study.optimize(objective, n_trials=200)\n",
    "\n",
    "print(f'Best RMSE: {study.best_trial.value}')"
   ]
  },
  {
   "cell_type": "code",
   "execution_count": 126,
   "metadata": {},
   "outputs": [
    {
     "name": "stdout",
     "output_type": "stream",
     "text": [
      "Best: {'eta': 0.04342654707840294, 'max_depth': 3, 'min_child_weight': 1, 'subsample': 0.750414914375869, 'colsample_bytree': 0.9427755813631347, 'gamma': 0.011866700515978018, 'n_estimators': 1000, 'lambda': 1.374184078633866, 'alpha': 0.11265177765679313, 'tree_method': 'exact', 'objective': 'reg:squarederror'}\n",
      "\n",
      "[01:33:41] WARNING: /var/folders/sy/f16zz6x50xz3113nwtb9bvq00000gp/T/abs_b2k4a2hea3/croot/xgboost-split_1675457783214/work/src/learner.cc:767: \n",
      "Parameters: { \"verbose\" } are not used.\n",
      "\n",
      "XGBoost + Optuna:\n",
      "- RMSE: 0.1017\n",
      "- R2: 0.9333\n"
     ]
    }
   ],
   "source": [
    "# XGBoost + Optuna results\n",
    "\n",
    "opt_xgb_params = study.best_params\n",
    "\n",
    "print(f'Best: {opt_xgb_params}\\n')\n",
    "\n",
    "opt_xgb = XGBRegressor(**opt_xgb_params, verbose=False)\n",
    "opt_xgb.fit(X_train, y_train)\n",
    "opt_preds = opt_xgb.predict(X_test)\n",
    "rmse = np.sqrt(mean_squared_error(y_test, opt_preds))\n",
    "r2 = r2_score(y_test, opt_preds)\n",
    "print(f'XGBoost + Optuna:\\n- RMSE: {rmse :.4f}\\n- R2: {r2 :.4f}')\n",
    "\n",
    "# saving test predictions\n",
    "optuna_train_pred['XGBoost'] = opt_preds\n",
    "optuna_test_pred['XGBoost'] = opt_xgb.predict(test_data)\n",
    "optuna_results['XGBoost'] = [rmse, r2]"
   ]
  },
  {
   "cell_type": "code",
   "execution_count": 127,
   "metadata": {},
   "outputs": [],
   "source": [
    "# # Catboost + Optuna submission file\n",
    "\n",
    "# sub_preds = opt_cat.predict(test_data)\n",
    "\n",
    "# # create submission file\n",
    "# subm = pd.DataFrame()\n",
    "# subm['Id'] = t_id.astype('int')\n",
    "# subm['SalePrice'] = np.expm1(sub_preds)\n",
    "# subm.set_index('Id').to_csv('./_results/subm_cb_opt.csv')\n",
    "\n",
    "# sns.lineplot(x=subm.index, y=subm['SalePrice'])"
   ]
  },
  {
   "cell_type": "markdown",
   "metadata": {},
   "source": []
  },
  {
   "cell_type": "code",
   "execution_count": 128,
   "metadata": {},
   "outputs": [],
   "source": [
    "# model = SVR()\n",
    "\n",
    "# # params_svr = {'C': [24, 28, 30, 50], #1, 5, 10,\n",
    "# #             'degree': [1, 2, 3],\n",
    "# #             'coef0': [0, 5, 10],\n",
    "# #             'kernel': [\"poly\", \"rbf\", \"sigmoid\"]}\n",
    "\n",
    "# params_svr = {'C': [50, 100], \n",
    "#             'degree': [3],\n",
    "#             'coef0': [10, 12, 20],\n",
    "#             'kernel': [\"poly\"]}\n",
    "\n",
    "\n",
    "# gs_alg = GridSearchCV(model, param_grid = params_svr, cv = 5, scoring = 'neg_mean_squared_error', n_jobs=-1)\n",
    "\n",
    "# gs_alg.fit(X_train, y_train)\n",
    "\n",
    "# print(gs_alg.best_estimator_)\n",
    "\n",
    "# pred = gs_alg.predict(X_test)\n",
    "# pred_t = gs_alg.predict(test_data)\n",
    "# models_train_pred[model.__class__.__name__] = pred\n",
    "# models_test_pred[model.__class__.__name__] = pred_t\n",
    "\n",
    "# rmse = (np.sqrt(mean_squared_error(y_test, pred)))\n",
    "# r2 = r2_score(y_test, pred)\n",
    "\n",
    "# results[model.__class__.__name__] = [rmse, r2]\n",
    "\n",
    "# print('Testing performance')\n",
    "# print('RMSE: {:.3f}'.format(rmse))\n",
    "# print('R2: {:.3f}'.format(r2), '\\n')\n",
    "\n",
    "# # SVR(C=50, coef0=10, kernel='poly')\n",
    "# # Testing performance\n",
    "# # RMSE: 0.141\n",
    "# # R2: 0.872 "
   ]
  },
  {
   "cell_type": "code",
   "execution_count": 129,
   "metadata": {},
   "outputs": [
    {
     "data": {
      "text/html": [
       "<div>\n",
       "<style scoped>\n",
       "    .dataframe tbody tr th:only-of-type {\n",
       "        vertical-align: middle;\n",
       "    }\n",
       "\n",
       "    .dataframe tbody tr th {\n",
       "        vertical-align: top;\n",
       "    }\n",
       "\n",
       "    .dataframe thead th {\n",
       "        text-align: right;\n",
       "    }\n",
       "</style>\n",
       "<table border=\"1\" class=\"dataframe\">\n",
       "  <thead>\n",
       "    <tr style=\"text-align: right;\">\n",
       "      <th></th>\n",
       "      <th>Ridge</th>\n",
       "      <th>Lasso</th>\n",
       "      <th>ElasticNet</th>\n",
       "      <th>LightGBM</th>\n",
       "      <th>CatBoost</th>\n",
       "      <th>XGBoost</th>\n",
       "    </tr>\n",
       "  </thead>\n",
       "  <tbody>\n",
       "    <tr>\n",
       "      <th>RMSE</th>\n",
       "      <td>0.104316</td>\n",
       "      <td>0.105933</td>\n",
       "      <td>0.104323</td>\n",
       "      <td>0.105755</td>\n",
       "      <td>0.097161</td>\n",
       "      <td>0.101686</td>\n",
       "    </tr>\n",
       "    <tr>\n",
       "      <th>R2</th>\n",
       "      <td>0.929760</td>\n",
       "      <td>0.927565</td>\n",
       "      <td>0.929751</td>\n",
       "      <td>0.927808</td>\n",
       "      <td>0.939064</td>\n",
       "      <td>0.933257</td>\n",
       "    </tr>\n",
       "  </tbody>\n",
       "</table>\n",
       "</div>"
      ],
      "text/plain": [
       "         Ridge     Lasso  ElasticNet  LightGBM  CatBoost   XGBoost\n",
       "RMSE  0.104316  0.105933    0.104323  0.105755  0.097161  0.101686\n",
       "R2    0.929760  0.927565    0.929751  0.927808  0.939064  0.933257"
      ]
     },
     "execution_count": 129,
     "metadata": {},
     "output_type": "execute_result"
    }
   ],
   "source": [
    "optuna_results"
   ]
  },
  {
   "cell_type": "code",
   "execution_count": 130,
   "metadata": {},
   "outputs": [
    {
     "name": "stdout",
     "output_type": "stream",
     "text": [
      "\n",
      "All models\n"
     ]
    },
    {
     "data": {
      "text/html": [
       "<div>\n",
       "<style scoped>\n",
       "    .dataframe tbody tr th:only-of-type {\n",
       "        vertical-align: middle;\n",
       "    }\n",
       "\n",
       "    .dataframe tbody tr th {\n",
       "        vertical-align: top;\n",
       "    }\n",
       "\n",
       "    .dataframe thead th {\n",
       "        text-align: right;\n",
       "    }\n",
       "</style>\n",
       "<table border=\"1\" class=\"dataframe\">\n",
       "  <thead>\n",
       "    <tr style=\"text-align: right;\">\n",
       "      <th></th>\n",
       "      <th>Ridge</th>\n",
       "      <th>Lasso</th>\n",
       "      <th>ElasticNet</th>\n",
       "      <th>LGBMRegressor</th>\n",
       "      <th>CatBoostRegressor</th>\n",
       "      <th>mean</th>\n",
       "    </tr>\n",
       "  </thead>\n",
       "  <tbody>\n",
       "    <tr>\n",
       "      <th>RMSE</th>\n",
       "      <td>0.104397</td>\n",
       "      <td>0.106421</td>\n",
       "      <td>0.105142</td>\n",
       "      <td>0.111917</td>\n",
       "      <td>0.104537</td>\n",
       "      <td>0.106483</td>\n",
       "    </tr>\n",
       "    <tr>\n",
       "      <th>R2</th>\n",
       "      <td>0.929651</td>\n",
       "      <td>0.926896</td>\n",
       "      <td>0.928643</td>\n",
       "      <td>0.919151</td>\n",
       "      <td>0.929462</td>\n",
       "      <td>0.926760</td>\n",
       "    </tr>\n",
       "  </tbody>\n",
       "</table>\n",
       "</div>"
      ],
      "text/plain": [
       "         Ridge     Lasso  ElasticNet  LGBMRegressor  CatBoostRegressor  \\\n",
       "RMSE  0.104397  0.106421    0.105142       0.111917           0.104537   \n",
       "R2    0.929651  0.926896    0.928643       0.919151           0.929462   \n",
       "\n",
       "          mean  \n",
       "RMSE  0.106483  \n",
       "R2    0.926760  "
      ]
     },
     "metadata": {},
     "output_type": "display_data"
    },
    {
     "name": "stdout",
     "output_type": "stream",
     "text": [
      "\n",
      "All models + Optuna\n"
     ]
    },
    {
     "data": {
      "text/html": [
       "<div>\n",
       "<style scoped>\n",
       "    .dataframe tbody tr th:only-of-type {\n",
       "        vertical-align: middle;\n",
       "    }\n",
       "\n",
       "    .dataframe tbody tr th {\n",
       "        vertical-align: top;\n",
       "    }\n",
       "\n",
       "    .dataframe thead th {\n",
       "        text-align: right;\n",
       "    }\n",
       "</style>\n",
       "<table border=\"1\" class=\"dataframe\">\n",
       "  <thead>\n",
       "    <tr style=\"text-align: right;\">\n",
       "      <th></th>\n",
       "      <th>Ridge</th>\n",
       "      <th>Lasso</th>\n",
       "      <th>ElasticNet</th>\n",
       "      <th>LightGBM</th>\n",
       "      <th>CatBoost</th>\n",
       "      <th>XGBoost</th>\n",
       "      <th>mean</th>\n",
       "    </tr>\n",
       "  </thead>\n",
       "  <tbody>\n",
       "    <tr>\n",
       "      <th>RMSE</th>\n",
       "      <td>0.104316</td>\n",
       "      <td>0.105933</td>\n",
       "      <td>0.104323</td>\n",
       "      <td>0.105755</td>\n",
       "      <td>0.097161</td>\n",
       "      <td>0.101686</td>\n",
       "      <td>0.103196</td>\n",
       "    </tr>\n",
       "    <tr>\n",
       "      <th>R2</th>\n",
       "      <td>0.929760</td>\n",
       "      <td>0.927565</td>\n",
       "      <td>0.929751</td>\n",
       "      <td>0.927808</td>\n",
       "      <td>0.939064</td>\n",
       "      <td>0.933257</td>\n",
       "      <td>0.931201</td>\n",
       "    </tr>\n",
       "  </tbody>\n",
       "</table>\n",
       "</div>"
      ],
      "text/plain": [
       "         Ridge     Lasso  ElasticNet  LightGBM  CatBoost   XGBoost      mean\n",
       "RMSE  0.104316  0.105933    0.104323  0.105755  0.097161  0.101686  0.103196\n",
       "R2    0.929760  0.927565    0.929751  0.927808  0.939064  0.933257  0.931201"
      ]
     },
     "metadata": {},
     "output_type": "display_data"
    }
   ],
   "source": [
    "results['mean'] = results.mean(axis=1)\n",
    "optuna_results['mean'] = optuna_results.mean(axis=1)\n",
    "print('\\nAll models')\n",
    "display(results)\n",
    "print(f'\\nAll models + Optuna')\n",
    "display(optuna_results)\n",
    "\n",
    "\n",
    "\n",
    "# Ridge\tLasso\tLGBMRegressor\tCatBoostRegressor\tmean\n",
    "# RMSE\t0.103994\t0.106276\t0.112607\t0.105405\t0.107070\n",
    "# R2\t0.930193\t0.927096\t0.918150\t0.928285\t0.925931"
   ]
  },
  {
   "cell_type": "code",
   "execution_count": null,
   "metadata": {},
   "outputs": [],
   "source": []
  },
  {
   "attachments": {
    "image.png": {
     "image/png": "[encoded data removed]"
    }
   },
   "cell_type": "markdown",
   "metadata": {},
   "source": [
    "![image.png](attachment:image.png)\n",
    "\n",
    "Ridge\tLasso\tLGBMRegressor\tCatBoostRegressor\tmean\n",
    "RMSE\t0.106576\t0.106403\t0.113151\t0.106451\t0.108145\n",
    "R2\t0.926683\t0.926921\t0.917358\t0.926855\t0.924454\n"
   ]
  },
  {
   "cell_type": "markdown",
   "metadata": {},
   "source": [
    "**1. the result improved** Remove line Bath\\\n",
    " #df_upd['Bath'] = 0.225 * df['BsmtFullBath'] + (-0.0121) * df['BsmtHalfBath'] + 0.636 * df['FullBath'] + 0.343 * df['HalfBath']\\\n",
    "\tRidge\tLasso\tLGBMRegressor\tCatBoostRegressor\tmean\\\n",
    "RMSE\t0.107839\t0.109357\t0.118549\t0.110127\t**0.111468**\\\n",
    "R2\t    0.924935\t0.922807\t0.909285\t0.921716\t0.919686\\\n",
    "\n",
    "2. Remove line\n",
    "    #rem_id = [250, 314, 336, 496, 584, 935, 1299, 1329] **the result got worse**\\\n",
    "\tRidge\tLasso\tLGBMRegressor\tCatBoostRegressor\tmean\\\n",
    "RMSE\t0.121717\t0.123135\t0.145565\t0.125641\t0.129015\\\n",
    "R2\t\t0.909447\t0.907326\t0.870488\t0.903515\t0.897694\\\n",
    "\n",
    "\n",
    "3.  Change filling GarageYrBlt with YearBuilt:**the result got worse**\\\n",
    " df_upd['GarageYrBlt'] = df_upd['GarageYrBlt'].fillna(df_upd['YearBuilt']) #new_3 \\\n",
    " \tRidge\tLasso\tLGBMRegressor\tCatBoostRegressor\tmean\\\n",
    "RMSE\t0.108765\t0.109870\t0.119354\t0.112227\t0.112554\\\n",
    "R2\t\t0.923641\t0.922081\t0.908048\t0.918702\t0.918118\\\n",
    "\n",
    "4. Round prediction to nearest 500 **the result got worse**\\\n",
    "pred = np.log1p(np.round(np.exp(pred) / 500) * 500)\\\n",
    "Ridge\tLasso\tLGBMRegressor\tCatBoostRegressor\tmean\\\n",
    "RMSE\t0.107754\t0.109337\t0.117429\t0.111843\t0.111591\\\n",
    "R2\t\t0.925054\t0.922835\t0.910991\t0.919257\t0.919534\\\n",
    "\n",
    "**5. the result improved** Round prediction to nearest 100 \\\n",
    "Ridge\tLasso\tLGBMRegressor\tCatBoostRegressor\tmean\\\n",
    "RMSE\t0.107798\t0.109229\t0.117388\t0.111896\t**0.111578**\\\n",
    "R2\t\t0.924993\t0.922988\t0.911053\t0.919181\t0.919554\\\n",
    "\n",
    "**6. the result improved** Changed order in OrdinalEncoder: \\\n",
    "oec = OrdinalEncoder(categories = [['Po', 'Fa', 'NA', 'TA', 'Gd', 'Ex']]) \\\n",
    "Ridge\tLasso\tLGBMRegressor\tCatBoostRegressor\tmean\\\n",
    "RMSE\t0.108610\t0.109345\t0.117131\t0.110971\t**0.111514**\\\n",
    "R2\t\t0.923858\t0.922824\t0.911442\t0.920511\t0.919659\\\n",
    "\n",
    "**7. the result improved** Added new feature Neighborhoodqual\\\n",
    "df_upd['Neighborhoodqual'] = df_upd.groupby('Neighborhood')['OverallQual'].transform('mean')\\\n",
    "\tRidge\tLasso\tLGBMRegressor\tCatBoostRegressor\tmean\\\n",
    "RMSE\t0.105718\t0.106429\t0.112291\t0.106418\t**0.107714**\\\n",
    "R2\t\t0.927858\t0.926885\t0.918610\t0.926900\t0.925063\\\n",
    "\n",
    "**8. the result improved** Added new feature Totalarea\\\n",
    "df_upd['Totalarea'] = df_upd['GrLivArea'] + df_upd['LotArea']\\\n",
    "\tRidge\tLasso\tLGBMRegressor\tCatBoostRegressor\tmean\\\n",
    "RMSE\t0.107839\t0.109302\t0.115733\t0.109190\t**0.110516**\\\n",
    "R2\t\t0.924935\t0.922885\t0.913544\t0.923043\t0.921102\\\n",
    "\n",
    "8.2 \tWith normalization Totalarea shows worse results:\n",
    "Ridge\tLasso\tLGBMRegressor\tCatBoostRegressor\tmean\n",
    "RMSE\t0.107930\t0.109299\t0.116401\t0.111180\t0.111202\n",
    "R2\t\t0.924808\t0.922889\t0.912543\t0.920212\t0.920113\n",
    "\n",
    "9. Added new 'HasGarage', 'HasBasement', 'HasFireplace'. **the result doesnt improve**\\\n",
    "Ridge\tLasso\tLGBMRegressor\tCatBoostRegressor\tmean\\\n",
    "RMSE\t0.107306\t0.108882\t0.11737\t0.112784\t0.111586\\\n",
    "R2\t\t0.925675\t0.923476\t0.91108\t0.917893\t0.919531\\\n",
    "\n",
    "10. Top for now 1+6+7+8  **Kaggle 0.13095 score**\\\n",
    "\n",
    "Ridge\tLasso\tLGBMRegressor\tCatBoostRegressor\tmean\\\n",
    "RMSE\t0.106576\t0.106403\t0.113151\t0.106451\t0.108145\\\n",
    "R2\t\t0.926683\t0.926921\t0.917358\t0.926855\t0.924454\\\n",
    "\n",
    "**11. Made changes in NormalizationTransformer() \n",
    "\n",
    "all results in the notebook are the same but **Kaggle 0.12924 score**\\\n",
    "\n",
    "**12. the result improved** Made changes in FillMissTransformer() regarding 'LotFrontage' and in FeatureEngineeringTransformer() regarding 'Neighborhoodqual'\\\n",
    "**Kaggle 0.12780 score**\\\n",
    "\tRidge\tLasso\tLGBMRegressor\tCatBoostRegressor\tmean\\\n",
    "RMSE\t0.106516\t0.106345\t0.114100\t0.104537\t0.107874\\\n",
    "R2\t0.926765\t0.927001\t0.915966\t0.929462\t0.924799\n",
    "\n",
    "13. the result improved here, but got worse in Kaggle (0.12927) Changed order in OrdinalEncoder: \\\n",
    "oec = OrdinalEncoder(categories = [['Po', 'NA', 'Fa', 'TA', 'Gd', 'Ex']]) \\\n",
    "Ridge\tLasso\tLGBMRegressor\tCatBoostRegressor\tmean\\\n",
    "RMSE\t0.103994\t0.106276\t0.112607\t0.105405\t0.107070\\\n",
    "R2\t0.930193\t0.927096\t0.918150\t0.928285\t0.925931\n",
    "+ change alpha in ridge alg to 22\n",
    "\n",
    "**14. the result improved** add Elastic Net\\\n",
    "Ridge\tLasso\tElasticNet\tLGBMRegressor\tCatBoostRegressor\tmean\\\n",
    "RMSE\t0.104397\t0.106421\t0.105142\t0.111917\t0.104537\t0.106483\\\n",
    "R2\t0.929651\t0.926896\t0.928643\t0.919151\t0.929462\t0.926760"
   ]
  },
  {
   "cell_type": "markdown",
   "metadata": {},
   "source": [
    "### Meta models"
   ]
  },
  {
   "cell_type": "code",
   "execution_count": null,
   "metadata": {},
   "outputs": [],
   "source": [
    "# Stack\n",
    "\n",
    "model = XGBRegressor()\n",
    "\n",
    "model.fit(models_train_pred, y_test)\n",
    "fin_pred = model.predict(models_test_pred)\n",
    "\n",
    "# create submission file\n",
    "subm = pd.DataFrame()\n",
    "subm['Id'] = t_id.astype('int')\n",
    "subm['SalePrice'] = np.expm1(fin_pred)\n",
    "subm.set_index('Id').to_csv('submission_all_stack_xgb.csv')"
   ]
  },
  {
   "cell_type": "code",
   "execution_count": null,
   "metadata": {},
   "outputs": [],
   "source": [
    "# # Stack\n",
    "# model = LGBMRegressor(verbose=-1)\n",
    "\n",
    "# # params_lgbm = {'n_estimators': [400, 1000],\n",
    "# #         'learning_rate': [0.1],\n",
    "# #         # 'colsample_bytree': [0.7, 0.8],\n",
    "# #         'max_depth': [4, 8, 12],\n",
    "# #         'num_leaves': [10, 50, 100, 150],\n",
    "# #         'reg_alpha': [1.1, 1.2],\n",
    "# #         'reg_lambda': [1.1, 1.2],\n",
    "# #         'min_split_gain': [0.3, 0.4],\n",
    "# #         'subsample': [0.8, 0.9],\n",
    "# #         'subsample_freq': [10, 20]}\n",
    "\n",
    "# # params_lgbm = {'learning_rate': [0.03, 0.05, 0.1],\n",
    "# #                 \"max_depth\": [4, 8, 12],\n",
    "# #                 \"num_leaves\": [100, 180], \n",
    "# #                 \"max_bin\": [200, 300],\n",
    "# #                 'n_estimators': [250, 400]}\n",
    "\n",
    "# params_lgbm = {'learning_rate': [0.03],\n",
    "#                 \"max_depth\": [4],\n",
    "#                 \"num_leaves\": [100], \n",
    "#                 \"max_bin\": [200],\n",
    "#                 'n_estimators': [250]}\n",
    "\n",
    "\n",
    "# gs_alg = GridSearchCV(model, param_grid = params_lgbm, cv = 5, scoring = 'neg_mean_squared_error', n_jobs=-1)\n",
    "\n",
    "# gs_alg.fit(models_train_pred, y_test)\n",
    "# print(gs_alg.best_estimator_)\n",
    "\n",
    "# fin_pred = gs_alg.predict(models_test_pred)\n",
    "\n",
    "# # create submission file\n",
    "# subm = pd.DataFrame()\n",
    "# subm['Id'] = t_id.astype('int')\n",
    "# subm['SalePrice'] = np.expm1(fin_pred)\n",
    "# subm.set_index('Id').to_csv('submission_lm_cb_stack_lgb.csv')\n"
   ]
  },
  {
   "cell_type": "code",
   "execution_count": null,
   "metadata": {},
   "outputs": [],
   "source": [
    "# # Stack\n",
    "\n",
    "# # params_cb = {'iterations': [100, 400, 600],\n",
    "# #              'learning_rate': [0.03, 0.1],\n",
    "# #             'depth': [4, 6, 10],\n",
    "# #             'l2_leaf_reg': [1, 3, 5, 7, 9]}\n",
    "\n",
    "# # model = cb.CatBoostRegressor(verbose=False, loss_function='RMSE')\n",
    "# # grid_search_result = model.grid_search(params_cb, X=models_train_pred, y=y_test, verbose=False)\n",
    "\n",
    "# model = cb.CatBoostRegressor(verbose=False, loss_function='RMSE', depth=4, l2_leaf_reg=1, iterations=600, learning_rate=0.03)\n",
    "\n",
    "# model.fit(models_train_pred, y_test)\n",
    "# fin_pred = model.predict(models_test_pred)\n",
    "\n",
    "# # create submission file\n",
    "# subm = pd.DataFrame()\n",
    "# subm['Id'] = t_id.astype('int')\n",
    "# subm['SalePrice'] = np.expm1(fin_pred)\n",
    "# subm.set_index('Id').to_csv('submission_all_stack_cb.csv')"
   ]
  },
  {
   "cell_type": "code",
   "execution_count": 131,
   "metadata": {},
   "outputs": [],
   "source": [
    "# output train & test preds\n",
    "\n",
    "from datetime import datetime as dt\n",
    "fname = dt.now().timestamp()\n",
    "\n",
    "optuna_train_pred.to_csv(f'./_predictions/optuna_train_{fname :.0f}.csv')\n",
    "optuna_test_pred.to_csv(f'./_predictions/optuna_test_{fname :.0f}.csv')\n",
    "\n",
    "# optuna_train_pred.iloc[:, 3:]"
   ]
  },
  {
   "cell_type": "code",
   "execution_count": 132,
   "metadata": {},
   "outputs": [],
   "source": [
    "# Stack\n",
    "\n",
    "model = LinearRegression()\n",
    "# model.fit(models_train_pred, y_test)\n",
    "# fin_pred = model.predict(models_test_pred)\n",
    "model.fit(optuna_train_pred.iloc[:, 3:], y_test)\n",
    "fin_pred = model.predict(optuna_test_pred.iloc[:, 3:])\n",
    "\n",
    "# create submission file\n",
    "subm = pd.DataFrame()\n",
    "subm['Id'] = t_id.astype('int')\n",
    "subm['SalePrice'] = np.expm1(fin_pred)\n",
    "# subm.set_index('Id').to_csv('subm_lm_cb_lg_rf_stack_lv.csv')\n",
    "subm.set_index('Id').to_csv('./_results/subm_lm_cb_xgb_stack_opt.csv')\n"
   ]
  },
  {
   "cell_type": "code",
   "execution_count": null,
   "metadata": {},
   "outputs": [],
   "source": []
  },
  {
   "cell_type": "code",
   "execution_count": 96,
   "metadata": {},
   "outputs": [
    {
     "data": {
      "text/plain": [
       "Text(0.5, 1.0, 'SalePrice Prediction')"
      ]
     },
     "execution_count": 96,
     "metadata": {},
     "output_type": "execute_result"
    },
    {
     "data": {
      "image/png": "[encoded data removed]",
      "text/plain": [
       "<Figure size 640x480 with 1 Axes>"
      ]
     },
     "metadata": {},
     "output_type": "display_data"
    }
   ],
   "source": [
    "sns.lineplot(x=subm.index, y=subm.SalePrice, c='teal')\n",
    "plt.title('SalePrice Prediction')"
   ]
  },
  {
   "cell_type": "code",
   "execution_count": null,
   "metadata": {},
   "outputs": [],
   "source": [
    "# # Stack\n",
    "\n",
    "# model = SVR()\n",
    "\n",
    "# # params_svr = {'C': [1, 4, 5, 6, 10, 20], #1, 5, 10,\n",
    "# #             'degree': [1, 2, 3],\n",
    "# #             'coef0': [0, 1, 2, 5, 10],\n",
    "# #             'kernel': [\"poly\", \"rbf\", \"sigmoid\"]}\n",
    "\n",
    "# params_svr = {'C': [5], \n",
    "#             'degree': [1],\n",
    "#             'coef0': [10],\n",
    "#             'kernel': [\"poly\"]}\n",
    "\n",
    "\n",
    "# # gs_alg = GridSearchCV(model, param_grid = params_svr, cv = 5, scoring = 'neg_mean_squared_error', n_jobs=-1)\n",
    "\n",
    "# gs_alg = GridSearchCV(model, param_grid = params_svr, cv = 5, scoring = 'neg_mean_squared_error', n_jobs=-1)\n",
    "\n",
    "# gs_alg.fit(models_train_pred, y_test)\n",
    "# print(gs_alg.best_estimator_)\n",
    "\n",
    "# fin_pred = gs_alg.predict(models_test_pred)\n",
    "\n",
    "# # create submission file\n",
    "# subm = pd.DataFrame()\n",
    "# subm['Id'] = t_id.astype('int')\n",
    "# subm['SalePrice'] = np.expm1(fin_pred)\n",
    "# subm.set_index('Id').to_csv('submission_lm_cb_lg_stack_svr.csv')\n"
   ]
  },
  {
   "cell_type": "code",
   "execution_count": null,
   "metadata": {},
   "outputs": [],
   "source": [
    "sns.scatterplot(x=models_train_pred['Ridge'], y=y_test)"
   ]
  },
  {
   "cell_type": "code",
   "execution_count": null,
   "metadata": {},
   "outputs": [],
   "source": [
    "sns.scatterplot(x=models_train_pred['Ridge'], y=X_test['1stFlrSF'])"
   ]
  },
  {
   "cell_type": "code",
   "execution_count": null,
   "metadata": {},
   "outputs": [],
   "source": [
    "sns.scatterplot(x=models_train_pred['Ridge'], y=X_test['1stFlrSF'])"
   ]
  },
  {
   "cell_type": "code",
   "execution_count": null,
   "metadata": {},
   "outputs": [],
   "source": [
    "models_train_pred.hist(figsize=(8,8), bins=50, xlabelsize=8, ylabelsize=8)"
   ]
  },
  {
   "cell_type": "code",
   "execution_count": null,
   "metadata": {},
   "outputs": [],
   "source": [
    "y_test.hist(figsize=(4,4), bins=50, xlabelsize=8, ylabelsize=8)"
   ]
  },
  {
   "cell_type": "code",
   "execution_count": null,
   "metadata": {},
   "outputs": [],
   "source": [
    "sns.scatterplot(x=y_test, y=X_test['1stFlrSF'])"
   ]
  },
  {
   "cell_type": "code",
   "execution_count": null,
   "metadata": {},
   "outputs": [],
   "source": [
    "sns.scatterplot(x=models_train_pred['Ridge'], y=y_test)"
   ]
  },
  {
   "cell_type": "code",
   "execution_count": null,
   "metadata": {},
   "outputs": [],
   "source": [
    "sns.scatterplot(x=y_test, y=X_test['Totalarea'])"
   ]
  },
  {
   "cell_type": "code",
   "execution_count": null,
   "metadata": {},
   "outputs": [],
   "source": [
    "X_test['Neighborhoodqual'].hist(figsize=(4,4), bins=50, xlabelsize=8, ylabelsize=8)"
   ]
  },
  {
   "cell_type": "code",
   "execution_count": null,
   "metadata": {},
   "outputs": [],
   "source": [
    "sns.scatterplot(x=models_train_pred['Ridge'], y=y_test)"
   ]
  },
  {
   "cell_type": "code",
   "execution_count": null,
   "metadata": {},
   "outputs": [],
   "source": [
    "subm"
   ]
  },
  {
   "cell_type": "markdown",
   "metadata": {},
   "source": [
    "#### Linear models tests\n",
    "\n",
    "Since linear models sensitive to correlation, we will remove features which have high correlation with each other. They are fixed in <b>col_tdrop_linm</b> \n",
    "\n",
    "What was tested:\n",
    "<h5>1. - wo #1stFlrSF', '2ndFlrSF', <br>\n",
    "- with MinMaxScaler()</h5><br>\n",
    "\n",
    "1.1. <b>Lasso</b>(alpha=0.0, random_state=44) | grid search was {'alpha': np.arange(0.00, 1.0, 0.005), 'max_iter': [1000, 1200], 'random_state': [rst]}<br>\n",
    "Testing performance<br>\n",
    "RMSE: 0.124<br>\n",
    "R2: 0.900 <br>\n",
    "it doesn't converege<br>\n",
    "kaggle: 0.15107<br>\n",
    "\n",
    "1.2. <b>LassoCV</b><br>\n",
    "return parametrs\n",
    "{'alphas': None, 'copy_X': True, 'cv': None, 'eps': 0.001, 'fit_intercept': True, 'max_iter': 1000, 'n_alphas': 100, 'n_jobs': None, 'positive': False, 'precompute': 'auto', 'random_state': None, 'selection': 'cyclic', 'tol': 0.0001, 'verbose': False}<br>\n",
    "RMSE: 0.134<br>\n",
    "R2: 0.884 <br>\n",
    "kaggle - \n",
    "\n",
    "1.3. <b>Lasso</b>(alpha=0.001, max_iter=100, random_state=44) | grid search was {'alpha': np.arange(0.001, 1.0, 0.002), 'max_iter': [100, 300, 1000, None], 'random_state': [rst]}<br>\n",
    "Testing performance<br>\n",
    "RMSE: 0.112<br>\n",
    "R2: 0.918 <br>\n",
    "kaggle: <b>0.14718</b>\n",
    "\n",
    "1.4. <b>RidgeCV</b><br>\n",
    "Testing performance\n",
    "{'alpha_per_target': False, 'alphas': (0.1, 1.0, 10.0), 'cv': None, 'fit_intercept': True, 'gcv_mode': None, 'scoring': None, 'store_cv_values': False}<br>\n",
    "RMSE: 0.109<br>\n",
    "R2: 0.923 <br>\n",
    "kaggle: 0.14996<br>\n",
    "\n",
    "<h5>2. - with Power Transformer ()</h5><br>\n",
    "2.1. <b>Lasso</b> (alpha=0.001, max_iter=100, random_state=44) | GS was {'alpha': np.arange(0.001, 1.0, 0.002), 'max_iter': [100, 300, 1000, None], 'random_state': [rst]}<br>\n",
    "Testing performance<br>\n",
    "RMSE: 0.109<br>\n",
    "R2: 0.923 <br>\n",
    "kaggle: 0.14174\n",
    "\n",
    "2.2. <b>Ridge</b>(alpha=2.95, max_iter=1000, random_state=44) | GS was {'alpha': np.arange(0.00, 3.0, 0.05), 'max_iter': [1000, None], 'random_state': [rst]}<br>\n",
    "Testing performance<br>\n",
    "RMSE: 0.109<br>\n",
    "R2: 0.923 <br>\n",
    "kaggle: 0.14072\n",
    "\n",
    "\n",
    "\n",
    "<h5>3. <b>all features with Power Transformer ()</b></h5><br>\n",
    "3.1. <b>Ridge</b>(alpha=2.95, max_iter=1000, random_state=44) | gs was {'alpha': np.arange(0.00, 3.0, 0.05), 'max_iter': [1000, None], 'random_state': [rst]}<br>\n",
    "Testing performance<br>\n",
    "RMSE: 0.110<br>\n",
    "R2: 0.921 <br>\n",
    "kaggle: <b>0.13981</b>\n",
    "\n",
    "3.2. <b>Lasso</b>(alpha=0.001, max_iter=100, random_state=44) | gs was {'alpha': np.arange(0.001, 1.0, 0.002), 'max_iter': [100, 300, 1000, None], 'random_state': [rst]}<br>\n",
    "Testing performance<br>\n",
    "RMSE: 0.110<br>\n",
    "R2: 0.921 <br>\n",
    "kaggle: <b>0.14141 </b>\n",
    "\n",
    "3.3. <b>Stack model</b> of 3.1 and 3.2<br>\n",
    "LinearRegression<br>\n",
    "kaggle: <b>0.13672</b><br>\n",
    "\n",
    "3.4. <b>SVR</b>(C=10, coef0=10, degree=2, kernel='poly') | gs was {'C': [1, 5, 10, 24], 'degree': [1, 2, 3], 'coef0': [0, 5, 10], 'kernel': [\"poly\", \"rbf\", \"sigmoid\"]}<br>\n",
    "Testing performance<br>\n",
    "RMSE: 0.108<br>\n",
    "R2: 0.924 <br>\n",
    "kaggle 0.14329\n",
    "\n",
    "3.5. <b>Stack model</b> of 3.1, 3.2 and 3.3 <br>\n",
    "LinearRegression<br>\n",
    "kaggle: <b>0.14156</b><br>\n",
    "\n",
    "3.6. <b>Stack model</b> of 3.1, 3.2 with StandartScaler <br>\n",
    "LinearRegression<br>\n",
    "kaggle: <b>0.14045</b><br>"
   ]
  },
  {
   "cell_type": "markdown",
   "metadata": {},
   "source": []
  }
 ],
 "metadata": {
  "kernelspec": {
   "display_name": "Python 3 (ipykernel)",
   "language": "python",
   "name": "python3"
  },
  "language_info": {
   "codemirror_mode": {
    "name": "ipython",
    "version": 3
   },
   "file_extension": ".py",
   "mimetype": "text/x-python",
   "name": "python",
   "nbconvert_exporter": "python",
   "pygments_lexer": "ipython3",
   "version": "3.11.5"
  }
 },
 "nbformat": 4,
 "nbformat_minor": 2
}
